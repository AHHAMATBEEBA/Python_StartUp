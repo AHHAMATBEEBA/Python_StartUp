{
 "cells": [
  {
   "cell_type": "markdown",
   "metadata": {
    "id": "4mJbK1knrJgz"
   },
   "source": [
    "# Проект: Исследование стартапов"
   ]
  },
  {
   "cell_type": "markdown",
   "metadata": {
    "id": "P6j0r3worJg0"
   },
   "source": [
    "## Введение"
   ]
  },
  {
   "cell_type": "markdown",
   "metadata": {
    "id": "8lQtbsIUyFG6"
   },
   "source": [
    "Для разработки модели бизнеса финансовой компании, которая предоставляет льготные займы стартапам, нужна информация, сформированная на основании имеющихся исторических данных.  \n",
    "\n",
    "**С целью** входа на инвестиционный рынок с перспективой покупки, развития и последующей перепродажы перспективных стартапов, проводится исследование на основании некоторого набора датасетов.  \n",
    "\n",
    "Поскольку данные претерпевали изменения в процессе их предварительного анализа, **необходимо провести работу** по оптимизации, корректировке и анализу, позволяющему сделать необходимые выводы.\n"
   ]
  },
  {
   "cell_type": "markdown",
   "metadata": {
    "id": "xqr6uttCrJg0"
   },
   "source": [
    "\n",
    "## Шаг 1. Знакомство с данными: загрузка и первичная предобработка\n",
    "\n",
    "Названия и описание предоставленных для анализа файлов:\n",
    "* acquisition.csv - Содержит информацию о покупках одними компаниями других компаний\n",
    "* company_and_rounds.csv - Содержит информацию о компаниях и раундах финансирования\n",
    "* people.csv - Содержит информацию о сотрудниках\n",
    "* education.csv - Содержит информацию об образовании сотрудника\n",
    "* degrees.csv - Содержит информацию о типе образования сотрудника\n",
    "\n",
    "Опциональные датасеты:\n",
    "* fund.csv - Содержит информацию о фондах\n",
    "* investment.csv - Содержит информацию о раундах инвестирования\n",
    "\n",
    "\n",
    "### 1.1. Вывод общей информации, исправление названия столбцов\n",
    "\n",
    "- Загрузка всех данные по проекту.\n",
    "- Проверка названия столбцов.\n",
    "- Вывод информации, которая необходима для принятия решений о предобработке, для каждого из датасетов."
   ]
  },
  {
   "cell_type": "code",
   "execution_count": 1,
   "metadata": {},
   "outputs": [],
   "source": [
    "!pip install matplotlib-venn -q\n",
    "from matplotlib_venn import venn2, venn3 #(venn3 - Это если сразу три кругляшка построить)\n",
    "import matplotlib.pyplot as plt"
   ]
  },
  {
   "cell_type": "code",
   "execution_count": 2,
   "metadata": {
    "colab": {
     "base_uri": "https://localhost:8080/"
    },
    "id": "W_W4jRazrJg0",
    "outputId": "d2409aad-233f-4bb4-ec71-7da96594f9df",
    "vscode": {
     "languageId": "plaintext"
    }
   },
   "outputs": [],
   "source": [
    "# Импортируем библиотеки\n",
    "import pandas as pd\n",
    "\n",
    "# Загружаем библиотеки для визуализации данных\n",
    "import seaborn as sns\n",
    "import matplotlib.pyplot as plt\n",
    "import numpy as np"
   ]
  },
  {
   "cell_type": "code",
   "execution_count": 3,
   "metadata": {
    "id": "2Tm4Pk__Felf"
   },
   "outputs": [],
   "source": [
    "# Выгружаем данные в переменные \n",
    "acquisition_df = pd.read_csv('https://code.s3.yandex.net//datasets/acquisition.csv')\n",
    "company_and_rounds_df = pd.read_csv('https://code.s3.yandex.net/datasets/company_and_rounds.csv')\n",
    "people_df = pd.read_csv('https://code.s3.yandex.net//datasets/people.csv')\n",
    "education_df = pd.read_csv('https://code.s3.yandex.net/datasets/education.csv')\n",
    "degrees_df = pd.read_csv('https://code.s3.yandex.net//datasets/degrees.csv')\n",
    "\n",
    "# Опциональные датасеты:\n",
    "fund_df = pd.read_csv('https://code.s3.yandex.net/datasets/fund.csv')\n",
    "investment_df = pd.read_csv('https://code.s3.yandex.net//datasets/investment.csv')"
   ]
  },
  {
   "cell_type": "code",
   "execution_count": 4,
   "metadata": {
    "id": "oNqJ2qpRFebv"
   },
   "outputs": [
    {
     "data": {
      "text/html": [
       "<div>\n",
       "<style scoped>\n",
       "    .dataframe tbody tr th:only-of-type {\n",
       "        vertical-align: middle;\n",
       "    }\n",
       "\n",
       "    .dataframe tbody tr th {\n",
       "        vertical-align: top;\n",
       "    }\n",
       "\n",
       "    .dataframe thead th {\n",
       "        text-align: right;\n",
       "    }\n",
       "</style>\n",
       "<table border=\"1\" class=\"dataframe\">\n",
       "  <thead>\n",
       "    <tr style=\"text-align: right;\">\n",
       "      <th></th>\n",
       "      <th>id</th>\n",
       "      <th>acquiring_company_id</th>\n",
       "      <th>acquired_company_id</th>\n",
       "      <th>term_code</th>\n",
       "      <th>price_amount</th>\n",
       "      <th>acquired_at</th>\n",
       "    </tr>\n",
       "  </thead>\n",
       "  <tbody>\n",
       "    <tr>\n",
       "      <th>0</th>\n",
       "      <td>1</td>\n",
       "      <td>11</td>\n",
       "      <td>10</td>\n",
       "      <td>NaN</td>\n",
       "      <td>20000000</td>\n",
       "      <td>2007-05-30</td>\n",
       "    </tr>\n",
       "    <tr>\n",
       "      <th>1</th>\n",
       "      <td>7</td>\n",
       "      <td>59</td>\n",
       "      <td>72</td>\n",
       "      <td>cash</td>\n",
       "      <td>60000000</td>\n",
       "      <td>2007-07-01</td>\n",
       "    </tr>\n",
       "    <tr>\n",
       "      <th>2</th>\n",
       "      <td>8</td>\n",
       "      <td>24</td>\n",
       "      <td>132</td>\n",
       "      <td>cash</td>\n",
       "      <td>280000000</td>\n",
       "      <td>2007-05-01</td>\n",
       "    </tr>\n",
       "    <tr>\n",
       "      <th>3</th>\n",
       "      <td>9</td>\n",
       "      <td>59</td>\n",
       "      <td>155</td>\n",
       "      <td>cash</td>\n",
       "      <td>100000000</td>\n",
       "      <td>2007-06-01</td>\n",
       "    </tr>\n",
       "    <tr>\n",
       "      <th>4</th>\n",
       "      <td>10</td>\n",
       "      <td>212</td>\n",
       "      <td>215</td>\n",
       "      <td>cash</td>\n",
       "      <td>25000000</td>\n",
       "      <td>2007-07-01</td>\n",
       "    </tr>\n",
       "  </tbody>\n",
       "</table>\n",
       "</div>"
      ],
      "text/plain": [
       "   id  acquiring_company_id  acquired_company_id term_code  price_amount  \\\n",
       "0   1                    11                   10       NaN      20000000   \n",
       "1   7                    59                   72      cash      60000000   \n",
       "2   8                    24                  132      cash     280000000   \n",
       "3   9                    59                  155      cash     100000000   \n",
       "4  10                   212                  215      cash      25000000   \n",
       "\n",
       "  acquired_at  \n",
       "0  2007-05-30  \n",
       "1  2007-07-01  \n",
       "2  2007-05-01  \n",
       "3  2007-06-01  \n",
       "4  2007-07-01  "
      ]
     },
     "execution_count": 4,
     "metadata": {},
     "output_type": "execute_result"
    }
   ],
   "source": [
    "# Выводим первые строки датафрейма о покупках одними компаниями других компаний:\n",
    "acquisition_df.head()"
   ]
  },
  {
   "cell_type": "code",
   "execution_count": 5,
   "metadata": {},
   "outputs": [
    {
     "data": {
      "text/plain": [
       "3"
      ]
     },
     "metadata": {},
     "output_type": "display_data"
    },
    {
     "data": {
      "text/plain": [
       "array([nan, 'cash', 'stock', 'cash_and_stock'], dtype=object)"
      ]
     },
     "metadata": {},
     "output_type": "display_data"
    }
   ],
   "source": [
    "# Выводим уникальные значения вариантов расчета.\n",
    "display(acquisition_df['term_code'].nunique())\n",
    "display(acquisition_df['term_code'].unique())"
   ]
  },
  {
   "cell_type": "code",
   "execution_count": 6,
   "metadata": {},
   "outputs": [
    {
     "data": {
      "text/plain": [
       "4793"
      ]
     },
     "metadata": {},
     "output_type": "display_data"
    },
    {
     "data": {
      "text/plain": [
       "array([    11,     59,     24, ..., 267859, 285493, 223792])"
      ]
     },
     "metadata": {},
     "output_type": "display_data"
    }
   ],
   "source": [
    "# Выводим уникальные значения покупающей компании.\n",
    "display(acquisition_df['acquiring_company_id'].nunique())\n",
    "display(acquisition_df['acquiring_company_id'].unique())"
   ]
  },
  {
   "cell_type": "code",
   "execution_count": 7,
   "metadata": {},
   "outputs": [
    {
     "data": {
      "text/plain": [
       "9264"
      ]
     },
     "metadata": {},
     "output_type": "display_data"
    },
    {
     "data": {
      "text/plain": [
       "array([    10,     72,    132, ..., 220208, 286176,  92846])"
      ]
     },
     "metadata": {},
     "output_type": "display_data"
    }
   ],
   "source": [
    "# Выводим уникальные значения покупаемой компании.\n",
    "display(acquisition_df['acquired_company_id'].nunique())\n",
    "display(acquisition_df['acquired_company_id'].unique())"
   ]
  },
  {
   "cell_type": "code",
   "execution_count": 8,
   "metadata": {
    "id": "oNqJ2qpRFebv"
   },
   "outputs": [
    {
     "name": "stdout",
     "output_type": "stream",
     "text": [
      "<class 'pandas.core.frame.DataFrame'>\n",
      "RangeIndex: 9407 entries, 0 to 9406\n",
      "Data columns (total 6 columns):\n",
      " #   Column                Non-Null Count  Dtype \n",
      "---  ------                --------------  ----- \n",
      " 0   id                    9407 non-null   int64 \n",
      " 1   acquiring_company_id  9407 non-null   int64 \n",
      " 2   acquired_company_id   9407 non-null   int64 \n",
      " 3   term_code             1831 non-null   object\n",
      " 4   price_amount          9407 non-null   int64 \n",
      " 5   acquired_at           9378 non-null   object\n",
      "dtypes: int64(4), object(2)\n",
      "memory usage: 441.1+ KB\n"
     ]
    }
   ],
   "source": [
    "# Выводим информацию датафрейма о покупках одними компаниями других компаний:\n",
    "acquisition_df.info()"
   ]
  },
  {
   "cell_type": "code",
   "execution_count": 9,
   "metadata": {},
   "outputs": [
    {
     "data": {
      "text/plain": [
       "id                         0\n",
       "acquiring_company_id       0\n",
       "acquired_company_id        0\n",
       "term_code               7576\n",
       "price_amount               0\n",
       "acquired_at               29\n",
       "dtype: int64"
      ]
     },
     "execution_count": 9,
     "metadata": {},
     "output_type": "execute_result"
    }
   ],
   "source": [
    "# Применяем метод isna() к датафрейму\n",
    "acquisition_df.isna().sum()"
   ]
  },
  {
   "cell_type": "code",
   "execution_count": 10,
   "metadata": {},
   "outputs": [
    {
     "data": {
      "text/plain": [
       "term_code               0.805358\n",
       "acquired_at             0.003083\n",
       "id                      0.000000\n",
       "acquiring_company_id    0.000000\n",
       "acquired_company_id     0.000000\n",
       "price_amount            0.000000\n",
       "dtype: float64"
      ]
     },
     "metadata": {},
     "output_type": "display_data"
    }
   ],
   "source": [
    "# Подсчитываем долю строк с пропусками\n",
    "acquisition_df_sort = acquisition_df.isna().sum() / acquisition_df.shape[0]\n",
    "# Отсортируем значения по убыванию\n",
    "acquisition_df_sort = acquisition_df_sort.sort_values(ascending=False)\n",
    "display(acquisition_df_sort)"
   ]
  },
  {
   "cell_type": "code",
   "execution_count": 11,
   "metadata": {
    "id": "oNqJ2qpRFebv",
    "scrolled": false
   },
   "outputs": [
    {
     "data": {
      "text/html": [
       "<div>\n",
       "<style scoped>\n",
       "    .dataframe tbody tr th:only-of-type {\n",
       "        vertical-align: middle;\n",
       "    }\n",
       "\n",
       "    .dataframe tbody tr th {\n",
       "        vertical-align: top;\n",
       "    }\n",
       "\n",
       "    .dataframe thead th {\n",
       "        text-align: right;\n",
       "    }\n",
       "</style>\n",
       "<table border=\"1\" class=\"dataframe\">\n",
       "  <thead>\n",
       "    <tr style=\"text-align: right;\">\n",
       "      <th></th>\n",
       "      <th>company  ID</th>\n",
       "      <th>name</th>\n",
       "      <th>category  code</th>\n",
       "      <th>status</th>\n",
       "      <th>founded  at</th>\n",
       "      <th>closed  at</th>\n",
       "      <th>domain</th>\n",
       "      <th>network  username</th>\n",
       "      <th>country  code</th>\n",
       "      <th>investment  rounds</th>\n",
       "      <th>...</th>\n",
       "      <th>milestones</th>\n",
       "      <th>funding  round  id</th>\n",
       "      <th>company  id</th>\n",
       "      <th>funded  at</th>\n",
       "      <th>funding  round  type</th>\n",
       "      <th>raised  amount</th>\n",
       "      <th>pre  money  valuation</th>\n",
       "      <th>participants</th>\n",
       "      <th>is  first  round</th>\n",
       "      <th>is  last  round</th>\n",
       "    </tr>\n",
       "  </thead>\n",
       "  <tbody>\n",
       "    <tr>\n",
       "      <th>0</th>\n",
       "      <td>1.0</td>\n",
       "      <td>Wetpaint</td>\n",
       "      <td>web</td>\n",
       "      <td>operating</td>\n",
       "      <td>2005-10-17</td>\n",
       "      <td>NaN</td>\n",
       "      <td>wetpaint-inc.com</td>\n",
       "      <td>BachelrWetpaint</td>\n",
       "      <td>USA</td>\n",
       "      <td>0.0</td>\n",
       "      <td>...</td>\n",
       "      <td>5.0</td>\n",
       "      <td>888.0</td>\n",
       "      <td>1.0</td>\n",
       "      <td>2005-10-01</td>\n",
       "      <td>series-a</td>\n",
       "      <td>5250000.0</td>\n",
       "      <td>0.0</td>\n",
       "      <td>2.0</td>\n",
       "      <td>0.0</td>\n",
       "      <td>1.0</td>\n",
       "    </tr>\n",
       "    <tr>\n",
       "      <th>1</th>\n",
       "      <td>1.0</td>\n",
       "      <td>Wetpaint</td>\n",
       "      <td>web</td>\n",
       "      <td>operating</td>\n",
       "      <td>2005-10-17</td>\n",
       "      <td>NaN</td>\n",
       "      <td>wetpaint-inc.com</td>\n",
       "      <td>BachelrWetpaint</td>\n",
       "      <td>USA</td>\n",
       "      <td>0.0</td>\n",
       "      <td>...</td>\n",
       "      <td>5.0</td>\n",
       "      <td>889.0</td>\n",
       "      <td>1.0</td>\n",
       "      <td>2007-01-01</td>\n",
       "      <td>series-b</td>\n",
       "      <td>9500000.0</td>\n",
       "      <td>0.0</td>\n",
       "      <td>3.0</td>\n",
       "      <td>0.0</td>\n",
       "      <td>0.0</td>\n",
       "    </tr>\n",
       "    <tr>\n",
       "      <th>2</th>\n",
       "      <td>1.0</td>\n",
       "      <td>Wetpaint</td>\n",
       "      <td>web</td>\n",
       "      <td>operating</td>\n",
       "      <td>2005-10-17</td>\n",
       "      <td>NaN</td>\n",
       "      <td>wetpaint-inc.com</td>\n",
       "      <td>BachelrWetpaint</td>\n",
       "      <td>USA</td>\n",
       "      <td>0.0</td>\n",
       "      <td>...</td>\n",
       "      <td>5.0</td>\n",
       "      <td>2312.0</td>\n",
       "      <td>1.0</td>\n",
       "      <td>2008-05-19</td>\n",
       "      <td>series-c+</td>\n",
       "      <td>25000000.0</td>\n",
       "      <td>0.0</td>\n",
       "      <td>4.0</td>\n",
       "      <td>1.0</td>\n",
       "      <td>0.0</td>\n",
       "    </tr>\n",
       "    <tr>\n",
       "      <th>3</th>\n",
       "      <td>10.0</td>\n",
       "      <td>Flektor</td>\n",
       "      <td>games_video</td>\n",
       "      <td>acquired</td>\n",
       "      <td>NaN</td>\n",
       "      <td>NaN</td>\n",
       "      <td>flektor.com</td>\n",
       "      <td>NaN</td>\n",
       "      <td>USA</td>\n",
       "      <td>0.0</td>\n",
       "      <td>...</td>\n",
       "      <td>0.0</td>\n",
       "      <td>NaN</td>\n",
       "      <td>NaN</td>\n",
       "      <td>NaN</td>\n",
       "      <td>NaN</td>\n",
       "      <td>NaN</td>\n",
       "      <td>NaN</td>\n",
       "      <td>NaN</td>\n",
       "      <td>NaN</td>\n",
       "      <td>NaN</td>\n",
       "    </tr>\n",
       "    <tr>\n",
       "      <th>4</th>\n",
       "      <td>100.0</td>\n",
       "      <td>There</td>\n",
       "      <td>games_video</td>\n",
       "      <td>acquired</td>\n",
       "      <td>NaN</td>\n",
       "      <td>NaN</td>\n",
       "      <td>there.com</td>\n",
       "      <td>NaN</td>\n",
       "      <td>USA</td>\n",
       "      <td>0.0</td>\n",
       "      <td>...</td>\n",
       "      <td>4.0</td>\n",
       "      <td>NaN</td>\n",
       "      <td>NaN</td>\n",
       "      <td>NaN</td>\n",
       "      <td>NaN</td>\n",
       "      <td>NaN</td>\n",
       "      <td>NaN</td>\n",
       "      <td>NaN</td>\n",
       "      <td>NaN</td>\n",
       "      <td>NaN</td>\n",
       "    </tr>\n",
       "  </tbody>\n",
       "</table>\n",
       "<p>5 rows × 22 columns</p>\n",
       "</div>"
      ],
      "text/plain": [
       "   company  ID      name category  code     status founded  at closed  at  \\\n",
       "0          1.0  Wetpaint            web  operating  2005-10-17        NaN   \n",
       "1          1.0  Wetpaint            web  operating  2005-10-17        NaN   \n",
       "2          1.0  Wetpaint            web  operating  2005-10-17        NaN   \n",
       "3         10.0   Flektor    games_video   acquired         NaN        NaN   \n",
       "4        100.0     There    games_video   acquired         NaN        NaN   \n",
       "\n",
       "             domain network  username country  code  investment  rounds  ...  \\\n",
       "0  wetpaint-inc.com   BachelrWetpaint           USA                 0.0  ...   \n",
       "1  wetpaint-inc.com   BachelrWetpaint           USA                 0.0  ...   \n",
       "2  wetpaint-inc.com   BachelrWetpaint           USA                 0.0  ...   \n",
       "3       flektor.com               NaN           USA                 0.0  ...   \n",
       "4         there.com               NaN           USA                 0.0  ...   \n",
       "\n",
       "   milestones  funding  round  id  company  id  funded  at  \\\n",
       "0         5.0               888.0          1.0  2005-10-01   \n",
       "1         5.0               889.0          1.0  2007-01-01   \n",
       "2         5.0              2312.0          1.0  2008-05-19   \n",
       "3         0.0                 NaN          NaN         NaN   \n",
       "4         4.0                 NaN          NaN         NaN   \n",
       "\n",
       "   funding  round  type raised  amount pre  money  valuation  participants  \\\n",
       "0              series-a      5250000.0                   0.0           2.0   \n",
       "1              series-b      9500000.0                   0.0           3.0   \n",
       "2             series-c+     25000000.0                   0.0           4.0   \n",
       "3                   NaN            NaN                   NaN           NaN   \n",
       "4                   NaN            NaN                   NaN           NaN   \n",
       "\n",
       "   is  first  round  is  last  round  \n",
       "0               0.0              1.0  \n",
       "1               0.0              0.0  \n",
       "2               1.0              0.0  \n",
       "3               NaN              NaN  \n",
       "4               NaN              NaN  \n",
       "\n",
       "[5 rows x 22 columns]"
      ]
     },
     "execution_count": 11,
     "metadata": {},
     "output_type": "execute_result"
    }
   ],
   "source": [
    "# Выводим первые строки датафрейма о компаниях и раундах финансирования:\n",
    "company_and_rounds_df.head()"
   ]
  },
  {
   "cell_type": "code",
   "execution_count": 12,
   "metadata": {},
   "outputs": [
    {
     "data": {
      "text/plain": [
       "'milestones: [ 0.  1.  2.  3.  4.  5.  6.  7.  8.  9. nan]'"
      ]
     },
     "metadata": {},
     "output_type": "display_data"
    }
   ],
   "source": [
    "# Проверим что такое вехи финансирования\n",
    "display(f'milestones: {company_and_rounds_df[\"milestones\"].sort_values().unique()}')"
   ]
  },
  {
   "cell_type": "code",
   "execution_count": 13,
   "metadata": {
    "id": "oNqJ2qpRFebv"
   },
   "outputs": [
    {
     "name": "stdout",
     "output_type": "stream",
     "text": [
      "<class 'pandas.core.frame.DataFrame'>\n",
      "RangeIndex: 217774 entries, 0 to 217773\n",
      "Data columns (total 22 columns):\n",
      " #   Column                 Non-Null Count   Dtype  \n",
      "---  ------                 --------------   -----  \n",
      " 0   company  ID            217472 non-null  float64\n",
      " 1   name                   217472 non-null  object \n",
      " 2   category  code         143886 non-null  object \n",
      " 3   status                 217472 non-null  object \n",
      " 4   founded  at            109956 non-null  object \n",
      " 5   closed  at             3449 non-null    object \n",
      " 6   domain                 147159 non-null  object \n",
      " 7   network  username      95534 non-null   object \n",
      " 8   country  code          108607 non-null  object \n",
      " 9   investment  rounds     217472 non-null  float64\n",
      " 10  funding  rounds        217472 non-null  float64\n",
      " 11  funding  total         217472 non-null  float64\n",
      " 12  milestones             217472 non-null  float64\n",
      " 13  funding  round  id     52928 non-null   float64\n",
      " 14  company  id            52928 non-null   float64\n",
      " 15  funded  at             52680 non-null   object \n",
      " 16  funding  round  type   52928 non-null   object \n",
      " 17  raised  amount         52928 non-null   float64\n",
      " 18  pre  money  valuation  52928 non-null   float64\n",
      " 19  participants           52928 non-null   float64\n",
      " 20  is  first  round       52928 non-null   float64\n",
      " 21  is  last  round        52928 non-null   float64\n",
      "dtypes: float64(12), object(10)\n",
      "memory usage: 36.6+ MB\n"
     ]
    }
   ],
   "source": [
    "# Выводим информацию датафрейма о компаниях и раундах финансирования:\n",
    "company_and_rounds_df.info()"
   ]
  },
  {
   "cell_type": "code",
   "execution_count": 14,
   "metadata": {
    "scrolled": false
   },
   "outputs": [
    {
     "data": {
      "text/plain": [
       "closed  at               214325\n",
       "funded  at               165094\n",
       "is  last  round          164846\n",
       "is  first  round         164846\n",
       "participants             164846\n",
       "pre  money  valuation    164846\n",
       "raised  amount           164846\n",
       "funding  round  type     164846\n",
       "funding  round  id       164846\n",
       "company  id              164846\n",
       "network  username        122240\n",
       "country  code            109167\n",
       "founded  at              107818\n",
       "category  code            73888\n",
       "domain                    70615\n",
       "company  ID                 302\n",
       "milestones                  302\n",
       "name                        302\n",
       "funding  rounds             302\n",
       "investment  rounds          302\n",
       "status                      302\n",
       "funding  total              302\n",
       "dtype: int64"
      ]
     },
     "execution_count": 14,
     "metadata": {},
     "output_type": "execute_result"
    }
   ],
   "source": [
    "# Применяем метод isna() к датафрейму ПРОПУСКИ\n",
    "company_and_rounds_df.isna().sum().sort_values(ascending=False)"
   ]
  },
  {
   "cell_type": "markdown",
   "metadata": {},
   "source": [
    "==================================================  \n",
    "В 7 столбцах одинаковое кол-во пропусков (302 шт.). Данные столбцы не имеют идентификатора и названия компании.  \n",
    "\n",
    "0.\t`company ID` — идентификатор компании.\n",
    "1.\t`name` — название компании.\n",
    "3.\t`status` — статус компании.\n",
    "9.\t`investment rounds` — число инвестиционных раундов.\n",
    "10.\t`funding rounds` — число раундов финансирования.\n",
    "11.\t`funding total` — сумма финансирования.\n",
    "12.\t`milestones` — вехи финансирования.\n",
    "\n",
    "==================================================  \n",
    "В 8 столбцах одинаковое кол-во пропусков (164 846 шт.). Данные столбцы не имеют информации так же о названии компании (поле дублируется), о сумме и типе финансирования, и прочих параметрах компании.\n",
    "\n",
    "13.\t`funding round id` — идентификатор этапа финансирования.\n",
    "14.\t`company id` — идентификатор компании.\n",
    "16.\t`funding round type` — тип финансирования.\n",
    "17.\t`raised amount` — сумма финансирования.\n",
    "18.\t`pre money valuation` — предварительная денежная оценка.\n",
    "19.\t`participants` — число участников.\n",
    "20.\t`is first round` — является ли раунд первым.\n",
    "21.\t`is last round` — является раунд последним.\n"
   ]
  },
  {
   "cell_type": "code",
   "execution_count": 15,
   "metadata": {},
   "outputs": [
    {
     "data": {
      "text/plain": [
       "closed  at               0.984162\n",
       "funded  at               0.758098\n",
       "is  last  round          0.756959\n",
       "is  first  round         0.756959\n",
       "participants             0.756959\n",
       "pre  money  valuation    0.756959\n",
       "raised  amount           0.756959\n",
       "funding  round  type     0.756959\n",
       "funding  round  id       0.756959\n",
       "company  id              0.756959\n",
       "network  username        0.561316\n",
       "country  code            0.501286\n",
       "founded  at              0.495091\n",
       "category  code           0.339288\n",
       "domain                   0.324258\n",
       "company  ID              0.001387\n",
       "milestones               0.001387\n",
       "name                     0.001387\n",
       "funding  rounds          0.001387\n",
       "investment  rounds       0.001387\n",
       "status                   0.001387\n",
       "funding  total           0.001387\n",
       "dtype: float64"
      ]
     },
     "metadata": {},
     "output_type": "display_data"
    }
   ],
   "source": [
    "# Подсчитываем долю строк с пропусками\n",
    "company_and_rounds_df_sort = company_and_rounds_df.isna().sum() / company_and_rounds_df.shape[0]\n",
    "# Отсортируем значения по убыванию\n",
    "company_and_rounds_df_sort = company_and_rounds_df_sort.sort_values(ascending=False)\n",
    "display(company_and_rounds_df_sort)"
   ]
  },
  {
   "cell_type": "code",
   "execution_count": 16,
   "metadata": {
    "id": "oNqJ2qpRFebv"
   },
   "outputs": [
    {
     "data": {
      "text/html": [
       "<div>\n",
       "<style scoped>\n",
       "    .dataframe tbody tr th:only-of-type {\n",
       "        vertical-align: middle;\n",
       "    }\n",
       "\n",
       "    .dataframe tbody tr th {\n",
       "        vertical-align: top;\n",
       "    }\n",
       "\n",
       "    .dataframe thead th {\n",
       "        text-align: right;\n",
       "    }\n",
       "</style>\n",
       "<table border=\"1\" class=\"dataframe\">\n",
       "  <thead>\n",
       "    <tr style=\"text-align: right;\">\n",
       "      <th></th>\n",
       "      <th>id</th>\n",
       "      <th>first_name</th>\n",
       "      <th>last_name</th>\n",
       "      <th>company_id</th>\n",
       "      <th>network_username</th>\n",
       "    </tr>\n",
       "  </thead>\n",
       "  <tbody>\n",
       "    <tr>\n",
       "      <th>0</th>\n",
       "      <td>10</td>\n",
       "      <td>Mark</td>\n",
       "      <td>Zuckerberg</td>\n",
       "      <td>5.0</td>\n",
       "      <td>NaN</td>\n",
       "    </tr>\n",
       "    <tr>\n",
       "      <th>1</th>\n",
       "      <td>100</td>\n",
       "      <td>Peter</td>\n",
       "      <td>Lester</td>\n",
       "      <td>27.0</td>\n",
       "      <td>NaN</td>\n",
       "    </tr>\n",
       "    <tr>\n",
       "      <th>2</th>\n",
       "      <td>1000</td>\n",
       "      <td>Dr. Steven</td>\n",
       "      <td>E. Saunders</td>\n",
       "      <td>292.0</td>\n",
       "      <td>NaN</td>\n",
       "    </tr>\n",
       "    <tr>\n",
       "      <th>3</th>\n",
       "      <td>10000</td>\n",
       "      <td>Neil</td>\n",
       "      <td>Capel</td>\n",
       "      <td>2526.0</td>\n",
       "      <td>NaN</td>\n",
       "    </tr>\n",
       "    <tr>\n",
       "      <th>4</th>\n",
       "      <td>100000</td>\n",
       "      <td>Sue</td>\n",
       "      <td>Pilsch</td>\n",
       "      <td>NaN</td>\n",
       "      <td>NaN</td>\n",
       "    </tr>\n",
       "  </tbody>\n",
       "</table>\n",
       "</div>"
      ],
      "text/plain": [
       "       id  first_name    last_name  company_id network_username\n",
       "0      10        Mark   Zuckerberg         5.0              NaN\n",
       "1     100       Peter       Lester        27.0              NaN\n",
       "2    1000  Dr. Steven  E. Saunders       292.0              NaN\n",
       "3   10000        Neil        Capel      2526.0              NaN\n",
       "4  100000         Sue       Pilsch         NaN              NaN"
      ]
     },
     "execution_count": 16,
     "metadata": {},
     "output_type": "execute_result"
    }
   ],
   "source": [
    "# Выводим первые строки датафрейма о сотрудниках:\n",
    "people_df.head()"
   ]
  },
  {
   "cell_type": "code",
   "execution_count": 17,
   "metadata": {
    "id": "oNqJ2qpRFebv"
   },
   "outputs": [
    {
     "name": "stdout",
     "output_type": "stream",
     "text": [
      "<class 'pandas.core.frame.DataFrame'>\n",
      "RangeIndex: 226709 entries, 0 to 226708\n",
      "Data columns (total 5 columns):\n",
      " #   Column            Non-Null Count   Dtype  \n",
      "---  ------            --------------   -----  \n",
      " 0   id                226709 non-null  int64  \n",
      " 1   first_name        226704 non-null  object \n",
      " 2   last_name         226708 non-null  object \n",
      " 3   company_id        34615 non-null   float64\n",
      " 4   network_username  38867 non-null   object \n",
      "dtypes: float64(1), int64(1), object(3)\n",
      "memory usage: 8.6+ MB\n"
     ]
    }
   ],
   "source": [
    "# Выводим информацию датафрейма о сотрудниках:\n",
    "people_df.info()"
   ]
  },
  {
   "cell_type": "code",
   "execution_count": 18,
   "metadata": {},
   "outputs": [
    {
     "data": {
      "text/plain": [
       "id                       0\n",
       "first_name               5\n",
       "last_name                1\n",
       "company_id          192094\n",
       "network_username    187842\n",
       "dtype: int64"
      ]
     },
     "execution_count": 18,
     "metadata": {},
     "output_type": "execute_result"
    }
   ],
   "source": [
    "# Применяем метод isna() к датафрейму\n",
    "people_df.isna().sum()"
   ]
  },
  {
   "cell_type": "code",
   "execution_count": 19,
   "metadata": {},
   "outputs": [
    {
     "data": {
      "text/plain": [
       "company_id          0.847315\n",
       "network_username    0.828560\n",
       "first_name          0.000022\n",
       "last_name           0.000004\n",
       "id                  0.000000\n",
       "dtype: float64"
      ]
     },
     "metadata": {},
     "output_type": "display_data"
    }
   ],
   "source": [
    "# Подсчитываем долю строк с пропусками\n",
    "people_df_sort = people_df.isna().sum() / people_df.shape[0]\n",
    "# Отсортируем значения по убыванию\n",
    "people_df_sort = people_df_sort.sort_values(ascending=False)\n",
    "display(people_df_sort)"
   ]
  },
  {
   "cell_type": "code",
   "execution_count": 20,
   "metadata": {
    "id": "oNqJ2qpRFebv"
   },
   "outputs": [
    {
     "data": {
      "text/html": [
       "<div>\n",
       "<style scoped>\n",
       "    .dataframe tbody tr th:only-of-type {\n",
       "        vertical-align: middle;\n",
       "    }\n",
       "\n",
       "    .dataframe tbody tr th {\n",
       "        vertical-align: top;\n",
       "    }\n",
       "\n",
       "    .dataframe thead th {\n",
       "        text-align: right;\n",
       "    }\n",
       "</style>\n",
       "<table border=\"1\" class=\"dataframe\">\n",
       "  <thead>\n",
       "    <tr style=\"text-align: right;\">\n",
       "      <th></th>\n",
       "      <th>id</th>\n",
       "      <th>person_id</th>\n",
       "      <th>instituition</th>\n",
       "      <th>graduated_at</th>\n",
       "    </tr>\n",
       "  </thead>\n",
       "  <tbody>\n",
       "    <tr>\n",
       "      <th>0</th>\n",
       "      <td>1</td>\n",
       "      <td>6117</td>\n",
       "      <td>NaN</td>\n",
       "      <td>NaN</td>\n",
       "    </tr>\n",
       "    <tr>\n",
       "      <th>1</th>\n",
       "      <td>2</td>\n",
       "      <td>6136</td>\n",
       "      <td>Washington University, St. Louis</td>\n",
       "      <td>1990-01-01</td>\n",
       "    </tr>\n",
       "    <tr>\n",
       "      <th>2</th>\n",
       "      <td>3</td>\n",
       "      <td>6136</td>\n",
       "      <td>Boston University</td>\n",
       "      <td>1992-01-01</td>\n",
       "    </tr>\n",
       "    <tr>\n",
       "      <th>3</th>\n",
       "      <td>4</td>\n",
       "      <td>6005</td>\n",
       "      <td>University of Greenwich</td>\n",
       "      <td>2006-01-01</td>\n",
       "    </tr>\n",
       "    <tr>\n",
       "      <th>4</th>\n",
       "      <td>5</td>\n",
       "      <td>5832</td>\n",
       "      <td>Rice University</td>\n",
       "      <td>NaN</td>\n",
       "    </tr>\n",
       "  </tbody>\n",
       "</table>\n",
       "</div>"
      ],
      "text/plain": [
       "   id  person_id                      instituition graduated_at\n",
       "0   1       6117                               NaN          NaN\n",
       "1   2       6136  Washington University, St. Louis   1990-01-01\n",
       "2   3       6136                 Boston University   1992-01-01\n",
       "3   4       6005           University of Greenwich   2006-01-01\n",
       "4   5       5832                   Rice University          NaN"
      ]
     },
     "execution_count": 20,
     "metadata": {},
     "output_type": "execute_result"
    }
   ],
   "source": [
    "# Выводим первые строки датафрейма об образовании сотрудника:\n",
    "education_df.head()"
   ]
  },
  {
   "cell_type": "code",
   "execution_count": 21,
   "metadata": {
    "id": "oNqJ2qpRFebv",
    "scrolled": true
   },
   "outputs": [
    {
     "name": "stdout",
     "output_type": "stream",
     "text": [
      "<class 'pandas.core.frame.DataFrame'>\n",
      "RangeIndex: 109610 entries, 0 to 109609\n",
      "Data columns (total 4 columns):\n",
      " #   Column        Non-Null Count   Dtype \n",
      "---  ------        --------------   ----- \n",
      " 0   id            109610 non-null  int64 \n",
      " 1   person_id     109610 non-null  int64 \n",
      " 2   instituition  109555 non-null  object\n",
      " 3   graduated_at  58054 non-null   object\n",
      "dtypes: int64(2), object(2)\n",
      "memory usage: 3.3+ MB\n"
     ]
    }
   ],
   "source": [
    "# Выводим информацию датафрейма об образовании сотрудника:\n",
    "education_df.info()"
   ]
  },
  {
   "cell_type": "code",
   "execution_count": 22,
   "metadata": {},
   "outputs": [
    {
     "data": {
      "text/plain": [
       "id                  0\n",
       "person_id           0\n",
       "instituition       55\n",
       "graduated_at    51556\n",
       "dtype: int64"
      ]
     },
     "execution_count": 22,
     "metadata": {},
     "output_type": "execute_result"
    }
   ],
   "source": [
    "# Применяем метод isna() к датафрейму\n",
    "education_df.isna().sum()"
   ]
  },
  {
   "cell_type": "code",
   "execution_count": 23,
   "metadata": {},
   "outputs": [
    {
     "data": {
      "text/plain": [
       "graduated_at    0.470359\n",
       "instituition    0.000502\n",
       "id              0.000000\n",
       "person_id       0.000000\n",
       "dtype: float64"
      ]
     },
     "metadata": {},
     "output_type": "display_data"
    }
   ],
   "source": [
    "# Подсчитываем долю строк с пропусками\n",
    "education_df_sort = education_df.isna().sum() / education_df.shape[0]\n",
    "# Отсортируем значения по убыванию\n",
    "education_df_sort = education_df_sort.sort_values(ascending=False)\n",
    "display(education_df_sort)"
   ]
  },
  {
   "cell_type": "code",
   "execution_count": 24,
   "metadata": {
    "id": "oNqJ2qpRFebv",
    "scrolled": false
   },
   "outputs": [
    {
     "data": {
      "text/html": [
       "<div>\n",
       "<style scoped>\n",
       "    .dataframe tbody tr th:only-of-type {\n",
       "        vertical-align: middle;\n",
       "    }\n",
       "\n",
       "    .dataframe tbody tr th {\n",
       "        vertical-align: top;\n",
       "    }\n",
       "\n",
       "    .dataframe thead th {\n",
       "        text-align: right;\n",
       "    }\n",
       "</style>\n",
       "<table border=\"1\" class=\"dataframe\">\n",
       "  <thead>\n",
       "    <tr style=\"text-align: right;\">\n",
       "      <th></th>\n",
       "      <th>id</th>\n",
       "      <th>object_id</th>\n",
       "      <th>degree_type</th>\n",
       "      <th>subject</th>\n",
       "    </tr>\n",
       "  </thead>\n",
       "  <tbody>\n",
       "    <tr>\n",
       "      <th>0</th>\n",
       "      <td>1</td>\n",
       "      <td>p:6117</td>\n",
       "      <td>MBA</td>\n",
       "      <td>NaN</td>\n",
       "    </tr>\n",
       "    <tr>\n",
       "      <th>1</th>\n",
       "      <td>2</td>\n",
       "      <td>p:6136</td>\n",
       "      <td>BA</td>\n",
       "      <td>English, French</td>\n",
       "    </tr>\n",
       "    <tr>\n",
       "      <th>2</th>\n",
       "      <td>3</td>\n",
       "      <td>p:6136</td>\n",
       "      <td>MS</td>\n",
       "      <td>Mass Communication</td>\n",
       "    </tr>\n",
       "    <tr>\n",
       "      <th>3</th>\n",
       "      <td>4</td>\n",
       "      <td>p:6005</td>\n",
       "      <td>MS</td>\n",
       "      <td>Internet Technology</td>\n",
       "    </tr>\n",
       "    <tr>\n",
       "      <th>4</th>\n",
       "      <td>5</td>\n",
       "      <td>p:5832</td>\n",
       "      <td>BCS</td>\n",
       "      <td>Computer Science, Psychology</td>\n",
       "    </tr>\n",
       "  </tbody>\n",
       "</table>\n",
       "</div>"
      ],
      "text/plain": [
       "   id object_id degree_type                       subject\n",
       "0   1    p:6117         MBA                           NaN\n",
       "1   2    p:6136          BA               English, French\n",
       "2   3    p:6136          MS            Mass Communication\n",
       "3   4    p:6005          MS           Internet Technology\n",
       "4   5    p:5832         BCS  Computer Science, Psychology"
      ]
     },
     "execution_count": 24,
     "metadata": {},
     "output_type": "execute_result"
    }
   ],
   "source": [
    "# Выводим первые строки датафрейма о типе образования сотрудника:\n",
    "degrees_df.head()"
   ]
  },
  {
   "cell_type": "markdown",
   "metadata": {},
   "source": [
    "Промежуточное замечание:  \n",
    "Идентификатор сотрудника отличется от идентификатора в таблицах `education_df` и `people_df` дополнительным символом **\"р:\"**"
   ]
  },
  {
   "cell_type": "code",
   "execution_count": 25,
   "metadata": {},
   "outputs": [
    {
     "data": {
      "text/plain": [
       "id                 0\n",
       "object_id          0\n",
       "degree_type    11218\n",
       "subject        28312\n",
       "dtype: int64"
      ]
     },
     "execution_count": 25,
     "metadata": {},
     "output_type": "execute_result"
    }
   ],
   "source": [
    "# Применяем метод isna() к датафрейму\n",
    "degrees_df.isna().sum()"
   ]
  },
  {
   "cell_type": "code",
   "execution_count": 26,
   "metadata": {},
   "outputs": [
    {
     "data": {
      "text/plain": [
       "subject        0.258298\n",
       "degree_type    0.102345\n",
       "id             0.000000\n",
       "object_id      0.000000\n",
       "dtype: float64"
      ]
     },
     "metadata": {},
     "output_type": "display_data"
    }
   ],
   "source": [
    "# Подсчитываем долю строк с пропусками\n",
    "degrees_df_sort = degrees_df.isna().sum() / degrees_df.shape[0]\n",
    "# Отсортируем значения по убыванию\n",
    "degrees_df_sort = degrees_df_sort.sort_values(ascending=False)\n",
    "display(degrees_df_sort)"
   ]
  },
  {
   "cell_type": "code",
   "execution_count": 27,
   "metadata": {
    "id": "oNqJ2qpRFebv",
    "scrolled": false
   },
   "outputs": [
    {
     "name": "stdout",
     "output_type": "stream",
     "text": [
      "<class 'pandas.core.frame.DataFrame'>\n",
      "RangeIndex: 109610 entries, 0 to 109609\n",
      "Data columns (total 4 columns):\n",
      " #   Column       Non-Null Count   Dtype \n",
      "---  ------       --------------   ----- \n",
      " 0   id           109610 non-null  int64 \n",
      " 1   object_id    109610 non-null  object\n",
      " 2   degree_type  98392 non-null   object\n",
      " 3   subject      81298 non-null   object\n",
      "dtypes: int64(1), object(3)\n",
      "memory usage: 3.3+ MB\n"
     ]
    }
   ],
   "source": [
    "# Выводим информацию датафрейма о типе образования сотрудника:\n",
    "degrees_df.info()"
   ]
  },
  {
   "cell_type": "code",
   "execution_count": 28,
   "metadata": {
    "id": "oNqJ2qpRFebv"
   },
   "outputs": [
    {
     "data": {
      "text/html": [
       "<div>\n",
       "<style scoped>\n",
       "    .dataframe tbody tr th:only-of-type {\n",
       "        vertical-align: middle;\n",
       "    }\n",
       "\n",
       "    .dataframe tbody tr th {\n",
       "        vertical-align: top;\n",
       "    }\n",
       "\n",
       "    .dataframe thead th {\n",
       "        text-align: right;\n",
       "    }\n",
       "</style>\n",
       "<table border=\"1\" class=\"dataframe\">\n",
       "  <thead>\n",
       "    <tr style=\"text-align: right;\">\n",
       "      <th></th>\n",
       "      <th>id</th>\n",
       "      <th>name</th>\n",
       "      <th>founded_at</th>\n",
       "      <th>domain</th>\n",
       "      <th>network_username</th>\n",
       "      <th>country_code</th>\n",
       "      <th>investment_rounds</th>\n",
       "      <th>invested_companies</th>\n",
       "      <th>milestones</th>\n",
       "    </tr>\n",
       "  </thead>\n",
       "  <tbody>\n",
       "    <tr>\n",
       "      <th>0</th>\n",
       "      <td>13131</td>\n",
       "      <td>NaN</td>\n",
       "      <td>NaN</td>\n",
       "      <td>NaN</td>\n",
       "      <td>NaN</td>\n",
       "      <td>NaN</td>\n",
       "      <td>0</td>\n",
       "      <td>0</td>\n",
       "      <td>0</td>\n",
       "    </tr>\n",
       "    <tr>\n",
       "      <th>1</th>\n",
       "      <td>1</td>\n",
       "      <td>Greylock Partners</td>\n",
       "      <td>1965-01-01</td>\n",
       "      <td>greylock.com</td>\n",
       "      <td>greylockvc</td>\n",
       "      <td>USA</td>\n",
       "      <td>307</td>\n",
       "      <td>196</td>\n",
       "      <td>0</td>\n",
       "    </tr>\n",
       "    <tr>\n",
       "      <th>2</th>\n",
       "      <td>10</td>\n",
       "      <td>Mission Ventures</td>\n",
       "      <td>1996-01-01</td>\n",
       "      <td>missionventures.com</td>\n",
       "      <td>NaN</td>\n",
       "      <td>USA</td>\n",
       "      <td>58</td>\n",
       "      <td>33</td>\n",
       "      <td>0</td>\n",
       "    </tr>\n",
       "    <tr>\n",
       "      <th>3</th>\n",
       "      <td>100</td>\n",
       "      <td>Kapor Enterprises, Inc.</td>\n",
       "      <td>NaN</td>\n",
       "      <td>kei.com</td>\n",
       "      <td>NaN</td>\n",
       "      <td>USA</td>\n",
       "      <td>2</td>\n",
       "      <td>1</td>\n",
       "      <td>0</td>\n",
       "    </tr>\n",
       "    <tr>\n",
       "      <th>4</th>\n",
       "      <td>1000</td>\n",
       "      <td>Speed Ventures</td>\n",
       "      <td>NaN</td>\n",
       "      <td>NaN</td>\n",
       "      <td>NaN</td>\n",
       "      <td>NaN</td>\n",
       "      <td>0</td>\n",
       "      <td>0</td>\n",
       "      <td>1</td>\n",
       "    </tr>\n",
       "  </tbody>\n",
       "</table>\n",
       "</div>"
      ],
      "text/plain": [
       "      id                     name  founded_at               domain  \\\n",
       "0  13131                      NaN         NaN                  NaN   \n",
       "1      1        Greylock Partners  1965-01-01         greylock.com   \n",
       "2     10         Mission Ventures  1996-01-01  missionventures.com   \n",
       "3    100  Kapor Enterprises, Inc.         NaN              kei.com   \n",
       "4   1000           Speed Ventures         NaN                  NaN   \n",
       "\n",
       "  network_username country_code  investment_rounds  invested_companies  \\\n",
       "0              NaN          NaN                  0                   0   \n",
       "1       greylockvc          USA                307                 196   \n",
       "2              NaN          USA                 58                  33   \n",
       "3              NaN          USA                  2                   1   \n",
       "4              NaN          NaN                  0                   0   \n",
       "\n",
       "   milestones  \n",
       "0           0  \n",
       "1           0  \n",
       "2           0  \n",
       "3           0  \n",
       "4           1  "
      ]
     },
     "execution_count": 28,
     "metadata": {},
     "output_type": "execute_result"
    }
   ],
   "source": [
    "# Выводим первые строки датафрейма о фондах:\n",
    "fund_df.head()"
   ]
  },
  {
   "cell_type": "code",
   "execution_count": 29,
   "metadata": {
    "id": "oNqJ2qpRFebv"
   },
   "outputs": [
    {
     "name": "stdout",
     "output_type": "stream",
     "text": [
      "<class 'pandas.core.frame.DataFrame'>\n",
      "RangeIndex: 11652 entries, 0 to 11651\n",
      "Data columns (total 9 columns):\n",
      " #   Column              Non-Null Count  Dtype \n",
      "---  ------              --------------  ----- \n",
      " 0   id                  11652 non-null  int64 \n",
      " 1   name                11650 non-null  object\n",
      " 2   founded_at          4605 non-null   object\n",
      " 3   domain              7362 non-null   object\n",
      " 4   network_username    2149 non-null   object\n",
      " 5   country_code        7053 non-null   object\n",
      " 6   investment_rounds   11652 non-null  int64 \n",
      " 7   invested_companies  11652 non-null  int64 \n",
      " 8   milestones          11652 non-null  int64 \n",
      "dtypes: int64(4), object(5)\n",
      "memory usage: 819.4+ KB\n"
     ]
    }
   ],
   "source": [
    "# Выводим информацию датафрейма о фондах:\n",
    "fund_df.info()"
   ]
  },
  {
   "cell_type": "code",
   "execution_count": 30,
   "metadata": {
    "id": "oNqJ2qpRFebv"
   },
   "outputs": [
    {
     "data": {
      "text/html": [
       "<div>\n",
       "<style scoped>\n",
       "    .dataframe tbody tr th:only-of-type {\n",
       "        vertical-align: middle;\n",
       "    }\n",
       "\n",
       "    .dataframe tbody tr th {\n",
       "        vertical-align: top;\n",
       "    }\n",
       "\n",
       "    .dataframe thead th {\n",
       "        text-align: right;\n",
       "    }\n",
       "</style>\n",
       "<table border=\"1\" class=\"dataframe\">\n",
       "  <thead>\n",
       "    <tr style=\"text-align: right;\">\n",
       "      <th></th>\n",
       "      <th>id</th>\n",
       "      <th>funding_round_id</th>\n",
       "      <th>company_id</th>\n",
       "      <th>fund_id</th>\n",
       "    </tr>\n",
       "  </thead>\n",
       "  <tbody>\n",
       "    <tr>\n",
       "      <th>0</th>\n",
       "      <td>1</td>\n",
       "      <td>1</td>\n",
       "      <td>4</td>\n",
       "      <td>1</td>\n",
       "    </tr>\n",
       "    <tr>\n",
       "      <th>1</th>\n",
       "      <td>2</td>\n",
       "      <td>1</td>\n",
       "      <td>4</td>\n",
       "      <td>2</td>\n",
       "    </tr>\n",
       "    <tr>\n",
       "      <th>2</th>\n",
       "      <td>3</td>\n",
       "      <td>3</td>\n",
       "      <td>5</td>\n",
       "      <td>4</td>\n",
       "    </tr>\n",
       "    <tr>\n",
       "      <th>3</th>\n",
       "      <td>4</td>\n",
       "      <td>4</td>\n",
       "      <td>5</td>\n",
       "      <td>1</td>\n",
       "    </tr>\n",
       "    <tr>\n",
       "      <th>4</th>\n",
       "      <td>5</td>\n",
       "      <td>4</td>\n",
       "      <td>5</td>\n",
       "      <td>5</td>\n",
       "    </tr>\n",
       "  </tbody>\n",
       "</table>\n",
       "</div>"
      ],
      "text/plain": [
       "   id  funding_round_id  company_id  fund_id\n",
       "0   1                 1           4        1\n",
       "1   2                 1           4        2\n",
       "2   3                 3           5        4\n",
       "3   4                 4           5        1\n",
       "4   5                 4           5        5"
      ]
     },
     "execution_count": 30,
     "metadata": {},
     "output_type": "execute_result"
    }
   ],
   "source": [
    "# Выводим первые строки датафрейма о раундах инвестирования:\n",
    "investment_df.head()"
   ]
  },
  {
   "cell_type": "code",
   "execution_count": 31,
   "metadata": {
    "id": "oNqJ2qpRFebv"
   },
   "outputs": [
    {
     "name": "stdout",
     "output_type": "stream",
     "text": [
      "<class 'pandas.core.frame.DataFrame'>\n",
      "RangeIndex: 61403 entries, 0 to 61402\n",
      "Data columns (total 4 columns):\n",
      " #   Column            Non-Null Count  Dtype\n",
      "---  ------            --------------  -----\n",
      " 0   id                61403 non-null  int64\n",
      " 1   funding_round_id  61403 non-null  int64\n",
      " 2   company_id        61403 non-null  int64\n",
      " 3   fund_id           61403 non-null  int64\n",
      "dtypes: int64(4)\n",
      "memory usage: 1.9 MB\n"
     ]
    }
   ],
   "source": [
    "# Выводим информацию датафрейма о раундах инвестирования:\n",
    "investment_df.info()"
   ]
  },
  {
   "cell_type": "markdown",
   "metadata": {},
   "source": [
    "### Промежуточный вывод\n",
    "\n",
    "- Названия столбцов `company_and_rounds.csv` требуют корректировки на более корректные snake_case, требуется замена названия дублирующихся столбцов идентификаторов компании;\n",
    "- Кол-во пропусков для некоторых таблиц критично для анализа и требует детальной проработки. "
   ]
  },
  {
   "cell_type": "code",
   "execution_count": 32,
   "metadata": {},
   "outputs": [
    {
     "data": {
      "image/png": "[encoded data removed]",
      "text/plain": [
       "<Figure size 432x288 with 1 Axes>"
      ]
     },
     "metadata": {},
     "output_type": "display_data"
    }
   ],
   "source": [
    "first_id = set(company_and_rounds_df['company  ID'].dropna().unique())\n",
    "second_id = set(company_and_rounds_df['company  id'].dropna().unique())\n",
    "# Строим диаграмму Венна\n",
    "venn2([first_id, second_id], set_labels=('company  ID', 'company  id'))\n",
    "\n",
    "# Отображаем график\n",
    "plt.title(\"Пересечение \")\n",
    "plt.show() "
   ]
  },
  {
   "cell_type": "markdown",
   "metadata": {
    "id": "mg2gEwh0rJg0"
   },
   "source": [
    "### 1.2. Смена типов и анализ пропусков\n",
    "\n",
    "- Обработка типов данных в столбцах, которые хранят значения даты и времени.\n",
    "- Оценка полноты данных — достаточно ли данных для решения задач проекта."
   ]
  },
  {
   "cell_type": "code",
   "execution_count": 33,
   "metadata": {
    "id": "46VskrGyFeJ-"
   },
   "outputs": [],
   "source": [
    "# Приводим тип данных в acquisition_df к datetime64[ns]\n",
    "acquisition_df['acquired_at'] = acquisition_df['acquired_at'].astype('datetime64[ns]')"
   ]
  },
  {
   "cell_type": "code",
   "execution_count": 34,
   "metadata": {
    "id": "FsL0A8RBrJg1",
    "vscode": {
     "languageId": "plaintext"
    }
   },
   "outputs": [],
   "source": [
    "#Заменяем названия столбцов на более корректные snake_case\n",
    "comp_and_round_df = company_and_rounds_df.copy()\n",
    "comp_and_round_df = comp_and_round_df.rename(columns={'company  ID': 'company ID company'}) # Дополняем название во избежание наличия двух столбцов с одинаковым названием\n",
    "comp_and_round_df.columns = comp_and_round_df.columns.str.replace('  ', ' ').str.lower() # лишние пробелы\n",
    "comp_and_round_df.columns = comp_and_round_df.columns.str.replace(' ', '_').str.lower() # замена на _"
   ]
  },
  {
   "cell_type": "code",
   "execution_count": 35,
   "metadata": {
    "id": "DEg1tl8DFeBn"
   },
   "outputs": [],
   "source": [
    "# Меняем тип данных в comp_and_round_df на datetime64 в нескольких столбцах с помощью цикла:\n",
    "for column in ['founded_at', 'closed_at','funded_at']:\n",
    "    comp_and_round_df[column] = pd.to_datetime(comp_and_round_df[column])"
   ]
  },
  {
   "cell_type": "code",
   "execution_count": 37,
   "metadata": {},
   "outputs": [],
   "source": [
    "# Преобразовываем данные в столбцах в формат bool\n",
    "comp_and_round_df[['is_first_round','is_last_round']] = comp_and_round_df[['is_first_round','is_last_round']].astype('bool')"
   ]
  },
  {
   "cell_type": "code",
   "execution_count": 38,
   "metadata": {},
   "outputs": [
    {
     "data": {
      "text/plain": [
       "'Наименования  столбцов snake_case, типы данных оптимизированы:'"
      ]
     },
     "metadata": {},
     "output_type": "display_data"
    },
    {
     "name": "stdout",
     "output_type": "stream",
     "text": [
      "<class 'pandas.core.frame.DataFrame'>\n",
      "RangeIndex: 217774 entries, 0 to 217773\n",
      "Data columns (total 22 columns):\n",
      " #   Column               Non-Null Count   Dtype         \n",
      "---  ------               --------------   -----         \n",
      " 0   company_id_company   217472 non-null  float64       \n",
      " 1   name                 217472 non-null  object        \n",
      " 2   category_code        143886 non-null  object        \n",
      " 3   status               217472 non-null  object        \n",
      " 4   founded_at           109956 non-null  datetime64[ns]\n",
      " 5   closed_at            3449 non-null    datetime64[ns]\n",
      " 6   domain               147159 non-null  object        \n",
      " 7   network_username     95534 non-null   object        \n",
      " 8   country_code         108607 non-null  object        \n",
      " 9   investment_rounds    217472 non-null  float64       \n",
      " 10  funding_rounds       217472 non-null  float64       \n",
      " 11  funding_total        217472 non-null  float64       \n",
      " 12  milestones           217472 non-null  float64       \n",
      " 13  funding_round_id     52928 non-null   float64       \n",
      " 14  company_id           52928 non-null   float64       \n",
      " 15  funded_at            52680 non-null   datetime64[ns]\n",
      " 16  funding_round_type   52928 non-null   object        \n",
      " 17  raised_amount        52928 non-null   float64       \n",
      " 18  pre_money_valuation  52928 non-null   float64       \n",
      " 19  participants         52928 non-null   float64       \n",
      " 20  is_first_round       217774 non-null  bool          \n",
      " 21  is_last_round        217774 non-null  bool          \n",
      "dtypes: bool(2), datetime64[ns](3), float64(10), object(7)\n",
      "memory usage: 33.6+ MB\n"
     ]
    }
   ],
   "source": [
    "display('Наименования  столбцов snake_case, типы данных оптимизированы:')\n",
    "comp_and_round_df.info()"
   ]
  },
  {
   "cell_type": "code",
   "execution_count": 39,
   "metadata": {},
   "outputs": [
    {
     "data": {
      "text/plain": [
       "0"
      ]
     },
     "execution_count": 39,
     "metadata": {},
     "output_type": "execute_result"
    }
   ],
   "source": [
    "# Проверяем полные дубликаты в датафрейме\n",
    "people_df.duplicated().sum()"
   ]
  },
  {
   "cell_type": "code",
   "execution_count": 40,
   "metadata": {},
   "outputs": [],
   "source": [
    "# Приводим тип данных в acquisition_df к datetime64[ns]\n",
    "education_df['graduated_at'] = education_df['graduated_at'].astype('datetime64[ns]')"
   ]
  },
  {
   "cell_type": "code",
   "execution_count": 41,
   "metadata": {},
   "outputs": [],
   "source": [
    "# Приводим тип данных в fund_df к datetime64[ns]\n",
    "# fund_df['founded_at'] = fund_df['founded_at'].astype('datetime64[ns]')"
   ]
  },
  {
   "cell_type": "code",
   "execution_count": 42,
   "metadata": {
    "scrolled": true
   },
   "outputs": [
    {
     "data": {
      "text/plain": [
       "0"
      ]
     },
     "execution_count": 42,
     "metadata": {},
     "output_type": "execute_result"
    }
   ],
   "source": [
    "# Проверяем полные дубликаты в датафрейме\n",
    "education_df.duplicated().sum()"
   ]
  },
  {
   "cell_type": "markdown",
   "metadata": {},
   "source": [
    "### Промежуточный вывод\n",
    "\n",
    "- Названия столбцов `company_and_rounds.csv` cкорректированы на общепринятые snake_case\n",
    "- Типы данных в `acquisition_df`, `comp_and_round_df`, `education_df`, `fund_df` преобразованы в типы datetime64 и bool\n",
    "- Наличие высокого процента пропусков в данных говорит о необходимости дополнительного анализа основной таблицы, необходимой для ответов на запросы заказчика. Повторение одинакового количества пропусков в `company_and_rounds.csv` подтверждает гипотезу заказчика о том, что данные по компаниям из этой таблицы раньше хранились иначе. Необходима корректировка таблицы для приведения в более удобный для исследования формат хранения данных."
   ]
  },
  {
   "cell_type": "markdown",
   "metadata": {
    "id": "u60cHsn6rJg1"
   },
   "source": [
    "## Шаг 2. Предобработка данных, предварительное исследование"
   ]
  },
  {
   "cell_type": "markdown",
   "metadata": {
    "id": "g2bHIIjcrJg1"
   },
   "source": [
    "\n",
    "### 2.1. Раунды финансирования по годам\n",
    "\n",
    "Проводим анализ без объединения и дополнительной предобработки на основе датасета `company_and_rounds.csv`.\n",
    "\n",
    "- Составляем сводную таблицу по годам, в которой на основании столбца `raised_amount` для каждого года указан:\n",
    "    - типичный размер средств, выделяемый в рамках одного раунда;\n",
    "    - общее количество раундов финансирования за этот год.\n",
    "    \n",
    "- Оставляем в таблице информацию только для тех лет, для которых есть информация о более чем 50 раундах финансирования.\n",
    "- На основе получившейся таблицы строим график, который будет отражать динамику типичного размера средств, которые стартапы получали в рамках одного раунда финансирования.\n",
    "\n",
    "На основе полученных данных отвечаем на вопросы:\n",
    "\n",
    "- В каком году типичный размер собранных в рамках одного раунда средств был максимален?\n",
    "- Какая тенденция по количеству раундов и выделяемых в рамках каждого раунда средств наблюдалась в 2013 году?"
   ]
  },
  {
   "cell_type": "code",
   "execution_count": 43,
   "metadata": {
    "id": "Cf5IjfOQrJg1",
    "scrolled": true,
    "vscode": {
     "languageId": "plaintext"
    }
   },
   "outputs": [
    {
     "name": "stdout",
     "output_type": "stream",
     "text": [
      "Int64\n"
     ]
    }
   ],
   "source": [
    "# Выделяем год финансирования из столбца с датой инвестирования\n",
    "comp_and_round_df_n = comp_and_round_df\n",
    "comp_and_round_df_n['funded_at_year'] = comp_and_round_df_n['funded_at'].dt.year\n",
    "\n",
    "# Преобразовываем в целочисленный тип\n",
    "comp_and_round_df_n['funded_at_year'] = comp_and_round_df_n['funded_at_year'].astype('Int64')\n",
    "# с заполнением пропусков\n",
    "comp_and_round_df_n['funded_at_year'].fillna(0, inplace=True)\n",
    "\n",
    "#исключаем нулевые года\n",
    "#comp_and_round_df_year = comp_and_round_df_n[comp_and_round_df_n['funded_at_year'] != 0]\n",
    "\n",
    "# Проверяем тип столбца \n",
    "print(comp_and_round_df_n['funded_at_year'].dtype)"
   ]
  },
  {
   "cell_type": "code",
   "execution_count": 44,
   "metadata": {},
   "outputs": [
    {
     "name": "stderr",
     "output_type": "stream",
     "text": [
      "/tmp/ipykernel_168/1574604092.py:14: SettingWithCopyWarning: \n",
      "A value is trying to be set on a copy of a slice from a DataFrame.\n",
      "Try using .loc[row_indexer,col_indexer] = value instead\n",
      "\n",
      "See the caveats in the documentation: https://pandas.pydata.org/pandas-docs/stable/user_guide/indexing.html#returning-a-view-versus-a-copy\n",
      "  pivot_year_filt['Типичное финансирование (медиана), $'] = round(pivot_year_filt['Типичное финансирование (медиана), $'], 0)\n"
     ]
    },
    {
     "data": {
      "text/html": [
       "<div>\n",
       "<style scoped>\n",
       "    .dataframe tbody tr th:only-of-type {\n",
       "        vertical-align: middle;\n",
       "    }\n",
       "\n",
       "    .dataframe tbody tr th {\n",
       "        vertical-align: top;\n",
       "    }\n",
       "\n",
       "    .dataframe thead th {\n",
       "        text-align: right;\n",
       "    }\n",
       "</style>\n",
       "<table border=\"1\" class=\"dataframe\">\n",
       "  <thead>\n",
       "    <tr style=\"text-align: right;\">\n",
       "      <th></th>\n",
       "      <th>Год</th>\n",
       "      <th>Количество раундов</th>\n",
       "      <th>Типичное финансирование (медиана), $</th>\n",
       "    </tr>\n",
       "  </thead>\n",
       "  <tbody>\n",
       "    <tr>\n",
       "      <th>16</th>\n",
       "      <td>1999</td>\n",
       "      <td>76</td>\n",
       "      <td>2000000.0</td>\n",
       "    </tr>\n",
       "    <tr>\n",
       "      <th>17</th>\n",
       "      <td>2000</td>\n",
       "      <td>125</td>\n",
       "      <td>4200000.0</td>\n",
       "    </tr>\n",
       "    <tr>\n",
       "      <th>18</th>\n",
       "      <td>2001</td>\n",
       "      <td>96</td>\n",
       "      <td>3000000.0</td>\n",
       "    </tr>\n",
       "    <tr>\n",
       "      <th>19</th>\n",
       "      <td>2002</td>\n",
       "      <td>116</td>\n",
       "      <td>4200000.0</td>\n",
       "    </tr>\n",
       "    <tr>\n",
       "      <th>20</th>\n",
       "      <td>2003</td>\n",
       "      <td>159</td>\n",
       "      <td>3000000.0</td>\n",
       "    </tr>\n",
       "    <tr>\n",
       "      <th>21</th>\n",
       "      <td>2004</td>\n",
       "      <td>291</td>\n",
       "      <td>5000000.0</td>\n",
       "    </tr>\n",
       "    <tr>\n",
       "      <th>22</th>\n",
       "      <td>2005</td>\n",
       "      <td>1633</td>\n",
       "      <td>5500000.0</td>\n",
       "    </tr>\n",
       "    <tr>\n",
       "      <th>23</th>\n",
       "      <td>2006</td>\n",
       "      <td>2436</td>\n",
       "      <td>5000000.0</td>\n",
       "    </tr>\n",
       "    <tr>\n",
       "      <th>24</th>\n",
       "      <td>2007</td>\n",
       "      <td>3279</td>\n",
       "      <td>3973320.0</td>\n",
       "    </tr>\n",
       "    <tr>\n",
       "      <th>25</th>\n",
       "      <td>2008</td>\n",
       "      <td>3774</td>\n",
       "      <td>3110000.0</td>\n",
       "    </tr>\n",
       "    <tr>\n",
       "      <th>26</th>\n",
       "      <td>2009</td>\n",
       "      <td>4151</td>\n",
       "      <td>2000000.0</td>\n",
       "    </tr>\n",
       "    <tr>\n",
       "      <th>27</th>\n",
       "      <td>2010</td>\n",
       "      <td>6221</td>\n",
       "      <td>1602500.0</td>\n",
       "    </tr>\n",
       "    <tr>\n",
       "      <th>28</th>\n",
       "      <td>2011</td>\n",
       "      <td>9204</td>\n",
       "      <td>1200000.0</td>\n",
       "    </tr>\n",
       "    <tr>\n",
       "      <th>29</th>\n",
       "      <td>2012</td>\n",
       "      <td>9970</td>\n",
       "      <td>1000000.0</td>\n",
       "    </tr>\n",
       "    <tr>\n",
       "      <th>30</th>\n",
       "      <td>2013</td>\n",
       "      <td>11072</td>\n",
       "      <td>1200000.0</td>\n",
       "    </tr>\n",
       "  </tbody>\n",
       "</table>\n",
       "</div>"
      ],
      "text/plain": [
       "     Год  Количество раундов  Типичное финансирование (медиана), $\n",
       "16  1999                  76                             2000000.0\n",
       "17  2000                 125                             4200000.0\n",
       "18  2001                  96                             3000000.0\n",
       "19  2002                 116                             4200000.0\n",
       "20  2003                 159                             3000000.0\n",
       "21  2004                 291                             5000000.0\n",
       "22  2005                1633                             5500000.0\n",
       "23  2006                2436                             5000000.0\n",
       "24  2007                3279                             3973320.0\n",
       "25  2008                3774                             3110000.0\n",
       "26  2009                4151                             2000000.0\n",
       "27  2010                6221                             1602500.0\n",
       "28  2011                9204                             1200000.0\n",
       "29  2012                9970                             1000000.0\n",
       "30  2013               11072                             1200000.0"
      ]
     },
     "metadata": {},
     "output_type": "display_data"
    }
   ],
   "source": [
    "# Создаем сводную таблицу\n",
    "pivot_year = pd.pivot_table(data=comp_and_round_df_n, \n",
    "                           index=['funded_at_year'], # год\n",
    "                           values=['raised_amount','funding_rounds'], # сумма финансирования, кол-во раундов\n",
    "                           aggfunc={'raised_amount': ['median','count']}).reset_index()\n",
    "\n",
    "# Переименовываем столбцы\n",
    "pivot_year.columns = ['Год', 'Количество раундов','Типичное финансирование (медиана), $']\n",
    "\n",
    "# Фильтруем по количеству раундов > 50\n",
    "pivot_year_filt = pivot_year.loc[(pivot_year['Количество раундов'] > 50)&(pivot_year['Год'] > 0)]\n",
    "\n",
    "# Округляем значения\n",
    "pivot_year_filt['Типичное финансирование (медиана), $'] = round(pivot_year_filt['Типичное финансирование (медиана), $'], 0)\n",
    "\n",
    "# Сортируем по году\n",
    "pivot_year_filt.sort_values(by='Типичное финансирование (медиана), $', inplace=False)\n",
    "display(pivot_year_filt)"
   ]
  },
  {
   "cell_type": "code",
   "execution_count": 45,
   "metadata": {
    "id": "Z92DzKMMFdKW",
    "scrolled": false
   },
   "outputs": [
    {
     "data": {
      "image/png": "[encoded data removed]",
      "text/plain": [
       "<Figure size 1440x864 with 2 Axes>"
      ]
     },
     "metadata": {
      "needs_background": "light"
     },
     "output_type": "display_data"
    }
   ],
   "source": [
    "# Формируем диаграмму\n",
    "pivot_year_filt_bar = pivot_year_filt.plot.bar (x='Год', y=['Типичное финансирование (медиана), $', 'Количество раундов'],\n",
    "                                              subplots=True, legend=False, sharex=True, sharey=False, rot=0, \n",
    "                                              color='skyblue', figsize=(20,12))\n",
    "\n",
    "plt.rc('font', size=12)\n",
    "plt.xlabel('Год')\n",
    "\n",
    "# Добавляем подписи к осям Y \n",
    "pivot_year_filt_bar[0].set_ylabel('Типичное финансирование (медиана), млн.$')\n",
    "pivot_year_filt_bar[1].set_ylabel('Количество раундов')\n",
    "\n",
    "plt.grid(axis='y')\n",
    "\n",
    "# Устанавливаем подписи значений у столбцов\n",
    "for ax in pivot_year_filt_bar:\n",
    "    for p in ax.patches:  # Обращаемся к патчам конкретной оси\n",
    "        ax.annotate(f'{p.get_height():.0f}',  # Округляем до 1 знака после запятой\n",
    "                    (p.get_x() + p.get_width() / 2., p.get_height()), \n",
    "                    ha='center', va='bottom', fontsize=12)\n",
    "plt.show()"
   ]
  },
  {
   "cell_type": "markdown",
   "metadata": {},
   "source": [
    "**Промежуточный вывод**:   \n",
    "\n",
    "Начиная с 2005 года наблюдается спад объемов финансирования раундов вплоть до 2012 года с 5,5 млн до  1 млн $.  \n",
    "\n",
    "2013 год показывает некоторый рост (+200 тыс $).\n",
    "\n",
    "В 2005 году типичный размер собранных в рамках **одного раунда** средств был максимален и равнялся 5 500 000$. \n",
    "\n",
    "В 2013 году наблюдается продолжение тенденции **роста количества раундов** (2010 - 6,2 тыс, 2011 - 9,2 тыс, 2012 - 9,9 тыс раундов) при относительно стабильном за 3 года финансировании (2011 - 1,2 млн, 2012 - 1 млн, 2013 - 1,2 млн $)."
   ]
  },
  {
   "cell_type": "markdown",
   "metadata": {
    "id": "45if1en1rJg2"
   },
   "source": [
    "\n",
    "### 2.2. Люди и их образование\n",
    "\n",
    "Для понимания, зависит ли полнота сведений о сотрудниках (например, об их образовании) от размера компаний:\n",
    "\n",
    "- Оценим, насколько информация об образовании сотрудников полна. Используя датасеты `people.csv` и `education.csv`, разделим все компании на несколько групп по количеству сотрудников и оценим среднюю долю сотрудников без информации об образовании в каждой из групп.\n",
    "- Оценим, возможно ли присоединить к этим таблицам ещё и таблицу `degrees.csv`."
   ]
  },
  {
   "cell_type": "code",
   "execution_count": 46,
   "metadata": {},
   "outputs": [
    {
     "name": "stdout",
     "output_type": "stream",
     "text": [
      "<class 'pandas.core.frame.DataFrame'>\n",
      "RangeIndex: 226709 entries, 0 to 226708\n",
      "Data columns (total 5 columns):\n",
      " #   Column            Non-Null Count   Dtype  \n",
      "---  ------            --------------   -----  \n",
      " 0   id                226709 non-null  int64  \n",
      " 1   first_name        226704 non-null  object \n",
      " 2   last_name         226708 non-null  object \n",
      " 3   company_id        34615 non-null   float64\n",
      " 4   network_username  38867 non-null   object \n",
      "dtypes: float64(1), int64(1), object(3)\n",
      "memory usage: 8.6+ MB\n",
      "<class 'pandas.core.frame.DataFrame'>\n",
      "RangeIndex: 109610 entries, 0 to 109609\n",
      "Data columns (total 4 columns):\n",
      " #   Column        Non-Null Count   Dtype         \n",
      "---  ------        --------------   -----         \n",
      " 0   id            109610 non-null  int64         \n",
      " 1   person_id     109610 non-null  int64         \n",
      " 2   instituition  109555 non-null  object        \n",
      " 3   graduated_at  58054 non-null   datetime64[ns]\n",
      "dtypes: datetime64[ns](1), int64(2), object(1)\n",
      "memory usage: 3.3+ MB\n"
     ]
    }
   ],
   "source": [
    "people_df.info()\n",
    "education_df.info()"
   ]
  },
  {
   "cell_type": "code",
   "execution_count": 47,
   "metadata": {
    "id": "8Fbz6KmzFdYP",
    "scrolled": true
   },
   "outputs": [
    {
     "name": "stdout",
     "output_type": "stream",
     "text": [
      "<class 'pandas.core.frame.DataFrame'>\n",
      "Int64Index: 267694 entries, 0 to 267693\n",
      "Data columns (total 9 columns):\n",
      " #   Column            Non-Null Count   Dtype         \n",
      "---  ------            --------------   -----         \n",
      " 0   person_people_id  267694 non-null  int64         \n",
      " 1   first_name        267689 non-null  object        \n",
      " 2   last_name         267693 non-null  object        \n",
      " 3   company_id        44789 non-null   float64       \n",
      " 4   network_username  50775 non-null   object        \n",
      " 5   education_id      109056 non-null  float64       \n",
      " 6   person_id         109056 non-null  float64       \n",
      " 7   instituition      109002 non-null  object        \n",
      " 8   graduated_at      57691 non-null   datetime64[ns]\n",
      "dtypes: datetime64[ns](1), float64(3), int64(1), object(4)\n",
      "memory usage: 20.4+ MB\n"
     ]
    }
   ],
   "source": [
    "# Соединяем датафреймы по столбцам с разными названиями\n",
    "# Присоединение делаем левое, т.к. нам нужна информация о всех сотрудниках с привязкой к компании.\n",
    "df_people_education = people_df.merge(education_df, left_on='id', right_on='person_id', how = 'left')\n",
    "\n",
    "# Прописываем корректные наименования столбцов\n",
    "df_people_education = df_people_education.rename(columns={'id_x': 'person_people_id'})\n",
    "df_people_education = df_people_education.rename(columns={'id_y': 'education_id'})\n",
    "df_people_education.info()"
   ]
  },
  {
   "cell_type": "code",
   "execution_count": 48,
   "metadata": {},
   "outputs": [
    {
     "name": "stdout",
     "output_type": "stream",
     "text": [
      "<class 'pandas.core.frame.DataFrame'>\n",
      "Int64Index: 44789 entries, 0 to 267691\n",
      "Data columns (total 9 columns):\n",
      " #   Column            Non-Null Count  Dtype         \n",
      "---  ------            --------------  -----         \n",
      " 0   person_people_id  44789 non-null  int64         \n",
      " 1   first_name        44788 non-null  object        \n",
      " 2   last_name         44788 non-null  object        \n",
      " 3   company_id        44789 non-null  float64       \n",
      " 4   network_username  22892 non-null  object        \n",
      " 5   education_id      28638 non-null  float64       \n",
      " 6   person_id         28638 non-null  float64       \n",
      " 7   instituition      28609 non-null  object        \n",
      " 8   graduated_at      20954 non-null  datetime64[ns]\n",
      "dtypes: datetime64[ns](1), float64(3), int64(1), object(4)\n",
      "memory usage: 3.4+ MB\n"
     ]
    }
   ],
   "source": [
    "# Т.к. анализ ведем в разрезе компаний, из сводного датафрейма удалим строки, где компания не указана.\n",
    "df_people_education = df_people_education.dropna(subset=['company_id'])\n",
    "df_people_education.info()"
   ]
  },
  {
   "cell_type": "code",
   "execution_count": 49,
   "metadata": {
    "scrolled": true
   },
   "outputs": [
    {
     "name": "stdout",
     "output_type": "stream",
     "text": [
      "Количество дубликатов: 10174\n",
      "<class 'pandas.core.frame.DataFrame'>\n",
      "Int64Index: 34615 entries, 0 to 267691\n",
      "Data columns (total 9 columns):\n",
      " #   Column            Non-Null Count  Dtype         \n",
      "---  ------            --------------  -----         \n",
      " 0   person_people_id  34615 non-null  int64         \n",
      " 1   first_name        34614 non-null  object        \n",
      " 2   last_name         34614 non-null  object        \n",
      " 3   company_id        34615 non-null  float64       \n",
      " 4   network_username  17313 non-null  object        \n",
      " 5   education_id      18464 non-null  float64       \n",
      " 6   person_id         18464 non-null  float64       \n",
      " 7   instituition      18442 non-null  object        \n",
      " 8   graduated_at      13720 non-null  datetime64[ns]\n",
      "dtypes: datetime64[ns](1), float64(3), int64(1), object(4)\n",
      "memory usage: 2.6+ MB\n",
      "Количество дубликатов: 0\n"
     ]
    }
   ],
   "source": [
    "# Удаляем сотрудников, у которых есть несколько записей об образовании, но они работают только в одной компании\n",
    "\n",
    "# Проверяем наличие дубликатов\n",
    "duplicates = df_people_education.duplicated(subset=['person_people_id', 'company_id'])\n",
    "print(f\"Количество дубликатов: {duplicates.sum()}\")\n",
    "\n",
    "# Удаляем дубликаты, оставляя первое вхождение\n",
    "df = df_people_education.drop_duplicates(subset=['person_people_id', 'company_id'], keep='first')\n",
    "df.info()\n",
    "\n",
    "# Проверяем наличие дубликатов\n",
    "duplicates1 = df.duplicated(subset=['person_people_id', 'company_id'])\n",
    "print(f\"Количество дубликатов: {duplicates1.sum()}\")\n",
    "\n",
    "df_people_education = df"
   ]
  },
  {
   "cell_type": "code",
   "execution_count": 50,
   "metadata": {
    "id": "psPO7C4MrJg2",
    "scrolled": true,
    "vscode": {
     "languageId": "plaintext"
    }
   },
   "outputs": [],
   "source": [
    "# Создаем новый столбец 'has_education' методом notna():\n",
    "# - 1 означает наличие записи об образовании\n",
    "# - 0 означает отсутствие записи об образовании\n",
    "\n",
    "df_people_education['has_education'] = df_people_education['education_id'].notna().astype(int)"
   ]
  },
  {
   "cell_type": "code",
   "execution_count": 51,
   "metadata": {
    "scrolled": true
   },
   "outputs": [
    {
     "data": {
      "text/html": [
       "<div>\n",
       "<style scoped>\n",
       "    .dataframe tbody tr th:only-of-type {\n",
       "        vertical-align: middle;\n",
       "    }\n",
       "\n",
       "    .dataframe tbody tr th {\n",
       "        vertical-align: top;\n",
       "    }\n",
       "\n",
       "    .dataframe thead th {\n",
       "        text-align: right;\n",
       "    }\n",
       "</style>\n",
       "<table border=\"1\" class=\"dataframe\">\n",
       "  <thead>\n",
       "    <tr style=\"text-align: right;\">\n",
       "      <th></th>\n",
       "      <th>person_people_id</th>\n",
       "      <th>first_name</th>\n",
       "      <th>last_name</th>\n",
       "      <th>company_id</th>\n",
       "      <th>network_username</th>\n",
       "      <th>education_id</th>\n",
       "      <th>person_id</th>\n",
       "      <th>instituition</th>\n",
       "      <th>graduated_at</th>\n",
       "      <th>has_education</th>\n",
       "    </tr>\n",
       "  </thead>\n",
       "  <tbody>\n",
       "    <tr>\n",
       "      <th>267678</th>\n",
       "      <td>99990</td>\n",
       "      <td>Tzvi</td>\n",
       "      <td>Milshtein</td>\n",
       "      <td>81971.0</td>\n",
       "      <td>NaN</td>\n",
       "      <td>14547.0</td>\n",
       "      <td>99990.0</td>\n",
       "      <td>Technion</td>\n",
       "      <td>1971-01-01</td>\n",
       "      <td>1</td>\n",
       "    </tr>\n",
       "    <tr>\n",
       "      <th>267680</th>\n",
       "      <td>99992</td>\n",
       "      <td>Romain</td>\n",
       "      <td>Brabant</td>\n",
       "      <td>146815.0</td>\n",
       "      <td>NaN</td>\n",
       "      <td>NaN</td>\n",
       "      <td>NaN</td>\n",
       "      <td>NaN</td>\n",
       "      <td>NaT</td>\n",
       "      <td>0</td>\n",
       "    </tr>\n",
       "    <tr>\n",
       "      <th>267685</th>\n",
       "      <td>99997</td>\n",
       "      <td>Peter</td>\n",
       "      <td>Lalonde</td>\n",
       "      <td>83651.0</td>\n",
       "      <td>peterlalonde</td>\n",
       "      <td>69682.0</td>\n",
       "      <td>99997.0</td>\n",
       "      <td>University of Ottawa</td>\n",
       "      <td>1993-01-01</td>\n",
       "      <td>1</td>\n",
       "    </tr>\n",
       "    <tr>\n",
       "      <th>267690</th>\n",
       "      <td>174088</td>\n",
       "      <td>Dr. Ray</td>\n",
       "      <td>Woods</td>\n",
       "      <td>188200.0</td>\n",
       "      <td>network</td>\n",
       "      <td>25958.0</td>\n",
       "      <td>174088.0</td>\n",
       "      <td>Sydney University Medical School</td>\n",
       "      <td>1982-01-01</td>\n",
       "      <td>1</td>\n",
       "    </tr>\n",
       "    <tr>\n",
       "      <th>267691</th>\n",
       "      <td>118386</td>\n",
       "      <td>Ricardo</td>\n",
       "      <td>Durand</td>\n",
       "      <td>143419.0</td>\n",
       "      <td>itechsocialnet</td>\n",
       "      <td>18871.0</td>\n",
       "      <td>118386.0</td>\n",
       "      <td>ESCS</td>\n",
       "      <td>2004-01-01</td>\n",
       "      <td>1</td>\n",
       "    </tr>\n",
       "  </tbody>\n",
       "</table>\n",
       "</div>"
      ],
      "text/plain": [
       "        person_people_id first_name  last_name  company_id network_username  \\\n",
       "267678             99990       Tzvi  Milshtein     81971.0              NaN   \n",
       "267680             99992     Romain    Brabant    146815.0              NaN   \n",
       "267685             99997      Peter    Lalonde     83651.0     peterlalonde   \n",
       "267690            174088    Dr. Ray      Woods    188200.0          network   \n",
       "267691            118386    Ricardo     Durand    143419.0   itechsocialnet   \n",
       "\n",
       "        education_id  person_id                      instituition  \\\n",
       "267678       14547.0    99990.0                          Technion   \n",
       "267680           NaN        NaN                               NaN   \n",
       "267685       69682.0    99997.0              University of Ottawa   \n",
       "267690       25958.0   174088.0  Sydney University Medical School   \n",
       "267691       18871.0   118386.0                              ESCS   \n",
       "\n",
       "       graduated_at  has_education  \n",
       "267678   1971-01-01              1  \n",
       "267680          NaT              0  \n",
       "267685   1993-01-01              1  \n",
       "267690   1982-01-01              1  \n",
       "267691   2004-01-01              1  "
      ]
     },
     "execution_count": 51,
     "metadata": {},
     "output_type": "execute_result"
    }
   ],
   "source": [
    "df_people_education.tail()"
   ]
  },
  {
   "cell_type": "code",
   "execution_count": 52,
   "metadata": {},
   "outputs": [
    {
     "name": "stdout",
     "output_type": "stream",
     "text": [
      "<class 'pandas.core.frame.DataFrame'>\n",
      "Int64Index: 34615 entries, 0 to 267691\n",
      "Data columns (total 10 columns):\n",
      " #   Column            Non-Null Count  Dtype         \n",
      "---  ------            --------------  -----         \n",
      " 0   person_people_id  34615 non-null  int64         \n",
      " 1   first_name        34614 non-null  object        \n",
      " 2   last_name         34614 non-null  object        \n",
      " 3   company_id        34615 non-null  float64       \n",
      " 4   network_username  17313 non-null  object        \n",
      " 5   education_id      18464 non-null  float64       \n",
      " 6   person_id         18464 non-null  float64       \n",
      " 7   instituition      18442 non-null  object        \n",
      " 8   graduated_at      13720 non-null  datetime64[ns]\n",
      " 9   has_education     34615 non-null  int64         \n",
      "dtypes: datetime64[ns](1), float64(3), int64(2), object(4)\n",
      "memory usage: 2.9+ MB\n"
     ]
    }
   ],
   "source": [
    "df_people_education.info()"
   ]
  },
  {
   "cell_type": "code",
   "execution_count": 53,
   "metadata": {
    "id": "BThTjpLqFcsm",
    "scrolled": false
   },
   "outputs": [
    {
     "data": {
      "text/html": [
       "<div>\n",
       "<style scoped>\n",
       "    .dataframe tbody tr th:only-of-type {\n",
       "        vertical-align: middle;\n",
       "    }\n",
       "\n",
       "    .dataframe tbody tr th {\n",
       "        vertical-align: top;\n",
       "    }\n",
       "\n",
       "    .dataframe thead th {\n",
       "        text-align: right;\n",
       "    }\n",
       "</style>\n",
       "<table border=\"1\" class=\"dataframe\">\n",
       "  <thead>\n",
       "    <tr style=\"text-align: right;\">\n",
       "      <th></th>\n",
       "      <th>Не имеют образование</th>\n",
       "      <th>Имеют образование</th>\n",
       "      <th>Общее количество сотрудников</th>\n",
       "    </tr>\n",
       "    <tr>\n",
       "      <th>company_id</th>\n",
       "      <th></th>\n",
       "      <th></th>\n",
       "      <th></th>\n",
       "    </tr>\n",
       "  </thead>\n",
       "  <tbody>\n",
       "    <tr>\n",
       "      <th>59.0</th>\n",
       "      <td>76</td>\n",
       "      <td>168</td>\n",
       "      <td>244</td>\n",
       "    </tr>\n",
       "    <tr>\n",
       "      <th>29.0</th>\n",
       "      <td>40</td>\n",
       "      <td>110</td>\n",
       "      <td>150</td>\n",
       "    </tr>\n",
       "    <tr>\n",
       "      <th>1242.0</th>\n",
       "      <td>37</td>\n",
       "      <td>101</td>\n",
       "      <td>138</td>\n",
       "    </tr>\n",
       "    <tr>\n",
       "      <th>231067.0</th>\n",
       "      <td>14</td>\n",
       "      <td>58</td>\n",
       "      <td>72</td>\n",
       "    </tr>\n",
       "    <tr>\n",
       "      <th>499.0</th>\n",
       "      <td>20</td>\n",
       "      <td>43</td>\n",
       "      <td>63</td>\n",
       "    </tr>\n",
       "  </tbody>\n",
       "</table>\n",
       "</div>"
      ],
      "text/plain": [
       "            Не имеют образование  Имеют образование  \\\n",
       "company_id                                            \n",
       "59.0                          76                168   \n",
       "29.0                          40                110   \n",
       "1242.0                        37                101   \n",
       "231067.0                      14                 58   \n",
       "499.0                         20                 43   \n",
       "\n",
       "            Общее количество сотрудников  \n",
       "company_id                                \n",
       "59.0                                 244  \n",
       "29.0                                 150  \n",
       "1242.0                               138  \n",
       "231067.0                              72  \n",
       "499.0                                 63  "
      ]
     },
     "metadata": {},
     "output_type": "display_data"
    },
    {
     "data": {
      "text/plain": [
       "count    22922.000000\n",
       "mean         1.510121\n",
       "std          2.764321\n",
       "min          1.000000\n",
       "25%          1.000000\n",
       "50%          1.000000\n",
       "75%          1.000000\n",
       "max        244.000000\n",
       "Name: Общее количество сотрудников, dtype: float64"
      ]
     },
     "metadata": {},
     "output_type": "display_data"
    }
   ],
   "source": [
    "# Создаем сводную таблицу\n",
    "pivot_education = df_people_education.pivot_table(\n",
    "                    index = \"company_id\",\n",
    "                    values = \"person_people_id\",\n",
    "                    columns = \"has_education\",\n",
    "                    aggfunc = \"count\",\n",
    "                    fill_value=0\n",
    "                    )\n",
    "\n",
    "# Добавляем общее количество сотрудников\n",
    "pivot_education['Общее количество сотрудников'] = pivot_education.sum(axis=1)\n",
    "\n",
    "# Переименовываем столбцы\n",
    "pivot_education.columns = ['Не имеют образование','Имеют образование','Общее количество сотрудников']\n",
    "\n",
    "# Сортируем по общему количеству сотрудников (по убыванию)\n",
    "pivot_education.sort_values(\n",
    "    by='Общее количество сотрудников',\n",
    "    ascending=False,\n",
    "    inplace=True\n",
    ")\n",
    "display(pivot_education.head())\n",
    "\n",
    "# Анализируем данные столбца\n",
    "display(pivot_education['Общее количество сотрудников'].describe())"
   ]
  },
  {
   "cell_type": "code",
   "execution_count": 54,
   "metadata": {},
   "outputs": [
    {
     "data": {
      "image/png": "[encoded data removed]",
      "text/plain": [
       "<Figure size 1008x576 with 1 Axes>"
      ]
     },
     "metadata": {
      "needs_background": "light"
     },
     "output_type": "display_data"
    }
   ],
   "source": [
    "# Подсчитываем количество сотрудников в каждой компании\n",
    "company_counts = df_people_education.groupby('company_id').size().reset_index(name='count')\n",
    "\n",
    "# Подсчитываем количество компаний с одинаковым количеством сотрудников\n",
    "company_distribution = company_counts.groupby('count').size().reset_index(name='company_count')\n",
    "\n",
    "# Строим график для визуального восприятия\n",
    "plt.figure(figsize=(14, 8))\n",
    "sns.barplot(\n",
    "    data=company_distribution,\n",
    "    x='count',\n",
    "    y='company_count',\n",
    "    palette='pastel'\n",
    ")\n",
    "\n",
    "plt.title('Распределение компаний по количеству сотрудников')\n",
    "plt.xlabel('Количество сотрудников в компании')\n",
    "plt.ylabel('Количество компаний')\n",
    "plt.grid(axis='y', linestyle='--', alpha=0.5)\n",
    "plt.xticks(rotation=45)\n",
    "plt.show()"
   ]
  },
  {
   "cell_type": "code",
   "execution_count": 55,
   "metadata": {},
   "outputs": [
    {
     "data": {
      "image/png": "[encoded data removed]",
      "text/plain": [
       "<Figure size 1008x576 with 1 Axes>"
      ]
     },
     "metadata": {
      "needs_background": "light"
     },
     "output_type": "display_data"
    }
   ],
   "source": [
    "# Агрегируем данные\n",
    "aggregated = df_people_education.groupby(['company_id', 'has_education']).size().reset_index(name='count')\n",
    "\n",
    "plt.figure(figsize=(14, 8))\n",
    "sns.scatterplot(\n",
    "    data=aggregated,\n",
    "    x='company_id',\n",
    "    y='count',\n",
    "    hue='has_education',\n",
    "    palette='Set2'\n",
    ")\n",
    "plt.title('Распределение количества сотрудников по компаниям')\n",
    "plt.xlabel('Компании')\n",
    "plt.ylabel('Количество сотрудников')\n",
    "plt.legend(title='Образование', loc='upper right')\n",
    "plt.show()"
   ]
  },
  {
   "cell_type": "code",
   "execution_count": 56,
   "metadata": {
    "id": "4FC98Pd-FcmG"
   },
   "outputs": [
    {
     "data": {
      "text/html": [
       "<div>\n",
       "<style scoped>\n",
       "    .dataframe tbody tr th:only-of-type {\n",
       "        vertical-align: middle;\n",
       "    }\n",
       "\n",
       "    .dataframe tbody tr th {\n",
       "        vertical-align: top;\n",
       "    }\n",
       "\n",
       "    .dataframe thead th {\n",
       "        text-align: right;\n",
       "    }\n",
       "</style>\n",
       "<table border=\"1\" class=\"dataframe\">\n",
       "  <thead>\n",
       "    <tr style=\"text-align: right;\">\n",
       "      <th></th>\n",
       "      <th>Не имеют образование</th>\n",
       "      <th>Имеют образование</th>\n",
       "      <th>Общее количество сотрудников</th>\n",
       "      <th>Процент без образования</th>\n",
       "      <th>Численность_компании</th>\n",
       "    </tr>\n",
       "    <tr>\n",
       "      <th>company_id</th>\n",
       "      <th></th>\n",
       "      <th></th>\n",
       "      <th></th>\n",
       "      <th></th>\n",
       "      <th></th>\n",
       "    </tr>\n",
       "  </thead>\n",
       "  <tbody>\n",
       "    <tr>\n",
       "      <th>59.0</th>\n",
       "      <td>76</td>\n",
       "      <td>168</td>\n",
       "      <td>244</td>\n",
       "      <td>31.147541</td>\n",
       "      <td>26+</td>\n",
       "    </tr>\n",
       "    <tr>\n",
       "      <th>29.0</th>\n",
       "      <td>40</td>\n",
       "      <td>110</td>\n",
       "      <td>150</td>\n",
       "      <td>26.666667</td>\n",
       "      <td>26+</td>\n",
       "    </tr>\n",
       "    <tr>\n",
       "      <th>1242.0</th>\n",
       "      <td>37</td>\n",
       "      <td>101</td>\n",
       "      <td>138</td>\n",
       "      <td>26.811594</td>\n",
       "      <td>26+</td>\n",
       "    </tr>\n",
       "    <tr>\n",
       "      <th>231067.0</th>\n",
       "      <td>14</td>\n",
       "      <td>58</td>\n",
       "      <td>72</td>\n",
       "      <td>19.444444</td>\n",
       "      <td>26+</td>\n",
       "    </tr>\n",
       "    <tr>\n",
       "      <th>499.0</th>\n",
       "      <td>20</td>\n",
       "      <td>43</td>\n",
       "      <td>63</td>\n",
       "      <td>31.746032</td>\n",
       "      <td>26+</td>\n",
       "    </tr>\n",
       "    <tr>\n",
       "      <th>5.0</th>\n",
       "      <td>16</td>\n",
       "      <td>45</td>\n",
       "      <td>61</td>\n",
       "      <td>26.229508</td>\n",
       "      <td>26+</td>\n",
       "    </tr>\n",
       "    <tr>\n",
       "      <th>494.0</th>\n",
       "      <td>20</td>\n",
       "      <td>36</td>\n",
       "      <td>56</td>\n",
       "      <td>35.714286</td>\n",
       "      <td>26+</td>\n",
       "    </tr>\n",
       "    <tr>\n",
       "      <th>4175.0</th>\n",
       "      <td>7</td>\n",
       "      <td>49</td>\n",
       "      <td>56</td>\n",
       "      <td>12.500000</td>\n",
       "      <td>26+</td>\n",
       "    </tr>\n",
       "    <tr>\n",
       "      <th>12.0</th>\n",
       "      <td>25</td>\n",
       "      <td>26</td>\n",
       "      <td>51</td>\n",
       "      <td>49.019608</td>\n",
       "      <td>26+</td>\n",
       "    </tr>\n",
       "    <tr>\n",
       "      <th>317.0</th>\n",
       "      <td>7</td>\n",
       "      <td>41</td>\n",
       "      <td>48</td>\n",
       "      <td>14.583333</td>\n",
       "      <td>26+</td>\n",
       "    </tr>\n",
       "  </tbody>\n",
       "</table>\n",
       "</div>"
      ],
      "text/plain": [
       "            Не имеют образование  Имеют образование  \\\n",
       "company_id                                            \n",
       "59.0                          76                168   \n",
       "29.0                          40                110   \n",
       "1242.0                        37                101   \n",
       "231067.0                      14                 58   \n",
       "499.0                         20                 43   \n",
       "5.0                           16                 45   \n",
       "494.0                         20                 36   \n",
       "4175.0                         7                 49   \n",
       "12.0                          25                 26   \n",
       "317.0                          7                 41   \n",
       "\n",
       "            Общее количество сотрудников  Процент без образования  \\\n",
       "company_id                                                          \n",
       "59.0                                 244                31.147541   \n",
       "29.0                                 150                26.666667   \n",
       "1242.0                               138                26.811594   \n",
       "231067.0                              72                19.444444   \n",
       "499.0                                 63                31.746032   \n",
       "5.0                                   61                26.229508   \n",
       "494.0                                 56                35.714286   \n",
       "4175.0                                56                12.500000   \n",
       "12.0                                  51                49.019608   \n",
       "317.0                                 48                14.583333   \n",
       "\n",
       "           Численность_компании  \n",
       "company_id                       \n",
       "59.0                        26+  \n",
       "29.0                        26+  \n",
       "1242.0                      26+  \n",
       "231067.0                    26+  \n",
       "499.0                       26+  \n",
       "5.0                         26+  \n",
       "494.0                       26+  \n",
       "4175.0                      26+  \n",
       "12.0                        26+  \n",
       "317.0                       26+  "
      ]
     },
     "metadata": {},
     "output_type": "display_data"
    },
    {
     "data": {
      "text/html": [
       "<div>\n",
       "<style scoped>\n",
       "    .dataframe tbody tr th:only-of-type {\n",
       "        vertical-align: middle;\n",
       "    }\n",
       "\n",
       "    .dataframe tbody tr th {\n",
       "        vertical-align: top;\n",
       "    }\n",
       "\n",
       "    .dataframe thead th {\n",
       "        text-align: right;\n",
       "    }\n",
       "</style>\n",
       "<table border=\"1\" class=\"dataframe\">\n",
       "  <thead>\n",
       "    <tr style=\"text-align: right;\">\n",
       "      <th></th>\n",
       "      <th>Средний_процент_без_образования</th>\n",
       "      <th>Общая_сумма_сотрудников</th>\n",
       "      <th>Количество_компаний</th>\n",
       "    </tr>\n",
       "    <tr>\n",
       "      <th>Численность_компании</th>\n",
       "      <th></th>\n",
       "      <th></th>\n",
       "      <th></th>\n",
       "    </tr>\n",
       "  </thead>\n",
       "  <tbody>\n",
       "    <tr>\n",
       "      <th>1</th>\n",
       "      <td>46.260418</td>\n",
       "      <td>18117</td>\n",
       "      <td>18117</td>\n",
       "    </tr>\n",
       "    <tr>\n",
       "      <th>2</th>\n",
       "      <td>46.603913</td>\n",
       "      <td>5418</td>\n",
       "      <td>2709</td>\n",
       "    </tr>\n",
       "    <tr>\n",
       "      <th>3</th>\n",
       "      <td>48.678972</td>\n",
       "      <td>2763</td>\n",
       "      <td>921</td>\n",
       "    </tr>\n",
       "    <tr>\n",
       "      <th>4-5</th>\n",
       "      <td>49.730713</td>\n",
       "      <td>2985</td>\n",
       "      <td>687</td>\n",
       "    </tr>\n",
       "    <tr>\n",
       "      <th>6-10</th>\n",
       "      <td>53.182798</td>\n",
       "      <td>2664</td>\n",
       "      <td>368</td>\n",
       "    </tr>\n",
       "    <tr>\n",
       "      <th>11-25</th>\n",
       "      <td>45.875973</td>\n",
       "      <td>1425</td>\n",
       "      <td>101</td>\n",
       "    </tr>\n",
       "    <tr>\n",
       "      <th>26+</th>\n",
       "      <td>26.546599</td>\n",
       "      <td>1243</td>\n",
       "      <td>19</td>\n",
       "    </tr>\n",
       "  </tbody>\n",
       "</table>\n",
       "</div>"
      ],
      "text/plain": [
       "                      Средний_процент_без_образования  \\\n",
       "Численность_компании                                    \n",
       "1                                           46.260418   \n",
       "2                                           46.603913   \n",
       "3                                           48.678972   \n",
       "4-5                                         49.730713   \n",
       "6-10                                        53.182798   \n",
       "11-25                                       45.875973   \n",
       "26+                                         26.546599   \n",
       "\n",
       "                      Общая_сумма_сотрудников  Количество_компаний  \n",
       "Численность_компании                                                \n",
       "1                                       18117                18117  \n",
       "2                                        5418                 2709  \n",
       "3                                        2763                  921  \n",
       "4-5                                      2985                  687  \n",
       "6-10                                     2664                  368  \n",
       "11-25                                    1425                  101  \n",
       "26+                                      1243                   19  "
      ]
     },
     "metadata": {},
     "output_type": "display_data"
    }
   ],
   "source": [
    "# Добавляем процент сотрудников без образования\n",
    "pivot_education[\"Процент без образования\"] = (\n",
    "    pivot_education[\"Не имеют образование\"] / pivot_education[\"Общее количество сотрудников\"] * 100\n",
    ")\n",
    "\n",
    "# Создаем группы по размеру компании\n",
    "bins   = [0, 1, 2,  3,     5,     10,     25,   float('inf')]\n",
    "labels = ['1', '2', '3', '4-5', '6-10', '11-25', '26+']\n",
    "\n",
    "# Разбиваем компании на группы\n",
    "pivot_education[\"Численность_компании\"] = pd.cut(\n",
    "    pivot_education[\"Общее количество сотрудников\"],\n",
    "    bins=bins,\n",
    "    labels=labels,\n",
    "    right=True  #правый край интервала включается\n",
    ")\n",
    "\n",
    "display(pivot_education.head(10))\n",
    "\n",
    "# Создаем сводную статистику по группам\n",
    "grouped_stats = pivot_education.groupby(\"Численность_компании\").agg({\n",
    "    \"Процент без образования\": \"mean\",\n",
    "    \"Общее количество сотрудников\": \"sum\",\n",
    "    \"Имеют образование\":\"count\"\n",
    "})\n",
    "\n",
    "grouped_stats.columns = ['Средний_процент_без_образования', 'Общая_сумма_сотрудников', 'Количество_компаний']\n",
    "\n",
    "display(grouped_stats)"
   ]
  },
  {
   "cell_type": "code",
   "execution_count": 57,
   "metadata": {},
   "outputs": [
    {
     "name": "stdout",
     "output_type": "stream",
     "text": [
      "<class 'pandas.core.frame.DataFrame'>\n",
      "RangeIndex: 109610 entries, 0 to 109609\n",
      "Data columns (total 4 columns):\n",
      " #   Column       Non-Null Count   Dtype \n",
      "---  ------       --------------   ----- \n",
      " 0   id           109610 non-null  int64 \n",
      " 1   object_id    109610 non-null  object\n",
      " 2   degree_type  98392 non-null   object\n",
      " 3   subject      81298 non-null   object\n",
      "dtypes: int64(1), object(3)\n",
      "memory usage: 3.3+ MB\n"
     ]
    },
    {
     "data": {
      "text/html": [
       "<div>\n",
       "<style scoped>\n",
       "    .dataframe tbody tr th:only-of-type {\n",
       "        vertical-align: middle;\n",
       "    }\n",
       "\n",
       "    .dataframe tbody tr th {\n",
       "        vertical-align: top;\n",
       "    }\n",
       "\n",
       "    .dataframe thead th {\n",
       "        text-align: right;\n",
       "    }\n",
       "</style>\n",
       "<table border=\"1\" class=\"dataframe\">\n",
       "  <thead>\n",
       "    <tr style=\"text-align: right;\">\n",
       "      <th></th>\n",
       "      <th>id</th>\n",
       "      <th>object_id</th>\n",
       "      <th>degree_type</th>\n",
       "      <th>subject</th>\n",
       "    </tr>\n",
       "  </thead>\n",
       "  <tbody>\n",
       "    <tr>\n",
       "      <th>0</th>\n",
       "      <td>1</td>\n",
       "      <td>p:6117</td>\n",
       "      <td>MBA</td>\n",
       "      <td>NaN</td>\n",
       "    </tr>\n",
       "    <tr>\n",
       "      <th>1</th>\n",
       "      <td>2</td>\n",
       "      <td>p:6136</td>\n",
       "      <td>BA</td>\n",
       "      <td>English, French</td>\n",
       "    </tr>\n",
       "    <tr>\n",
       "      <th>2</th>\n",
       "      <td>3</td>\n",
       "      <td>p:6136</td>\n",
       "      <td>MS</td>\n",
       "      <td>Mass Communication</td>\n",
       "    </tr>\n",
       "    <tr>\n",
       "      <th>3</th>\n",
       "      <td>4</td>\n",
       "      <td>p:6005</td>\n",
       "      <td>MS</td>\n",
       "      <td>Internet Technology</td>\n",
       "    </tr>\n",
       "    <tr>\n",
       "      <th>4</th>\n",
       "      <td>5</td>\n",
       "      <td>p:5832</td>\n",
       "      <td>BCS</td>\n",
       "      <td>Computer Science, Psychology</td>\n",
       "    </tr>\n",
       "  </tbody>\n",
       "</table>\n",
       "</div>"
      ],
      "text/plain": [
       "   id object_id degree_type                       subject\n",
       "0   1    p:6117         MBA                           NaN\n",
       "1   2    p:6136          BA               English, French\n",
       "2   3    p:6136          MS            Mass Communication\n",
       "3   4    p:6005          MS           Internet Technology\n",
       "4   5    p:5832         BCS  Computer Science, Psychology"
      ]
     },
     "metadata": {},
     "output_type": "display_data"
    },
    {
     "data": {
      "text/html": [
       "<div>\n",
       "<style scoped>\n",
       "    .dataframe tbody tr th:only-of-type {\n",
       "        vertical-align: middle;\n",
       "    }\n",
       "\n",
       "    .dataframe tbody tr th {\n",
       "        vertical-align: top;\n",
       "    }\n",
       "\n",
       "    .dataframe thead th {\n",
       "        text-align: right;\n",
       "    }\n",
       "</style>\n",
       "<table border=\"1\" class=\"dataframe\">\n",
       "  <thead>\n",
       "    <tr style=\"text-align: right;\">\n",
       "      <th></th>\n",
       "      <th>education_id</th>\n",
       "      <th>person_id</th>\n",
       "      <th>instituition</th>\n",
       "      <th>graduated_at</th>\n",
       "      <th>degrees_id</th>\n",
       "      <th>object_id</th>\n",
       "      <th>degree_type</th>\n",
       "      <th>subject</th>\n",
       "    </tr>\n",
       "  </thead>\n",
       "  <tbody>\n",
       "    <tr>\n",
       "      <th>0</th>\n",
       "      <td>1</td>\n",
       "      <td>6117</td>\n",
       "      <td>NaN</td>\n",
       "      <td>NaT</td>\n",
       "      <td>1</td>\n",
       "      <td>6117</td>\n",
       "      <td>MBA</td>\n",
       "      <td>NaN</td>\n",
       "    </tr>\n",
       "    <tr>\n",
       "      <th>1</th>\n",
       "      <td>2</td>\n",
       "      <td>6136</td>\n",
       "      <td>Washington University, St. Louis</td>\n",
       "      <td>1990-01-01</td>\n",
       "      <td>2</td>\n",
       "      <td>6136</td>\n",
       "      <td>BA</td>\n",
       "      <td>English, French</td>\n",
       "    </tr>\n",
       "    <tr>\n",
       "      <th>2</th>\n",
       "      <td>2</td>\n",
       "      <td>6136</td>\n",
       "      <td>Washington University, St. Louis</td>\n",
       "      <td>1990-01-01</td>\n",
       "      <td>3</td>\n",
       "      <td>6136</td>\n",
       "      <td>MS</td>\n",
       "      <td>Mass Communication</td>\n",
       "    </tr>\n",
       "    <tr>\n",
       "      <th>3</th>\n",
       "      <td>3</td>\n",
       "      <td>6136</td>\n",
       "      <td>Boston University</td>\n",
       "      <td>1992-01-01</td>\n",
       "      <td>2</td>\n",
       "      <td>6136</td>\n",
       "      <td>BA</td>\n",
       "      <td>English, French</td>\n",
       "    </tr>\n",
       "    <tr>\n",
       "      <th>4</th>\n",
       "      <td>3</td>\n",
       "      <td>6136</td>\n",
       "      <td>Boston University</td>\n",
       "      <td>1992-01-01</td>\n",
       "      <td>3</td>\n",
       "      <td>6136</td>\n",
       "      <td>MS</td>\n",
       "      <td>Mass Communication</td>\n",
       "    </tr>\n",
       "  </tbody>\n",
       "</table>\n",
       "</div>"
      ],
      "text/plain": [
       "   education_id  person_id                      instituition graduated_at  \\\n",
       "0             1       6117                               NaN          NaT   \n",
       "1             2       6136  Washington University, St. Louis   1990-01-01   \n",
       "2             2       6136  Washington University, St. Louis   1990-01-01   \n",
       "3             3       6136                 Boston University   1992-01-01   \n",
       "4             3       6136                 Boston University   1992-01-01   \n",
       "\n",
       "   degrees_id  object_id degree_type             subject  \n",
       "0           1       6117         MBA                 NaN  \n",
       "1           2       6136          BA     English, French  \n",
       "2           3       6136          MS  Mass Communication  \n",
       "3           2       6136          BA     English, French  \n",
       "4           3       6136          MS  Mass Communication  "
      ]
     },
     "metadata": {},
     "output_type": "display_data"
    }
   ],
   "source": [
    "# Проверка наличия информации о типе образования сотрудника\n",
    "degrees_df.info()\n",
    "display(degrees_df.head())\n",
    "\n",
    "# Удаление доп.символов\n",
    "degrees_df['object_id'] = degrees_df['object_id'].apply(lambda x: x[2:])\n",
    "degrees_df['object_id'] = degrees_df['object_id'].astype(int)\n",
    "\n",
    "# Присоединение делаем левое, т.к. нужна информация о типе образования/специальности всех сотрудников, имеющих запись об образовании\n",
    "df_education_degrees = education_df.merge(degrees_df, left_on='person_id', right_on='object_id', how = 'left')\n",
    "\n",
    "# Прописываем корректные наименования столбцов\n",
    "df_education_degrees = df_education_degrees.rename(columns={'id_x': 'education_id'})\n",
    "df_education_degrees = df_education_degrees.rename(columns={'id_y': 'degrees_id'})\n",
    "\n",
    "display(df_education_degrees.head())"
   ]
  },
  {
   "cell_type": "markdown",
   "metadata": {},
   "source": [
    "**Промежуточный вывод:**  \n",
    "\n",
    "Информация об образовании сотрудников `people.csv` имеет больше половины пропусков в идентификаторе компании. При 226 тыс. строк пропуски имеются в 192 тыс.строк. Т.к. в данном запросе анализ ведем в разрезе компаний, из сводного датасета их удаляем.  \n",
    "Но вызывает вопрос целесообразности ведения базы сотрудников без привязки к финансируемой компании (из 226 709 сотрудников запись о наличие компании имеется только у 34 615).\n",
    "\n",
    "Данные об образовании сотрудника `education.csv` заполненны более корректно: всего 55 пропусков названий учебного заведения на 109 610 записей о наличие образования у сотрудника. Даты получения образования пропущены на 50%, но удалению не подлежат, т.к. поле не требуется в текущем анализе.\n",
    "\n",
    "- Анализ столбца `Общее количество сотрудников` показал, что основная масса компаний имеет не более 10 сотрудников. Особенно выделяется объем компаний с всего **одним сотрудником**. Для даного количества создана первая группа на 18 117 компаний. \n",
    "- Кратно меньше компаний имеют по 2 сотрудника в штате (2 709 шт.).\n",
    "- До 10 человек в штате суммарно имеют 1 976 компаний. В таблице ниже распределение данных указано. \n",
    "\n",
    "| Численность_компании | Средний_процент_без_образования | Общая_сумма_сотрудников | Количество_компаний |\n",
    "|---------------------|--------------------------------|------------------------|---------------------|\n",
    "| 1 | 46.260418 | 18117 | 18117 |\n",
    "| 2 | 46.603913 | 5418 | 2709 |\n",
    "| 3 | 48.678972 | 2763 | 921 |\n",
    "| 4-5 | 49.730713 | 2985 | 687 |\n",
    "| 6-10 | 53.182798 | 2664 | 368 |\n",
    "| 11-25 | 45.875973 | 1425 | 101 |\n",
    "| 26+ | 26.546599 | 1243 | 19 |\n",
    "\n",
    "\n",
    "- Данный анализ показывает, что полнота сведений об образовании сотрудников не сильно зависит от размера компании и по всем группам кол-во сотрудников **без образования** варьируется в пределах 46-49,7 %.  \n",
    "\n",
    "    Выделяюся 2 группы: \n",
    "    - компании с кол-ом сотрудников 26+ имеют в среднем всего 26,5% человек **без образования**;  \n",
    "    - компании с кол-ом от 6 до 10 чел. наоборот имеют максимальный средний процент сотрудников **без образованием** - 53,2%\n",
    "- Присоединение таблицы `degrees.csv` к `education.csv` или `people.csv` возможно при проведении редактирования столбца object_id (идентификатор сотрудника), имеющего дополнительные символы \"р:\". Однако, для ответа на вопрос \"Имеется ли у сотрудника компании образование?\" детализация по типу или специальности не требуется. "
   ]
  },
  {
   "cell_type": "markdown",
   "metadata": {
    "id": "Lz7qjM32xglW"
   },
   "source": [
    "### 2.3. Объединять или не объединять — вот в чём вопрос"
   ]
  },
  {
   "cell_type": "code",
   "execution_count": 58,
   "metadata": {},
   "outputs": [
    {
     "name": "stdout",
     "output_type": "stream",
     "text": [
      "При кол-ве строк в comp_and_round 217774 пропусков network_username: 122240\n",
      "При кол-ве строк в people 226709 пропусков network_username: 187842\n",
      "При кол-ве строк в fund 11652 пропусков network_username: 9503\n"
     ]
    }
   ],
   "source": [
    "empty_count_round = comp_and_round_df_n['network_username'].isna().sum()\n",
    "print(f\"При кол-ве строк в comp_and_round {comp_and_round_df_n.shape[0]} пропусков network_username: {empty_count_round}\")\n",
    "empty_count_people = people_df['network_username'].isna().sum()\n",
    "print(f\"При кол-ве строк в people {people_df.shape[0]} пропусков network_username: {empty_count_people}\")\n",
    "empty_count_fund = fund_df['network_username'].isna().sum()\n",
    "print(f\"При кол-ве строк в fund {fund_df.shape[0]} пропусков network_username: {empty_count_fund}\")"
   ]
  },
  {
   "cell_type": "code",
   "execution_count": 59,
   "metadata": {
    "id": "zyI3rt0rxg1O"
   },
   "outputs": [
    {
     "data": {
      "text/html": [
       "<div>\n",
       "<style scoped>\n",
       "    .dataframe tbody tr th:only-of-type {\n",
       "        vertical-align: middle;\n",
       "    }\n",
       "\n",
       "    .dataframe tbody tr th {\n",
       "        vertical-align: top;\n",
       "    }\n",
       "\n",
       "    .dataframe thead th {\n",
       "        text-align: right;\n",
       "    }\n",
       "</style>\n",
       "<table border=\"1\" class=\"dataframe\">\n",
       "  <thead>\n",
       "    <tr style=\"text-align: right;\">\n",
       "      <th></th>\n",
       "      <th>network_username_round</th>\n",
       "      <th>network_username_people</th>\n",
       "      <th>network_username_fund</th>\n",
       "    </tr>\n",
       "  </thead>\n",
       "  <tbody>\n",
       "    <tr>\n",
       "      <th>0</th>\n",
       "      <td>BachelrWetpaint</td>\n",
       "      <td>NaN</td>\n",
       "      <td>NaN</td>\n",
       "    </tr>\n",
       "    <tr>\n",
       "      <th>1</th>\n",
       "      <td>BachelrWetpaint</td>\n",
       "      <td>NaN</td>\n",
       "      <td>greylockvc</td>\n",
       "    </tr>\n",
       "    <tr>\n",
       "      <th>2</th>\n",
       "      <td>BachelrWetpaint</td>\n",
       "      <td>NaN</td>\n",
       "      <td>NaN</td>\n",
       "    </tr>\n",
       "    <tr>\n",
       "      <th>3</th>\n",
       "      <td>NaN</td>\n",
       "      <td>NaN</td>\n",
       "      <td>NaN</td>\n",
       "    </tr>\n",
       "    <tr>\n",
       "      <th>4</th>\n",
       "      <td>NaN</td>\n",
       "      <td>NaN</td>\n",
       "      <td>NaN</td>\n",
       "    </tr>\n",
       "  </tbody>\n",
       "</table>\n",
       "</div>"
      ],
      "text/plain": [
       "  network_username_round network_username_people network_username_fund\n",
       "0        BachelrWetpaint                     NaN                   NaN\n",
       "1        BachelrWetpaint                     NaN            greylockvc\n",
       "2        BachelrWetpaint                     NaN                   NaN\n",
       "3                    NaN                     NaN                   NaN\n",
       "4                    NaN                     NaN                   NaN"
      ]
     },
     "metadata": {},
     "output_type": "display_data"
    }
   ],
   "source": [
    "# Склеим столбцы\n",
    "result = pd.concat([\n",
    "    comp_and_round_df_n['network_username'].rename('network_username_round'),\n",
    "    people_df['network_username'].rename('network_username_people'),\n",
    "    fund_df['network_username'].rename('network_username_fund')\n",
    "], axis=1)\n",
    "display(result.head())"
   ]
  },
  {
   "cell_type": "code",
   "execution_count": 60,
   "metadata": {
    "id": "_7gjdrGOFcB2"
   },
   "outputs": [
    {
     "name": "stdout",
     "output_type": "stream",
     "text": [
      "Количество уникальных значений:\n",
      "{'round': 79571, 'people': 38421, 'fund': 2098}\n",
      "Количество общих значений во всех датасетах: 8\n"
     ]
    }
   ],
   "source": [
    "# Проверяем количество уникальных значений\n",
    "unique_values = {\n",
    "    'round': comp_and_round_df_n['network_username'].nunique(),\n",
    "    'people': people_df['network_username'].nunique(),\n",
    "    'fund': fund_df['network_username'].nunique()\n",
    "}\n",
    "\n",
    "print(\"Количество уникальных значений:\")\n",
    "print(unique_values)\n",
    "\n",
    "# Проверяем наличие общих уникальных значений\n",
    "common_values = set(comp_and_round_df_n['network_username']).intersection(\n",
    "    set(people_df['network_username']),\n",
    "    set(fund_df['network_username'])\n",
    ")\n",
    "\n",
    "print(f\"Количество общих значений во всех датасетах: {len(common_values)}\")"
   ]
  },
  {
   "cell_type": "markdown",
   "metadata": {
    "id": "RxOS5rwmFcNW"
   },
   "source": [
    "**Промежуточный вывод**:  \n",
    "\n",
    "Столбец `network_username`,который встречается в нескольких датасетах, НЕ подходит для объединения данных, т.к. несет в себе разную информацию. При этом общих значений во всех трех датасетах только 8."
   ]
  },
  {
   "cell_type": "code",
   "execution_count": 61,
   "metadata": {},
   "outputs": [
    {
     "data": {
      "image/png": "[encoded data removed]",
      "text/plain": [
       "<Figure size 720x7776 with 1 Axes>"
      ]
     },
     "metadata": {},
     "output_type": "display_data"
    }
   ],
   "source": [
    "round_username = set(comp_and_round_df_n['network_username'].dropna().unique())\n",
    "people = set(people_df['network_username'].dropna().unique())\n",
    "fund = set(fund_df['network_username'].dropna().unique())\n",
    "\n",
    "# Строим диаграмму Венна\n",
    "venn3([round_username, people, fund], set_labels=('network_username', 'network_username', 'network_username'))\n",
    "\n",
    "# Отображаем график\n",
    "plt.title(\"Пересечение данных\")\n",
    "plt.gcf().set_size_inches(10, 108)  # Устанавливаем размер графика\n",
    "plt.tight_layout()\n",
    "plt.show()"
   ]
  },
  {
   "cell_type": "markdown",
   "metadata": {
    "id": "EHcODomVrJg1"
   },
   "source": [
    "\n",
    "### 2.4. Проблемный датасет и причина возникновения пропусков\n",
    "\n",
    "Во время собственного анализа данных у заказчика больше всего вопросов возникло к датасету `company_and_rounds.csv`. В нём много пропусков как раз в информации о раундах, которая заказчику важна.\n",
    "\n",
    "- Необходимо привести данные в вид, который позволит в дальнейшем проводить анализ в разрезе отдельных компаний.\n",
    "\n",
    "По гипотезе заказчика данные по компаниям из этой таблицы раньше хранились иначе, более удобным для исследования образом.\n",
    "\n",
    "- Максимальным образом сохраняя данные, сохранив их связность и исключив возможные возникающие при этом ошибки, данные скорректированы так, чтобы удобно было отобрать компании по параметрам и рассчитать показатели из расчёта на одну компанию без промежуточных агрегаций."
   ]
  },
  {
   "cell_type": "code",
   "execution_count": 62,
   "metadata": {
    "id": "oSk7xqu_FbaN"
   },
   "outputs": [
    {
     "data": {
      "text/plain": [
       "company_id_company        302\n",
       "name                      302\n",
       "category_code           73888\n",
       "status                    302\n",
       "founded_at             107818\n",
       "closed_at              214325\n",
       "domain                  70615\n",
       "network_username       122240\n",
       "country_code           109167\n",
       "investment_rounds         302\n",
       "funding_rounds            302\n",
       "funding_total             302\n",
       "milestones                302\n",
       "funding_round_id       164846\n",
       "company_id             164846\n",
       "funded_at              165094\n",
       "funding_round_type     164846\n",
       "raised_amount          164846\n",
       "pre_money_valuation    164846\n",
       "participants           164846\n",
       "is_first_round              0\n",
       "is_last_round               0\n",
       "funded_at_year              0\n",
       "dtype: int64"
      ]
     },
     "metadata": {},
     "output_type": "display_data"
    }
   ],
   "source": [
    "# Используем для анализа датасет с преобразованными названиями столбцов\n",
    "display(comp_and_round_df_n.isna().sum())"
   ]
  },
  {
   "cell_type": "code",
   "execution_count": 63,
   "metadata": {
    "id": "9BY9lTUcFbJ-",
    "scrolled": false
   },
   "outputs": [
    {
     "data": {
      "text/plain": [
       "'Таблица КОМПАНИИ (companies_df):'"
      ]
     },
     "metadata": {},
     "output_type": "display_data"
    },
    {
     "data": {
      "text/html": [
       "<div>\n",
       "<style scoped>\n",
       "    .dataframe tbody tr th:only-of-type {\n",
       "        vertical-align: middle;\n",
       "    }\n",
       "\n",
       "    .dataframe tbody tr th {\n",
       "        vertical-align: top;\n",
       "    }\n",
       "\n",
       "    .dataframe thead th {\n",
       "        text-align: right;\n",
       "    }\n",
       "</style>\n",
       "<table border=\"1\" class=\"dataframe\">\n",
       "  <thead>\n",
       "    <tr style=\"text-align: right;\">\n",
       "      <th></th>\n",
       "      <th>company_id_company</th>\n",
       "      <th>name</th>\n",
       "      <th>category_code</th>\n",
       "      <th>status</th>\n",
       "      <th>founded_at</th>\n",
       "      <th>closed_at</th>\n",
       "      <th>domain</th>\n",
       "      <th>network_username</th>\n",
       "      <th>country_code</th>\n",
       "      <th>investment_rounds</th>\n",
       "      <th>funding_rounds</th>\n",
       "      <th>funding_total</th>\n",
       "      <th>milestones</th>\n",
       "    </tr>\n",
       "  </thead>\n",
       "  <tbody>\n",
       "    <tr>\n",
       "      <th>0</th>\n",
       "      <td>1.0</td>\n",
       "      <td>Wetpaint</td>\n",
       "      <td>web</td>\n",
       "      <td>operating</td>\n",
       "      <td>2005-10-17</td>\n",
       "      <td>NaT</td>\n",
       "      <td>wetpaint-inc.com</td>\n",
       "      <td>BachelrWetpaint</td>\n",
       "      <td>USA</td>\n",
       "      <td>0.0</td>\n",
       "      <td>3.0</td>\n",
       "      <td>39750000.0</td>\n",
       "      <td>5.0</td>\n",
       "    </tr>\n",
       "    <tr>\n",
       "      <th>1</th>\n",
       "      <td>1.0</td>\n",
       "      <td>Wetpaint</td>\n",
       "      <td>web</td>\n",
       "      <td>operating</td>\n",
       "      <td>2005-10-17</td>\n",
       "      <td>NaT</td>\n",
       "      <td>wetpaint-inc.com</td>\n",
       "      <td>BachelrWetpaint</td>\n",
       "      <td>USA</td>\n",
       "      <td>0.0</td>\n",
       "      <td>3.0</td>\n",
       "      <td>39750000.0</td>\n",
       "      <td>5.0</td>\n",
       "    </tr>\n",
       "    <tr>\n",
       "      <th>2</th>\n",
       "      <td>1.0</td>\n",
       "      <td>Wetpaint</td>\n",
       "      <td>web</td>\n",
       "      <td>operating</td>\n",
       "      <td>2005-10-17</td>\n",
       "      <td>NaT</td>\n",
       "      <td>wetpaint-inc.com</td>\n",
       "      <td>BachelrWetpaint</td>\n",
       "      <td>USA</td>\n",
       "      <td>0.0</td>\n",
       "      <td>3.0</td>\n",
       "      <td>39750000.0</td>\n",
       "      <td>5.0</td>\n",
       "    </tr>\n",
       "    <tr>\n",
       "      <th>3</th>\n",
       "      <td>10.0</td>\n",
       "      <td>Flektor</td>\n",
       "      <td>games_video</td>\n",
       "      <td>acquired</td>\n",
       "      <td>NaT</td>\n",
       "      <td>NaT</td>\n",
       "      <td>flektor.com</td>\n",
       "      <td>NaN</td>\n",
       "      <td>USA</td>\n",
       "      <td>0.0</td>\n",
       "      <td>0.0</td>\n",
       "      <td>0.0</td>\n",
       "      <td>0.0</td>\n",
       "    </tr>\n",
       "    <tr>\n",
       "      <th>4</th>\n",
       "      <td>100.0</td>\n",
       "      <td>There</td>\n",
       "      <td>games_video</td>\n",
       "      <td>acquired</td>\n",
       "      <td>NaT</td>\n",
       "      <td>NaT</td>\n",
       "      <td>there.com</td>\n",
       "      <td>NaN</td>\n",
       "      <td>USA</td>\n",
       "      <td>0.0</td>\n",
       "      <td>0.0</td>\n",
       "      <td>0.0</td>\n",
       "      <td>4.0</td>\n",
       "    </tr>\n",
       "  </tbody>\n",
       "</table>\n",
       "</div>"
      ],
      "text/plain": [
       "   company_id_company      name category_code     status founded_at closed_at  \\\n",
       "0                 1.0  Wetpaint           web  operating 2005-10-17       NaT   \n",
       "1                 1.0  Wetpaint           web  operating 2005-10-17       NaT   \n",
       "2                 1.0  Wetpaint           web  operating 2005-10-17       NaT   \n",
       "3                10.0   Flektor   games_video   acquired        NaT       NaT   \n",
       "4               100.0     There   games_video   acquired        NaT       NaT   \n",
       "\n",
       "             domain network_username country_code  investment_rounds  \\\n",
       "0  wetpaint-inc.com  BachelrWetpaint          USA                0.0   \n",
       "1  wetpaint-inc.com  BachelrWetpaint          USA                0.0   \n",
       "2  wetpaint-inc.com  BachelrWetpaint          USA                0.0   \n",
       "3       flektor.com              NaN          USA                0.0   \n",
       "4         there.com              NaN          USA                0.0   \n",
       "\n",
       "   funding_rounds  funding_total  milestones  \n",
       "0             3.0     39750000.0         5.0  \n",
       "1             3.0     39750000.0         5.0  \n",
       "2             3.0     39750000.0         5.0  \n",
       "3             0.0            0.0         0.0  \n",
       "4             0.0            0.0         4.0  "
      ]
     },
     "metadata": {},
     "output_type": "display_data"
    },
    {
     "name": "stdout",
     "output_type": "stream",
     "text": [
      "<class 'pandas.core.frame.DataFrame'>\n",
      "RangeIndex: 217774 entries, 0 to 217773\n",
      "Data columns (total 13 columns):\n",
      " #   Column              Non-Null Count   Dtype         \n",
      "---  ------              --------------   -----         \n",
      " 0   company_id_company  217472 non-null  float64       \n",
      " 1   name                217472 non-null  object        \n",
      " 2   category_code       143886 non-null  object        \n",
      " 3   status              217472 non-null  object        \n",
      " 4   founded_at          109956 non-null  datetime64[ns]\n",
      " 5   closed_at           3449 non-null    datetime64[ns]\n",
      " 6   domain              147159 non-null  object        \n",
      " 7   network_username    95534 non-null   object        \n",
      " 8   country_code        108607 non-null  object        \n",
      " 9   investment_rounds   217472 non-null  float64       \n",
      " 10  funding_rounds      217472 non-null  float64       \n",
      " 11  funding_total       217472 non-null  float64       \n",
      " 12  milestones          217472 non-null  float64       \n",
      "dtypes: datetime64[ns](2), float64(5), object(6)\n",
      "memory usage: 21.6+ MB\n"
     ]
    },
    {
     "data": {
      "text/plain": [
       "'Таблица РАУНДЫ ФИНАНСИРОВАНИЯ (rounds_df):'"
      ]
     },
     "metadata": {},
     "output_type": "display_data"
    },
    {
     "data": {
      "text/html": [
       "<div>\n",
       "<style scoped>\n",
       "    .dataframe tbody tr th:only-of-type {\n",
       "        vertical-align: middle;\n",
       "    }\n",
       "\n",
       "    .dataframe tbody tr th {\n",
       "        vertical-align: top;\n",
       "    }\n",
       "\n",
       "    .dataframe thead th {\n",
       "        text-align: right;\n",
       "    }\n",
       "</style>\n",
       "<table border=\"1\" class=\"dataframe\">\n",
       "  <thead>\n",
       "    <tr style=\"text-align: right;\">\n",
       "      <th></th>\n",
       "      <th>funding_round_id</th>\n",
       "      <th>company_id</th>\n",
       "      <th>funded_at</th>\n",
       "      <th>funding_round_type</th>\n",
       "      <th>raised_amount</th>\n",
       "      <th>pre_money_valuation</th>\n",
       "      <th>participants</th>\n",
       "      <th>is_first_round</th>\n",
       "      <th>is_last_round</th>\n",
       "      <th>funded_at_year</th>\n",
       "    </tr>\n",
       "  </thead>\n",
       "  <tbody>\n",
       "    <tr>\n",
       "      <th>0</th>\n",
       "      <td>888.0</td>\n",
       "      <td>1.0</td>\n",
       "      <td>2005-10-01</td>\n",
       "      <td>series-a</td>\n",
       "      <td>5250000.0</td>\n",
       "      <td>0.0</td>\n",
       "      <td>2.0</td>\n",
       "      <td>False</td>\n",
       "      <td>True</td>\n",
       "      <td>2005</td>\n",
       "    </tr>\n",
       "    <tr>\n",
       "      <th>1</th>\n",
       "      <td>889.0</td>\n",
       "      <td>1.0</td>\n",
       "      <td>2007-01-01</td>\n",
       "      <td>series-b</td>\n",
       "      <td>9500000.0</td>\n",
       "      <td>0.0</td>\n",
       "      <td>3.0</td>\n",
       "      <td>False</td>\n",
       "      <td>False</td>\n",
       "      <td>2007</td>\n",
       "    </tr>\n",
       "    <tr>\n",
       "      <th>2</th>\n",
       "      <td>2312.0</td>\n",
       "      <td>1.0</td>\n",
       "      <td>2008-05-19</td>\n",
       "      <td>series-c+</td>\n",
       "      <td>25000000.0</td>\n",
       "      <td>0.0</td>\n",
       "      <td>4.0</td>\n",
       "      <td>True</td>\n",
       "      <td>False</td>\n",
       "      <td>2008</td>\n",
       "    </tr>\n",
       "    <tr>\n",
       "      <th>3</th>\n",
       "      <td>NaN</td>\n",
       "      <td>NaN</td>\n",
       "      <td>NaT</td>\n",
       "      <td>NaN</td>\n",
       "      <td>NaN</td>\n",
       "      <td>NaN</td>\n",
       "      <td>NaN</td>\n",
       "      <td>True</td>\n",
       "      <td>True</td>\n",
       "      <td>0</td>\n",
       "    </tr>\n",
       "    <tr>\n",
       "      <th>4</th>\n",
       "      <td>NaN</td>\n",
       "      <td>NaN</td>\n",
       "      <td>NaT</td>\n",
       "      <td>NaN</td>\n",
       "      <td>NaN</td>\n",
       "      <td>NaN</td>\n",
       "      <td>NaN</td>\n",
       "      <td>True</td>\n",
       "      <td>True</td>\n",
       "      <td>0</td>\n",
       "    </tr>\n",
       "  </tbody>\n",
       "</table>\n",
       "</div>"
      ],
      "text/plain": [
       "   funding_round_id  company_id  funded_at funding_round_type  raised_amount  \\\n",
       "0             888.0         1.0 2005-10-01           series-a      5250000.0   \n",
       "1             889.0         1.0 2007-01-01           series-b      9500000.0   \n",
       "2            2312.0         1.0 2008-05-19          series-c+     25000000.0   \n",
       "3               NaN         NaN        NaT                NaN            NaN   \n",
       "4               NaN         NaN        NaT                NaN            NaN   \n",
       "\n",
       "   pre_money_valuation  participants  is_first_round  is_last_round  \\\n",
       "0                  0.0           2.0           False           True   \n",
       "1                  0.0           3.0           False          False   \n",
       "2                  0.0           4.0            True          False   \n",
       "3                  NaN           NaN            True           True   \n",
       "4                  NaN           NaN            True           True   \n",
       "\n",
       "   funded_at_year  \n",
       "0            2005  \n",
       "1            2007  \n",
       "2            2008  \n",
       "3               0  \n",
       "4               0  "
      ]
     },
     "metadata": {},
     "output_type": "display_data"
    },
    {
     "name": "stdout",
     "output_type": "stream",
     "text": [
      "<class 'pandas.core.frame.DataFrame'>\n",
      "RangeIndex: 217774 entries, 0 to 217773\n",
      "Data columns (total 10 columns):\n",
      " #   Column               Non-Null Count   Dtype         \n",
      "---  ------               --------------   -----         \n",
      " 0   funding_round_id     52928 non-null   float64       \n",
      " 1   company_id           52928 non-null   float64       \n",
      " 2   funded_at            52680 non-null   datetime64[ns]\n",
      " 3   funding_round_type   52928 non-null   object        \n",
      " 4   raised_amount        52928 non-null   float64       \n",
      " 5   pre_money_valuation  52928 non-null   float64       \n",
      " 6   participants         52928 non-null   float64       \n",
      " 7   is_first_round       217774 non-null  bool          \n",
      " 8   is_last_round        217774 non-null  bool          \n",
      " 9   funded_at_year       217774 non-null  Int64         \n",
      "dtypes: Int64(1), bool(2), datetime64[ns](1), float64(5), object(1)\n",
      "memory usage: 13.9+ MB\n"
     ]
    }
   ],
   "source": [
    "# Т.к. видим, что в таблице пропуски собраны группами и после funding_round_id их основная часть, предполагаем, \n",
    "# что таблицы company и rounds \"склеили\" по company_id.\n",
    "# Разделим на 2 части.\n",
    "\n",
    "# Создаем первую таблицу - КОМПАНИИ\n",
    "companies_df = comp_and_round_df.iloc[:, 0:13]\n",
    "companies_df = companies_df.reset_index(drop=True)\n",
    "\n",
    "# Создаем вторую таблицу - РАУНДЫ ФИНАНСИРОВАНИЯ\n",
    "rounds_df = comp_and_round_df.iloc[:, 13:23]\n",
    "rounds_df = rounds_df.reset_index(drop=True)\n",
    "\n",
    "# Выводим результат\n",
    "display(\"Таблица КОМПАНИИ (companies_df):\")\n",
    "display(companies_df.head())\n",
    "companies_df.info()\n",
    "\n",
    "display(\"Таблица РАУНДЫ ФИНАНСИРОВАНИЯ (rounds_df):\")\n",
    "display(rounds_df.head())\n",
    "rounds_df.info()"
   ]
  },
  {
   "cell_type": "code",
   "execution_count": 64,
   "metadata": {
    "id": "tJ6Sl6MKrJg1",
    "scrolled": false,
    "vscode": {
     "languageId": "plaintext"
    }
   },
   "outputs": [
    {
     "name": "stderr",
     "output_type": "stream",
     "text": [
      "/tmp/ipykernel_168/2831792162.py:5: UserWarning: Boolean Series key will be reindexed to match DataFrame index.\n",
      "  companies_df_cleaned = companies_df_cleaned[~companies_df['company_id_company'].isnull()]\n"
     ]
    },
    {
     "data": {
      "text/plain": [
       "'Таблица КОМПАНИИ (companies_df):'"
      ]
     },
     "metadata": {},
     "output_type": "display_data"
    },
    {
     "name": "stdout",
     "output_type": "stream",
     "text": [
      "<class 'pandas.core.frame.DataFrame'>\n",
      "RangeIndex: 196553 entries, 0 to 196552\n",
      "Data columns (total 13 columns):\n",
      " #   Column              Non-Null Count   Dtype         \n",
      "---  ------              --------------   -----         \n",
      " 0   company_id_company  196553 non-null  float64       \n",
      " 1   name                196553 non-null  object        \n",
      " 2   category_code       123186 non-null  object        \n",
      " 3   status              196553 non-null  object        \n",
      " 4   founded_at          91227 non-null   datetime64[ns]\n",
      " 5   closed_at           2620 non-null    datetime64[ns]\n",
      " 6   domain              126545 non-null  object        \n",
      " 7   network_username    80591 non-null   object        \n",
      " 8   country_code        87990 non-null   object        \n",
      " 9   investment_rounds   196553 non-null  float64       \n",
      " 10  funding_rounds      196553 non-null  float64       \n",
      " 11  funding_total       196553 non-null  float64       \n",
      " 12  milestones          196553 non-null  float64       \n",
      "dtypes: datetime64[ns](2), float64(5), object(6)\n",
      "memory usage: 19.5+ MB\n"
     ]
    }
   ],
   "source": [
    "# Удаляем полные дубликаты в датафрейме companies_df\n",
    "companies_df_cleaned = companies_df.drop_duplicates(subset=None, keep='first', inplace=False)\n",
    "\n",
    "# Удаляем строки, где в столбце company_id_company есть NaN\n",
    "companies_df_cleaned = companies_df_cleaned[~companies_df['company_id_company'].isnull()]\n",
    "companies_df_cleaned = companies_df_cleaned.reset_index(drop=True)\n",
    "\n",
    "# Выводим результат\n",
    "display(\"Таблица КОМПАНИИ (companies_df):\")\n",
    "#display(companies_df_cleaned.tail(20))\n",
    "companies_df_cleaned.info()"
   ]
  },
  {
   "cell_type": "code",
   "execution_count": 65,
   "metadata": {},
   "outputs": [
    {
     "name": "stderr",
     "output_type": "stream",
     "text": [
      "/tmp/ipykernel_168/359141478.py:5: UserWarning: Boolean Series key will be reindexed to match DataFrame index.\n",
      "  rounds_df_cleaned = rounds_df_cleaned[~rounds_df['company_id'].isnull()]\n"
     ]
    },
    {
     "data": {
      "text/plain": [
       "'Таблица РАУНДЫ ФИНАНСИРОВАНИЯ (rounds_df):'"
      ]
     },
     "metadata": {},
     "output_type": "display_data"
    },
    {
     "name": "stdout",
     "output_type": "stream",
     "text": [
      "<class 'pandas.core.frame.DataFrame'>\n",
      "RangeIndex: 52928 entries, 0 to 52927\n",
      "Data columns (total 10 columns):\n",
      " #   Column               Non-Null Count  Dtype         \n",
      "---  ------               --------------  -----         \n",
      " 0   funding_round_id     52928 non-null  float64       \n",
      " 1   company_id           52928 non-null  float64       \n",
      " 2   funded_at            52680 non-null  datetime64[ns]\n",
      " 3   funding_round_type   52928 non-null  object        \n",
      " 4   raised_amount        52928 non-null  float64       \n",
      " 5   pre_money_valuation  52928 non-null  float64       \n",
      " 6   participants         52928 non-null  float64       \n",
      " 7   is_first_round       52928 non-null  bool          \n",
      " 8   is_last_round        52928 non-null  bool          \n",
      " 9   funded_at_year       52928 non-null  Int64         \n",
      "dtypes: Int64(1), bool(2), datetime64[ns](1), float64(5), object(1)\n",
      "memory usage: 3.4+ MB\n"
     ]
    }
   ],
   "source": [
    "# Удаляем полные дубликаты в датафрейме rounds_df\n",
    "rounds_df_cleaned = rounds_df.drop_duplicates(subset=None, keep='first', inplace=False)\n",
    "\n",
    "# Удаляем строки, где в столбце company_id_company есть NaN\n",
    "rounds_df_cleaned = rounds_df_cleaned[~rounds_df['company_id'].isnull()]\n",
    "rounds_df_cleaned = rounds_df_cleaned.reset_index(drop=True)\n",
    "\n",
    "# Выводим результат\n",
    "display(\"Таблица РАУНДЫ ФИНАНСИРОВАНИЯ (rounds_df):\")\n",
    "rounds_df_cleaned.info()"
   ]
  },
  {
   "cell_type": "markdown",
   "metadata": {},
   "source": [
    "**Промежуточный вывод**:  \n",
    "\n",
    "В связи с тем, что в `company_and_rounds.csv` очень много пропусков как раз в раундах, информация о которых заказчику важна, данные разделены на 2 таблицы, имеющих вид, который позволяет в дальнейшем проводить анализ в разрезе отдельных компаний.  \n",
    "\n",
    "Данные сохранены максимальным образом (удалены только полные дубликаты и полностью пустые строки), сохранена их связность по столбцам `company_id / company_id_company`. Данные сохранены так, что удобно отобрать компании по параметрам и рассчитывать показатели из расчёта на одну компанию без промежуточных агрегаций.\n"
   ]
  },
  {
   "cell_type": "markdown",
   "metadata": {
    "id": "bmVYhphNrJg2"
   },
   "source": [
    "\n",
    "## Шаг 3. Исследовательский анализ объединённых таблиц"
   ]
  },
  {
   "cell_type": "markdown",
   "metadata": {
    "id": "3Di6tCT3rJg2"
   },
   "source": [
    "\n",
    "### 3.1. Объединение данных\n",
    "\n",
    "Объедим данные для ответа на вопросы заказчика, которые касаются интересующих его компаний. Заказчика прежде всего интересуют те компании, которые меняли или готовы менять владельцев. Получение инвестиций или финансирования, по мнению заказчика, означает интерес к покупке или продаже компании.\n",
    "\n",
    "В качестве основы для объединённой таблицы возьмем данные из обработанного датасета `company_and_rounds.csv` —  только те компании, у которых указаны значения `funding_rounds` или `investment_rounds` больше нуля, или те, у которых в колонке `status` указано `acquired`."
   ]
  },
  {
   "cell_type": "code",
   "execution_count": 66,
   "metadata": {
    "id": "kuV1b5MXFg3_"
   },
   "outputs": [
    {
     "name": "stdout",
     "output_type": "stream",
     "text": [
      "<class 'pandas.core.frame.DataFrame'>\n",
      "Int64Index: 40747 entries, 0 to 196552\n",
      "Data columns (total 13 columns):\n",
      " #   Column              Non-Null Count  Dtype         \n",
      "---  ------              --------------  -----         \n",
      " 0   company_id_company  40747 non-null  float64       \n",
      " 1   name                40747 non-null  object        \n",
      " 2   category_code       35315 non-null  object        \n",
      " 3   status              40747 non-null  object        \n",
      " 4   founded_at          27807 non-null  datetime64[ns]\n",
      " 5   closed_at           2128 non-null   datetime64[ns]\n",
      " 6   domain              35754 non-null  object        \n",
      " 7   network_username    20850 non-null  object        \n",
      " 8   country_code        34742 non-null  object        \n",
      " 9   investment_rounds   40747 non-null  float64       \n",
      " 10  funding_rounds      40747 non-null  float64       \n",
      " 11  funding_total       40747 non-null  float64       \n",
      " 12  milestones          40747 non-null  float64       \n",
      "dtypes: datetime64[ns](2), float64(5), object(6)\n",
      "memory usage: 4.4+ MB\n"
     ]
    },
    {
     "data": {
      "text/plain": [
       "None"
      ]
     },
     "metadata": {},
     "output_type": "display_data"
    }
   ],
   "source": [
    "# Фильтрация данных \n",
    "df_40000 = companies_df_cleaned[(companies_df_cleaned['funding_rounds'] > 0) | \n",
    "                 (companies_df_cleaned['investment_rounds'] > 0) | \n",
    "                 (companies_df_cleaned['status'] == 'acquired')]\n",
    "display(df_40000.info())"
   ]
  },
  {
   "cell_type": "code",
   "execution_count": 67,
   "metadata": {
    "id": "93v3fEX5FgtP"
   },
   "outputs": [
    {
     "data": {
      "text/html": [
       "<div>\n",
       "<style scoped>\n",
       "    .dataframe tbody tr th:only-of-type {\n",
       "        vertical-align: middle;\n",
       "    }\n",
       "\n",
       "    .dataframe tbody tr th {\n",
       "        vertical-align: top;\n",
       "    }\n",
       "\n",
       "    .dataframe thead th {\n",
       "        text-align: right;\n",
       "    }\n",
       "</style>\n",
       "<table border=\"1\" class=\"dataframe\">\n",
       "  <thead>\n",
       "    <tr style=\"text-align: right;\">\n",
       "      <th></th>\n",
       "      <th>company_id_company</th>\n",
       "      <th>name</th>\n",
       "      <th>category_code</th>\n",
       "      <th>status</th>\n",
       "      <th>founded_at</th>\n",
       "      <th>closed_at</th>\n",
       "      <th>domain</th>\n",
       "      <th>network_username</th>\n",
       "      <th>country_code</th>\n",
       "      <th>investment_rounds</th>\n",
       "      <th>funding_rounds</th>\n",
       "      <th>funding_total</th>\n",
       "      <th>milestones</th>\n",
       "    </tr>\n",
       "  </thead>\n",
       "  <tbody>\n",
       "    <tr>\n",
       "      <th>0</th>\n",
       "      <td>1.0</td>\n",
       "      <td>Wetpaint</td>\n",
       "      <td>web</td>\n",
       "      <td>operating</td>\n",
       "      <td>2005-10-17</td>\n",
       "      <td>NaT</td>\n",
       "      <td>wetpaint-inc.com</td>\n",
       "      <td>BachelrWetpaint</td>\n",
       "      <td>USA</td>\n",
       "      <td>0.0</td>\n",
       "      <td>3.0</td>\n",
       "      <td>39750000.0</td>\n",
       "      <td>5.0</td>\n",
       "    </tr>\n",
       "    <tr>\n",
       "      <th>1</th>\n",
       "      <td>10.0</td>\n",
       "      <td>Flektor</td>\n",
       "      <td>games_video</td>\n",
       "      <td>acquired</td>\n",
       "      <td>NaT</td>\n",
       "      <td>NaT</td>\n",
       "      <td>flektor.com</td>\n",
       "      <td>NaN</td>\n",
       "      <td>USA</td>\n",
       "      <td>0.0</td>\n",
       "      <td>0.0</td>\n",
       "      <td>0.0</td>\n",
       "      <td>0.0</td>\n",
       "    </tr>\n",
       "    <tr>\n",
       "      <th>2</th>\n",
       "      <td>100.0</td>\n",
       "      <td>There</td>\n",
       "      <td>games_video</td>\n",
       "      <td>acquired</td>\n",
       "      <td>NaT</td>\n",
       "      <td>NaT</td>\n",
       "      <td>there.com</td>\n",
       "      <td>NaN</td>\n",
       "      <td>USA</td>\n",
       "      <td>0.0</td>\n",
       "      <td>0.0</td>\n",
       "      <td>0.0</td>\n",
       "      <td>4.0</td>\n",
       "    </tr>\n",
       "    <tr>\n",
       "      <th>13</th>\n",
       "      <td>1001.0</td>\n",
       "      <td>FriendFeed</td>\n",
       "      <td>web</td>\n",
       "      <td>acquired</td>\n",
       "      <td>2007-10-01</td>\n",
       "      <td>NaT</td>\n",
       "      <td>friendfeed.com</td>\n",
       "      <td>friendfeed</td>\n",
       "      <td>USA</td>\n",
       "      <td>0.0</td>\n",
       "      <td>1.0</td>\n",
       "      <td>5000000.0</td>\n",
       "      <td>3.0</td>\n",
       "    </tr>\n",
       "    <tr>\n",
       "      <th>18</th>\n",
       "      <td>10014.0</td>\n",
       "      <td>Mobclix</td>\n",
       "      <td>mobile</td>\n",
       "      <td>acquired</td>\n",
       "      <td>2008-03-01</td>\n",
       "      <td>NaT</td>\n",
       "      <td>mobclix.com</td>\n",
       "      <td>mobclix</td>\n",
       "      <td>USA</td>\n",
       "      <td>0.0</td>\n",
       "      <td>1.0</td>\n",
       "      <td>0.0</td>\n",
       "      <td>4.0</td>\n",
       "    </tr>\n",
       "  </tbody>\n",
       "</table>\n",
       "</div>"
      ],
      "text/plain": [
       "    company_id_company        name category_code     status founded_at  \\\n",
       "0                  1.0    Wetpaint           web  operating 2005-10-17   \n",
       "1                 10.0     Flektor   games_video   acquired        NaT   \n",
       "2                100.0       There   games_video   acquired        NaT   \n",
       "13              1001.0  FriendFeed           web   acquired 2007-10-01   \n",
       "18             10014.0     Mobclix        mobile   acquired 2008-03-01   \n",
       "\n",
       "   closed_at            domain network_username country_code  \\\n",
       "0        NaT  wetpaint-inc.com  BachelrWetpaint          USA   \n",
       "1        NaT       flektor.com              NaN          USA   \n",
       "2        NaT         there.com              NaN          USA   \n",
       "13       NaT    friendfeed.com       friendfeed          USA   \n",
       "18       NaT       mobclix.com          mobclix          USA   \n",
       "\n",
       "    investment_rounds  funding_rounds  funding_total  milestones  \n",
       "0                 0.0             3.0     39750000.0         5.0  \n",
       "1                 0.0             0.0            0.0         0.0  \n",
       "2                 0.0             0.0            0.0         4.0  \n",
       "13                0.0             1.0      5000000.0         3.0  \n",
       "18                0.0             1.0            0.0         4.0  "
      ]
     },
     "execution_count": 67,
     "metadata": {},
     "output_type": "execute_result"
    }
   ],
   "source": [
    "df_40000.head()"
   ]
  },
  {
   "cell_type": "markdown",
   "metadata": {
    "id": "DFHINkV3rJg2"
   },
   "source": [
    "\n",
    "### 3.2. Анализ выбросов\n",
    "\n",
    "Заказчика интересует обычный для рассматриваемого периода размер средств, который предоставлялся компаниям.\n",
    "\n",
    "- По предобработанному столбцу `funding_total` графическим способом оценим, какой размер общего финансирования для одной компании будет типичным, а какой — выбивающимся.\n",
    "- В процессе расчёта значений обращаем внимание на показатели, возвращаемые методом `.describe()`."
   ]
  },
  {
   "cell_type": "code",
   "execution_count": 68,
   "metadata": {
    "id": "8jm75fKXrJg2",
    "vscode": {
     "languageId": "plaintext"
    }
   },
   "outputs": [
    {
     "data": {
      "text/plain": [
       "count         40747\n",
       "mean       10135610\n",
       "std        56464360\n",
       "min               0\n",
       "25%               0\n",
       "50%          600000\n",
       "75%         5650650\n",
       "max      5700000000\n",
       "Name: funding_total, dtype: object"
      ]
     },
     "execution_count": 68,
     "metadata": {},
     "output_type": "execute_result"
    }
   ],
   "source": [
    "# Рассмотрим краткое статистическое описание данных столбца funding_total\n",
    "df_40000['funding_total'].describe().apply(lambda x: '{:.0f}'.format(x))"
   ]
  },
  {
   "cell_type": "code",
   "execution_count": 69,
   "metadata": {
    "scrolled": false
   },
   "outputs": [
    {
     "data": {
      "image/png": "[encoded data removed]",
      "text/plain": [
       "<Figure size 1296x720 with 1 Axes>"
      ]
     },
     "metadata": {
      "needs_background": "light"
     },
     "output_type": "display_data"
    },
    {
     "data": {
      "image/png": "[encoded data removed]",
      "text/plain": [
       "<Figure size 1296x720 with 1 Axes>"
      ]
     },
     "metadata": {
      "needs_background": "light"
     },
     "output_type": "display_data"
    },
    {
     "data": {
      "image/png": "[encoded data removed]",
      "text/plain": [
       "<Figure size 1296x720 with 1 Axes>"
      ]
     },
     "metadata": {
      "needs_background": "light"
     },
     "output_type": "display_data"
    }
   ],
   "source": [
    "# Гистограмма\n",
    "plt.figure(figsize=(18, 10))\n",
    "sns.histplot(df_40000['funding_total'], bins=50, kde=True, color='#ADD8E6')\n",
    "plt.title('Распределение общего финансирования')\n",
    "plt.xlabel('Общее финансирование')\n",
    "plt.ylabel('Количество компаний')\n",
    "plt.grid(True)\n",
    "plt.show()\n",
    "\n",
    "# Ящик с усами\n",
    "plt.figure(figsize=(18, 10))\n",
    "sns.boxplot(x=df_40000['funding_total'], color='#ADD8E6')\n",
    "plt.title('Ящик с усами для финансирования')\n",
    "plt.title('Распределение общего финансирования')\n",
    "plt.xlabel('Общее финансирование')\n",
    "plt.show()\n",
    "\n",
    "# Ящик с усами с отключенным отображением выбросов\n",
    "plt.figure(figsize=(18, 10))\n",
    "sns.boxplot(x=df_40000['funding_total'], showfliers=False, color='#ADD8E6')\n",
    "plt.title('Ящик с усами для финансирования с отключенным отображением выбросов ')\n",
    "plt.title('Распределение общего финансирования без выбросов')\n",
    "plt.xlabel('Общее финансирование')\n",
    "plt.show()"
   ]
  },
  {
   "cell_type": "markdown",
   "metadata": {},
   "source": [
    "**Промежуточный вывод**:  \n",
    "\n",
    "В данных наблюдается асимметрия, среднее (10.1 млн) значительно меньше медианы (600 000), при этом  максимальное значение очень высокое. Значительная часть данных имеет нулевое финансирование (25% значений равны 0). Т.к. максимальное значение равно 5.7 млрд $, необходимо проверить на наличие выбросов в данных.\n",
    "\n",
    "Графики, сформированные на основании текущих данных столбца (без фильтрации) не информативны.  \n",
    "\n",
    "К данным столбца `funding_total` обычные способы нахождения типичных значений не применимы."
   ]
  },
  {
   "cell_type": "code",
   "execution_count": 70,
   "metadata": {},
   "outputs": [
    {
     "data": {
      "image/png": "[encoded data removed]",
      "text/plain": [
       "<Figure size 720x432 with 1 Axes>"
      ]
     },
     "metadata": {
      "needs_background": "light"
     },
     "output_type": "display_data"
    }
   ],
   "source": [
    "plt.figure(figsize=(10, 6))\n",
    "plt.hist(df_40000['funding_total'], bins=70, color='skyblue', edgecolor='black', log=True)\n",
    "plt.xscale('log')  # Логарифмическая шкала по оси X\n",
    "plt.xlabel('Общее финансирование (логарифмическая шкала)')\n",
    "plt.ylabel('Количество компаний')\n",
    "plt.title('Распределение общего финансирования (логарифмическая шкала)')\n",
    "plt.show()"
   ]
  },
  {
   "cell_type": "markdown",
   "metadata": {
    "id": "JqkRAQrIrJg2"
   },
   "source": [
    "\n",
    "### 3.3. Куплены забесплатно?\n",
    "\n",
    "- Рассморим компании, которые были проданы за ноль или за один доллар, и при этом известно, что у них был ненулевой общий объём финансирования.\n",
    "\n",
    "- Рассчитаем аналитически верхнюю и нижнюю границу выбросов для столбца `funding_total` и определим, каким процентилям границы соответствуют."
   ]
  },
  {
   "cell_type": "code",
   "execution_count": 71,
   "metadata": {},
   "outputs": [
    {
     "data": {
      "text/plain": [
       "array(['operating', 'acquired', 'closed', 'ipo'], dtype=object)"
      ]
     },
     "metadata": {},
     "output_type": "display_data"
    }
   ],
   "source": [
    "# Проверяем уникальные значения статуса компании\n",
    "display(df_40000['status'].unique())"
   ]
  },
  {
   "cell_type": "code",
   "execution_count": 72,
   "metadata": {},
   "outputs": [
    {
     "data": {
      "text/plain": [
       "count             9407\n",
       "mean         393296496\n",
       "std        26821978227\n",
       "min                  0\n",
       "25%                  0\n",
       "50%                  0\n",
       "75%              23432\n",
       "max      2600000000000\n",
       "Name: price_amount, dtype: object"
      ]
     },
     "execution_count": 72,
     "metadata": {},
     "output_type": "execute_result"
    }
   ],
   "source": [
    "# Рассмотрим краткое статистическое описание данных столбца 'price_amount'\n",
    "acquisition_df['price_amount'].describe().apply(lambda x: '{:.0f}'.format(x))"
   ]
  },
  {
   "cell_type": "code",
   "execution_count": 73,
   "metadata": {},
   "outputs": [
    {
     "name": "stdout",
     "output_type": "stream",
     "text": [
      "Количество повторений company_id_company\n"
     ]
    },
    {
     "data": {
      "text/html": [
       "<div>\n",
       "<style scoped>\n",
       "    .dataframe tbody tr th:only-of-type {\n",
       "        vertical-align: middle;\n",
       "    }\n",
       "\n",
       "    .dataframe tbody tr th {\n",
       "        vertical-align: top;\n",
       "    }\n",
       "\n",
       "    .dataframe thead th {\n",
       "        text-align: right;\n",
       "    }\n",
       "</style>\n",
       "<table border=\"1\" class=\"dataframe\">\n",
       "  <thead>\n",
       "    <tr style=\"text-align: right;\">\n",
       "      <th></th>\n",
       "      <th>company_id_company</th>\n",
       "      <th>Количество повторений</th>\n",
       "    </tr>\n",
       "  </thead>\n",
       "  <tbody>\n",
       "    <tr>\n",
       "      <th>7930</th>\n",
       "      <td>26851.0</td>\n",
       "      <td>5</td>\n",
       "    </tr>\n",
       "    <tr>\n",
       "      <th>442</th>\n",
       "      <td>596.0</td>\n",
       "      <td>5</td>\n",
       "    </tr>\n",
       "    <tr>\n",
       "      <th>19806</th>\n",
       "      <td>66494.0</td>\n",
       "      <td>3</td>\n",
       "    </tr>\n",
       "    <tr>\n",
       "      <th>21622</th>\n",
       "      <td>76479.0</td>\n",
       "      <td>3</td>\n",
       "    </tr>\n",
       "    <tr>\n",
       "      <th>13682</th>\n",
       "      <td>44881.0</td>\n",
       "      <td>3</td>\n",
       "    </tr>\n",
       "    <tr>\n",
       "      <th>...</th>\n",
       "      <td>...</td>\n",
       "      <td>...</td>\n",
       "    </tr>\n",
       "    <tr>\n",
       "      <th>2733</th>\n",
       "      <td>7299.0</td>\n",
       "      <td>2</td>\n",
       "    </tr>\n",
       "    <tr>\n",
       "      <th>2703</th>\n",
       "      <td>7168.0</td>\n",
       "      <td>2</td>\n",
       "    </tr>\n",
       "    <tr>\n",
       "      <th>2613</th>\n",
       "      <td>6796.0</td>\n",
       "      <td>2</td>\n",
       "    </tr>\n",
       "    <tr>\n",
       "      <th>2322</th>\n",
       "      <td>5638.0</td>\n",
       "      <td>2</td>\n",
       "    </tr>\n",
       "    <tr>\n",
       "      <th>40360</th>\n",
       "      <td>283108.0</td>\n",
       "      <td>2</td>\n",
       "    </tr>\n",
       "  </tbody>\n",
       "</table>\n",
       "<p>117 rows × 2 columns</p>\n",
       "</div>"
      ],
      "text/plain": [
       "       company_id_company  Количество повторений\n",
       "7930              26851.0                      5\n",
       "442                 596.0                      5\n",
       "19806             66494.0                      3\n",
       "21622             76479.0                      3\n",
       "13682             44881.0                      3\n",
       "...                   ...                    ...\n",
       "2733               7299.0                      2\n",
       "2703               7168.0                      2\n",
       "2613               6796.0                      2\n",
       "2322               5638.0                      2\n",
       "40360            283108.0                      2\n",
       "\n",
       "[117 rows x 2 columns]"
      ]
     },
     "metadata": {},
     "output_type": "display_data"
    },
    {
     "name": "stdout",
     "output_type": "stream",
     "text": [
      "Обнаружено 248 записей с дубликатами из-за неоднократной продажи компании:\n"
     ]
    },
    {
     "data": {
      "text/html": [
       "<div>\n",
       "<style scoped>\n",
       "    .dataframe tbody tr th:only-of-type {\n",
       "        vertical-align: middle;\n",
       "    }\n",
       "\n",
       "    .dataframe tbody tr th {\n",
       "        vertical-align: top;\n",
       "    }\n",
       "\n",
       "    .dataframe thead th {\n",
       "        text-align: right;\n",
       "    }\n",
       "</style>\n",
       "<table border=\"1\" class=\"dataframe\">\n",
       "  <thead>\n",
       "    <tr style=\"text-align: right;\">\n",
       "      <th></th>\n",
       "      <th>company_id_company</th>\n",
       "      <th>acquiring_company_id</th>\n",
       "      <th>acquired_at</th>\n",
       "    </tr>\n",
       "  </thead>\n",
       "  <tbody>\n",
       "    <tr>\n",
       "      <th>717</th>\n",
       "      <td>11716.0</td>\n",
       "      <td>1735.0</td>\n",
       "      <td>2010-02-03</td>\n",
       "    </tr>\n",
       "    <tr>\n",
       "      <th>718</th>\n",
       "      <td>11716.0</td>\n",
       "      <td>29.0</td>\n",
       "      <td>2002-01-11</td>\n",
       "    </tr>\n",
       "    <tr>\n",
       "      <th>818</th>\n",
       "      <td>11943.0</td>\n",
       "      <td>20.0</td>\n",
       "      <td>2005-06-30</td>\n",
       "    </tr>\n",
       "    <tr>\n",
       "      <th>819</th>\n",
       "      <td>11943.0</td>\n",
       "      <td>204845.0</td>\n",
       "      <td>2005-01-01</td>\n",
       "    </tr>\n",
       "    <tr>\n",
       "      <th>912</th>\n",
       "      <td>1216.0</td>\n",
       "      <td>185.0</td>\n",
       "      <td>2001-03-09</td>\n",
       "    </tr>\n",
       "    <tr>\n",
       "      <th>...</th>\n",
       "      <td>...</td>\n",
       "      <td>...</td>\n",
       "      <td>...</td>\n",
       "    </tr>\n",
       "    <tr>\n",
       "      <th>40352</th>\n",
       "      <td>867.0</td>\n",
       "      <td>1622.0</td>\n",
       "      <td>2011-07-19</td>\n",
       "    </tr>\n",
       "    <tr>\n",
       "      <th>40574</th>\n",
       "      <td>9250.0</td>\n",
       "      <td>22878.0</td>\n",
       "      <td>2008-06-01</td>\n",
       "    </tr>\n",
       "    <tr>\n",
       "      <th>40575</th>\n",
       "      <td>9250.0</td>\n",
       "      <td>565.0</td>\n",
       "      <td>2010-12-30</td>\n",
       "    </tr>\n",
       "    <tr>\n",
       "      <th>40853</th>\n",
       "      <td>997.0</td>\n",
       "      <td>29.0</td>\n",
       "      <td>2007-09-01</td>\n",
       "    </tr>\n",
       "    <tr>\n",
       "      <th>40854</th>\n",
       "      <td>997.0</td>\n",
       "      <td>415.0</td>\n",
       "      <td>2013-07-15</td>\n",
       "    </tr>\n",
       "  </tbody>\n",
       "</table>\n",
       "<p>248 rows × 3 columns</p>\n",
       "</div>"
      ],
      "text/plain": [
       "       company_id_company  acquiring_company_id acquired_at\n",
       "717               11716.0                1735.0  2010-02-03\n",
       "718               11716.0                  29.0  2002-01-11\n",
       "818               11943.0                  20.0  2005-06-30\n",
       "819               11943.0              204845.0  2005-01-01\n",
       "912                1216.0                 185.0  2001-03-09\n",
       "...                   ...                   ...         ...\n",
       "40352               867.0                1622.0  2011-07-19\n",
       "40574              9250.0               22878.0  2008-06-01\n",
       "40575              9250.0                 565.0  2010-12-30\n",
       "40853               997.0                  29.0  2007-09-01\n",
       "40854               997.0                 415.0  2013-07-15\n",
       "\n",
       "[248 rows x 3 columns]"
      ]
     },
     "metadata": {},
     "output_type": "display_data"
    }
   ],
   "source": [
    "# Соединяем датафреймы df_40000 и acquisition по столбцам с разными названиями\n",
    "\n",
    "# Присоединение делаем левое, т.к. нам нужна информация о продажах всех компаниях \n",
    "df_40000_price = df_40000.merge(acquisition_df, left_on='company_id_company', right_on='acquired_company_id', how = 'left')\n",
    "# Удаляем столбец id из присоединяемой таблицы\n",
    "acquisition_df = df_40000_price.drop(columns='id', errors='ignore')\n",
    "\n",
    "# Удаляем явные дубликаты\n",
    "acquisition_df = acquisition_df.drop_duplicates()\n",
    "\n",
    "# Подсчитываем количество вхождений company_id_company\n",
    "duplicates_count = acquisition_df.groupby('company_id_company').size().reset_index(name='Количество повторений')\n",
    "duplicates_count = duplicates_count[duplicates_count['Количество повторений'] > 1]\n",
    "\n",
    "print(\"Количество повторений company_id_company\")\n",
    "display(duplicates_count.sort_values(by='Количество повторений', ascending=False))\n",
    "        \n",
    "# Фильтруем только компании с дубликатами\n",
    "companies_with_duplicates = duplicates_count['company_id_company']\n",
    "\n",
    "# Выводим все записи для компаний с дубликатами\n",
    "duplicates_full = df_40000_price[df_40000_price['company_id_company'].isin(companies_with_duplicates)] #Результатом isin() является булевый массив (True/False) той же длины, что и исходный столбец\n",
    "\n",
    "if not duplicates_full.empty:\n",
    "    print(f\"Обнаружено {len(duplicates_full)} записей с дубликатами из-за неоднократной продажи компании:\")\n",
    "    display(duplicates_full[['company_id_company', 'acquiring_company_id', 'acquired_at']])\n",
    "else:\n",
    "    print(\"Дубликаты company_id не обнаружены\")"
   ]
  },
  {
   "cell_type": "code",
   "execution_count": 74,
   "metadata": {},
   "outputs": [
    {
     "data": {
      "text/plain": [
       "'Найдено 1618 компаний, проданных за символическую сумму'"
      ]
     },
     "metadata": {},
     "output_type": "display_data"
    },
    {
     "data": {
      "text/html": [
       "<div>\n",
       "<style scoped>\n",
       "    .dataframe tbody tr th:only-of-type {\n",
       "        vertical-align: middle;\n",
       "    }\n",
       "\n",
       "    .dataframe tbody tr th {\n",
       "        vertical-align: top;\n",
       "    }\n",
       "\n",
       "    .dataframe thead th {\n",
       "        text-align: right;\n",
       "    }\n",
       "</style>\n",
       "<table border=\"1\" class=\"dataframe\">\n",
       "  <thead>\n",
       "    <tr style=\"text-align: right;\">\n",
       "      <th></th>\n",
       "      <th>name</th>\n",
       "      <th>category_code</th>\n",
       "      <th>funding_total</th>\n",
       "      <th>status</th>\n",
       "    </tr>\n",
       "  </thead>\n",
       "  <tbody>\n",
       "    <tr>\n",
       "      <th>25</th>\n",
       "      <td>Jumptap</td>\n",
       "      <td>mobile</td>\n",
       "      <td>121500000.0</td>\n",
       "      <td>acquired</td>\n",
       "    </tr>\n",
       "    <tr>\n",
       "      <th>63</th>\n",
       "      <td>SideTour</td>\n",
       "      <td>web</td>\n",
       "      <td>4000000.0</td>\n",
       "      <td>acquired</td>\n",
       "    </tr>\n",
       "    <tr>\n",
       "      <th>66</th>\n",
       "      <td>ChoicePass</td>\n",
       "      <td>enterprise</td>\n",
       "      <td>250000.0</td>\n",
       "      <td>acquired</td>\n",
       "    </tr>\n",
       "    <tr>\n",
       "      <th>67</th>\n",
       "      <td>Producteev</td>\n",
       "      <td>software</td>\n",
       "      <td>1310000.0</td>\n",
       "      <td>acquired</td>\n",
       "    </tr>\n",
       "    <tr>\n",
       "      <th>68</th>\n",
       "      <td>TradeCard</td>\n",
       "      <td>enterprise</td>\n",
       "      <td>44925000.0</td>\n",
       "      <td>acquired</td>\n",
       "    </tr>\n",
       "    <tr>\n",
       "      <th>...</th>\n",
       "      <td>...</td>\n",
       "      <td>...</td>\n",
       "      <td>...</td>\n",
       "      <td>...</td>\n",
       "    </tr>\n",
       "    <tr>\n",
       "      <th>40834</th>\n",
       "      <td>Amie Street</td>\n",
       "      <td>web</td>\n",
       "      <td>3900000.0</td>\n",
       "      <td>acquired</td>\n",
       "    </tr>\n",
       "    <tr>\n",
       "      <th>40836</th>\n",
       "      <td>UBmatrix</td>\n",
       "      <td>software</td>\n",
       "      <td>5172350.0</td>\n",
       "      <td>acquired</td>\n",
       "    </tr>\n",
       "    <tr>\n",
       "      <th>40840</th>\n",
       "      <td>wunderloop</td>\n",
       "      <td>advertising</td>\n",
       "      <td>10000000.0</td>\n",
       "      <td>acquired</td>\n",
       "    </tr>\n",
       "    <tr>\n",
       "      <th>40854</th>\n",
       "      <td>Zimbra</td>\n",
       "      <td>enterprise</td>\n",
       "      <td>14500000.0</td>\n",
       "      <td>acquired</td>\n",
       "    </tr>\n",
       "    <tr>\n",
       "      <th>40872</th>\n",
       "      <td>Yoke</td>\n",
       "      <td>web</td>\n",
       "      <td>500000.0</td>\n",
       "      <td>acquired</td>\n",
       "    </tr>\n",
       "  </tbody>\n",
       "</table>\n",
       "<p>1618 rows × 4 columns</p>\n",
       "</div>"
      ],
      "text/plain": [
       "              name category_code  funding_total    status\n",
       "25         Jumptap        mobile    121500000.0  acquired\n",
       "63        SideTour           web      4000000.0  acquired\n",
       "66      ChoicePass    enterprise       250000.0  acquired\n",
       "67      Producteev      software      1310000.0  acquired\n",
       "68       TradeCard    enterprise     44925000.0  acquired\n",
       "...            ...           ...            ...       ...\n",
       "40834  Amie Street           web      3900000.0  acquired\n",
       "40836     UBmatrix      software      5172350.0  acquired\n",
       "40840   wunderloop   advertising     10000000.0  acquired\n",
       "40854       Zimbra    enterprise     14500000.0  acquired\n",
       "40872         Yoke           web       500000.0  acquired\n",
       "\n",
       "[1618 rows x 4 columns]"
      ]
     },
     "metadata": {},
     "output_type": "display_data"
    }
   ],
   "source": [
    "# Фильтрация по статусу \"acquired\"\n",
    "df_40000_acquired = acquisition_df[acquisition_df['status'] == 'acquired']\n",
    "\n",
    "# Фильтрация по ненулевому финансированию\n",
    "df_40000_acquired_nonzero = df_40000_acquired[df_40000_acquired['funding_total'] > 0]\n",
    "\n",
    "# Фильтрация по символической цене покупки\n",
    "df_40000_acquired_nonzero_symbolic_sold = df_40000_acquired_nonzero[df_40000_acquired_nonzero['price_amount'] <= 1]\n",
    "\n",
    "# Результат\n",
    "display(f\"Найдено {len(df_40000_acquired_nonzero_symbolic_sold)} компаний, проданных за символическую сумму\")\n",
    "display(df_40000_acquired_nonzero_symbolic_sold[['name', 'category_code', 'funding_total', 'status']])"
   ]
  },
  {
   "cell_type": "code",
   "execution_count": 75,
   "metadata": {
    "id": "9IDTHfYQFhuX"
   },
   "outputs": [
    {
     "data": {
      "text/plain": [
       "'Нижняя граница выбросов: -8475975.0, верхняя: 14126625.0'"
      ]
     },
     "metadata": {},
     "output_type": "display_data"
    }
   ],
   "source": [
    "# Вычисляем квартили\n",
    "Q1 = df_40000['funding_total'].quantile(0.25)\n",
    "Q3 = df_40000['funding_total'].quantile(0.75)\n",
    "\n",
    "# Вычисляем IQR\n",
    "IQR = Q3 - Q1\n",
    "\n",
    "# Вычисляем границы\n",
    "lower_fence = Q1 - (1.5 * IQR)\n",
    "upper_fence = Q3 + (1.5 * IQR)\n",
    "\n",
    "display(f\"Нижняя граница выбросов: {lower_fence}, верхняя: {upper_fence}\")\n"
   ]
  },
  {
   "cell_type": "code",
   "execution_count": 76,
   "metadata": {
    "scrolled": true
   },
   "outputs": [
    {
     "data": {
      "text/plain": [
       "count         40747\n",
       "mean       10135610\n",
       "std        56464360\n",
       "min               0\n",
       "25%               0\n",
       "50%          600000\n",
       "75%         5650650\n",
       "max      5700000000\n",
       "Name: funding_total, dtype: object"
      ]
     },
     "execution_count": 76,
     "metadata": {},
     "output_type": "execute_result"
    }
   ],
   "source": [
    "# Рассмотрим краткое статистическое описание данных столбца 'funding_total'\n",
    "df_40000['funding_total'].describe().apply(lambda x: '{:.0f}'.format(x))"
   ]
  },
  {
   "cell_type": "markdown",
   "metadata": {},
   "source": [
    "**Промежуточный вывод**:  \n",
    "\n",
    "В процессе объединения двух датафреймов выявлен факт неоднократной покупки/продажи компаний (от 2 до 5 раз).  \n",
    "Причиной возникновения повторов послужил тот факт, что один и тот же стратап покупался несколько раз за разную стоимость и через некоторый интервал времени. Удалению данные строки не подлежат, т.к. являются равнозначными участниками анализа фактически проведенных покупок.  Найдено 1618 компаний, проданных за символическую сумму (0..1$).\n",
    "\n",
    "Нижняя граница (-8 475 975), полученная расчетным путем, не имеет смысла, т.к. финансирование не может быть отрицательным. Значит основная масса данных находится между 0 и 5 650 650.  \n",
    "Любое значение выше 14 126 550 можно считать выбросом."
   ]
  },
  {
   "cell_type": "markdown",
   "metadata": {
    "id": "mEiWpROjrJg2"
   },
   "source": [
    "\n",
    "### 3.4. Цены стартапов по категориям\n",
    "\n",
    "Категории стартапов с типично высокими ценами покупки стартапов и значительным разбросом цен могут быть привлекательными для крупных инвесторов, которые готовы к высоким рискам ради потенциально больших доходов. Среди категорий стартапов выделим категории стартапов, характеризующиеся:\n",
    "\n",
    "- типично высокими ценами;\n",
    "- и наибольшим разбросом цен за стартап."
   ]
  },
  {
   "cell_type": "code",
   "execution_count": 77,
   "metadata": {},
   "outputs": [
    {
     "data": {
      "text/plain": [
       "count             9390\n",
       "mean         393988145\n",
       "std        26846244614\n",
       "min                  0\n",
       "25%                  0\n",
       "50%                  0\n",
       "75%              23626\n",
       "max      2600000000000\n",
       "Name: price_amount, dtype: object"
      ]
     },
     "execution_count": 77,
     "metadata": {},
     "output_type": "execute_result"
    }
   ],
   "source": [
    "# Рассмотрим краткое статистическое описание данных столбца 'funding_total'\n",
    "df_40000_price['price_amount'].describe().apply(lambda x: '{:.0f}'.format(x))"
   ]
  },
  {
   "cell_type": "code",
   "execution_count": 78,
   "metadata": {
    "id": "jQ09dYUWrJg2",
    "vscode": {
     "languageId": "plaintext"
    }
   },
   "outputs": [
    {
     "data": {
      "text/plain": [
       "'ТОП-5 категорий с типично высокими ценами:'"
      ]
     },
     "metadata": {},
     "output_type": "display_data"
    },
    {
     "data": {
      "text/html": [
       "<div>\n",
       "<style scoped>\n",
       "    .dataframe tbody tr th:only-of-type {\n",
       "        vertical-align: middle;\n",
       "    }\n",
       "\n",
       "    .dataframe tbody tr th {\n",
       "        vertical-align: top;\n",
       "    }\n",
       "\n",
       "    .dataframe thead th {\n",
       "        text-align: right;\n",
       "    }\n",
       "</style>\n",
       "<table border=\"1\" class=\"dataframe\">\n",
       "  <thead>\n",
       "    <tr style=\"text-align: right;\">\n",
       "      <th></th>\n",
       "      <th>median</th>\n",
       "      <th>std</th>\n",
       "      <th>count</th>\n",
       "    </tr>\n",
       "    <tr>\n",
       "      <th>category_code</th>\n",
       "      <th></th>\n",
       "      <th></th>\n",
       "      <th></th>\n",
       "    </tr>\n",
       "  </thead>\n",
       "  <tbody>\n",
       "    <tr>\n",
       "      <th>real_estate</th>\n",
       "      <td>400000000.0</td>\n",
       "      <td>2676302206</td>\n",
       "      <td>6</td>\n",
       "    </tr>\n",
       "    <tr>\n",
       "      <th>manufacturing</th>\n",
       "      <td>351000000.0</td>\n",
       "      <td>1060434506</td>\n",
       "      <td>21</td>\n",
       "    </tr>\n",
       "    <tr>\n",
       "      <th>biotech</th>\n",
       "      <td>200000000.0</td>\n",
       "      <td>1968195264</td>\n",
       "      <td>263</td>\n",
       "    </tr>\n",
       "    <tr>\n",
       "      <th>cleantech</th>\n",
       "      <td>185000000.0</td>\n",
       "      <td>874419628</td>\n",
       "      <td>39</td>\n",
       "    </tr>\n",
       "    <tr>\n",
       "      <th>finance</th>\n",
       "      <td>171500000.0</td>\n",
       "      <td>1052920129</td>\n",
       "      <td>20</td>\n",
       "    </tr>\n",
       "  </tbody>\n",
       "</table>\n",
       "</div>"
      ],
      "text/plain": [
       "                    median         std  count\n",
       "category_code                                \n",
       "real_estate    400000000.0  2676302206      6\n",
       "manufacturing  351000000.0  1060434506     21\n",
       "biotech        200000000.0  1968195264    263\n",
       "cleantech      185000000.0   874419628     39\n",
       "finance        171500000.0  1052920129     20"
      ]
     },
     "metadata": {},
     "output_type": "display_data"
    }
   ],
   "source": [
    "# Для анализа типичных цен оставляем в сводном df только строки с адексатной ценой больше 1 $\n",
    "df_40000_price_deviations = df_40000_price[df_40000_price['price_amount'] > 1]\n",
    "\n",
    "# Группируем по категориям, сортируем по убыванию типичной цены\n",
    "category_analysis = (df_40000_price_deviations.groupby('category_code')['price_amount']\n",
    "    .agg(['median', 'std', 'count'])\n",
    "    .query(\"count>=5\")\n",
    "    .sort_values(by='median', ascending = False))\n",
    "\n",
    "# Форматируем столбец std\n",
    "category_analysis['std'] = category_analysis['std'].apply(lambda x: '{:.0f}'.format(x))\n",
    "\n",
    "display(\"ТОП-5 категорий с типично высокими ценами:\")\n",
    "display(category_analysis.head(5))"
   ]
  },
  {
   "cell_type": "code",
   "execution_count": 79,
   "metadata": {
    "scrolled": false
   },
   "outputs": [
    {
     "name": "stdout",
     "output_type": "stream",
     "text": [
      "ТОП-5 категорий с наибольшим разбросом цен:\n"
     ]
    },
    {
     "name": "stderr",
     "output_type": "stream",
     "text": [
      "/opt/conda/lib/python3.9/site-packages/pandas/core/frame.py:3191: SettingWithCopyWarning: \n",
      "A value is trying to be set on a copy of a slice from a DataFrame.\n",
      "Try using .loc[row_indexer,col_indexer] = value instead\n",
      "\n",
      "See the caveats in the documentation: https://pandas.pydata.org/pandas-docs/stable/user_guide/indexing.html#returning-a-view-versus-a-copy\n",
      "  self[k1] = value[k2]\n"
     ]
    },
    {
     "data": {
      "text/html": [
       "<div>\n",
       "<style scoped>\n",
       "    .dataframe tbody tr th:only-of-type {\n",
       "        vertical-align: middle;\n",
       "    }\n",
       "\n",
       "    .dataframe tbody tr th {\n",
       "        vertical-align: top;\n",
       "    }\n",
       "\n",
       "    .dataframe thead th {\n",
       "        text-align: right;\n",
       "    }\n",
       "</style>\n",
       "<table border=\"1\" class=\"dataframe\">\n",
       "  <thead>\n",
       "    <tr style=\"text-align: right;\">\n",
       "      <th></th>\n",
       "      <th>price_amount_max</th>\n",
       "      <th>price_amount_min</th>\n",
       "      <th>price_amount_std</th>\n",
       "      <th>price_amount_count</th>\n",
       "      <th>price_spread</th>\n",
       "    </tr>\n",
       "    <tr>\n",
       "      <th>category_code</th>\n",
       "      <th></th>\n",
       "      <th></th>\n",
       "      <th></th>\n",
       "      <th></th>\n",
       "      <th></th>\n",
       "    </tr>\n",
       "  </thead>\n",
       "  <tbody>\n",
       "    <tr>\n",
       "      <th>games_video</th>\n",
       "      <td>10,000,000,000</td>\n",
       "      <td>60.0</td>\n",
       "      <td>1,463,477,654</td>\n",
       "      <td>88</td>\n",
       "      <td>9,999,999,940</td>\n",
       "    </tr>\n",
       "    <tr>\n",
       "      <th>security</th>\n",
       "      <td>7,680,000,000</td>\n",
       "      <td>1850000.0</td>\n",
       "      <td>1,378,442,023</td>\n",
       "      <td>36</td>\n",
       "      <td>7,678,150,000</td>\n",
       "    </tr>\n",
       "    <tr>\n",
       "      <th>real_estate</th>\n",
       "      <td>6,850,000,000</td>\n",
       "      <td>3000000.0</td>\n",
       "      <td>2,676,302,206</td>\n",
       "      <td>6</td>\n",
       "      <td>6,847,000,000</td>\n",
       "    </tr>\n",
       "    <tr>\n",
       "      <th>semiconductor</th>\n",
       "      <td>6,500,000,000</td>\n",
       "      <td>1500000.0</td>\n",
       "      <td>1,122,024,808</td>\n",
       "      <td>71</td>\n",
       "      <td>6,498,500,000</td>\n",
       "    </tr>\n",
       "    <tr>\n",
       "      <th>web</th>\n",
       "      <td>6,400,000,000</td>\n",
       "      <td>5000.0</td>\n",
       "      <td>695,440,501</td>\n",
       "      <td>260</td>\n",
       "      <td>6,399,995,000</td>\n",
       "    </tr>\n",
       "  </tbody>\n",
       "</table>\n",
       "</div>"
      ],
      "text/plain": [
       "              price_amount_max  price_amount_min price_amount_std  \\\n",
       "category_code                                                       \n",
       "games_video     10,000,000,000              60.0    1,463,477,654   \n",
       "security         7,680,000,000         1850000.0    1,378,442,023   \n",
       "real_estate      6,850,000,000         3000000.0    2,676,302,206   \n",
       "semiconductor    6,500,000,000         1500000.0    1,122,024,808   \n",
       "web              6,400,000,000            5000.0      695,440,501   \n",
       "\n",
       "               price_amount_count   price_spread  \n",
       "category_code                                     \n",
       "games_video                    88  9,999,999,940  \n",
       "security                       36  7,678,150,000  \n",
       "real_estate                     6  6,847,000,000  \n",
       "semiconductor                  71  6,498,500,000  \n",
       "web                           260  6,399,995,000  "
      ]
     },
     "metadata": {},
     "output_type": "display_data"
    }
   ],
   "source": [
    "# Для анализа разброса цен оставляем в df только строки с адекватной ценой больше 1 $\n",
    "df_40000_price_deviations = df_40000_price[df_40000_price['price_amount'] > 1]\n",
    "\n",
    "# Группируем по категориям\n",
    "category_analysis = (df_40000_price_deviations.groupby('category_code')\n",
    "    .agg({'price_amount':['max', 'min', 'std', 'count']}))\n",
    "\n",
    "# Переименовываем столбцы для удобства и форматирования\n",
    "category_analysis.columns = ['_'.join(col) for col in category_analysis.columns]\n",
    "\n",
    "# Считаем разброс\n",
    "category_analysis['price_spread'] = category_analysis['price_amount_max'] - category_analysis['price_amount_min']\n",
    "\n",
    "# Фильтруем категории с наибольшим разбросом\n",
    "high_spread_categories = category_analysis[category_analysis['price_spread'] > category_analysis['price_spread'].median()]\n",
    "\n",
    "# Форматируем нужные столбцы\n",
    "cols_to_format = ['price_amount_max', 'price_amount_std', 'price_spread']\n",
    "high_spread_categories[cols_to_format] = high_spread_categories[cols_to_format].apply(lambda x: x.apply(lambda y: '{:,.0f}'.format(y)))\n",
    "\n",
    "# Выводим результат\n",
    "print(\"ТОП-5 категорий с наибольшим разбросом цен:\")\n",
    "display(high_spread_categories.sort_values(by='price_spread', ascending=False).head(5))"
   ]
  },
  {
   "cell_type": "markdown",
   "metadata": {},
   "source": [
    "**Промежуточный вывод**:  \n",
    "\n",
    "- ТОП-5 категорий с типично высокими ценами сформирован на основании сводного датафрейма и данных, отфильтрованных в нем по признаку \"Сумма сделки > 1 доллара\". Типичная цена рассчитана как медиана значений, а группы сформированы из категорий, где было не менее 5 сделок. К таким категориям относятся недвижимость, производство, биотехнологии, чистые технологии и финансы .\n",
    "    \n",
    "    | Категория | Median | Std | Кол-во сделок |\n",
    "|-----------|:------:|:--------:|---------------|\n",
    "| real_estate | 400,000,000 | 2,676,302,206 | 6 |\n",
    "| manufacturing | 351,000,000 | 1,060,434,506 | 21 |\n",
    "| biotech | 200,000,000 | 1,968,195,264 | 263 |\n",
    "| cleantech | 185,000,000 | 874,419,628 | 39 |\n",
    "| finance | 171,500,000 | 1,052,920,129 | 20 |\n",
    " \n",
    "- ТОП-5 категорий с наибольшим разбросом цен сформирован на основании сводного датафрейма и данных, отфильтрованных в нем по признаку \"Сумма сделки > 1 доллара\". Типичная цена рассчитана как медиана значений, а топ-5 выбраны из набора данных, где отклонение выше типичного. Максимальный разброс цен наблюдается у категорий игры&видео, безопасность, недвижимость, полупроводники и сетевые разработки.\n",
    "\n",
    "| Категория | Максимум | Минимум | Стандартное отклонение | Количество | Разброс |\n",
    "|-----------|:--------:|:-------:|:---------------------:|:----------:|:-------:|\n",
    "| games_video | 10,000,000,000 | 60 | 1,463,477,654 | 88 | 9,999,999,940 |\n",
    "| security | 7,680,000,000 | 1,850,000 | 1,378,442,023 | 36 | 7,678,150,000 |\n",
    "| real_estate | 6,850,000,000 | 3,000,000 | 2,676,302,206 | 6 | 6,847,000,000 |\n",
    "| semiconductor | 6,500,000,000 | 1,500,000 | 1,122,024,808 | 71 | 6,498,500,000 |\n",
    "| web | 6,400,000,000 | 5,000 | 695,440,501 | 260 | 6,399,995,000 |\n"
   ]
  },
  {
   "cell_type": "markdown",
   "metadata": {
    "id": "ADOfyVY_rJg3"
   },
   "source": [
    "\n",
    "### 3.5. Сколько раундов продержится стартап перед покупкой\n",
    "\n",
    "- Необходимо проанализировать столбец `funding_rounds`. Заказчика интересует типичное значение количества раундов для каждого возможного статуса стартапа.\n",
    "- Построим график, который отображает, сколько в среднем раундов финансирования проходило для стартапов из каждой группы."
   ]
  },
  {
   "cell_type": "code",
   "execution_count": 80,
   "metadata": {
    "scrolled": true
   },
   "outputs": [
    {
     "data": {
      "text/plain": [
       "count    40747.000000\n",
       "mean         1.291531\n",
       "std          1.264604\n",
       "min          0.000000\n",
       "25%          1.000000\n",
       "50%          1.000000\n",
       "75%          2.000000\n",
       "max         15.000000\n",
       "Name: funding_rounds, dtype: float64"
      ]
     },
     "execution_count": 80,
     "metadata": {},
     "output_type": "execute_result"
    }
   ],
   "source": [
    "# Предварительный анализ количества раундов финансирования\n",
    "df_40000['funding_rounds'].describe()"
   ]
  },
  {
   "cell_type": "code",
   "execution_count": 81,
   "metadata": {},
   "outputs": [
    {
     "data": {
      "text/plain": [
       "status\n",
       "operating    26535\n",
       "acquired      2593\n",
       "closed        2089\n",
       "ipo            490\n",
       "Name: funding_rounds, dtype: int64"
      ]
     },
     "metadata": {},
     "output_type": "display_data"
    }
   ],
   "source": [
    "# Для анализа количества раундов финансирования оставляем в df только строки, \n",
    "#  где число руанов указано и финансирование было больше 0\n",
    "df_40000_notnull = df_40000[(df_40000['funding_rounds'] > 0)|(df_40000['funding_total'] > 0)]\n",
    "\n",
    "# Анализ группировки по статусам\n",
    "typical_rounds = (df_40000_notnull.groupby('status')['funding_rounds'].count().sort_values(ascending=False))\n",
    "display(typical_rounds)"
   ]
  },
  {
   "cell_type": "code",
   "execution_count": 82,
   "metadata": {
    "id": "hgXMPC4WrJg3",
    "vscode": {
     "languageId": "plaintext"
    }
   },
   "outputs": [
    {
     "data": {
      "text/html": [
       "<div>\n",
       "<style scoped>\n",
       "    .dataframe tbody tr th:only-of-type {\n",
       "        vertical-align: middle;\n",
       "    }\n",
       "\n",
       "    .dataframe tbody tr th {\n",
       "        vertical-align: top;\n",
       "    }\n",
       "\n",
       "    .dataframe thead th {\n",
       "        text-align: right;\n",
       "    }\n",
       "</style>\n",
       "<table border=\"1\" class=\"dataframe\">\n",
       "  <thead>\n",
       "    <tr style=\"text-align: right;\">\n",
       "      <th></th>\n",
       "      <th>index</th>\n",
       "      <th>Статус</th>\n",
       "      <th>Среднее количество раундов</th>\n",
       "    </tr>\n",
       "  </thead>\n",
       "  <tbody>\n",
       "    <tr>\n",
       "      <th>0</th>\n",
       "      <td>0</td>\n",
       "      <td>ipo</td>\n",
       "      <td>2.526531</td>\n",
       "    </tr>\n",
       "    <tr>\n",
       "      <th>1</th>\n",
       "      <td>1</td>\n",
       "      <td>acquired</td>\n",
       "      <td>1.896645</td>\n",
       "    </tr>\n",
       "    <tr>\n",
       "      <th>2</th>\n",
       "      <td>2</td>\n",
       "      <td>operating</td>\n",
       "      <td>1.642359</td>\n",
       "    </tr>\n",
       "    <tr>\n",
       "      <th>3</th>\n",
       "      <td>3</td>\n",
       "      <td>closed</td>\n",
       "      <td>1.383437</td>\n",
       "    </tr>\n",
       "  </tbody>\n",
       "</table>\n",
       "</div>"
      ],
      "text/plain": [
       "   index     Статус  Среднее количество раундов\n",
       "0      0        ipo                    2.526531\n",
       "1      1   acquired                    1.896645\n",
       "2      2  operating                    1.642359\n",
       "3      3     closed                    1.383437"
      ]
     },
     "execution_count": 82,
     "metadata": {},
     "output_type": "execute_result"
    }
   ],
   "source": [
    "# Для анализа количества раундов финансирования оставляем в df только строки, \n",
    "#  где число руанов указано и финансирование было больше 0\n",
    "df_40000_notnull = df_40000[(df_40000['funding_rounds'] > 0)|(df_40000['funding_total'] > 0)]\n",
    "\n",
    "# Группируем по категориям\n",
    "typical_rounds = (df_40000_notnull.groupby('status')['funding_rounds']\n",
    "                  .mean()\n",
    "                  .sort_values(ascending=False)\n",
    "                  .reset_index()\n",
    "                 )\n",
    "                  \n",
    "# Переименовываем столбцы для удобства\n",
    "typical_rounds.columns = ['Статус', 'Среднее количество раундов']\n",
    "\n",
    "typical_rounds.reset_index()"
   ]
  },
  {
   "cell_type": "code",
   "execution_count": 83,
   "metadata": {},
   "outputs": [
    {
     "data": {
      "text/plain": [
       "count    31707.000000\n",
       "mean         1.659760\n",
       "std          1.201666\n",
       "min          1.000000\n",
       "25%          1.000000\n",
       "50%          1.000000\n",
       "75%          2.000000\n",
       "max         15.000000\n",
       "Name: funding_rounds, dtype: float64"
      ]
     },
     "execution_count": 83,
     "metadata": {},
     "output_type": "execute_result"
    }
   ],
   "source": [
    "# Предварительный анализ количества раундов финансирования\n",
    "df_40000_notnull['funding_rounds'].describe()"
   ]
  },
  {
   "cell_type": "code",
   "execution_count": 84,
   "metadata": {
    "id": "pV3e7kw5Fj1Y"
   },
   "outputs": [
    {
     "data": {
      "image/png": "[encoded data removed]",
      "text/plain": [
       "<Figure size 720x432 with 1 Axes>"
      ]
     },
     "metadata": {
      "needs_background": "light"
     },
     "output_type": "display_data"
    }
   ],
   "source": [
    "# Создаем график\n",
    "plt.figure(figsize=(10, 6))\n",
    "\n",
    "# Используем seaborn для создания барплота\n",
    "sns.barplot(x='Среднее количество раундов', y='Статус', \n",
    "            data=typical_rounds, \n",
    "            #ci=None,  # Отключаем доверительные интервалы\n",
    "            palette='pastel')\n",
    "\n",
    "# Добавляем значения среднего количества раундов\n",
    "for index, row in typical_rounds.iterrows():\n",
    "    plt.text(row['Среднее количество раундов'], index, \n",
    "             f'{row[\"Среднее количество раундов\"]:.2f}', \n",
    "             va='center', ha='left', \n",
    "             fontsize=12)\n",
    "\n",
    "# Добавляем количество стартапов\n",
    "total_counts = df_40000_notnull['status'].value_counts().sort_index()\n",
    "for i, count in enumerate(total_counts):\n",
    "    plt.text(0.05, i, f'Кол-во стартапов = {count}', va='center', ha='left', fontsize=12)\n",
    "\n",
    "# Настройка оформления\n",
    "plt.title('Среднее количество раундов финансирования по статусу стартапа')\n",
    "plt.xlabel('Среднее количество раундов')\n",
    "plt.ylabel('Статус стартапа')\n",
    "plt.grid(axis='x', linestyle='--', alpha=0.5)\n",
    "\n",
    "plt.show()"
   ]
  },
  {
   "cell_type": "markdown",
   "metadata": {},
   "source": [
    "**Промежуточный вывод**:    \n",
    "\n",
    "Типичное значение количества раундов для каждого статуса стартапа варьируется в диапазоне от 1,38 до 2,53. Для анализа отобраны данные, где число раундов и финансирование больше 0.  \n",
    "\n",
    "| Статус | Среднее количество раундов |\n",
    "|--------|----------------------------|\n",
    "| ipo | 2.53 |\n",
    "| acquired | 1.90 |\n",
    "| operating | 1.64 |\n",
    "| closed | 1.38 |  \n",
    "\n",
    "Из диаграммы видно, что максимальное кол-во стартапов (26 535 шт.) находится в статусе closet с наименьшим средним количеством раундов (1,38).  \n",
    "Стартапы, получившие финансирование в среднем более 2,5 раз, показывают свою успешность, предлагая свои акции инвесторам для покупки (в статусе IPO - 2593 шт.), и готовы к перспективам роста."
   ]
  },
  {
   "cell_type": "markdown",
   "metadata": {
    "id": "VAFEZ2HBrJg3"
   },
   "source": [
    "\n",
    "## Шаг 4. Итоговый вывод и рекомендации"
   ]
  },
  {
   "cell_type": "markdown",
   "metadata": {},
   "source": [
    "**Реализация проекта:**  \n",
    "\n",
    "В процессе работы над поставленной задачей была проведена **предобработка данных**. Были рассмотрены предоставленные датасеты, выявлены критичные и не критичные пропуски данных, преобразованы на оптимальные типы данных в столбцах `acquisition_df, comp_and_round_df, education_df, fund_df`, заменены названия столбцов под общепринятый стиль snake_case.  \n",
    "Наличие высокого процента пропусков в `company_and_rounds.csv` подтвердило гипотезу заказчика о том, что данные по компаниям из этой таблицы раньше хранились иначе. Было проведено разделение данных с указанием связующего идентификатора `id_company`. Столбец `network_username`, который встречается в нескольких датасетах, НЕ подходит для объединения данных, т.к. несет в себе разную информацию. При этом общих значений во всех трех датасетах только 8   \n",
    "\n",
    "**Анализ динамики финансирования** показал, что\n",
    "- Наблюдается спад объемов финансирования с 2005 по 2012 год;\n",
    "- 2013 год показывает рост (+200 тыс $);\n",
    "- Количество раундов растет при относительно стабильном финансировании.\n",
    "\n",
    "**Структура компаний и образование сотрудников** выявили, что большинство компаний имеют небольшой штат (до 10 человек):\n",
    "- 18 117 компаний имеют 1 сотрудника;\n",
    "- 2 709 компаний имеют 2 сотрудника;\n",
    "- 1 976 компаний имеют до 10 сотрудников.\n",
    "\n",
    "В целом по всем группам 46-49 % сотрудников не имеют отметки о наличии образования.  \n",
    "Компании с 6-10 сотрудниками имеют максимальный процент кадров без образования (53,2%).  \n",
    "Компании с 26+ сотрудниками имеют только 26,5 % сотрудников без образования, т.е. в данной группе самый высокий процент наличия высококвалифицированных кадров.  \n",
    "\n",
    "**Сумма общего финансирования**, указанная в столбце `funding_total` имеет значительную асимметрию данных и без доп. обработки непригодна к типичному анализу: \n",
    "- среднее (10.1 млн) меньше медианы (600 000);\n",
    "- 25% данных имеют нулевое финансирование;\n",
    "- Максимальное значение: 5.7 млрд $;\n",
    "- наличие выбросов: значения выше 14 126 550.  \n",
    "\n",
    "Ключевыми категориями, где зафиксированы **высокие цены сделки** по покупке стартапа, являются:\n",
    "1. Недвижимость\n",
    "2. Производство\n",
    "3. Биотехнологии\n",
    "4. Чистые технологии\n",
    "5. Финансы  \n",
    "\n",
    "Максимальный **разброс цен** зафиксирован в категориях:\n",
    "1. Игры & видео\n",
    "2. Безопасность\n",
    "3. Недвижимость\n",
    "4. Полупроводники\n",
    "5. Сетевые разработки\n",
    "\n",
    "В процессе анализа стоимости стартапа выявлен факт **неоднократной покупки/продажи компаний (от 2 до 5 раз)**.  \n",
    "Причиной возникновения повторов послужило, что один и тот же стратап покупался несколько раз разными компаниями за разную стоимость и через некоторый интервал времени. Удалению данные строки не подлежат, т.к. являются равнозначными участниками анализа фактически проведенных покупок.  Найдено 1618 компаний, проданных за символическую сумму (0..1$).\n",
    "\n",
    "Типичное значение **количества раундов** для каждого статуса стартапа варьируется в диапазоне от 1,38 до 2,53. Для анализа отобраны данные, где число раундов и финансирование больше 0. Максимальное кол-во стартапов (26 535 шт.) находится в статусе closet с наименьшим средним количеством раундов (1,38). Стартапы, получившие финансирование в среднем более 2,5 раз, показывают свою успешность в статусе IPO (2593 шт.) и готовы к перспективам роста.\n"
   ]
  },
  {
   "cell_type": "markdown",
   "metadata": {},
   "source": [
    "**Рекомендации:**  \n",
    "\n",
    "С целью повышения вероятности заключения успешной сделки по покупке компании рекомендую сфокусироваться на перспективных направлениях:\n",
    "1. Востребованные категории с высокими ценами;\n",
    "2. Стартапы в статусе IPO с дальнейшим исследованием факторов их успеха;\n",
    "3. Компании с оптимальным штатом высококвалифицированных сотрудников(26+ человек).  \n",
    "\n",
    "При этом стоит обратить внимание и, возможно, провести дополнительные изучения причин возникновения асимметрии финансирования стартапов и анализ эффективности раундов финансирования."
   ]
  }
 ],
 "metadata": {
  "ExecuteTimeLog": [
   {
    "duration": 1452,
    "start_time": "2025-03-03T07:42:50.106Z"
   },
   {
    "duration": 4,
    "start_time": "2025-03-03T07:43:54.093Z"
   },
   {
    "duration": 2924,
    "start_time": "2025-03-03T07:47:23.141Z"
   },
   {
    "duration": 12,
    "start_time": "2025-03-03T08:00:43.456Z"
   },
   {
    "duration": 22,
    "start_time": "2025-03-03T08:00:45.511Z"
   },
   {
    "duration": 8,
    "start_time": "2025-03-03T08:00:46.939Z"
   },
   {
    "duration": 7,
    "start_time": "2025-03-03T08:00:48.110Z"
   },
   {
    "duration": 8,
    "start_time": "2025-03-03T08:00:49.148Z"
   },
   {
    "duration": 10,
    "start_time": "2025-03-03T08:00:50.133Z"
   },
   {
    "duration": 7,
    "start_time": "2025-03-03T08:00:51.195Z"
   },
   {
    "duration": 9,
    "start_time": "2025-03-03T08:06:59.139Z"
   },
   {
    "duration": 2823,
    "start_time": "2025-03-03T08:07:04.569Z"
   },
   {
    "duration": 8,
    "start_time": "2025-03-03T08:07:07.394Z"
   },
   {
    "duration": 24,
    "start_time": "2025-03-03T08:07:07.460Z"
   },
   {
    "duration": 8,
    "start_time": "2025-03-03T08:07:08.193Z"
   },
   {
    "duration": 7,
    "start_time": "2025-03-03T08:07:09.615Z"
   },
   {
    "duration": 7,
    "start_time": "2025-03-03T08:07:10.688Z"
   },
   {
    "duration": 9,
    "start_time": "2025-03-03T08:07:12.932Z"
   },
   {
    "duration": 7,
    "start_time": "2025-03-03T08:07:13.976Z"
   },
   {
    "duration": 1070,
    "start_time": "2025-03-03T08:10:04.964Z"
   },
   {
    "duration": 2150,
    "start_time": "2025-03-03T08:10:06.036Z"
   },
   {
    "duration": 14,
    "start_time": "2025-03-03T08:10:08.187Z"
   },
   {
    "duration": 26,
    "start_time": "2025-03-03T08:10:08.202Z"
   },
   {
    "duration": 30,
    "start_time": "2025-03-03T08:10:08.231Z"
   },
   {
    "duration": 106,
    "start_time": "2025-03-03T08:10:08.263Z"
   },
   {
    "duration": 9,
    "start_time": "2025-03-03T08:10:08.371Z"
   },
   {
    "duration": 50,
    "start_time": "2025-03-03T08:10:08.381Z"
   },
   {
    "duration": 7,
    "start_time": "2025-03-03T08:10:08.432Z"
   },
   {
    "duration": 25,
    "start_time": "2025-03-03T08:10:08.441Z"
   },
   {
    "duration": 7,
    "start_time": "2025-03-03T08:10:08.468Z"
   },
   {
    "duration": 39,
    "start_time": "2025-03-03T08:10:08.477Z"
   },
   {
    "duration": 90,
    "start_time": "2025-03-03T08:10:08.518Z"
   },
   {
    "duration": 13,
    "start_time": "2025-03-03T08:10:08.612Z"
   },
   {
    "duration": 22,
    "start_time": "2025-03-03T08:10:08.627Z"
   },
   {
    "duration": 69,
    "start_time": "2025-03-03T08:10:08.651Z"
   },
   {
    "duration": 48,
    "start_time": "2025-03-03T12:34:02.873Z"
   },
   {
    "duration": 6,
    "start_time": "2025-03-03T12:34:15.149Z"
   },
   {
    "duration": 5,
    "start_time": "2025-03-03T12:34:32.137Z"
   },
   {
    "duration": 1260,
    "start_time": "2025-03-03T12:34:42.152Z"
   },
   {
    "duration": 2261,
    "start_time": "2025-03-03T12:34:43.414Z"
   },
   {
    "duration": 12,
    "start_time": "2025-03-03T12:34:45.677Z"
   },
   {
    "duration": 5,
    "start_time": "2025-03-03T12:34:45.690Z"
   },
   {
    "duration": 15,
    "start_time": "2025-03-03T12:34:45.697Z"
   },
   {
    "duration": 22,
    "start_time": "2025-03-03T12:34:45.714Z"
   },
   {
    "duration": 104,
    "start_time": "2025-03-03T12:34:45.738Z"
   },
   {
    "duration": 8,
    "start_time": "2025-03-03T12:34:45.844Z"
   },
   {
    "duration": 39,
    "start_time": "2025-03-03T12:34:45.854Z"
   },
   {
    "duration": 8,
    "start_time": "2025-03-03T12:34:45.910Z"
   },
   {
    "duration": 29,
    "start_time": "2025-03-03T12:34:45.919Z"
   },
   {
    "duration": 8,
    "start_time": "2025-03-03T12:34:45.949Z"
   },
   {
    "duration": 24,
    "start_time": "2025-03-03T12:34:45.958Z"
   },
   {
    "duration": 27,
    "start_time": "2025-03-03T12:34:45.983Z"
   },
   {
    "duration": 18,
    "start_time": "2025-03-03T12:34:46.011Z"
   },
   {
    "duration": 6,
    "start_time": "2025-03-03T12:34:46.030Z"
   },
   {
    "duration": 14,
    "start_time": "2025-03-03T12:34:46.038Z"
   },
   {
    "duration": 9,
    "start_time": "2025-03-03T12:35:42.894Z"
   },
   {
    "duration": 8,
    "start_time": "2025-03-03T12:36:50.850Z"
   },
   {
    "duration": 7,
    "start_time": "2025-03-03T12:43:17.466Z"
   },
   {
    "duration": 9,
    "start_time": "2025-03-03T12:43:21.911Z"
   },
   {
    "duration": 34,
    "start_time": "2025-03-03T12:48:36.816Z"
   },
   {
    "duration": 17,
    "start_time": "2025-03-03T12:53:23.467Z"
   },
   {
    "duration": 111,
    "start_time": "2025-03-03T12:55:10.714Z"
   },
   {
    "duration": 96,
    "start_time": "2025-03-03T12:55:41.391Z"
   },
   {
    "duration": 921,
    "start_time": "2025-03-03T12:55:58.646Z"
   },
   {
    "duration": 24,
    "start_time": "2025-03-03T12:56:16.519Z"
   },
   {
    "duration": 1138,
    "start_time": "2025-03-03T12:56:26.334Z"
   },
   {
    "duration": 986,
    "start_time": "2025-03-03T12:59:39.722Z"
   },
   {
    "duration": 985,
    "start_time": "2025-03-03T12:59:58.931Z"
   },
   {
    "duration": 2,
    "start_time": "2025-03-03T13:01:38.226Z"
   },
   {
    "duration": 24,
    "start_time": "2025-03-03T13:09:05.296Z"
   },
   {
    "duration": 7,
    "start_time": "2025-03-03T13:33:39.826Z"
   },
   {
    "duration": 7,
    "start_time": "2025-03-03T13:34:08.011Z"
   },
   {
    "duration": 943,
    "start_time": "2025-03-03T13:38:01.099Z"
   },
   {
    "duration": 1167,
    "start_time": "2025-03-03T13:38:12.355Z"
   },
   {
    "duration": 965,
    "start_time": "2025-03-03T13:41:01.679Z"
   },
   {
    "duration": 92,
    "start_time": "2025-03-03T13:51:34.960Z"
   },
   {
    "duration": 90,
    "start_time": "2025-03-03T13:51:41.815Z"
   },
   {
    "duration": 35,
    "start_time": "2025-03-03T13:53:08.052Z"
   },
   {
    "duration": 36,
    "start_time": "2025-03-03T13:53:20.146Z"
   },
   {
    "duration": 35,
    "start_time": "2025-03-03T13:53:34.774Z"
   },
   {
    "duration": 15,
    "start_time": "2025-03-03T13:55:13.623Z"
   },
   {
    "duration": 16,
    "start_time": "2025-03-03T13:55:16.305Z"
   },
   {
    "duration": 20,
    "start_time": "2025-03-03T13:57:02.818Z"
   },
   {
    "duration": 21,
    "start_time": "2025-03-03T13:57:03.812Z"
   },
   {
    "duration": 49,
    "start_time": "2025-03-03T14:06:15.543Z"
   },
   {
    "duration": 55,
    "start_time": "2025-03-03T14:09:35.417Z"
   },
   {
    "duration": 26,
    "start_time": "2025-03-03T14:10:27.082Z"
   },
   {
    "duration": 8,
    "start_time": "2025-03-03T14:17:35.302Z"
   },
   {
    "duration": 129,
    "start_time": "2025-03-03T14:21:53.886Z"
   },
   {
    "duration": 1136,
    "start_time": "2025-03-03T14:23:09.431Z"
   },
   {
    "duration": 35,
    "start_time": "2025-03-03T14:26:01.421Z"
   },
   {
    "duration": 90,
    "start_time": "2025-03-03T14:27:35.005Z"
   },
   {
    "duration": 28,
    "start_time": "2025-03-03T14:53:02.636Z"
   },
   {
    "duration": 23,
    "start_time": "2025-03-03T14:55:12.149Z"
   },
   {
    "duration": 19,
    "start_time": "2025-03-03T14:56:02.102Z"
   },
   {
    "duration": 1113,
    "start_time": "2025-03-03T14:56:19.116Z"
   },
   {
    "duration": 2287,
    "start_time": "2025-03-03T14:56:20.231Z"
   },
   {
    "duration": 12,
    "start_time": "2025-03-03T14:56:22.519Z"
   },
   {
    "duration": 10,
    "start_time": "2025-03-03T14:56:22.532Z"
   },
   {
    "duration": 8,
    "start_time": "2025-03-03T14:56:22.545Z"
   },
   {
    "duration": 7,
    "start_time": "2025-03-03T14:56:22.555Z"
   },
   {
    "duration": 47,
    "start_time": "2025-03-03T14:56:22.564Z"
   },
   {
    "duration": 8,
    "start_time": "2025-03-03T14:56:22.613Z"
   },
   {
    "duration": 30,
    "start_time": "2025-03-03T14:56:22.622Z"
   },
   {
    "duration": 35,
    "start_time": "2025-03-03T14:56:22.654Z"
   },
   {
    "duration": 30,
    "start_time": "2025-03-03T14:56:22.690Z"
   },
   {
    "duration": 104,
    "start_time": "2025-03-03T14:56:22.722Z"
   },
   {
    "duration": 96,
    "start_time": "2025-03-03T14:56:22.827Z"
   },
   {
    "duration": 131,
    "start_time": "2025-03-03T14:56:22.927Z"
   },
   {
    "duration": 8,
    "start_time": "2025-03-03T14:56:23.059Z"
   },
   {
    "duration": 48,
    "start_time": "2025-03-03T14:56:23.069Z"
   },
   {
    "duration": 33,
    "start_time": "2025-03-03T14:56:23.119Z"
   },
   {
    "duration": 39,
    "start_time": "2025-03-03T14:56:23.153Z"
   },
   {
    "duration": 7,
    "start_time": "2025-03-03T14:56:23.210Z"
   },
   {
    "duration": 32,
    "start_time": "2025-03-03T14:56:23.219Z"
   },
   {
    "duration": 15,
    "start_time": "2025-03-03T14:56:23.252Z"
   },
   {
    "duration": 22,
    "start_time": "2025-03-03T14:56:23.268Z"
   },
   {
    "duration": 72,
    "start_time": "2025-03-03T14:56:23.291Z"
   },
   {
    "duration": 26,
    "start_time": "2025-03-03T14:56:23.365Z"
   },
   {
    "duration": 20,
    "start_time": "2025-03-03T14:56:23.392Z"
   },
   {
    "duration": 23,
    "start_time": "2025-03-03T14:56:23.413Z"
   },
   {
    "duration": 59,
    "start_time": "2025-03-03T14:56:23.437Z"
   },
   {
    "duration": 13,
    "start_time": "2025-03-03T14:56:23.497Z"
   },
   {
    "duration": 6,
    "start_time": "2025-03-03T14:56:23.511Z"
   },
   {
    "duration": 14,
    "start_time": "2025-03-03T14:56:23.518Z"
   },
   {
    "duration": 15,
    "start_time": "2025-03-03T14:56:23.533Z"
   },
   {
    "duration": 143,
    "start_time": "2025-03-03T14:56:23.549Z"
   },
   {
    "duration": 167,
    "start_time": "2025-03-03T14:56:23.694Z"
   },
   {
    "duration": 117,
    "start_time": "2025-03-03T14:56:23.863Z"
   },
   {
    "duration": 21,
    "start_time": "2025-03-03T15:00:25.884Z"
   },
   {
    "duration": 36,
    "start_time": "2025-03-03T15:01:38.809Z"
   },
   {
    "duration": 25,
    "start_time": "2025-03-03T15:02:16.433Z"
   },
   {
    "duration": 44,
    "start_time": "2025-03-03T15:02:34.779Z"
   },
   {
    "duration": 22,
    "start_time": "2025-03-03T15:05:47.294Z"
   },
   {
    "duration": 26,
    "start_time": "2025-03-03T15:06:04.253Z"
   },
   {
    "duration": 74,
    "start_time": "2025-03-03T15:06:19.213Z"
   },
   {
    "duration": 1122,
    "start_time": "2025-03-03T15:06:37.207Z"
   },
   {
    "duration": 3279,
    "start_time": "2025-03-03T15:06:38.331Z"
   },
   {
    "duration": 12,
    "start_time": "2025-03-03T15:06:41.612Z"
   },
   {
    "duration": 18,
    "start_time": "2025-03-03T15:06:41.625Z"
   },
   {
    "duration": 17,
    "start_time": "2025-03-03T15:06:41.645Z"
   },
   {
    "duration": 7,
    "start_time": "2025-03-03T15:06:41.663Z"
   },
   {
    "duration": 34,
    "start_time": "2025-03-03T15:06:41.671Z"
   },
   {
    "duration": 10,
    "start_time": "2025-03-03T15:06:41.708Z"
   },
   {
    "duration": 24,
    "start_time": "2025-03-03T15:06:41.720Z"
   },
   {
    "duration": 24,
    "start_time": "2025-03-03T15:06:41.745Z"
   },
   {
    "duration": 27,
    "start_time": "2025-03-03T15:06:41.771Z"
   },
   {
    "duration": 117,
    "start_time": "2025-03-03T15:06:41.800Z"
   },
   {
    "duration": 93,
    "start_time": "2025-03-03T15:06:41.919Z"
   },
   {
    "duration": 99,
    "start_time": "2025-03-03T15:06:42.014Z"
   },
   {
    "duration": 8,
    "start_time": "2025-03-03T15:06:42.115Z"
   },
   {
    "duration": 40,
    "start_time": "2025-03-03T15:06:42.124Z"
   },
   {
    "duration": 50,
    "start_time": "2025-03-03T15:06:42.166Z"
   },
   {
    "duration": 39,
    "start_time": "2025-03-03T15:06:42.217Z"
   },
   {
    "duration": 7,
    "start_time": "2025-03-03T15:06:42.258Z"
   },
   {
    "duration": 45,
    "start_time": "2025-03-03T15:06:42.266Z"
   },
   {
    "duration": 18,
    "start_time": "2025-03-03T15:06:42.315Z"
   },
   {
    "duration": 18,
    "start_time": "2025-03-03T15:06:42.335Z"
   },
   {
    "duration": 9,
    "start_time": "2025-03-03T15:06:42.355Z"
   },
   {
    "duration": 49,
    "start_time": "2025-03-03T15:06:42.366Z"
   },
   {
    "duration": 20,
    "start_time": "2025-03-03T15:06:42.417Z"
   },
   {
    "duration": 26,
    "start_time": "2025-03-03T15:06:42.439Z"
   },
   {
    "duration": 9,
    "start_time": "2025-03-03T15:06:42.466Z"
   },
   {
    "duration": 21,
    "start_time": "2025-03-03T15:06:42.476Z"
   },
   {
    "duration": 7,
    "start_time": "2025-03-03T15:06:42.509Z"
   },
   {
    "duration": 10,
    "start_time": "2025-03-03T15:06:42.517Z"
   },
   {
    "duration": 8,
    "start_time": "2025-03-03T15:06:42.528Z"
   },
   {
    "duration": 161,
    "start_time": "2025-03-03T15:06:42.537Z"
   },
   {
    "duration": 171,
    "start_time": "2025-03-03T15:06:42.700Z"
   },
   {
    "duration": 22,
    "start_time": "2025-03-03T15:06:42.873Z"
   },
   {
    "duration": 131,
    "start_time": "2025-03-03T15:06:42.897Z"
   },
   {
    "duration": 0,
    "start_time": "2025-03-03T15:06:43.030Z"
   },
   {
    "duration": 79,
    "start_time": "2025-03-03T15:07:01.886Z"
   },
   {
    "duration": 21,
    "start_time": "2025-03-03T15:07:51.873Z"
   },
   {
    "duration": 76,
    "start_time": "2025-03-03T15:07:54.033Z"
   },
   {
    "duration": 31,
    "start_time": "2025-03-03T15:08:18.576Z"
   },
   {
    "duration": 21,
    "start_time": "2025-03-03T15:08:20.253Z"
   },
   {
    "duration": 77,
    "start_time": "2025-03-03T15:08:22.120Z"
   },
   {
    "duration": 20,
    "start_time": "2025-03-03T15:09:01.409Z"
   },
   {
    "duration": 77,
    "start_time": "2025-03-03T15:09:03.220Z"
   },
   {
    "duration": 11,
    "start_time": "2025-03-03T15:11:37.961Z"
   },
   {
    "duration": 5,
    "start_time": "2025-03-03T15:11:49.278Z"
   },
   {
    "duration": 77,
    "start_time": "2025-03-03T15:11:50.489Z"
   },
   {
    "duration": 75,
    "start_time": "2025-03-03T15:23:08.238Z"
   },
   {
    "duration": 22,
    "start_time": "2025-03-03T15:25:56.074Z"
   },
   {
    "duration": 76,
    "start_time": "2025-03-03T15:25:57.994Z"
   },
   {
    "duration": 19,
    "start_time": "2025-03-03T15:27:51.777Z"
   },
   {
    "duration": 8,
    "start_time": "2025-03-03T15:29:31.137Z"
   },
   {
    "duration": 1172,
    "start_time": "2025-03-03T15:36:48.814Z"
   },
   {
    "duration": 3265,
    "start_time": "2025-03-03T15:36:49.988Z"
   },
   {
    "duration": 11,
    "start_time": "2025-03-03T15:36:53.255Z"
   },
   {
    "duration": 18,
    "start_time": "2025-03-03T15:36:53.268Z"
   },
   {
    "duration": 9,
    "start_time": "2025-03-03T15:36:53.287Z"
   },
   {
    "duration": 6,
    "start_time": "2025-03-03T15:36:53.297Z"
   },
   {
    "duration": 14,
    "start_time": "2025-03-03T15:36:53.305Z"
   },
   {
    "duration": 7,
    "start_time": "2025-03-03T15:36:53.321Z"
   },
   {
    "duration": 31,
    "start_time": "2025-03-03T15:36:53.329Z"
   },
   {
    "duration": 77,
    "start_time": "2025-03-03T15:36:53.363Z"
   },
   {
    "duration": 26,
    "start_time": "2025-03-03T15:36:53.442Z"
   },
   {
    "duration": 100,
    "start_time": "2025-03-03T15:36:53.470Z"
   },
   {
    "duration": 100,
    "start_time": "2025-03-03T15:36:53.572Z"
   },
   {
    "duration": 101,
    "start_time": "2025-03-03T15:36:53.674Z"
   },
   {
    "duration": 9,
    "start_time": "2025-03-03T15:36:53.777Z"
   },
   {
    "duration": 58,
    "start_time": "2025-03-03T15:36:53.788Z"
   },
   {
    "duration": 35,
    "start_time": "2025-03-03T15:36:53.848Z"
   },
   {
    "duration": 53,
    "start_time": "2025-03-03T15:36:53.885Z"
   },
   {
    "duration": 8,
    "start_time": "2025-03-03T15:36:53.940Z"
   },
   {
    "duration": 33,
    "start_time": "2025-03-03T15:36:53.949Z"
   },
   {
    "duration": 26,
    "start_time": "2025-03-03T15:36:53.984Z"
   },
   {
    "duration": 17,
    "start_time": "2025-03-03T15:36:54.011Z"
   },
   {
    "duration": 12,
    "start_time": "2025-03-03T15:36:54.029Z"
   },
   {
    "duration": 32,
    "start_time": "2025-03-03T15:36:54.042Z"
   },
   {
    "duration": 28,
    "start_time": "2025-03-03T15:36:54.075Z"
   },
   {
    "duration": 24,
    "start_time": "2025-03-03T15:36:54.104Z"
   },
   {
    "duration": 9,
    "start_time": "2025-03-03T15:36:54.130Z"
   },
   {
    "duration": 15,
    "start_time": "2025-03-03T15:36:54.143Z"
   },
   {
    "duration": 6,
    "start_time": "2025-03-03T15:36:54.160Z"
   },
   {
    "duration": 23,
    "start_time": "2025-03-03T15:36:54.168Z"
   },
   {
    "duration": 19,
    "start_time": "2025-03-03T15:36:54.193Z"
   },
   {
    "duration": 57,
    "start_time": "2025-03-03T15:36:54.214Z"
   },
   {
    "duration": 163,
    "start_time": "2025-03-03T15:36:54.273Z"
   },
   {
    "duration": 3,
    "start_time": "2025-03-03T15:36:54.438Z"
   },
   {
    "duration": 63,
    "start_time": "2025-03-03T15:36:54.442Z"
   },
   {
    "duration": 77,
    "start_time": "2025-03-03T15:36:54.507Z"
   },
   {
    "duration": 33,
    "start_time": "2025-03-03T15:36:54.586Z"
   },
   {
    "duration": 8,
    "start_time": "2025-03-03T15:36:54.621Z"
   },
   {
    "duration": 76,
    "start_time": "2025-03-03T15:38:46.322Z"
   },
   {
    "duration": 78,
    "start_time": "2025-03-03T15:39:07.253Z"
   },
   {
    "duration": 7,
    "start_time": "2025-03-03T15:39:16.735Z"
   },
   {
    "duration": 96,
    "start_time": "2025-03-03T16:12:19.928Z"
   },
   {
    "duration": 2682,
    "start_time": "2025-03-03T16:14:44.909Z"
   },
   {
    "duration": 72201,
    "start_time": "2025-03-03T16:15:07.554Z"
   },
   {
    "duration": 9,
    "start_time": "2025-03-03T16:16:19.758Z"
   },
   {
    "duration": 74105,
    "start_time": "2025-03-03T16:23:27.492Z"
   },
   {
    "duration": 74345,
    "start_time": "2025-03-03T16:25:26.432Z"
   },
   {
    "duration": 8,
    "start_time": "2025-03-03T16:28:13.148Z"
   },
   {
    "duration": 1277,
    "start_time": "2025-03-04T06:02:30.118Z"
   },
   {
    "duration": 2553,
    "start_time": "2025-03-04T06:02:31.397Z"
   },
   {
    "duration": 3398,
    "start_time": "2025-03-04T06:02:33.952Z"
   },
   {
    "duration": 13,
    "start_time": "2025-03-04T06:02:37.352Z"
   },
   {
    "duration": 16,
    "start_time": "2025-03-04T06:02:37.366Z"
   },
   {
    "duration": 12,
    "start_time": "2025-03-04T06:02:37.384Z"
   },
   {
    "duration": 17,
    "start_time": "2025-03-04T06:02:37.398Z"
   },
   {
    "duration": 12,
    "start_time": "2025-03-04T06:02:37.417Z"
   },
   {
    "duration": 40,
    "start_time": "2025-03-04T06:02:37.430Z"
   },
   {
    "duration": 25,
    "start_time": "2025-03-04T06:02:37.473Z"
   },
   {
    "duration": 39,
    "start_time": "2025-03-04T06:02:37.499Z"
   },
   {
    "duration": 44,
    "start_time": "2025-03-04T06:02:37.540Z"
   },
   {
    "duration": 102,
    "start_time": "2025-03-04T06:02:37.585Z"
   },
   {
    "duration": 92,
    "start_time": "2025-03-04T06:02:37.689Z"
   },
   {
    "duration": 91,
    "start_time": "2025-03-04T06:02:37.783Z"
   },
   {
    "duration": 8,
    "start_time": "2025-03-04T06:02:37.875Z"
   },
   {
    "duration": 40,
    "start_time": "2025-03-04T06:02:37.885Z"
   },
   {
    "duration": 45,
    "start_time": "2025-03-04T06:02:37.926Z"
   },
   {
    "duration": 33,
    "start_time": "2025-03-04T06:02:37.972Z"
   },
   {
    "duration": 11,
    "start_time": "2025-03-04T06:02:38.006Z"
   },
   {
    "duration": 48,
    "start_time": "2025-03-04T06:02:38.018Z"
   },
   {
    "duration": 13,
    "start_time": "2025-03-04T06:02:38.068Z"
   },
   {
    "duration": 22,
    "start_time": "2025-03-04T06:02:38.082Z"
   },
   {
    "duration": 23,
    "start_time": "2025-03-04T06:02:38.105Z"
   },
   {
    "duration": 26,
    "start_time": "2025-03-04T06:02:38.130Z"
   },
   {
    "duration": 34,
    "start_time": "2025-03-04T06:02:38.158Z"
   },
   {
    "duration": 49,
    "start_time": "2025-03-04T06:02:38.193Z"
   },
   {
    "duration": 9,
    "start_time": "2025-03-04T06:02:38.245Z"
   },
   {
    "duration": 28,
    "start_time": "2025-03-04T06:02:38.255Z"
   },
   {
    "duration": 7,
    "start_time": "2025-03-04T06:02:38.284Z"
   },
   {
    "duration": 53,
    "start_time": "2025-03-04T06:02:38.292Z"
   },
   {
    "duration": 21,
    "start_time": "2025-03-04T06:02:38.346Z"
   },
   {
    "duration": 54,
    "start_time": "2025-03-04T06:02:38.369Z"
   },
   {
    "duration": 153,
    "start_time": "2025-03-04T06:02:38.424Z"
   },
   {
    "duration": 2,
    "start_time": "2025-03-04T06:02:38.579Z"
   },
   {
    "duration": 25,
    "start_time": "2025-03-04T06:02:38.582Z"
   },
   {
    "duration": 151,
    "start_time": "2025-03-04T06:02:38.609Z"
   },
   {
    "duration": 18,
    "start_time": "2025-03-04T06:02:38.761Z"
   },
   {
    "duration": 31,
    "start_time": "2025-03-04T06:02:38.781Z"
   },
   {
    "duration": 99,
    "start_time": "2025-03-04T06:26:15.097Z"
   },
   {
    "duration": 54,
    "start_time": "2025-03-04T06:26:43.905Z"
   },
   {
    "duration": 41,
    "start_time": "2025-03-04T06:27:35.378Z"
   },
   {
    "duration": 43,
    "start_time": "2025-03-04T06:29:34.026Z"
   },
   {
    "duration": 26,
    "start_time": "2025-03-04T06:30:29.691Z"
   },
   {
    "duration": 42,
    "start_time": "2025-03-04T06:30:36.192Z"
   },
   {
    "duration": 518,
    "start_time": "2025-03-04T06:32:47.677Z"
   },
   {
    "duration": 534,
    "start_time": "2025-03-04T06:33:08.443Z"
   },
   {
    "duration": 507,
    "start_time": "2025-03-04T06:33:30.575Z"
   },
   {
    "duration": 26,
    "start_time": "2025-03-04T06:34:22.616Z"
   },
   {
    "duration": 25,
    "start_time": "2025-03-04T06:34:51.536Z"
   },
   {
    "duration": 47,
    "start_time": "2025-03-04T06:36:44.950Z"
   },
   {
    "duration": 112,
    "start_time": "2025-03-04T06:37:06.512Z"
   },
   {
    "duration": 114,
    "start_time": "2025-03-04T06:38:15.185Z"
   },
   {
    "duration": 40,
    "start_time": "2025-03-04T06:38:36.464Z"
   },
   {
    "duration": 111,
    "start_time": "2025-03-04T06:39:37.738Z"
   },
   {
    "duration": 40,
    "start_time": "2025-03-04T06:39:53.723Z"
   },
   {
    "duration": 47,
    "start_time": "2025-03-04T06:43:16.103Z"
   },
   {
    "duration": 111,
    "start_time": "2025-03-04T06:45:38.382Z"
   },
   {
    "duration": 46,
    "start_time": "2025-03-04T06:46:08.816Z"
   },
   {
    "duration": 71,
    "start_time": "2025-03-04T06:46:40.715Z"
   },
   {
    "duration": 40,
    "start_time": "2025-03-04T06:47:39.897Z"
   },
   {
    "duration": 18,
    "start_time": "2025-03-04T06:50:49.365Z"
   },
   {
    "duration": 24,
    "start_time": "2025-03-04T06:51:29.772Z"
   },
   {
    "duration": 30,
    "start_time": "2025-03-04T06:52:48.175Z"
   },
   {
    "duration": 490,
    "start_time": "2025-03-04T06:52:51.197Z"
   },
   {
    "duration": 37,
    "start_time": "2025-03-04T06:53:43.729Z"
   },
   {
    "duration": 31,
    "start_time": "2025-03-04T06:53:46.027Z"
   },
   {
    "duration": 586,
    "start_time": "2025-03-04T06:53:49.371Z"
   },
   {
    "duration": 37,
    "start_time": "2025-03-04T07:07:45.108Z"
   },
   {
    "duration": 34,
    "start_time": "2025-03-04T07:08:00.215Z"
   },
   {
    "duration": 34,
    "start_time": "2025-03-04T07:08:15.141Z"
   },
   {
    "duration": 34,
    "start_time": "2025-03-04T07:08:26.534Z"
   },
   {
    "duration": 34,
    "start_time": "2025-03-04T07:08:31.172Z"
   },
   {
    "duration": 519,
    "start_time": "2025-03-04T07:08:40.645Z"
   },
   {
    "duration": 14,
    "start_time": "2025-03-04T07:33:40.267Z"
   },
   {
    "duration": 96,
    "start_time": "2025-03-04T07:38:53.395Z"
   },
   {
    "duration": 175,
    "start_time": "2025-03-04T07:39:08.519Z"
   },
   {
    "duration": 211,
    "start_time": "2025-03-04T07:42:24.945Z"
   },
   {
    "duration": 214,
    "start_time": "2025-03-04T07:43:19.786Z"
   },
   {
    "duration": 129,
    "start_time": "2025-03-04T07:47:27.108Z"
   },
   {
    "duration": 120,
    "start_time": "2025-03-04T07:48:12.650Z"
   },
   {
    "duration": 175,
    "start_time": "2025-03-04T07:48:34.108Z"
   },
   {
    "duration": 59,
    "start_time": "2025-03-04T07:54:17.687Z"
   },
   {
    "duration": 63,
    "start_time": "2025-03-04T07:58:04.233Z"
   },
   {
    "duration": 20,
    "start_time": "2025-03-04T07:58:10.904Z"
   },
   {
    "duration": 18,
    "start_time": "2025-03-04T07:59:53.521Z"
   },
   {
    "duration": 25,
    "start_time": "2025-03-04T08:01:25.088Z"
   },
   {
    "duration": 26,
    "start_time": "2025-03-04T08:01:44.279Z"
   },
   {
    "duration": 27,
    "start_time": "2025-03-04T08:03:10.705Z"
   },
   {
    "duration": 27,
    "start_time": "2025-03-04T08:04:00.095Z"
   },
   {
    "duration": 21,
    "start_time": "2025-03-04T08:04:24.042Z"
   },
   {
    "duration": 41,
    "start_time": "2025-03-04T08:08:24.233Z"
   },
   {
    "duration": 47,
    "start_time": "2025-03-04T08:08:55.564Z"
   },
   {
    "duration": 110,
    "start_time": "2025-03-04T08:11:17.094Z"
   },
   {
    "duration": 59,
    "start_time": "2025-03-04T08:11:21.250Z"
   },
   {
    "duration": 62,
    "start_time": "2025-03-04T08:11:37.941Z"
   },
   {
    "duration": 93,
    "start_time": "2025-03-04T08:13:54.353Z"
   },
   {
    "duration": 2305,
    "start_time": "2025-03-04T08:17:14.579Z"
   },
   {
    "duration": 12,
    "start_time": "2025-03-04T08:18:19.291Z"
   },
   {
    "duration": 2184,
    "start_time": "2025-03-04T08:19:32.411Z"
   },
   {
    "duration": 15,
    "start_time": "2025-03-04T08:20:05.296Z"
   },
   {
    "duration": 19,
    "start_time": "2025-03-04T08:20:46.945Z"
   },
   {
    "duration": 17,
    "start_time": "2025-03-04T08:22:32.026Z"
   },
   {
    "duration": 18,
    "start_time": "2025-03-04T08:23:13.899Z"
   },
   {
    "duration": 22,
    "start_time": "2025-03-04T08:23:42.033Z"
   },
   {
    "duration": 27,
    "start_time": "2025-03-04T08:23:57.287Z"
   },
   {
    "duration": 12,
    "start_time": "2025-03-04T08:26:43.244Z"
   },
   {
    "duration": 27,
    "start_time": "2025-03-04T08:26:49.684Z"
   },
   {
    "duration": 524,
    "start_time": "2025-03-04T08:27:17.340Z"
   },
   {
    "duration": 592,
    "start_time": "2025-03-04T08:28:25.437Z"
   },
   {
    "duration": 467,
    "start_time": "2025-03-04T08:29:01.322Z"
   },
   {
    "duration": 20,
    "start_time": "2025-03-04T08:29:27.888Z"
   },
   {
    "duration": 24,
    "start_time": "2025-03-04T08:29:42.771Z"
   },
   {
    "duration": 29,
    "start_time": "2025-03-04T08:30:33.853Z"
   },
   {
    "duration": 25,
    "start_time": "2025-03-04T08:30:53.967Z"
   },
   {
    "duration": 24,
    "start_time": "2025-03-04T08:32:02.662Z"
   },
   {
    "duration": 27,
    "start_time": "2025-03-04T08:32:46.034Z"
   },
   {
    "duration": 26,
    "start_time": "2025-03-04T08:33:05.667Z"
   },
   {
    "duration": 25,
    "start_time": "2025-03-04T08:33:22.205Z"
   },
   {
    "duration": 1290,
    "start_time": "2025-03-04T13:19:08.235Z"
   },
   {
    "duration": 2824,
    "start_time": "2025-03-04T13:19:09.527Z"
   },
   {
    "duration": 2814,
    "start_time": "2025-03-04T13:19:12.352Z"
   },
   {
    "duration": 13,
    "start_time": "2025-03-04T13:19:15.168Z"
   },
   {
    "duration": 93,
    "start_time": "2025-03-04T13:19:15.183Z"
   },
   {
    "duration": 12,
    "start_time": "2025-03-04T13:19:15.278Z"
   },
   {
    "duration": 27,
    "start_time": "2025-03-04T13:19:15.292Z"
   },
   {
    "duration": 60,
    "start_time": "2025-03-04T13:19:15.320Z"
   },
   {
    "duration": 10,
    "start_time": "2025-03-04T13:19:15.382Z"
   },
   {
    "duration": 34,
    "start_time": "2025-03-04T13:19:15.394Z"
   },
   {
    "duration": 22,
    "start_time": "2025-03-04T13:19:15.430Z"
   },
   {
    "duration": 21,
    "start_time": "2025-03-04T13:19:15.454Z"
   },
   {
    "duration": 94,
    "start_time": "2025-03-04T13:19:15.477Z"
   },
   {
    "duration": 93,
    "start_time": "2025-03-04T13:19:15.574Z"
   },
   {
    "duration": 106,
    "start_time": "2025-03-04T13:19:15.669Z"
   },
   {
    "duration": 9,
    "start_time": "2025-03-04T13:19:15.777Z"
   },
   {
    "duration": 63,
    "start_time": "2025-03-04T13:19:15.787Z"
   },
   {
    "duration": 59,
    "start_time": "2025-03-04T13:19:15.852Z"
   },
   {
    "duration": 41,
    "start_time": "2025-03-04T13:19:15.913Z"
   },
   {
    "duration": 9,
    "start_time": "2025-03-04T13:19:15.955Z"
   },
   {
    "duration": 29,
    "start_time": "2025-03-04T13:19:15.966Z"
   },
   {
    "duration": 14,
    "start_time": "2025-03-04T13:19:16.007Z"
   },
   {
    "duration": 20,
    "start_time": "2025-03-04T13:19:16.022Z"
   },
   {
    "duration": 8,
    "start_time": "2025-03-04T13:19:16.043Z"
   },
   {
    "duration": 39,
    "start_time": "2025-03-04T13:19:16.053Z"
   },
   {
    "duration": 70,
    "start_time": "2025-03-04T13:19:16.094Z"
   },
   {
    "duration": 44,
    "start_time": "2025-03-04T13:19:16.165Z"
   },
   {
    "duration": 35,
    "start_time": "2025-03-04T13:19:16.210Z"
   },
   {
    "duration": 42,
    "start_time": "2025-03-04T13:19:16.246Z"
   },
   {
    "duration": 8,
    "start_time": "2025-03-04T13:19:16.289Z"
   },
   {
    "duration": 8,
    "start_time": "2025-03-04T13:19:16.298Z"
   },
   {
    "duration": 8,
    "start_time": "2025-03-04T13:19:16.307Z"
   },
   {
    "duration": 48,
    "start_time": "2025-03-04T13:19:16.316Z"
   },
   {
    "duration": 242,
    "start_time": "2025-03-04T13:19:16.366Z"
   },
   {
    "duration": 2,
    "start_time": "2025-03-04T13:19:16.609Z"
   },
   {
    "duration": 95,
    "start_time": "2025-03-04T13:19:16.613Z"
   },
   {
    "duration": 78,
    "start_time": "2025-03-04T13:19:16.709Z"
   },
   {
    "duration": 32,
    "start_time": "2025-03-04T13:19:16.788Z"
   },
   {
    "duration": 7,
    "start_time": "2025-03-04T13:19:16.822Z"
   },
   {
    "duration": 59,
    "start_time": "2025-03-04T13:19:16.830Z"
   },
   {
    "duration": 43,
    "start_time": "2025-03-04T13:19:16.893Z"
   },
   {
    "duration": 555,
    "start_time": "2025-03-04T13:19:16.938Z"
   },
   {
    "duration": 122,
    "start_time": "2025-03-04T13:19:17.495Z"
   },
   {
    "duration": 62,
    "start_time": "2025-03-04T13:19:17.619Z"
   },
   {
    "duration": 91,
    "start_time": "2025-03-04T13:19:17.682Z"
   },
   {
    "duration": 37,
    "start_time": "2025-03-04T13:19:17.774Z"
   },
   {
    "duration": 59,
    "start_time": "2025-03-04T13:24:21.196Z"
   },
   {
    "duration": 56,
    "start_time": "2025-03-04T13:25:49.868Z"
   },
   {
    "duration": 53,
    "start_time": "2025-03-04T13:31:28.001Z"
   },
   {
    "duration": 102,
    "start_time": "2025-03-04T13:35:19.122Z"
   },
   {
    "duration": 114,
    "start_time": "2025-03-04T13:35:41.665Z"
   },
   {
    "duration": 110,
    "start_time": "2025-03-04T13:36:19.436Z"
   },
   {
    "duration": 111,
    "start_time": "2025-03-04T13:36:28.420Z"
   },
   {
    "duration": 128,
    "start_time": "2025-03-04T13:42:16.679Z"
   },
   {
    "duration": 78,
    "start_time": "2025-03-04T13:45:05.810Z"
   },
   {
    "duration": 36,
    "start_time": "2025-03-04T13:45:07.144Z"
   },
   {
    "duration": 432,
    "start_time": "2025-03-04T13:45:09.707Z"
   },
   {
    "duration": 945,
    "start_time": "2025-03-04T13:45:38.982Z"
   },
   {
    "duration": 285,
    "start_time": "2025-03-04T13:46:39.776Z"
   },
   {
    "duration": 1184,
    "start_time": "2025-03-04T13:47:17.483Z"
   },
   {
    "duration": 2327,
    "start_time": "2025-03-04T13:47:18.669Z"
   },
   {
    "duration": 2147,
    "start_time": "2025-03-04T13:47:20.999Z"
   },
   {
    "duration": 13,
    "start_time": "2025-03-04T13:47:23.148Z"
   },
   {
    "duration": 39,
    "start_time": "2025-03-04T13:47:23.163Z"
   },
   {
    "duration": 22,
    "start_time": "2025-03-04T13:47:23.204Z"
   },
   {
    "duration": 13,
    "start_time": "2025-03-04T13:47:23.227Z"
   },
   {
    "duration": 54,
    "start_time": "2025-03-04T13:47:23.241Z"
   },
   {
    "duration": 35,
    "start_time": "2025-03-04T13:47:23.297Z"
   },
   {
    "duration": 26,
    "start_time": "2025-03-04T13:47:23.336Z"
   },
   {
    "duration": 50,
    "start_time": "2025-03-04T13:47:23.364Z"
   },
   {
    "duration": 24,
    "start_time": "2025-03-04T13:47:23.416Z"
   },
   {
    "duration": 98,
    "start_time": "2025-03-04T13:47:23.441Z"
   },
   {
    "duration": 98,
    "start_time": "2025-03-04T13:47:23.541Z"
   },
   {
    "duration": 97,
    "start_time": "2025-03-04T13:47:23.641Z"
   },
   {
    "duration": 8,
    "start_time": "2025-03-04T13:47:23.740Z"
   },
   {
    "duration": 68,
    "start_time": "2025-03-04T13:47:23.749Z"
   },
   {
    "duration": 34,
    "start_time": "2025-03-04T13:47:23.818Z"
   },
   {
    "duration": 53,
    "start_time": "2025-03-04T13:47:23.854Z"
   },
   {
    "duration": 8,
    "start_time": "2025-03-04T13:47:23.909Z"
   },
   {
    "duration": 36,
    "start_time": "2025-03-04T13:47:23.919Z"
   },
   {
    "duration": 31,
    "start_time": "2025-03-04T13:47:23.957Z"
   },
   {
    "duration": 48,
    "start_time": "2025-03-04T13:47:23.990Z"
   },
   {
    "duration": 41,
    "start_time": "2025-03-04T13:47:24.040Z"
   },
   {
    "duration": 35,
    "start_time": "2025-03-04T13:47:24.083Z"
   },
   {
    "duration": 31,
    "start_time": "2025-03-04T13:47:24.119Z"
   },
   {
    "duration": 32,
    "start_time": "2025-03-04T13:47:24.152Z"
   },
   {
    "duration": 25,
    "start_time": "2025-03-04T13:47:24.187Z"
   },
   {
    "duration": 47,
    "start_time": "2025-03-04T13:47:24.213Z"
   },
   {
    "duration": 13,
    "start_time": "2025-03-04T13:47:24.262Z"
   },
   {
    "duration": 20,
    "start_time": "2025-03-04T13:47:24.277Z"
   },
   {
    "duration": 27,
    "start_time": "2025-03-04T13:47:24.299Z"
   },
   {
    "duration": 69,
    "start_time": "2025-03-04T13:47:24.328Z"
   },
   {
    "duration": 147,
    "start_time": "2025-03-04T13:47:24.398Z"
   },
   {
    "duration": 2,
    "start_time": "2025-03-04T13:47:24.546Z"
   },
   {
    "duration": 133,
    "start_time": "2025-03-04T13:47:24.550Z"
   },
   {
    "duration": 158,
    "start_time": "2025-03-04T13:47:24.684Z"
   },
   {
    "duration": 19,
    "start_time": "2025-03-04T13:47:24.844Z"
   },
   {
    "duration": 6,
    "start_time": "2025-03-04T13:47:24.865Z"
   },
   {
    "duration": 50,
    "start_time": "2025-03-04T13:47:24.873Z"
   },
   {
    "duration": 40,
    "start_time": "2025-03-04T13:47:24.924Z"
   },
   {
    "duration": 582,
    "start_time": "2025-03-04T13:47:24.966Z"
   },
   {
    "duration": 90,
    "start_time": "2025-03-04T13:47:25.550Z"
   },
   {
    "duration": 36,
    "start_time": "2025-03-04T13:47:25.642Z"
   },
   {
    "duration": 399,
    "start_time": "2025-03-04T13:47:25.679Z"
   },
   {
    "duration": 0,
    "start_time": "2025-03-04T13:47:26.080Z"
   },
   {
    "duration": 0,
    "start_time": "2025-03-04T13:47:26.081Z"
   },
   {
    "duration": 493,
    "start_time": "2025-03-04T13:47:48.952Z"
   },
   {
    "duration": 124,
    "start_time": "2025-03-04T13:53:50.228Z"
   },
   {
    "duration": 68,
    "start_time": "2025-03-04T13:53:51.312Z"
   },
   {
    "duration": 95,
    "start_time": "2025-03-04T13:54:07.744Z"
   },
   {
    "duration": 13,
    "start_time": "2025-03-04T13:55:32.952Z"
   },
   {
    "duration": 67,
    "start_time": "2025-03-04T13:56:26.424Z"
   },
   {
    "duration": 65,
    "start_time": "2025-03-04T13:56:45.697Z"
   },
   {
    "duration": 65,
    "start_time": "2025-03-04T13:57:11.648Z"
   },
   {
    "duration": 27,
    "start_time": "2025-03-04T13:58:24.818Z"
   },
   {
    "duration": 14,
    "start_time": "2025-03-04T13:58:43.318Z"
   },
   {
    "duration": 162,
    "start_time": "2025-03-04T13:58:54.560Z"
   },
   {
    "duration": 172,
    "start_time": "2025-03-04T14:04:37.166Z"
   },
   {
    "duration": 114,
    "start_time": "2025-03-04T14:04:50.360Z"
   },
   {
    "duration": 149,
    "start_time": "2025-03-04T14:05:52.422Z"
   },
   {
    "duration": 123,
    "start_time": "2025-03-04T14:08:06.912Z"
   },
   {
    "duration": 4,
    "start_time": "2025-03-04T14:08:24.056Z"
   },
   {
    "duration": 11,
    "start_time": "2025-03-04T14:08:36.223Z"
   },
   {
    "duration": 360,
    "start_time": "2025-03-04T14:08:37.715Z"
   },
   {
    "duration": 543,
    "start_time": "2025-03-04T14:08:59.974Z"
   },
   {
    "duration": 135,
    "start_time": "2025-03-04T14:10:50.015Z"
   },
   {
    "duration": 146,
    "start_time": "2025-03-04T14:11:17.706Z"
   },
   {
    "duration": 196,
    "start_time": "2025-03-04T14:12:09.238Z"
   },
   {
    "duration": 1150,
    "start_time": "2025-03-04T14:15:57.180Z"
   },
   {
    "duration": 2537,
    "start_time": "2025-03-04T14:15:58.332Z"
   },
   {
    "duration": 3932,
    "start_time": "2025-03-04T14:16:00.872Z"
   },
   {
    "duration": 13,
    "start_time": "2025-03-04T14:16:04.805Z"
   },
   {
    "duration": 77,
    "start_time": "2025-03-04T14:16:04.821Z"
   },
   {
    "duration": 24,
    "start_time": "2025-03-04T14:16:04.899Z"
   },
   {
    "duration": 7,
    "start_time": "2025-03-04T14:16:04.924Z"
   },
   {
    "duration": 13,
    "start_time": "2025-03-04T14:16:04.932Z"
   },
   {
    "duration": 9,
    "start_time": "2025-03-04T14:16:04.946Z"
   },
   {
    "duration": 14,
    "start_time": "2025-03-04T14:16:04.956Z"
   },
   {
    "duration": 32,
    "start_time": "2025-03-04T14:16:04.971Z"
   },
   {
    "duration": 21,
    "start_time": "2025-03-04T14:16:05.007Z"
   },
   {
    "duration": 124,
    "start_time": "2025-03-04T14:16:05.031Z"
   },
   {
    "duration": 101,
    "start_time": "2025-03-04T14:16:05.158Z"
   },
   {
    "duration": 109,
    "start_time": "2025-03-04T14:16:05.260Z"
   },
   {
    "duration": 9,
    "start_time": "2025-03-04T14:16:05.370Z"
   },
   {
    "duration": 63,
    "start_time": "2025-03-04T14:16:05.380Z"
   },
   {
    "duration": 52,
    "start_time": "2025-03-04T14:16:05.445Z"
   },
   {
    "duration": 48,
    "start_time": "2025-03-04T14:16:05.498Z"
   },
   {
    "duration": 18,
    "start_time": "2025-03-04T14:16:05.547Z"
   },
   {
    "duration": 57,
    "start_time": "2025-03-04T14:16:05.567Z"
   },
   {
    "duration": 15,
    "start_time": "2025-03-04T14:16:05.626Z"
   },
   {
    "duration": 39,
    "start_time": "2025-03-04T14:16:05.642Z"
   },
   {
    "duration": 31,
    "start_time": "2025-03-04T14:16:05.682Z"
   },
   {
    "duration": 21,
    "start_time": "2025-03-04T14:16:05.715Z"
   },
   {
    "duration": 28,
    "start_time": "2025-03-04T14:16:05.737Z"
   },
   {
    "duration": 60,
    "start_time": "2025-03-04T14:16:05.767Z"
   },
   {
    "duration": 9,
    "start_time": "2025-03-04T14:16:05.829Z"
   },
   {
    "duration": 41,
    "start_time": "2025-03-04T14:16:05.840Z"
   },
   {
    "duration": 24,
    "start_time": "2025-03-04T14:16:05.883Z"
   },
   {
    "duration": 20,
    "start_time": "2025-03-04T14:16:05.909Z"
   },
   {
    "duration": 34,
    "start_time": "2025-03-04T14:16:05.931Z"
   },
   {
    "duration": 82,
    "start_time": "2025-03-04T14:16:05.966Z"
   },
   {
    "duration": 170,
    "start_time": "2025-03-04T14:16:06.049Z"
   },
   {
    "duration": 2,
    "start_time": "2025-03-04T14:16:06.221Z"
   },
   {
    "duration": 55,
    "start_time": "2025-03-04T14:16:06.225Z"
   },
   {
    "duration": 103,
    "start_time": "2025-03-04T14:16:06.282Z"
   },
   {
    "duration": 35,
    "start_time": "2025-03-04T14:16:06.387Z"
   },
   {
    "duration": 19,
    "start_time": "2025-03-04T14:16:06.423Z"
   },
   {
    "duration": 73,
    "start_time": "2025-03-04T14:16:06.444Z"
   },
   {
    "duration": 39,
    "start_time": "2025-03-04T14:16:06.520Z"
   },
   {
    "duration": 578,
    "start_time": "2025-03-04T14:16:06.560Z"
   },
   {
    "duration": 211,
    "start_time": "2025-03-04T14:16:07.140Z"
   },
   {
    "duration": 4,
    "start_time": "2025-03-04T14:16:07.352Z"
   },
   {
    "duration": 40,
    "start_time": "2025-03-04T14:16:07.358Z"
   },
   {
    "duration": 94,
    "start_time": "2025-03-04T14:16:07.400Z"
   },
   {
    "duration": 21,
    "start_time": "2025-03-04T14:16:07.495Z"
   },
   {
    "duration": 177,
    "start_time": "2025-03-04T14:16:07.519Z"
   },
   {
    "duration": 197,
    "start_time": "2025-03-04T14:18:53.429Z"
   },
   {
    "duration": 35,
    "start_time": "2025-03-04T14:28:05.715Z"
   },
   {
    "duration": 162,
    "start_time": "2025-03-04T14:29:25.706Z"
   },
   {
    "duration": 115,
    "start_time": "2025-03-04T14:30:05.568Z"
   },
   {
    "duration": 13,
    "start_time": "2025-03-04T14:30:09.709Z"
   },
   {
    "duration": 15,
    "start_time": "2025-03-04T14:30:15.268Z"
   },
   {
    "duration": 96,
    "start_time": "2025-03-04T14:30:26.404Z"
   },
   {
    "duration": 20,
    "start_time": "2025-03-04T14:30:40.286Z"
   },
   {
    "duration": 159,
    "start_time": "2025-03-04T14:30:44.309Z"
   },
   {
    "duration": 1205,
    "start_time": "2025-03-04T14:32:20.756Z"
   },
   {
    "duration": 2460,
    "start_time": "2025-03-04T14:32:21.965Z"
   },
   {
    "duration": 2849,
    "start_time": "2025-03-04T14:32:24.427Z"
   },
   {
    "duration": 14,
    "start_time": "2025-03-04T14:32:27.278Z"
   },
   {
    "duration": 11,
    "start_time": "2025-03-04T14:32:27.294Z"
   },
   {
    "duration": 17,
    "start_time": "2025-03-04T14:32:27.306Z"
   },
   {
    "duration": 8,
    "start_time": "2025-03-04T14:32:27.324Z"
   },
   {
    "duration": 14,
    "start_time": "2025-03-04T14:32:27.333Z"
   },
   {
    "duration": 7,
    "start_time": "2025-03-04T14:32:27.349Z"
   },
   {
    "duration": 10,
    "start_time": "2025-03-04T14:32:27.357Z"
   },
   {
    "duration": 49,
    "start_time": "2025-03-04T14:32:27.369Z"
   },
   {
    "duration": 17,
    "start_time": "2025-03-04T14:32:27.420Z"
   },
   {
    "duration": 153,
    "start_time": "2025-03-04T14:32:27.439Z"
   },
   {
    "duration": 143,
    "start_time": "2025-03-04T14:32:27.595Z"
   },
   {
    "duration": 116,
    "start_time": "2025-03-04T14:32:27.740Z"
   },
   {
    "duration": 9,
    "start_time": "2025-03-04T14:32:27.857Z"
   },
   {
    "duration": 74,
    "start_time": "2025-03-04T14:32:27.867Z"
   },
   {
    "duration": 34,
    "start_time": "2025-03-04T14:32:27.943Z"
   },
   {
    "duration": 44,
    "start_time": "2025-03-04T14:32:27.979Z"
   },
   {
    "duration": 10,
    "start_time": "2025-03-04T14:32:28.024Z"
   },
   {
    "duration": 21,
    "start_time": "2025-03-04T14:32:28.036Z"
   },
   {
    "duration": 17,
    "start_time": "2025-03-04T14:32:28.059Z"
   },
   {
    "duration": 48,
    "start_time": "2025-03-04T14:32:28.079Z"
   },
   {
    "duration": 17,
    "start_time": "2025-03-04T14:32:28.128Z"
   },
   {
    "duration": 44,
    "start_time": "2025-03-04T14:32:28.147Z"
   },
   {
    "duration": 36,
    "start_time": "2025-03-04T14:32:28.193Z"
   },
   {
    "duration": 34,
    "start_time": "2025-03-04T14:32:28.232Z"
   },
   {
    "duration": 11,
    "start_time": "2025-03-04T14:32:28.267Z"
   },
   {
    "duration": 27,
    "start_time": "2025-03-04T14:32:28.280Z"
   },
   {
    "duration": 21,
    "start_time": "2025-03-04T14:32:28.309Z"
   },
   {
    "duration": 31,
    "start_time": "2025-03-04T14:32:28.332Z"
   },
   {
    "duration": 21,
    "start_time": "2025-03-04T14:32:28.365Z"
   },
   {
    "duration": 81,
    "start_time": "2025-03-04T14:32:28.388Z"
   },
   {
    "duration": 164,
    "start_time": "2025-03-04T14:32:28.471Z"
   },
   {
    "duration": 2,
    "start_time": "2025-03-04T14:32:28.637Z"
   },
   {
    "duration": 37,
    "start_time": "2025-03-04T14:32:28.641Z"
   },
   {
    "duration": 83,
    "start_time": "2025-03-04T14:32:28.680Z"
   },
   {
    "duration": 159,
    "start_time": "2025-03-04T14:32:28.765Z"
   },
   {
    "duration": 20,
    "start_time": "2025-03-04T14:32:28.925Z"
   },
   {
    "duration": 20,
    "start_time": "2025-03-04T14:32:28.946Z"
   },
   {
    "duration": 32,
    "start_time": "2025-03-04T14:32:28.970Z"
   },
   {
    "duration": 42,
    "start_time": "2025-03-04T14:32:29.006Z"
   },
   {
    "duration": 59,
    "start_time": "2025-03-04T14:32:29.050Z"
   },
   {
    "duration": 599,
    "start_time": "2025-03-04T14:32:29.110Z"
   },
   {
    "duration": 139,
    "start_time": "2025-03-04T14:32:29.712Z"
   },
   {
    "duration": 5,
    "start_time": "2025-03-04T14:32:29.852Z"
   },
   {
    "duration": 16,
    "start_time": "2025-03-04T14:32:29.858Z"
   },
   {
    "duration": 107,
    "start_time": "2025-03-04T14:32:29.876Z"
   },
   {
    "duration": 31,
    "start_time": "2025-03-04T14:32:29.985Z"
   },
   {
    "duration": 177,
    "start_time": "2025-03-04T14:32:30.018Z"
   },
   {
    "duration": 87,
    "start_time": "2025-03-04T14:34:23.466Z"
   },
   {
    "duration": 73,
    "start_time": "2025-03-04T14:34:32.461Z"
   },
   {
    "duration": 161,
    "start_time": "2025-03-04T14:34:51.683Z"
   },
   {
    "duration": 137,
    "start_time": "2025-03-04T14:34:57.636Z"
   },
   {
    "duration": 147,
    "start_time": "2025-03-04T14:35:14.894Z"
   },
   {
    "duration": 133,
    "start_time": "2025-03-04T14:41:45.714Z"
   },
   {
    "duration": 46,
    "start_time": "2025-03-04T14:41:46.621Z"
   },
   {
    "duration": 6,
    "start_time": "2025-03-04T14:41:48.317Z"
   },
   {
    "duration": 14,
    "start_time": "2025-03-04T14:41:49.728Z"
   },
   {
    "duration": 44,
    "start_time": "2025-03-04T14:41:56.859Z"
   },
   {
    "duration": 16,
    "start_time": "2025-03-04T14:53:08.118Z"
   },
   {
    "duration": 63,
    "start_time": "2025-03-04T14:53:10.177Z"
   },
   {
    "duration": 14,
    "start_time": "2025-03-04T14:55:14.980Z"
   },
   {
    "duration": 1273,
    "start_time": "2025-03-05T05:25:42.715Z"
   },
   {
    "duration": 2612,
    "start_time": "2025-03-05T05:25:43.990Z"
   },
   {
    "duration": 2274,
    "start_time": "2025-03-05T05:25:46.605Z"
   },
   {
    "duration": 13,
    "start_time": "2025-03-05T05:25:48.881Z"
   },
   {
    "duration": 8,
    "start_time": "2025-03-05T05:25:48.896Z"
   },
   {
    "duration": 6,
    "start_time": "2025-03-05T05:25:48.906Z"
   },
   {
    "duration": 7,
    "start_time": "2025-03-05T05:25:48.914Z"
   },
   {
    "duration": 41,
    "start_time": "2025-03-05T05:25:48.922Z"
   },
   {
    "duration": 7,
    "start_time": "2025-03-05T05:25:48.964Z"
   },
   {
    "duration": 9,
    "start_time": "2025-03-05T05:25:48.974Z"
   },
   {
    "duration": 22,
    "start_time": "2025-03-05T05:25:48.985Z"
   },
   {
    "duration": 15,
    "start_time": "2025-03-05T05:25:49.009Z"
   },
   {
    "duration": 124,
    "start_time": "2025-03-05T05:25:49.026Z"
   },
   {
    "duration": 101,
    "start_time": "2025-03-05T05:25:49.158Z"
   },
   {
    "duration": 99,
    "start_time": "2025-03-05T05:25:49.260Z"
   },
   {
    "duration": 9,
    "start_time": "2025-03-05T05:25:49.361Z"
   },
   {
    "duration": 39,
    "start_time": "2025-03-05T05:25:49.371Z"
   },
   {
    "duration": 54,
    "start_time": "2025-03-05T05:25:49.411Z"
   },
   {
    "duration": 129,
    "start_time": "2025-03-05T05:25:49.466Z"
   },
   {
    "duration": 7,
    "start_time": "2025-03-05T05:25:49.596Z"
   },
   {
    "duration": 21,
    "start_time": "2025-03-05T05:25:49.605Z"
   },
   {
    "duration": 14,
    "start_time": "2025-03-05T05:25:49.628Z"
   },
   {
    "duration": 16,
    "start_time": "2025-03-05T05:25:49.658Z"
   },
   {
    "duration": 7,
    "start_time": "2025-03-05T05:25:49.676Z"
   },
   {
    "duration": 19,
    "start_time": "2025-03-05T05:25:49.684Z"
   },
   {
    "duration": 22,
    "start_time": "2025-03-05T05:25:49.705Z"
   },
   {
    "duration": 53,
    "start_time": "2025-03-05T05:25:49.728Z"
   },
   {
    "duration": 15,
    "start_time": "2025-03-05T05:25:49.784Z"
   },
   {
    "duration": 11,
    "start_time": "2025-03-05T05:25:49.800Z"
   },
   {
    "duration": 6,
    "start_time": "2025-03-05T05:25:49.813Z"
   },
   {
    "duration": 14,
    "start_time": "2025-03-05T05:25:49.820Z"
   },
   {
    "duration": 28,
    "start_time": "2025-03-05T05:25:49.836Z"
   },
   {
    "duration": 43,
    "start_time": "2025-03-05T05:25:49.865Z"
   },
   {
    "duration": 174,
    "start_time": "2025-03-05T05:25:49.910Z"
   },
   {
    "duration": 3,
    "start_time": "2025-03-05T05:25:50.085Z"
   },
   {
    "duration": 125,
    "start_time": "2025-03-05T05:25:50.089Z"
   },
   {
    "duration": 78,
    "start_time": "2025-03-05T05:25:50.216Z"
   },
   {
    "duration": 148,
    "start_time": "2025-03-05T05:25:50.295Z"
   },
   {
    "duration": 23,
    "start_time": "2025-03-05T05:25:50.445Z"
   },
   {
    "duration": 22,
    "start_time": "2025-03-05T05:25:50.470Z"
   },
   {
    "duration": 31,
    "start_time": "2025-03-05T05:25:50.494Z"
   },
   {
    "duration": 42,
    "start_time": "2025-03-05T05:25:50.526Z"
   },
   {
    "duration": 41,
    "start_time": "2025-03-05T05:25:50.569Z"
   },
   {
    "duration": 570,
    "start_time": "2025-03-05T05:25:50.612Z"
   },
   {
    "duration": 109,
    "start_time": "2025-03-05T05:25:51.183Z"
   },
   {
    "duration": 35,
    "start_time": "2025-03-05T05:25:51.294Z"
   },
   {
    "duration": 4,
    "start_time": "2025-03-05T05:25:51.331Z"
   },
   {
    "duration": 38,
    "start_time": "2025-03-05T05:25:51.336Z"
   },
   {
    "duration": 154,
    "start_time": "2025-03-05T05:25:51.375Z"
   },
   {
    "duration": 91,
    "start_time": "2025-03-05T05:25:51.531Z"
   },
   {
    "duration": 15,
    "start_time": "2025-03-05T05:25:51.624Z"
   },
   {
    "duration": 68,
    "start_time": "2025-03-05T05:25:51.640Z"
   },
   {
    "duration": 20,
    "start_time": "2025-03-05T05:32:41.183Z"
   },
   {
    "duration": 1164,
    "start_time": "2025-03-05T05:32:55.509Z"
   },
   {
    "duration": 2364,
    "start_time": "2025-03-05T05:32:56.675Z"
   },
   {
    "duration": 2161,
    "start_time": "2025-03-05T05:32:59.041Z"
   },
   {
    "duration": 14,
    "start_time": "2025-03-05T05:33:01.203Z"
   },
   {
    "duration": 8,
    "start_time": "2025-03-05T05:33:01.219Z"
   },
   {
    "duration": 96,
    "start_time": "2025-03-05T05:33:01.228Z"
   },
   {
    "duration": 7,
    "start_time": "2025-03-05T05:33:01.325Z"
   },
   {
    "duration": 22,
    "start_time": "2025-03-05T05:33:01.333Z"
   },
   {
    "duration": 8,
    "start_time": "2025-03-05T05:33:01.357Z"
   },
   {
    "duration": 33,
    "start_time": "2025-03-05T05:33:01.367Z"
   },
   {
    "duration": 143,
    "start_time": "2025-03-05T05:33:01.402Z"
   },
   {
    "duration": 76,
    "start_time": "2025-03-05T05:33:01.547Z"
   },
   {
    "duration": 96,
    "start_time": "2025-03-05T05:33:01.624Z"
   },
   {
    "duration": 97,
    "start_time": "2025-03-05T05:33:01.723Z"
   },
   {
    "duration": 102,
    "start_time": "2025-03-05T05:33:01.822Z"
   },
   {
    "duration": 8,
    "start_time": "2025-03-05T05:33:01.926Z"
   },
   {
    "duration": 55,
    "start_time": "2025-03-05T05:33:01.936Z"
   },
   {
    "duration": 36,
    "start_time": "2025-03-05T05:33:01.993Z"
   },
   {
    "duration": 63,
    "start_time": "2025-03-05T05:33:02.031Z"
   },
   {
    "duration": 8,
    "start_time": "2025-03-05T05:33:02.096Z"
   },
   {
    "duration": 94,
    "start_time": "2025-03-05T05:33:02.105Z"
   },
   {
    "duration": 42,
    "start_time": "2025-03-05T05:33:02.200Z"
   },
   {
    "duration": 31,
    "start_time": "2025-03-05T05:33:02.244Z"
   },
   {
    "duration": 8,
    "start_time": "2025-03-05T05:33:02.276Z"
   },
   {
    "duration": 36,
    "start_time": "2025-03-05T05:33:02.285Z"
   },
   {
    "duration": 20,
    "start_time": "2025-03-05T05:33:02.323Z"
   },
   {
    "duration": 36,
    "start_time": "2025-03-05T05:33:02.345Z"
   },
   {
    "duration": 32,
    "start_time": "2025-03-05T05:33:02.382Z"
   },
   {
    "duration": 134,
    "start_time": "2025-03-05T05:33:02.416Z"
   },
   {
    "duration": 10,
    "start_time": "2025-03-05T05:33:02.552Z"
   },
   {
    "duration": 13,
    "start_time": "2025-03-05T05:33:02.563Z"
   },
   {
    "duration": 8,
    "start_time": "2025-03-05T05:33:02.577Z"
   },
   {
    "duration": 70,
    "start_time": "2025-03-05T05:33:02.587Z"
   },
   {
    "duration": 163,
    "start_time": "2025-03-05T05:33:02.658Z"
   },
   {
    "duration": 3,
    "start_time": "2025-03-05T05:33:02.822Z"
   },
   {
    "duration": 44,
    "start_time": "2025-03-05T05:33:02.826Z"
   },
   {
    "duration": 78,
    "start_time": "2025-03-05T05:33:02.872Z"
   },
   {
    "duration": 154,
    "start_time": "2025-03-05T05:33:02.951Z"
   },
   {
    "duration": 20,
    "start_time": "2025-03-05T05:33:03.106Z"
   },
   {
    "duration": 18,
    "start_time": "2025-03-05T05:33:03.127Z"
   },
   {
    "duration": 33,
    "start_time": "2025-03-05T05:33:03.149Z"
   },
   {
    "duration": 39,
    "start_time": "2025-03-05T05:33:03.184Z"
   },
   {
    "duration": 56,
    "start_time": "2025-03-05T05:33:03.225Z"
   },
   {
    "duration": 590,
    "start_time": "2025-03-05T05:33:03.283Z"
   },
   {
    "duration": 128,
    "start_time": "2025-03-05T05:33:03.874Z"
   },
   {
    "duration": 39,
    "start_time": "2025-03-05T05:33:04.003Z"
   },
   {
    "duration": 16,
    "start_time": "2025-03-05T05:33:04.044Z"
   },
   {
    "duration": 17,
    "start_time": "2025-03-05T05:33:04.061Z"
   },
   {
    "duration": 11,
    "start_time": "2025-03-05T05:33:04.079Z"
   },
   {
    "duration": 19,
    "start_time": "2025-03-05T05:33:04.092Z"
   },
   {
    "duration": 70,
    "start_time": "2025-03-05T05:33:04.113Z"
   },
   {
    "duration": 49,
    "start_time": "2025-03-05T05:33:04.185Z"
   },
   {
    "duration": 82,
    "start_time": "2025-03-05T05:33:04.236Z"
   },
   {
    "duration": 12,
    "start_time": "2025-03-05T05:33:58.977Z"
   },
   {
    "duration": 21,
    "start_time": "2025-03-05T05:34:00.354Z"
   },
   {
    "duration": 11,
    "start_time": "2025-03-05T05:35:44.147Z"
   },
   {
    "duration": 103,
    "start_time": "2025-03-05T05:35:48.315Z"
   },
   {
    "duration": 21,
    "start_time": "2025-03-05T05:35:59.500Z"
   },
   {
    "duration": 1207,
    "start_time": "2025-03-05T05:41:41.661Z"
   },
   {
    "duration": 2365,
    "start_time": "2025-03-05T05:41:42.870Z"
   },
   {
    "duration": 2177,
    "start_time": "2025-03-05T05:41:45.238Z"
   },
   {
    "duration": 12,
    "start_time": "2025-03-05T05:41:47.417Z"
   },
   {
    "duration": 30,
    "start_time": "2025-03-05T05:41:47.431Z"
   },
   {
    "duration": 95,
    "start_time": "2025-03-05T05:41:47.463Z"
   },
   {
    "duration": 56,
    "start_time": "2025-03-05T05:41:47.559Z"
   },
   {
    "duration": 41,
    "start_time": "2025-03-05T05:41:47.616Z"
   },
   {
    "duration": 7,
    "start_time": "2025-03-05T05:41:47.658Z"
   },
   {
    "duration": 12,
    "start_time": "2025-03-05T05:41:47.666Z"
   },
   {
    "duration": 24,
    "start_time": "2025-03-05T05:41:47.679Z"
   },
   {
    "duration": 24,
    "start_time": "2025-03-05T05:41:47.705Z"
   },
   {
    "duration": 116,
    "start_time": "2025-03-05T05:41:47.730Z"
   },
   {
    "duration": 95,
    "start_time": "2025-03-05T05:41:47.849Z"
   },
   {
    "duration": 98,
    "start_time": "2025-03-05T05:41:47.946Z"
   },
   {
    "duration": 9,
    "start_time": "2025-03-05T05:41:48.058Z"
   },
   {
    "duration": 39,
    "start_time": "2025-03-05T05:41:48.069Z"
   },
   {
    "duration": 56,
    "start_time": "2025-03-05T05:41:48.110Z"
   },
   {
    "duration": 75,
    "start_time": "2025-03-05T05:41:48.168Z"
   },
   {
    "duration": 7,
    "start_time": "2025-03-05T05:41:48.245Z"
   },
   {
    "duration": 25,
    "start_time": "2025-03-05T05:41:48.254Z"
   },
   {
    "duration": 15,
    "start_time": "2025-03-05T05:41:48.281Z"
   },
   {
    "duration": 18,
    "start_time": "2025-03-05T05:41:48.298Z"
   },
   {
    "duration": 7,
    "start_time": "2025-03-05T05:41:48.318Z"
   },
   {
    "duration": 45,
    "start_time": "2025-03-05T05:41:48.327Z"
   },
   {
    "duration": 22,
    "start_time": "2025-03-05T05:41:48.374Z"
   },
   {
    "duration": 24,
    "start_time": "2025-03-05T05:41:48.397Z"
   },
   {
    "duration": 9,
    "start_time": "2025-03-05T05:41:48.423Z"
   },
   {
    "duration": 13,
    "start_time": "2025-03-05T05:41:48.459Z"
   },
   {
    "duration": 56,
    "start_time": "2025-03-05T05:41:48.474Z"
   },
   {
    "duration": 22,
    "start_time": "2025-03-05T05:41:48.532Z"
   },
   {
    "duration": 7,
    "start_time": "2025-03-05T05:41:48.556Z"
   },
   {
    "duration": 45,
    "start_time": "2025-03-05T05:41:48.565Z"
   },
   {
    "duration": 175,
    "start_time": "2025-03-05T05:41:48.612Z"
   },
   {
    "duration": 2,
    "start_time": "2025-03-05T05:41:48.789Z"
   },
   {
    "duration": 34,
    "start_time": "2025-03-05T05:41:48.793Z"
   },
   {
    "duration": 80,
    "start_time": "2025-03-05T05:41:48.829Z"
   },
   {
    "duration": 148,
    "start_time": "2025-03-05T05:41:48.910Z"
   },
   {
    "duration": 19,
    "start_time": "2025-03-05T05:41:49.059Z"
   },
   {
    "duration": 7,
    "start_time": "2025-03-05T05:41:49.080Z"
   },
   {
    "duration": 30,
    "start_time": "2025-03-05T05:41:49.091Z"
   },
   {
    "duration": 63,
    "start_time": "2025-03-05T05:41:49.122Z"
   },
   {
    "duration": 35,
    "start_time": "2025-03-05T05:41:49.186Z"
   },
   {
    "duration": 553,
    "start_time": "2025-03-05T05:41:49.223Z"
   },
   {
    "duration": 124,
    "start_time": "2025-03-05T05:41:49.777Z"
   },
   {
    "duration": 36,
    "start_time": "2025-03-05T05:41:49.902Z"
   },
   {
    "duration": 5,
    "start_time": "2025-03-05T05:41:49.940Z"
   },
   {
    "duration": 12,
    "start_time": "2025-03-05T05:41:49.958Z"
   },
   {
    "duration": 26,
    "start_time": "2025-03-05T05:41:49.972Z"
   },
   {
    "duration": 66,
    "start_time": "2025-03-05T05:41:49.999Z"
   },
   {
    "duration": 16,
    "start_time": "2025-03-05T05:41:50.066Z"
   },
   {
    "duration": 88,
    "start_time": "2025-03-05T05:41:50.084Z"
   },
   {
    "duration": 23,
    "start_time": "2025-03-05T05:45:14.598Z"
   },
   {
    "duration": 4,
    "start_time": "2025-03-05T05:45:15.582Z"
   },
   {
    "duration": 13,
    "start_time": "2025-03-05T05:45:16.234Z"
   },
   {
    "duration": 46,
    "start_time": "2025-03-05T05:45:17.184Z"
   },
   {
    "duration": 28,
    "start_time": "2025-03-05T06:15:55.123Z"
   },
   {
    "duration": 162,
    "start_time": "2025-03-05T06:16:06.686Z"
   },
   {
    "duration": 1149,
    "start_time": "2025-03-05T06:16:13.852Z"
   },
   {
    "duration": 2363,
    "start_time": "2025-03-05T06:16:15.003Z"
   },
   {
    "duration": 2045,
    "start_time": "2025-03-05T06:16:17.368Z"
   },
   {
    "duration": 14,
    "start_time": "2025-03-05T06:16:19.415Z"
   },
   {
    "duration": 10,
    "start_time": "2025-03-05T06:16:19.431Z"
   },
   {
    "duration": 8,
    "start_time": "2025-03-05T06:16:19.443Z"
   },
   {
    "duration": 8,
    "start_time": "2025-03-05T06:16:19.453Z"
   },
   {
    "duration": 12,
    "start_time": "2025-03-05T06:16:19.463Z"
   },
   {
    "duration": 7,
    "start_time": "2025-03-05T06:16:19.477Z"
   },
   {
    "duration": 8,
    "start_time": "2025-03-05T06:16:19.485Z"
   },
   {
    "duration": 23,
    "start_time": "2025-03-05T06:16:19.495Z"
   },
   {
    "duration": 50,
    "start_time": "2025-03-05T06:16:19.519Z"
   },
   {
    "duration": 107,
    "start_time": "2025-03-05T06:16:19.570Z"
   },
   {
    "duration": 94,
    "start_time": "2025-03-05T06:16:19.680Z"
   },
   {
    "duration": 105,
    "start_time": "2025-03-05T06:16:19.775Z"
   },
   {
    "duration": 8,
    "start_time": "2025-03-05T06:16:19.881Z"
   },
   {
    "duration": 41,
    "start_time": "2025-03-05T06:16:19.890Z"
   },
   {
    "duration": 50,
    "start_time": "2025-03-05T06:16:19.932Z"
   },
   {
    "duration": 39,
    "start_time": "2025-03-05T06:16:19.984Z"
   },
   {
    "duration": 7,
    "start_time": "2025-03-05T06:16:20.025Z"
   },
   {
    "duration": 35,
    "start_time": "2025-03-05T06:16:20.033Z"
   },
   {
    "duration": 14,
    "start_time": "2025-03-05T06:16:20.070Z"
   },
   {
    "duration": 18,
    "start_time": "2025-03-05T06:16:20.086Z"
   },
   {
    "duration": 7,
    "start_time": "2025-03-05T06:16:20.106Z"
   },
   {
    "duration": 43,
    "start_time": "2025-03-05T06:16:20.115Z"
   },
   {
    "duration": 21,
    "start_time": "2025-03-05T06:16:20.160Z"
   },
   {
    "duration": 26,
    "start_time": "2025-03-05T06:16:20.183Z"
   },
   {
    "duration": 10,
    "start_time": "2025-03-05T06:16:20.211Z"
   },
   {
    "duration": 37,
    "start_time": "2025-03-05T06:16:20.222Z"
   },
   {
    "duration": 7,
    "start_time": "2025-03-05T06:16:20.260Z"
   },
   {
    "duration": 44,
    "start_time": "2025-03-05T06:16:20.269Z"
   },
   {
    "duration": 8,
    "start_time": "2025-03-05T06:16:20.314Z"
   },
   {
    "duration": 60,
    "start_time": "2025-03-05T06:16:20.324Z"
   },
   {
    "duration": 171,
    "start_time": "2025-03-05T06:16:20.386Z"
   },
   {
    "duration": 3,
    "start_time": "2025-03-05T06:16:20.559Z"
   },
   {
    "duration": 135,
    "start_time": "2025-03-05T06:16:20.563Z"
   },
   {
    "duration": 76,
    "start_time": "2025-03-05T06:16:20.700Z"
   },
   {
    "duration": 155,
    "start_time": "2025-03-05T06:16:20.778Z"
   },
   {
    "duration": 24,
    "start_time": "2025-03-05T06:16:20.935Z"
   },
   {
    "duration": 8,
    "start_time": "2025-03-05T06:16:20.961Z"
   },
   {
    "duration": 30,
    "start_time": "2025-03-05T06:16:20.972Z"
   },
   {
    "duration": 58,
    "start_time": "2025-03-05T06:16:21.004Z"
   },
   {
    "duration": 36,
    "start_time": "2025-03-05T06:16:21.064Z"
   },
   {
    "duration": 577,
    "start_time": "2025-03-05T06:16:21.101Z"
   },
   {
    "duration": 179,
    "start_time": "2025-03-05T06:16:21.679Z"
   },
   {
    "duration": 37,
    "start_time": "2025-03-05T06:16:21.859Z"
   },
   {
    "duration": 23,
    "start_time": "2025-03-05T06:16:21.898Z"
   },
   {
    "duration": 4,
    "start_time": "2025-03-05T06:16:21.923Z"
   },
   {
    "duration": 37,
    "start_time": "2025-03-05T06:16:21.928Z"
   },
   {
    "duration": 20,
    "start_time": "2025-03-05T06:16:21.967Z"
   },
   {
    "duration": 45,
    "start_time": "2025-03-05T06:16:21.988Z"
   },
   {
    "duration": 36,
    "start_time": "2025-03-05T06:16:22.034Z"
   },
   {
    "duration": 59,
    "start_time": "2025-03-05T06:16:22.071Z"
   },
   {
    "duration": 26,
    "start_time": "2025-03-05T06:17:14.635Z"
   },
   {
    "duration": 38,
    "start_time": "2025-03-05T06:18:08.986Z"
   },
   {
    "duration": 1197,
    "start_time": "2025-03-05T06:18:39.963Z"
   },
   {
    "duration": 2357,
    "start_time": "2025-03-05T06:18:41.162Z"
   },
   {
    "duration": 1995,
    "start_time": "2025-03-05T06:18:43.521Z"
   },
   {
    "duration": 13,
    "start_time": "2025-03-05T06:18:45.518Z"
   },
   {
    "duration": 8,
    "start_time": "2025-03-05T06:18:45.533Z"
   },
   {
    "duration": 7,
    "start_time": "2025-03-05T06:18:45.542Z"
   },
   {
    "duration": 74,
    "start_time": "2025-03-05T06:18:45.550Z"
   },
   {
    "duration": 59,
    "start_time": "2025-03-05T06:18:45.625Z"
   },
   {
    "duration": 103,
    "start_time": "2025-03-05T06:18:45.686Z"
   },
   {
    "duration": 10,
    "start_time": "2025-03-05T06:18:45.791Z"
   },
   {
    "duration": 29,
    "start_time": "2025-03-05T06:18:45.803Z"
   },
   {
    "duration": 21,
    "start_time": "2025-03-05T06:18:45.834Z"
   },
   {
    "duration": 108,
    "start_time": "2025-03-05T06:18:45.857Z"
   },
   {
    "duration": 94,
    "start_time": "2025-03-05T06:18:45.968Z"
   },
   {
    "duration": 99,
    "start_time": "2025-03-05T06:18:46.064Z"
   },
   {
    "duration": 9,
    "start_time": "2025-03-05T06:18:46.164Z"
   },
   {
    "duration": 39,
    "start_time": "2025-03-05T06:18:46.174Z"
   },
   {
    "duration": 51,
    "start_time": "2025-03-05T06:18:46.215Z"
   },
   {
    "duration": 94,
    "start_time": "2025-03-05T06:18:46.267Z"
   },
   {
    "duration": 7,
    "start_time": "2025-03-05T06:18:46.362Z"
   },
   {
    "duration": 35,
    "start_time": "2025-03-05T06:18:46.370Z"
   },
   {
    "duration": 14,
    "start_time": "2025-03-05T06:18:46.407Z"
   },
   {
    "duration": 17,
    "start_time": "2025-03-05T06:18:46.423Z"
   },
   {
    "duration": 8,
    "start_time": "2025-03-05T06:18:46.441Z"
   },
   {
    "duration": 25,
    "start_time": "2025-03-05T06:18:46.451Z"
   },
   {
    "duration": 21,
    "start_time": "2025-03-05T06:18:46.477Z"
   },
   {
    "duration": 26,
    "start_time": "2025-03-05T06:18:46.500Z"
   },
   {
    "duration": 33,
    "start_time": "2025-03-05T06:18:46.527Z"
   },
   {
    "duration": 17,
    "start_time": "2025-03-05T06:18:46.561Z"
   },
   {
    "duration": 92,
    "start_time": "2025-03-05T06:18:46.580Z"
   },
   {
    "duration": 9,
    "start_time": "2025-03-05T06:18:46.674Z"
   },
   {
    "duration": 7,
    "start_time": "2025-03-05T06:18:46.685Z"
   },
   {
    "duration": 47,
    "start_time": "2025-03-05T06:18:46.693Z"
   },
   {
    "duration": 172,
    "start_time": "2025-03-05T06:18:46.742Z"
   },
   {
    "duration": 2,
    "start_time": "2025-03-05T06:18:46.916Z"
   },
   {
    "duration": 38,
    "start_time": "2025-03-05T06:18:46.920Z"
   },
   {
    "duration": 79,
    "start_time": "2025-03-05T06:18:46.959Z"
   },
   {
    "duration": 153,
    "start_time": "2025-03-05T06:18:47.039Z"
   },
   {
    "duration": 20,
    "start_time": "2025-03-05T06:18:47.193Z"
   },
   {
    "duration": 7,
    "start_time": "2025-03-05T06:18:47.214Z"
   },
   {
    "duration": 48,
    "start_time": "2025-03-05T06:18:47.224Z"
   },
   {
    "duration": 39,
    "start_time": "2025-03-05T06:18:47.273Z"
   },
   {
    "duration": 53,
    "start_time": "2025-03-05T06:18:47.314Z"
   },
   {
    "duration": 575,
    "start_time": "2025-03-05T06:18:47.368Z"
   },
   {
    "duration": 174,
    "start_time": "2025-03-05T06:18:47.944Z"
   },
   {
    "duration": 62,
    "start_time": "2025-03-05T06:18:48.119Z"
   },
   {
    "duration": 38,
    "start_time": "2025-03-05T06:18:48.183Z"
   },
   {
    "duration": 4,
    "start_time": "2025-03-05T06:18:48.223Z"
   },
   {
    "duration": 34,
    "start_time": "2025-03-05T06:18:48.229Z"
   },
   {
    "duration": 77,
    "start_time": "2025-03-05T06:18:48.265Z"
   },
   {
    "duration": 47,
    "start_time": "2025-03-05T06:18:48.344Z"
   },
   {
    "duration": 17,
    "start_time": "2025-03-05T06:18:48.393Z"
   },
   {
    "duration": 78,
    "start_time": "2025-03-05T06:18:48.412Z"
   },
   {
    "duration": 118,
    "start_time": "2025-03-05T06:31:56.583Z"
   },
   {
    "duration": 46,
    "start_time": "2025-03-05T06:33:05.295Z"
   },
   {
    "duration": 160,
    "start_time": "2025-03-05T06:35:03.160Z"
   },
   {
    "duration": 142,
    "start_time": "2025-03-05T06:37:51.024Z"
   },
   {
    "duration": 124,
    "start_time": "2025-03-05T06:38:49.346Z"
   },
   {
    "duration": 27,
    "start_time": "2025-03-05T06:41:05.923Z"
   },
   {
    "duration": 1115,
    "start_time": "2025-03-05T06:41:18.715Z"
   },
   {
    "duration": 2388,
    "start_time": "2025-03-05T06:41:19.832Z"
   },
   {
    "duration": 2126,
    "start_time": "2025-03-05T06:41:22.221Z"
   },
   {
    "duration": 14,
    "start_time": "2025-03-05T06:41:24.349Z"
   },
   {
    "duration": 37,
    "start_time": "2025-03-05T06:41:24.365Z"
   },
   {
    "duration": 8,
    "start_time": "2025-03-05T06:41:24.404Z"
   },
   {
    "duration": 8,
    "start_time": "2025-03-05T06:41:24.414Z"
   },
   {
    "duration": 12,
    "start_time": "2025-03-05T06:41:24.424Z"
   },
   {
    "duration": 22,
    "start_time": "2025-03-05T06:41:24.438Z"
   },
   {
    "duration": 11,
    "start_time": "2025-03-05T06:41:24.463Z"
   },
   {
    "duration": 25,
    "start_time": "2025-03-05T06:41:24.475Z"
   },
   {
    "duration": 16,
    "start_time": "2025-03-05T06:41:24.502Z"
   },
   {
    "duration": 128,
    "start_time": "2025-03-05T06:41:24.520Z"
   },
   {
    "duration": 97,
    "start_time": "2025-03-05T06:41:24.650Z"
   },
   {
    "duration": 96,
    "start_time": "2025-03-05T06:41:24.748Z"
   },
   {
    "duration": 17,
    "start_time": "2025-03-05T06:41:24.845Z"
   },
   {
    "duration": 40,
    "start_time": "2025-03-05T06:41:24.864Z"
   },
   {
    "duration": 54,
    "start_time": "2025-03-05T06:41:24.906Z"
   },
   {
    "duration": 70,
    "start_time": "2025-03-05T06:41:24.962Z"
   },
   {
    "duration": 8,
    "start_time": "2025-03-05T06:41:25.034Z"
   },
   {
    "duration": 19,
    "start_time": "2025-03-05T06:41:25.043Z"
   },
   {
    "duration": 15,
    "start_time": "2025-03-05T06:41:25.064Z"
   },
   {
    "duration": 16,
    "start_time": "2025-03-05T06:41:25.080Z"
   },
   {
    "duration": 7,
    "start_time": "2025-03-05T06:41:25.098Z"
   },
   {
    "duration": 19,
    "start_time": "2025-03-05T06:41:25.106Z"
   },
   {
    "duration": 51,
    "start_time": "2025-03-05T06:41:25.127Z"
   },
   {
    "duration": 37,
    "start_time": "2025-03-05T06:41:25.180Z"
   },
   {
    "duration": 10,
    "start_time": "2025-03-05T06:41:25.222Z"
   },
   {
    "duration": 42,
    "start_time": "2025-03-05T06:41:25.234Z"
   },
   {
    "duration": 7,
    "start_time": "2025-03-05T06:41:25.278Z"
   },
   {
    "duration": 10,
    "start_time": "2025-03-05T06:41:25.286Z"
   },
   {
    "duration": 7,
    "start_time": "2025-03-05T06:41:25.298Z"
   },
   {
    "duration": 64,
    "start_time": "2025-03-05T06:41:25.306Z"
   },
   {
    "duration": 165,
    "start_time": "2025-03-05T06:41:25.371Z"
   },
   {
    "duration": 2,
    "start_time": "2025-03-05T06:41:25.538Z"
   },
   {
    "duration": 33,
    "start_time": "2025-03-05T06:41:25.541Z"
   },
   {
    "duration": 82,
    "start_time": "2025-03-05T06:41:25.576Z"
   },
   {
    "duration": 143,
    "start_time": "2025-03-05T06:41:25.660Z"
   },
   {
    "duration": 19,
    "start_time": "2025-03-05T06:41:25.806Z"
   },
   {
    "duration": 16,
    "start_time": "2025-03-05T06:41:25.826Z"
   },
   {
    "duration": 39,
    "start_time": "2025-03-05T06:41:25.843Z"
   },
   {
    "duration": 38,
    "start_time": "2025-03-05T06:41:25.884Z"
   },
   {
    "duration": 55,
    "start_time": "2025-03-05T06:41:25.924Z"
   },
   {
    "duration": 571,
    "start_time": "2025-03-05T06:41:25.980Z"
   },
   {
    "duration": 33,
    "start_time": "2025-03-05T06:41:26.552Z"
   },
   {
    "duration": 177,
    "start_time": "2025-03-05T06:41:26.587Z"
   },
   {
    "duration": 53,
    "start_time": "2025-03-05T06:41:26.766Z"
   },
   {
    "duration": 55,
    "start_time": "2025-03-05T06:41:26.821Z"
   },
   {
    "duration": 4,
    "start_time": "2025-03-05T06:41:26.878Z"
   },
   {
    "duration": 12,
    "start_time": "2025-03-05T06:41:26.883Z"
   },
   {
    "duration": 21,
    "start_time": "2025-03-05T06:41:26.897Z"
   },
   {
    "duration": 67,
    "start_time": "2025-03-05T06:41:26.920Z"
   },
   {
    "duration": 28,
    "start_time": "2025-03-05T06:41:26.989Z"
   },
   {
    "duration": 67,
    "start_time": "2025-03-05T06:41:27.019Z"
   },
   {
    "duration": 1036,
    "start_time": "2025-03-05T06:44:35.208Z"
   },
   {
    "duration": 88,
    "start_time": "2025-03-05T06:47:35.490Z"
   },
   {
    "duration": 878,
    "start_time": "2025-03-05T06:48:52.247Z"
   },
   {
    "duration": 1243,
    "start_time": "2025-03-05T06:49:01.254Z"
   },
   {
    "duration": 2602,
    "start_time": "2025-03-05T06:49:02.499Z"
   },
   {
    "duration": 2096,
    "start_time": "2025-03-05T06:49:05.103Z"
   },
   {
    "duration": 13,
    "start_time": "2025-03-05T06:49:07.201Z"
   },
   {
    "duration": 9,
    "start_time": "2025-03-05T06:49:07.216Z"
   },
   {
    "duration": 9,
    "start_time": "2025-03-05T06:49:07.227Z"
   },
   {
    "duration": 37,
    "start_time": "2025-03-05T06:49:07.237Z"
   },
   {
    "duration": 19,
    "start_time": "2025-03-05T06:49:07.276Z"
   },
   {
    "duration": 9,
    "start_time": "2025-03-05T06:49:07.298Z"
   },
   {
    "duration": 9,
    "start_time": "2025-03-05T06:49:07.309Z"
   },
   {
    "duration": 46,
    "start_time": "2025-03-05T06:49:07.320Z"
   },
   {
    "duration": 20,
    "start_time": "2025-03-05T06:49:07.367Z"
   },
   {
    "duration": 121,
    "start_time": "2025-03-05T06:49:07.388Z"
   },
   {
    "duration": 116,
    "start_time": "2025-03-05T06:49:07.512Z"
   },
   {
    "duration": 120,
    "start_time": "2025-03-05T06:49:07.630Z"
   },
   {
    "duration": 15,
    "start_time": "2025-03-05T06:49:07.754Z"
   },
   {
    "duration": 137,
    "start_time": "2025-03-05T06:49:07.773Z"
   },
   {
    "duration": 49,
    "start_time": "2025-03-05T06:49:07.912Z"
   },
   {
    "duration": 48,
    "start_time": "2025-03-05T06:49:07.963Z"
   },
   {
    "duration": 10,
    "start_time": "2025-03-05T06:49:08.013Z"
   },
   {
    "duration": 51,
    "start_time": "2025-03-05T06:49:08.025Z"
   },
   {
    "duration": 16,
    "start_time": "2025-03-05T06:49:08.078Z"
   },
   {
    "duration": 17,
    "start_time": "2025-03-05T06:49:08.095Z"
   },
   {
    "duration": 8,
    "start_time": "2025-03-05T06:49:08.114Z"
   },
   {
    "duration": 55,
    "start_time": "2025-03-05T06:49:08.123Z"
   },
   {
    "duration": 23,
    "start_time": "2025-03-05T06:49:08.181Z"
   },
   {
    "duration": 26,
    "start_time": "2025-03-05T06:49:08.205Z"
   },
   {
    "duration": 40,
    "start_time": "2025-03-05T06:49:08.233Z"
   },
   {
    "duration": 13,
    "start_time": "2025-03-05T06:49:08.275Z"
   },
   {
    "duration": 18,
    "start_time": "2025-03-05T06:49:08.289Z"
   },
   {
    "duration": 9,
    "start_time": "2025-03-05T06:49:08.309Z"
   },
   {
    "duration": 12,
    "start_time": "2025-03-05T06:49:08.319Z"
   },
   {
    "duration": 109,
    "start_time": "2025-03-05T06:49:08.332Z"
   },
   {
    "duration": 179,
    "start_time": "2025-03-05T06:49:08.443Z"
   },
   {
    "duration": 3,
    "start_time": "2025-03-05T06:49:08.624Z"
   },
   {
    "duration": 33,
    "start_time": "2025-03-05T06:49:08.628Z"
   },
   {
    "duration": 85,
    "start_time": "2025-03-05T06:49:08.670Z"
   },
   {
    "duration": 170,
    "start_time": "2025-03-05T06:49:08.757Z"
   },
   {
    "duration": 33,
    "start_time": "2025-03-05T06:49:08.928Z"
   },
   {
    "duration": 64,
    "start_time": "2025-03-05T06:49:08.963Z"
   },
   {
    "duration": 36,
    "start_time": "2025-03-05T06:49:09.033Z"
   },
   {
    "duration": 41,
    "start_time": "2025-03-05T06:49:09.070Z"
   },
   {
    "duration": 57,
    "start_time": "2025-03-05T06:49:09.113Z"
   },
   {
    "duration": 598,
    "start_time": "2025-03-05T06:49:09.172Z"
   },
   {
    "duration": 159,
    "start_time": "2025-03-05T06:49:09.772Z"
   },
   {
    "duration": 0,
    "start_time": "2025-03-05T06:49:09.932Z"
   },
   {
    "duration": 0,
    "start_time": "2025-03-05T06:49:09.934Z"
   },
   {
    "duration": 0,
    "start_time": "2025-03-05T06:49:09.934Z"
   },
   {
    "duration": 0,
    "start_time": "2025-03-05T06:49:09.936Z"
   },
   {
    "duration": 0,
    "start_time": "2025-03-05T06:49:09.936Z"
   },
   {
    "duration": 0,
    "start_time": "2025-03-05T06:49:09.938Z"
   },
   {
    "duration": 0,
    "start_time": "2025-03-05T06:49:09.939Z"
   },
   {
    "duration": 1,
    "start_time": "2025-03-05T06:49:09.940Z"
   },
   {
    "duration": 0,
    "start_time": "2025-03-05T06:49:09.962Z"
   },
   {
    "duration": 1248,
    "start_time": "2025-03-05T06:49:50.026Z"
   },
   {
    "duration": 2542,
    "start_time": "2025-03-05T06:49:51.277Z"
   },
   {
    "duration": 1918,
    "start_time": "2025-03-05T06:49:53.821Z"
   },
   {
    "duration": 14,
    "start_time": "2025-03-05T06:49:55.740Z"
   },
   {
    "duration": 98,
    "start_time": "2025-03-05T06:49:55.756Z"
   },
   {
    "duration": 18,
    "start_time": "2025-03-05T06:49:55.855Z"
   },
   {
    "duration": 7,
    "start_time": "2025-03-05T06:49:55.875Z"
   },
   {
    "duration": 12,
    "start_time": "2025-03-05T06:49:55.883Z"
   },
   {
    "duration": 6,
    "start_time": "2025-03-05T06:49:55.897Z"
   },
   {
    "duration": 9,
    "start_time": "2025-03-05T06:49:55.904Z"
   },
   {
    "duration": 57,
    "start_time": "2025-03-05T06:49:55.914Z"
   },
   {
    "duration": 17,
    "start_time": "2025-03-05T06:49:55.973Z"
   },
   {
    "duration": 108,
    "start_time": "2025-03-05T06:49:55.991Z"
   },
   {
    "duration": 106,
    "start_time": "2025-03-05T06:49:56.102Z"
   },
   {
    "duration": 111,
    "start_time": "2025-03-05T06:49:56.211Z"
   },
   {
    "duration": 8,
    "start_time": "2025-03-05T06:49:56.324Z"
   },
   {
    "duration": 105,
    "start_time": "2025-03-05T06:49:56.334Z"
   },
   {
    "duration": 42,
    "start_time": "2025-03-05T06:49:56.441Z"
   },
   {
    "duration": 37,
    "start_time": "2025-03-05T06:49:56.486Z"
   },
   {
    "duration": 7,
    "start_time": "2025-03-05T06:49:56.525Z"
   },
   {
    "duration": 43,
    "start_time": "2025-03-05T06:49:56.534Z"
   },
   {
    "duration": 33,
    "start_time": "2025-03-05T06:49:56.578Z"
   },
   {
    "duration": 33,
    "start_time": "2025-03-05T06:49:56.612Z"
   },
   {
    "duration": 8,
    "start_time": "2025-03-05T06:49:56.646Z"
   },
   {
    "duration": 29,
    "start_time": "2025-03-05T06:49:56.655Z"
   },
   {
    "duration": 21,
    "start_time": "2025-03-05T06:49:56.685Z"
   },
   {
    "duration": 125,
    "start_time": "2025-03-05T06:49:56.707Z"
   },
   {
    "duration": 10,
    "start_time": "2025-03-05T06:49:56.834Z"
   },
   {
    "duration": 24,
    "start_time": "2025-03-05T06:49:56.845Z"
   },
   {
    "duration": 7,
    "start_time": "2025-03-05T06:49:56.871Z"
   },
   {
    "duration": 10,
    "start_time": "2025-03-05T06:49:56.879Z"
   },
   {
    "duration": 7,
    "start_time": "2025-03-05T06:49:56.890Z"
   },
   {
    "duration": 44,
    "start_time": "2025-03-05T06:49:56.898Z"
   },
   {
    "duration": 188,
    "start_time": "2025-03-05T06:49:56.943Z"
   },
   {
    "duration": 2,
    "start_time": "2025-03-05T06:49:57.133Z"
   },
   {
    "duration": 39,
    "start_time": "2025-03-05T06:49:57.137Z"
   },
   {
    "duration": 83,
    "start_time": "2025-03-05T06:49:57.180Z"
   },
   {
    "duration": 166,
    "start_time": "2025-03-05T06:49:57.265Z"
   },
   {
    "duration": 36,
    "start_time": "2025-03-05T06:49:57.433Z"
   },
   {
    "duration": 74,
    "start_time": "2025-03-05T06:49:57.470Z"
   },
   {
    "duration": 37,
    "start_time": "2025-03-05T06:49:57.548Z"
   },
   {
    "duration": 39,
    "start_time": "2025-03-05T06:49:57.587Z"
   },
   {
    "duration": 60,
    "start_time": "2025-03-05T06:49:57.628Z"
   },
   {
    "duration": 675,
    "start_time": "2025-03-05T06:49:57.690Z"
   },
   {
    "duration": 130,
    "start_time": "2025-03-05T06:49:58.367Z"
   },
   {
    "duration": 189,
    "start_time": "2025-03-05T06:49:58.499Z"
   },
   {
    "duration": 54,
    "start_time": "2025-03-05T06:49:58.690Z"
   },
   {
    "duration": 46,
    "start_time": "2025-03-05T06:49:58.765Z"
   },
   {
    "duration": 5,
    "start_time": "2025-03-05T06:49:58.813Z"
   },
   {
    "duration": 17,
    "start_time": "2025-03-05T06:49:58.819Z"
   },
   {
    "duration": 31,
    "start_time": "2025-03-05T06:49:58.838Z"
   },
   {
    "duration": 45,
    "start_time": "2025-03-05T06:49:58.871Z"
   },
   {
    "duration": 15,
    "start_time": "2025-03-05T06:49:58.918Z"
   },
   {
    "duration": 88,
    "start_time": "2025-03-05T06:49:58.934Z"
   },
   {
    "duration": 1245,
    "start_time": "2025-03-05T06:51:11.535Z"
   },
   {
    "duration": 2445,
    "start_time": "2025-03-05T06:51:12.783Z"
   },
   {
    "duration": 1964,
    "start_time": "2025-03-05T06:51:15.230Z"
   },
   {
    "duration": 13,
    "start_time": "2025-03-05T06:51:17.197Z"
   },
   {
    "duration": 10,
    "start_time": "2025-03-05T06:51:17.212Z"
   },
   {
    "duration": 7,
    "start_time": "2025-03-05T06:51:17.223Z"
   },
   {
    "duration": 7,
    "start_time": "2025-03-05T06:51:17.231Z"
   },
   {
    "duration": 27,
    "start_time": "2025-03-05T06:51:17.240Z"
   },
   {
    "duration": 7,
    "start_time": "2025-03-05T06:51:17.268Z"
   },
   {
    "duration": 8,
    "start_time": "2025-03-05T06:51:17.277Z"
   },
   {
    "duration": 28,
    "start_time": "2025-03-05T06:51:17.287Z"
   },
   {
    "duration": 17,
    "start_time": "2025-03-05T06:51:17.316Z"
   },
   {
    "duration": 104,
    "start_time": "2025-03-05T06:51:17.358Z"
   },
   {
    "duration": 101,
    "start_time": "2025-03-05T06:51:17.464Z"
   },
   {
    "duration": 108,
    "start_time": "2025-03-05T06:51:17.566Z"
   },
   {
    "duration": 9,
    "start_time": "2025-03-05T06:51:17.676Z"
   },
   {
    "duration": 119,
    "start_time": "2025-03-05T06:51:17.687Z"
   },
   {
    "duration": 65,
    "start_time": "2025-03-05T06:51:17.808Z"
   },
   {
    "duration": 37,
    "start_time": "2025-03-05T06:51:17.874Z"
   },
   {
    "duration": 7,
    "start_time": "2025-03-05T06:51:17.913Z"
   },
   {
    "duration": 38,
    "start_time": "2025-03-05T06:51:17.921Z"
   },
   {
    "duration": 15,
    "start_time": "2025-03-05T06:51:17.960Z"
   },
   {
    "duration": 19,
    "start_time": "2025-03-05T06:51:17.977Z"
   },
   {
    "duration": 8,
    "start_time": "2025-03-05T06:51:17.998Z"
   },
   {
    "duration": 21,
    "start_time": "2025-03-05T06:51:18.008Z"
   },
   {
    "duration": 22,
    "start_time": "2025-03-05T06:51:18.058Z"
   },
   {
    "duration": 26,
    "start_time": "2025-03-05T06:51:18.082Z"
   },
   {
    "duration": 10,
    "start_time": "2025-03-05T06:51:18.111Z"
   },
   {
    "duration": 42,
    "start_time": "2025-03-05T06:51:18.123Z"
   },
   {
    "duration": 7,
    "start_time": "2025-03-05T06:51:18.167Z"
   },
   {
    "duration": 10,
    "start_time": "2025-03-05T06:51:18.175Z"
   },
   {
    "duration": 8,
    "start_time": "2025-03-05T06:51:18.187Z"
   },
   {
    "duration": 68,
    "start_time": "2025-03-05T06:51:18.197Z"
   },
   {
    "duration": 171,
    "start_time": "2025-03-05T06:51:18.267Z"
   },
   {
    "duration": 2,
    "start_time": "2025-03-05T06:51:18.440Z"
   },
   {
    "duration": 31,
    "start_time": "2025-03-05T06:51:18.444Z"
   },
   {
    "duration": 86,
    "start_time": "2025-03-05T06:51:18.476Z"
   },
   {
    "duration": 153,
    "start_time": "2025-03-05T06:51:18.564Z"
   },
   {
    "duration": 20,
    "start_time": "2025-03-05T06:51:18.719Z"
   },
   {
    "duration": 60,
    "start_time": "2025-03-05T06:51:18.741Z"
   },
   {
    "duration": 30,
    "start_time": "2025-03-05T06:51:18.803Z"
   },
   {
    "duration": 38,
    "start_time": "2025-03-05T06:51:18.835Z"
   },
   {
    "duration": 36,
    "start_time": "2025-03-05T06:51:18.875Z"
   },
   {
    "duration": 579,
    "start_time": "2025-03-05T06:51:18.913Z"
   },
   {
    "duration": 207,
    "start_time": "2025-03-05T06:51:19.493Z"
   },
   {
    "duration": 192,
    "start_time": "2025-03-05T06:51:19.702Z"
   },
   {
    "duration": 91,
    "start_time": "2025-03-05T06:51:19.896Z"
   },
   {
    "duration": 39,
    "start_time": "2025-03-05T06:51:19.989Z"
   },
   {
    "duration": 4,
    "start_time": "2025-03-05T06:51:20.030Z"
   },
   {
    "duration": 29,
    "start_time": "2025-03-05T06:51:20.035Z"
   },
   {
    "duration": 22,
    "start_time": "2025-03-05T06:51:20.066Z"
   },
   {
    "duration": 47,
    "start_time": "2025-03-05T06:51:20.090Z"
   },
   {
    "duration": 17,
    "start_time": "2025-03-05T06:51:20.159Z"
   },
   {
    "duration": 83,
    "start_time": "2025-03-05T06:51:20.178Z"
   },
   {
    "duration": 781,
    "start_time": "2025-03-05T06:54:41.564Z"
   },
   {
    "duration": 1179,
    "start_time": "2025-03-05T06:55:16.515Z"
   },
   {
    "duration": 2504,
    "start_time": "2025-03-05T06:55:17.696Z"
   },
   {
    "duration": 2044,
    "start_time": "2025-03-05T06:55:20.202Z"
   },
   {
    "duration": 14,
    "start_time": "2025-03-05T06:55:22.249Z"
   },
   {
    "duration": 10,
    "start_time": "2025-03-05T06:55:22.265Z"
   },
   {
    "duration": 8,
    "start_time": "2025-03-05T06:55:22.277Z"
   },
   {
    "duration": 8,
    "start_time": "2025-03-05T06:55:22.287Z"
   },
   {
    "duration": 12,
    "start_time": "2025-03-05T06:55:22.297Z"
   },
   {
    "duration": 48,
    "start_time": "2025-03-05T06:55:22.311Z"
   },
   {
    "duration": 9,
    "start_time": "2025-03-05T06:55:22.362Z"
   },
   {
    "duration": 75,
    "start_time": "2025-03-05T06:55:22.373Z"
   },
   {
    "duration": 18,
    "start_time": "2025-03-05T06:55:22.450Z"
   },
   {
    "duration": 107,
    "start_time": "2025-03-05T06:55:22.470Z"
   },
   {
    "duration": 103,
    "start_time": "2025-03-05T06:55:22.579Z"
   },
   {
    "duration": 108,
    "start_time": "2025-03-05T06:55:22.684Z"
   },
   {
    "duration": 9,
    "start_time": "2025-03-05T06:55:22.794Z"
   },
   {
    "duration": 59,
    "start_time": "2025-03-05T06:55:22.805Z"
   },
   {
    "duration": 38,
    "start_time": "2025-03-05T06:55:22.867Z"
   },
   {
    "duration": 56,
    "start_time": "2025-03-05T06:55:22.906Z"
   },
   {
    "duration": 9,
    "start_time": "2025-03-05T06:55:22.963Z"
   },
   {
    "duration": 98,
    "start_time": "2025-03-05T06:55:22.973Z"
   },
   {
    "duration": 16,
    "start_time": "2025-03-05T06:55:23.072Z"
   },
   {
    "duration": 16,
    "start_time": "2025-03-05T06:55:23.090Z"
   },
   {
    "duration": 11,
    "start_time": "2025-03-05T06:55:23.108Z"
   },
   {
    "duration": 49,
    "start_time": "2025-03-05T06:55:23.121Z"
   },
   {
    "duration": 23,
    "start_time": "2025-03-05T06:55:23.171Z"
   },
   {
    "duration": 31,
    "start_time": "2025-03-05T06:55:23.196Z"
   },
   {
    "duration": 10,
    "start_time": "2025-03-05T06:55:23.231Z"
   },
   {
    "duration": 14,
    "start_time": "2025-03-05T06:55:23.258Z"
   },
   {
    "duration": 8,
    "start_time": "2025-03-05T06:55:23.274Z"
   },
   {
    "duration": 10,
    "start_time": "2025-03-05T06:55:23.284Z"
   },
   {
    "duration": 8,
    "start_time": "2025-03-05T06:55:23.296Z"
   },
   {
    "duration": 79,
    "start_time": "2025-03-05T06:55:23.306Z"
   },
   {
    "duration": 171,
    "start_time": "2025-03-05T06:55:23.387Z"
   },
   {
    "duration": 3,
    "start_time": "2025-03-05T06:55:23.559Z"
   },
   {
    "duration": 26,
    "start_time": "2025-03-05T06:55:23.564Z"
   },
   {
    "duration": 95,
    "start_time": "2025-03-05T06:55:23.591Z"
   },
   {
    "duration": 162,
    "start_time": "2025-03-05T06:55:23.689Z"
   },
   {
    "duration": 21,
    "start_time": "2025-03-05T06:55:23.853Z"
   },
   {
    "duration": 7,
    "start_time": "2025-03-05T06:55:23.875Z"
   },
   {
    "duration": 33,
    "start_time": "2025-03-05T06:55:23.884Z"
   },
   {
    "duration": 59,
    "start_time": "2025-03-05T06:55:23.919Z"
   },
   {
    "duration": 36,
    "start_time": "2025-03-05T06:55:23.980Z"
   },
   {
    "duration": 587,
    "start_time": "2025-03-05T06:55:24.019Z"
   },
   {
    "duration": 171,
    "start_time": "2025-03-05T06:55:24.608Z"
   },
   {
    "duration": 155,
    "start_time": "2025-03-05T06:55:24.781Z"
   },
   {
    "duration": 86,
    "start_time": "2025-03-05T06:55:24.938Z"
   },
   {
    "duration": 111,
    "start_time": "2025-03-05T06:55:25.026Z"
   },
   {
    "duration": 0,
    "start_time": "2025-03-05T06:55:25.139Z"
   },
   {
    "duration": 0,
    "start_time": "2025-03-05T06:55:25.141Z"
   },
   {
    "duration": 0,
    "start_time": "2025-03-05T06:55:25.142Z"
   },
   {
    "duration": 0,
    "start_time": "2025-03-05T06:55:25.143Z"
   },
   {
    "duration": 0,
    "start_time": "2025-03-05T06:55:25.144Z"
   },
   {
    "duration": 0,
    "start_time": "2025-03-05T06:55:25.163Z"
   },
   {
    "duration": 297,
    "start_time": "2025-03-05T06:56:42.338Z"
   },
   {
    "duration": 1210,
    "start_time": "2025-03-05T06:56:54.861Z"
   },
   {
    "duration": 2343,
    "start_time": "2025-03-05T06:56:56.072Z"
   },
   {
    "duration": 1888,
    "start_time": "2025-03-05T06:56:58.417Z"
   },
   {
    "duration": 16,
    "start_time": "2025-03-05T06:57:00.307Z"
   },
   {
    "duration": 115,
    "start_time": "2025-03-05T06:57:00.325Z"
   },
   {
    "duration": 30,
    "start_time": "2025-03-05T06:57:00.442Z"
   },
   {
    "duration": 19,
    "start_time": "2025-03-05T06:57:00.474Z"
   },
   {
    "duration": 14,
    "start_time": "2025-03-05T06:57:00.495Z"
   },
   {
    "duration": 23,
    "start_time": "2025-03-05T06:57:00.511Z"
   },
   {
    "duration": 25,
    "start_time": "2025-03-05T06:57:00.537Z"
   },
   {
    "duration": 31,
    "start_time": "2025-03-05T06:57:00.564Z"
   },
   {
    "duration": 40,
    "start_time": "2025-03-05T06:57:00.597Z"
   },
   {
    "duration": 103,
    "start_time": "2025-03-05T06:57:00.639Z"
   },
   {
    "duration": 97,
    "start_time": "2025-03-05T06:57:00.743Z"
   },
   {
    "duration": 125,
    "start_time": "2025-03-05T06:57:00.842Z"
   },
   {
    "duration": 10,
    "start_time": "2025-03-05T06:57:00.968Z"
   },
   {
    "duration": 135,
    "start_time": "2025-03-05T06:57:00.980Z"
   },
   {
    "duration": 45,
    "start_time": "2025-03-05T06:57:01.117Z"
   },
   {
    "duration": 42,
    "start_time": "2025-03-05T06:57:01.164Z"
   },
   {
    "duration": 8,
    "start_time": "2025-03-05T06:57:01.208Z"
   },
   {
    "duration": 44,
    "start_time": "2025-03-05T06:57:01.218Z"
   },
   {
    "duration": 25,
    "start_time": "2025-03-05T06:57:01.264Z"
   },
   {
    "duration": 33,
    "start_time": "2025-03-05T06:57:01.291Z"
   },
   {
    "duration": 9,
    "start_time": "2025-03-05T06:57:01.326Z"
   },
   {
    "duration": 48,
    "start_time": "2025-03-05T06:57:01.336Z"
   },
   {
    "duration": 22,
    "start_time": "2025-03-05T06:57:01.386Z"
   },
   {
    "duration": 68,
    "start_time": "2025-03-05T06:57:01.410Z"
   },
   {
    "duration": 114,
    "start_time": "2025-03-05T06:57:01.483Z"
   },
   {
    "duration": 40,
    "start_time": "2025-03-05T06:57:01.599Z"
   },
   {
    "duration": 233,
    "start_time": "2025-03-05T06:57:01.641Z"
   },
   {
    "duration": 11,
    "start_time": "2025-03-05T06:57:01.876Z"
   },
   {
    "duration": 7,
    "start_time": "2025-03-05T06:57:01.889Z"
   },
   {
    "duration": 62,
    "start_time": "2025-03-05T06:57:01.897Z"
   },
   {
    "duration": 166,
    "start_time": "2025-03-05T06:57:01.961Z"
   },
   {
    "duration": 3,
    "start_time": "2025-03-05T06:57:02.128Z"
   },
   {
    "duration": 54,
    "start_time": "2025-03-05T06:57:02.132Z"
   },
   {
    "duration": 80,
    "start_time": "2025-03-05T06:57:02.188Z"
   },
   {
    "duration": 165,
    "start_time": "2025-03-05T06:57:02.270Z"
   },
   {
    "duration": 29,
    "start_time": "2025-03-05T06:57:02.436Z"
   },
   {
    "duration": 9,
    "start_time": "2025-03-05T06:57:02.467Z"
   },
   {
    "duration": 36,
    "start_time": "2025-03-05T06:57:02.477Z"
   },
   {
    "duration": 58,
    "start_time": "2025-03-05T06:57:02.515Z"
   },
   {
    "duration": 39,
    "start_time": "2025-03-05T06:57:02.575Z"
   },
   {
    "duration": 571,
    "start_time": "2025-03-05T06:57:02.616Z"
   },
   {
    "duration": 182,
    "start_time": "2025-03-05T06:57:03.188Z"
   },
   {
    "duration": 155,
    "start_time": "2025-03-05T06:57:03.372Z"
   },
   {
    "duration": 82,
    "start_time": "2025-03-05T06:57:03.528Z"
   },
   {
    "duration": 116,
    "start_time": "2025-03-05T06:57:03.612Z"
   },
   {
    "duration": 0,
    "start_time": "2025-03-05T06:57:03.730Z"
   },
   {
    "duration": 0,
    "start_time": "2025-03-05T06:57:03.731Z"
   },
   {
    "duration": 0,
    "start_time": "2025-03-05T06:57:03.732Z"
   },
   {
    "duration": 0,
    "start_time": "2025-03-05T06:57:03.733Z"
   },
   {
    "duration": 1,
    "start_time": "2025-03-05T06:57:03.734Z"
   },
   {
    "duration": 0,
    "start_time": "2025-03-05T06:57:03.736Z"
   },
   {
    "duration": 1190,
    "start_time": "2025-03-05T06:58:28.010Z"
   },
   {
    "duration": 2731,
    "start_time": "2025-03-05T06:58:29.203Z"
   },
   {
    "duration": 2126,
    "start_time": "2025-03-05T06:58:31.936Z"
   },
   {
    "duration": 24,
    "start_time": "2025-03-05T06:58:34.065Z"
   },
   {
    "duration": 10,
    "start_time": "2025-03-05T06:58:34.092Z"
   },
   {
    "duration": 33,
    "start_time": "2025-03-05T06:58:34.103Z"
   },
   {
    "duration": 23,
    "start_time": "2025-03-05T06:58:34.138Z"
   },
   {
    "duration": 16,
    "start_time": "2025-03-05T06:58:34.163Z"
   },
   {
    "duration": 11,
    "start_time": "2025-03-05T06:58:34.182Z"
   },
   {
    "duration": 33,
    "start_time": "2025-03-05T06:58:34.195Z"
   },
   {
    "duration": 55,
    "start_time": "2025-03-05T06:58:34.231Z"
   },
   {
    "duration": 56,
    "start_time": "2025-03-05T06:58:34.288Z"
   },
   {
    "duration": 171,
    "start_time": "2025-03-05T06:58:34.347Z"
   },
   {
    "duration": 111,
    "start_time": "2025-03-05T06:58:34.522Z"
   },
   {
    "duration": 112,
    "start_time": "2025-03-05T06:58:34.635Z"
   },
   {
    "duration": 15,
    "start_time": "2025-03-05T06:58:34.750Z"
   },
   {
    "duration": 144,
    "start_time": "2025-03-05T06:58:34.767Z"
   },
   {
    "duration": 39,
    "start_time": "2025-03-05T06:58:34.913Z"
   },
   {
    "duration": 55,
    "start_time": "2025-03-05T06:58:34.953Z"
   },
   {
    "duration": 59,
    "start_time": "2025-03-05T06:58:35.010Z"
   },
   {
    "duration": 39,
    "start_time": "2025-03-05T06:58:35.071Z"
   },
   {
    "duration": 31,
    "start_time": "2025-03-05T06:58:35.113Z"
   },
   {
    "duration": 41,
    "start_time": "2025-03-05T06:58:35.147Z"
   },
   {
    "duration": 27,
    "start_time": "2025-03-05T06:58:35.193Z"
   },
   {
    "duration": 27,
    "start_time": "2025-03-05T06:58:35.222Z"
   },
   {
    "duration": 60,
    "start_time": "2025-03-05T06:58:35.251Z"
   },
   {
    "duration": 27,
    "start_time": "2025-03-05T06:58:35.312Z"
   },
   {
    "duration": 11,
    "start_time": "2025-03-05T06:58:35.341Z"
   },
   {
    "duration": 32,
    "start_time": "2025-03-05T06:58:35.354Z"
   },
   {
    "duration": 29,
    "start_time": "2025-03-05T06:58:35.388Z"
   },
   {
    "duration": 21,
    "start_time": "2025-03-05T06:58:35.419Z"
   },
   {
    "duration": 12,
    "start_time": "2025-03-05T06:58:35.442Z"
   },
   {
    "duration": 54,
    "start_time": "2025-03-05T06:58:35.456Z"
   },
   {
    "duration": 281,
    "start_time": "2025-03-05T06:58:35.511Z"
   },
   {
    "duration": 4,
    "start_time": "2025-03-05T06:58:35.794Z"
   },
   {
    "duration": 104,
    "start_time": "2025-03-05T06:58:35.800Z"
   },
   {
    "duration": 113,
    "start_time": "2025-03-05T06:58:35.906Z"
   },
   {
    "duration": 216,
    "start_time": "2025-03-05T06:58:36.021Z"
   },
   {
    "duration": 36,
    "start_time": "2025-03-05T06:58:36.238Z"
   },
   {
    "duration": 16,
    "start_time": "2025-03-05T06:58:36.276Z"
   },
   {
    "duration": 47,
    "start_time": "2025-03-05T06:58:36.296Z"
   },
   {
    "duration": 59,
    "start_time": "2025-03-05T06:58:36.344Z"
   },
   {
    "duration": 118,
    "start_time": "2025-03-05T06:58:36.405Z"
   },
   {
    "duration": 926,
    "start_time": "2025-03-05T06:58:36.525Z"
   },
   {
    "duration": 153,
    "start_time": "2025-03-05T06:58:37.453Z"
   },
   {
    "duration": 182,
    "start_time": "2025-03-05T06:58:37.608Z"
   },
   {
    "duration": 99,
    "start_time": "2025-03-05T06:58:37.793Z"
   },
   {
    "duration": 133,
    "start_time": "2025-03-05T06:58:37.894Z"
   },
   {
    "duration": 0,
    "start_time": "2025-03-05T06:58:38.029Z"
   },
   {
    "duration": 0,
    "start_time": "2025-03-05T06:58:38.031Z"
   },
   {
    "duration": 0,
    "start_time": "2025-03-05T06:58:38.033Z"
   },
   {
    "duration": 0,
    "start_time": "2025-03-05T06:58:38.034Z"
   },
   {
    "duration": 0,
    "start_time": "2025-03-05T06:58:38.036Z"
   },
   {
    "duration": 0,
    "start_time": "2025-03-05T06:58:38.038Z"
   },
   {
    "duration": 1274,
    "start_time": "2025-03-05T07:03:49.534Z"
   },
   {
    "duration": 2634,
    "start_time": "2025-03-05T07:03:50.811Z"
   },
   {
    "duration": 2172,
    "start_time": "2025-03-05T07:03:53.447Z"
   },
   {
    "duration": 13,
    "start_time": "2025-03-05T07:03:55.621Z"
   },
   {
    "duration": 10,
    "start_time": "2025-03-05T07:03:55.636Z"
   },
   {
    "duration": 8,
    "start_time": "2025-03-05T07:03:55.648Z"
   },
   {
    "duration": 118,
    "start_time": "2025-03-05T07:03:55.658Z"
   },
   {
    "duration": 137,
    "start_time": "2025-03-05T07:03:55.778Z"
   },
   {
    "duration": 7,
    "start_time": "2025-03-05T07:03:55.916Z"
   },
   {
    "duration": 10,
    "start_time": "2025-03-05T07:03:55.924Z"
   },
   {
    "duration": 25,
    "start_time": "2025-03-05T07:03:55.935Z"
   },
   {
    "duration": 30,
    "start_time": "2025-03-05T07:03:55.961Z"
   },
   {
    "duration": 113,
    "start_time": "2025-03-05T07:03:55.993Z"
   },
   {
    "duration": 105,
    "start_time": "2025-03-05T07:03:56.109Z"
   },
   {
    "duration": 107,
    "start_time": "2025-03-05T07:03:56.215Z"
   },
   {
    "duration": 10,
    "start_time": "2025-03-05T07:03:56.324Z"
   },
   {
    "duration": 58,
    "start_time": "2025-03-05T07:03:56.336Z"
   },
   {
    "duration": 36,
    "start_time": "2025-03-05T07:03:56.396Z"
   },
   {
    "duration": 56,
    "start_time": "2025-03-05T07:03:56.435Z"
   },
   {
    "duration": 9,
    "start_time": "2025-03-05T07:03:56.493Z"
   },
   {
    "duration": 22,
    "start_time": "2025-03-05T07:03:56.504Z"
   },
   {
    "duration": 39,
    "start_time": "2025-03-05T07:03:56.528Z"
   },
   {
    "duration": 19,
    "start_time": "2025-03-05T07:03:56.569Z"
   },
   {
    "duration": 10,
    "start_time": "2025-03-05T07:03:56.590Z"
   },
   {
    "duration": 22,
    "start_time": "2025-03-05T07:03:56.602Z"
   },
   {
    "duration": 25,
    "start_time": "2025-03-05T07:03:56.657Z"
   },
   {
    "duration": 27,
    "start_time": "2025-03-05T07:03:56.683Z"
   },
   {
    "duration": 10,
    "start_time": "2025-03-05T07:03:56.712Z"
   },
   {
    "duration": 45,
    "start_time": "2025-03-05T07:03:56.724Z"
   },
   {
    "duration": 67,
    "start_time": "2025-03-05T07:03:56.771Z"
   },
   {
    "duration": 11,
    "start_time": "2025-03-05T07:03:56.840Z"
   },
   {
    "duration": 8,
    "start_time": "2025-03-05T07:03:56.852Z"
   },
   {
    "duration": 46,
    "start_time": "2025-03-05T07:03:56.861Z"
   },
   {
    "duration": 175,
    "start_time": "2025-03-05T07:03:56.909Z"
   },
   {
    "duration": 3,
    "start_time": "2025-03-05T07:03:57.086Z"
   },
   {
    "duration": 32,
    "start_time": "2025-03-05T07:03:57.090Z"
   },
   {
    "duration": 84,
    "start_time": "2025-03-05T07:03:57.124Z"
   },
   {
    "duration": 169,
    "start_time": "2025-03-05T07:03:57.210Z"
   },
   {
    "duration": 21,
    "start_time": "2025-03-05T07:03:57.381Z"
   },
   {
    "duration": 8,
    "start_time": "2025-03-05T07:03:57.403Z"
   },
   {
    "duration": 56,
    "start_time": "2025-03-05T07:03:57.415Z"
   },
   {
    "duration": 42,
    "start_time": "2025-03-05T07:03:57.473Z"
   },
   {
    "duration": 88,
    "start_time": "2025-03-05T07:03:57.523Z"
   },
   {
    "duration": 575,
    "start_time": "2025-03-05T07:03:57.613Z"
   },
   {
    "duration": 152,
    "start_time": "2025-03-05T07:03:58.190Z"
   },
   {
    "duration": 149,
    "start_time": "2025-03-05T07:03:58.344Z"
   },
   {
    "duration": 86,
    "start_time": "2025-03-05T07:03:58.495Z"
   },
   {
    "duration": 120,
    "start_time": "2025-03-05T07:03:58.583Z"
   },
   {
    "duration": 0,
    "start_time": "2025-03-05T07:03:58.705Z"
   },
   {
    "duration": 0,
    "start_time": "2025-03-05T07:03:58.706Z"
   },
   {
    "duration": 0,
    "start_time": "2025-03-05T07:03:58.708Z"
   },
   {
    "duration": 0,
    "start_time": "2025-03-05T07:03:58.709Z"
   },
   {
    "duration": 0,
    "start_time": "2025-03-05T07:03:58.711Z"
   },
   {
    "duration": 0,
    "start_time": "2025-03-05T07:03:58.713Z"
   },
   {
    "duration": 31,
    "start_time": "2025-03-05T07:32:00.117Z"
   },
   {
    "duration": 1487,
    "start_time": "2025-03-05T10:34:50.803Z"
   },
   {
    "duration": 3169,
    "start_time": "2025-03-05T10:34:52.293Z"
   },
   {
    "duration": 2264,
    "start_time": "2025-03-05T10:34:55.464Z"
   },
   {
    "duration": 15,
    "start_time": "2025-03-05T10:34:57.731Z"
   },
   {
    "duration": 19,
    "start_time": "2025-03-05T10:34:57.748Z"
   },
   {
    "duration": 10,
    "start_time": "2025-03-05T10:34:57.770Z"
   },
   {
    "duration": 10,
    "start_time": "2025-03-05T10:34:57.783Z"
   },
   {
    "duration": 14,
    "start_time": "2025-03-05T10:34:57.795Z"
   },
   {
    "duration": 7,
    "start_time": "2025-03-05T10:34:57.811Z"
   },
   {
    "duration": 52,
    "start_time": "2025-03-05T10:34:57.821Z"
   },
   {
    "duration": 27,
    "start_time": "2025-03-05T10:34:57.875Z"
   },
   {
    "duration": 20,
    "start_time": "2025-03-05T10:34:57.904Z"
   },
   {
    "duration": 125,
    "start_time": "2025-03-05T10:34:57.926Z"
   },
   {
    "duration": 108,
    "start_time": "2025-03-05T10:34:58.053Z"
   },
   {
    "duration": 111,
    "start_time": "2025-03-05T10:34:58.163Z"
   },
   {
    "duration": 11,
    "start_time": "2025-03-05T10:34:58.281Z"
   },
   {
    "duration": 44,
    "start_time": "2025-03-05T10:34:58.294Z"
   },
   {
    "duration": 51,
    "start_time": "2025-03-05T10:34:58.340Z"
   },
   {
    "duration": 39,
    "start_time": "2025-03-05T10:34:58.392Z"
   },
   {
    "duration": 8,
    "start_time": "2025-03-05T10:34:58.433Z"
   },
   {
    "duration": 44,
    "start_time": "2025-03-05T10:34:58.443Z"
   },
   {
    "duration": 17,
    "start_time": "2025-03-05T10:34:58.488Z"
   },
   {
    "duration": 22,
    "start_time": "2025-03-05T10:34:58.507Z"
   },
   {
    "duration": 9,
    "start_time": "2025-03-05T10:34:58.531Z"
   },
   {
    "duration": 23,
    "start_time": "2025-03-05T10:34:58.571Z"
   },
   {
    "duration": 27,
    "start_time": "2025-03-05T10:34:58.596Z"
   },
   {
    "duration": 40,
    "start_time": "2025-03-05T10:34:58.625Z"
   },
   {
    "duration": 11,
    "start_time": "2025-03-05T10:34:58.676Z"
   },
   {
    "duration": 16,
    "start_time": "2025-03-05T10:34:58.689Z"
   },
   {
    "duration": 7,
    "start_time": "2025-03-05T10:34:58.707Z"
   },
   {
    "duration": 18,
    "start_time": "2025-03-05T10:34:58.716Z"
   },
   {
    "duration": 39,
    "start_time": "2025-03-05T10:34:58.736Z"
   },
   {
    "duration": 47,
    "start_time": "2025-03-05T10:34:58.777Z"
   },
   {
    "duration": 220,
    "start_time": "2025-03-05T10:34:58.827Z"
   },
   {
    "duration": 3,
    "start_time": "2025-03-05T10:34:59.049Z"
   },
   {
    "duration": 41,
    "start_time": "2025-03-05T10:34:59.054Z"
   },
   {
    "duration": 94,
    "start_time": "2025-03-05T10:34:59.097Z"
   },
   {
    "duration": 184,
    "start_time": "2025-03-05T10:34:59.193Z"
   },
   {
    "duration": 23,
    "start_time": "2025-03-05T10:34:59.379Z"
   },
   {
    "duration": 7,
    "start_time": "2025-03-05T10:34:59.404Z"
   },
   {
    "duration": 38,
    "start_time": "2025-03-05T10:34:59.413Z"
   },
   {
    "duration": 59,
    "start_time": "2025-03-05T10:34:59.453Z"
   },
   {
    "duration": 61,
    "start_time": "2025-03-05T10:34:59.514Z"
   },
   {
    "duration": 621,
    "start_time": "2025-03-05T10:34:59.576Z"
   },
   {
    "duration": 174,
    "start_time": "2025-03-05T10:35:00.198Z"
   },
   {
    "duration": 65,
    "start_time": "2025-03-05T10:35:00.373Z"
   },
   {
    "duration": 135,
    "start_time": "2025-03-05T10:35:00.439Z"
   },
   {
    "duration": 0,
    "start_time": "2025-03-05T10:35:00.575Z"
   },
   {
    "duration": 0,
    "start_time": "2025-03-05T10:35:00.577Z"
   },
   {
    "duration": 0,
    "start_time": "2025-03-05T10:35:00.578Z"
   },
   {
    "duration": 0,
    "start_time": "2025-03-05T10:35:00.579Z"
   },
   {
    "duration": 0,
    "start_time": "2025-03-05T10:35:00.581Z"
   },
   {
    "duration": 0,
    "start_time": "2025-03-05T10:35:00.582Z"
   },
   {
    "duration": 0,
    "start_time": "2025-03-05T10:35:00.583Z"
   },
   {
    "duration": 13,
    "start_time": "2025-03-05T10:41:33.573Z"
   },
   {
    "duration": 1205,
    "start_time": "2025-03-05T10:41:58.920Z"
   },
   {
    "duration": 2739,
    "start_time": "2025-03-05T10:42:00.128Z"
   },
   {
    "duration": 2950,
    "start_time": "2025-03-05T10:42:02.869Z"
   },
   {
    "duration": 15,
    "start_time": "2025-03-05T10:42:05.820Z"
   },
   {
    "duration": 54,
    "start_time": "2025-03-05T10:42:05.837Z"
   },
   {
    "duration": 34,
    "start_time": "2025-03-05T10:42:05.893Z"
   },
   {
    "duration": 9,
    "start_time": "2025-03-05T10:42:05.929Z"
   },
   {
    "duration": 53,
    "start_time": "2025-03-05T10:42:05.940Z"
   },
   {
    "duration": 40,
    "start_time": "2025-03-05T10:42:05.995Z"
   },
   {
    "duration": 12,
    "start_time": "2025-03-05T10:42:06.037Z"
   },
   {
    "duration": 62,
    "start_time": "2025-03-05T10:42:06.050Z"
   },
   {
    "duration": 21,
    "start_time": "2025-03-05T10:42:06.114Z"
   },
   {
    "duration": 107,
    "start_time": "2025-03-05T10:42:06.137Z"
   },
   {
    "duration": 99,
    "start_time": "2025-03-05T10:42:06.247Z"
   },
   {
    "duration": 112,
    "start_time": "2025-03-05T10:42:06.348Z"
   },
   {
    "duration": 16,
    "start_time": "2025-03-05T10:42:06.463Z"
   },
   {
    "duration": 67,
    "start_time": "2025-03-05T10:42:06.481Z"
   },
   {
    "duration": 41,
    "start_time": "2025-03-05T10:42:06.550Z"
   },
   {
    "duration": 48,
    "start_time": "2025-03-05T10:42:06.593Z"
   },
   {
    "duration": 9,
    "start_time": "2025-03-05T10:42:06.643Z"
   },
   {
    "duration": 51,
    "start_time": "2025-03-05T10:42:06.655Z"
   },
   {
    "duration": 19,
    "start_time": "2025-03-05T10:42:06.708Z"
   },
   {
    "duration": 35,
    "start_time": "2025-03-05T10:42:06.730Z"
   },
   {
    "duration": 37,
    "start_time": "2025-03-05T10:42:06.767Z"
   },
   {
    "duration": 23,
    "start_time": "2025-03-05T10:42:06.807Z"
   },
   {
    "duration": 24,
    "start_time": "2025-03-05T10:42:06.833Z"
   },
   {
    "duration": 38,
    "start_time": "2025-03-05T10:42:06.859Z"
   },
   {
    "duration": 11,
    "start_time": "2025-03-05T10:42:06.899Z"
   },
   {
    "duration": 25,
    "start_time": "2025-03-05T10:42:06.912Z"
   },
   {
    "duration": 10,
    "start_time": "2025-03-05T10:42:06.939Z"
   },
   {
    "duration": 35,
    "start_time": "2025-03-05T10:42:06.951Z"
   },
   {
    "duration": 9,
    "start_time": "2025-03-05T10:42:06.988Z"
   },
   {
    "duration": 51,
    "start_time": "2025-03-05T10:42:06.999Z"
   },
   {
    "duration": 190,
    "start_time": "2025-03-05T10:42:07.052Z"
   },
   {
    "duration": 3,
    "start_time": "2025-03-05T10:42:07.244Z"
   },
   {
    "duration": 61,
    "start_time": "2025-03-05T10:42:07.249Z"
   },
   {
    "duration": 86,
    "start_time": "2025-03-05T10:42:07.312Z"
   },
   {
    "duration": 170,
    "start_time": "2025-03-05T10:42:07.400Z"
   },
   {
    "duration": 22,
    "start_time": "2025-03-05T10:42:07.572Z"
   },
   {
    "duration": 18,
    "start_time": "2025-03-05T10:42:07.596Z"
   },
   {
    "duration": 38,
    "start_time": "2025-03-05T10:42:07.619Z"
   },
   {
    "duration": 54,
    "start_time": "2025-03-05T10:42:07.659Z"
   },
   {
    "duration": 59,
    "start_time": "2025-03-05T10:42:07.715Z"
   },
   {
    "duration": 634,
    "start_time": "2025-03-05T10:42:07.776Z"
   },
   {
    "duration": 200,
    "start_time": "2025-03-05T10:42:08.413Z"
   },
   {
    "duration": 80,
    "start_time": "2025-03-05T10:42:08.615Z"
   },
   {
    "duration": 43,
    "start_time": "2025-03-05T10:42:08.697Z"
   },
   {
    "duration": 5,
    "start_time": "2025-03-05T10:42:08.742Z"
   },
   {
    "duration": 34,
    "start_time": "2025-03-05T10:42:08.749Z"
   },
   {
    "duration": 24,
    "start_time": "2025-03-05T10:42:08.784Z"
   },
   {
    "duration": 74,
    "start_time": "2025-03-05T10:42:08.809Z"
   },
   {
    "duration": 19,
    "start_time": "2025-03-05T10:42:08.885Z"
   },
   {
    "duration": 208,
    "start_time": "2025-03-05T10:42:08.906Z"
   },
   {
    "duration": 35,
    "start_time": "2025-03-05T10:42:09.116Z"
   },
   {
    "duration": 19,
    "start_time": "2025-03-05T10:44:43.716Z"
   },
   {
    "duration": 1277,
    "start_time": "2025-03-05T10:46:04.169Z"
   },
   {
    "duration": 2668,
    "start_time": "2025-03-05T10:46:05.448Z"
   },
   {
    "duration": 2248,
    "start_time": "2025-03-05T10:46:08.118Z"
   },
   {
    "duration": 15,
    "start_time": "2025-03-05T10:46:10.368Z"
   },
   {
    "duration": 10,
    "start_time": "2025-03-05T10:46:10.386Z"
   },
   {
    "duration": 10,
    "start_time": "2025-03-05T10:46:10.397Z"
   },
   {
    "duration": 10,
    "start_time": "2025-03-05T10:46:10.409Z"
   },
   {
    "duration": 52,
    "start_time": "2025-03-05T10:46:10.421Z"
   },
   {
    "duration": 10,
    "start_time": "2025-03-05T10:46:10.475Z"
   },
   {
    "duration": 11,
    "start_time": "2025-03-05T10:46:10.488Z"
   },
   {
    "duration": 26,
    "start_time": "2025-03-05T10:46:10.501Z"
   },
   {
    "duration": 49,
    "start_time": "2025-03-05T10:46:10.529Z"
   },
   {
    "duration": 114,
    "start_time": "2025-03-05T10:46:10.579Z"
   },
   {
    "duration": 109,
    "start_time": "2025-03-05T10:46:10.696Z"
   },
   {
    "duration": 110,
    "start_time": "2025-03-05T10:46:10.807Z"
   },
   {
    "duration": 11,
    "start_time": "2025-03-05T10:46:10.919Z"
   },
   {
    "duration": 58,
    "start_time": "2025-03-05T10:46:10.932Z"
   },
   {
    "duration": 41,
    "start_time": "2025-03-05T10:46:10.992Z"
   },
   {
    "duration": 57,
    "start_time": "2025-03-05T10:46:11.035Z"
   },
   {
    "duration": 8,
    "start_time": "2025-03-05T10:46:11.094Z"
   },
   {
    "duration": 26,
    "start_time": "2025-03-05T10:46:11.104Z"
   },
   {
    "duration": 40,
    "start_time": "2025-03-05T10:46:11.132Z"
   },
   {
    "duration": 21,
    "start_time": "2025-03-05T10:46:11.174Z"
   },
   {
    "duration": 29,
    "start_time": "2025-03-05T10:46:11.197Z"
   },
   {
    "duration": 31,
    "start_time": "2025-03-05T10:46:11.229Z"
   },
   {
    "duration": 28,
    "start_time": "2025-03-05T10:46:11.261Z"
   },
   {
    "duration": 26,
    "start_time": "2025-03-05T10:46:11.290Z"
   },
   {
    "duration": 10,
    "start_time": "2025-03-05T10:46:11.318Z"
   },
   {
    "duration": 42,
    "start_time": "2025-03-05T10:46:11.330Z"
   },
   {
    "duration": 7,
    "start_time": "2025-03-05T10:46:11.374Z"
   },
   {
    "duration": 11,
    "start_time": "2025-03-05T10:46:11.383Z"
   },
   {
    "duration": 9,
    "start_time": "2025-03-05T10:46:11.396Z"
   },
   {
    "duration": 69,
    "start_time": "2025-03-05T10:46:11.407Z"
   },
   {
    "duration": 179,
    "start_time": "2025-03-05T10:46:11.478Z"
   },
   {
    "duration": 3,
    "start_time": "2025-03-05T10:46:11.658Z"
   },
   {
    "duration": 29,
    "start_time": "2025-03-05T10:46:11.671Z"
   },
   {
    "duration": 97,
    "start_time": "2025-03-05T10:46:11.702Z"
   },
   {
    "duration": 181,
    "start_time": "2025-03-05T10:46:11.800Z"
   },
   {
    "duration": 21,
    "start_time": "2025-03-05T10:46:11.982Z"
   },
   {
    "duration": 12,
    "start_time": "2025-03-05T10:46:12.006Z"
   },
   {
    "duration": 54,
    "start_time": "2025-03-05T10:46:12.023Z"
   },
   {
    "duration": 44,
    "start_time": "2025-03-05T10:46:12.078Z"
   },
   {
    "duration": 61,
    "start_time": "2025-03-05T10:46:12.124Z"
   },
   {
    "duration": 617,
    "start_time": "2025-03-05T10:46:12.187Z"
   },
   {
    "duration": 196,
    "start_time": "2025-03-05T10:46:12.806Z"
   },
   {
    "duration": 68,
    "start_time": "2025-03-05T10:46:13.004Z"
   },
   {
    "duration": 44,
    "start_time": "2025-03-05T10:46:13.074Z"
   },
   {
    "duration": 5,
    "start_time": "2025-03-05T10:46:13.120Z"
   },
   {
    "duration": 15,
    "start_time": "2025-03-05T10:46:13.126Z"
   },
   {
    "duration": 52,
    "start_time": "2025-03-05T10:46:13.142Z"
   },
   {
    "duration": 51,
    "start_time": "2025-03-05T10:46:13.196Z"
   },
   {
    "duration": 38,
    "start_time": "2025-03-05T10:46:13.249Z"
   },
   {
    "duration": 154,
    "start_time": "2025-03-05T10:46:13.289Z"
   },
   {
    "duration": 42,
    "start_time": "2025-03-05T10:46:13.445Z"
   },
   {
    "duration": 122,
    "start_time": "2025-03-05T10:46:36.125Z"
   },
   {
    "duration": 17,
    "start_time": "2025-03-05T10:46:42.743Z"
   },
   {
    "duration": 16,
    "start_time": "2025-03-05T10:46:57.380Z"
   },
   {
    "duration": 20,
    "start_time": "2025-03-05T10:47:06.743Z"
   },
   {
    "duration": 19,
    "start_time": "2025-03-05T10:50:05.747Z"
   },
   {
    "duration": 19,
    "start_time": "2025-03-05T10:51:02.302Z"
   },
   {
    "duration": 21,
    "start_time": "2025-03-05T10:53:42.763Z"
   },
   {
    "duration": 16,
    "start_time": "2025-03-05T10:54:42.627Z"
   },
   {
    "duration": 19,
    "start_time": "2025-03-05T10:55:46.902Z"
   },
   {
    "duration": 20,
    "start_time": "2025-03-05T10:56:56.511Z"
   },
   {
    "duration": 18,
    "start_time": "2025-03-05T11:01:53.426Z"
   },
   {
    "duration": 17,
    "start_time": "2025-03-05T11:02:39.368Z"
   },
   {
    "duration": 29,
    "start_time": "2025-03-05T11:03:09.168Z"
   },
   {
    "duration": 33,
    "start_time": "2025-03-05T11:04:19.625Z"
   },
   {
    "duration": 32,
    "start_time": "2025-03-05T11:04:47.383Z"
   },
   {
    "duration": 32,
    "start_time": "2025-03-05T11:05:00.631Z"
   },
   {
    "duration": 32,
    "start_time": "2025-03-05T11:08:07.050Z"
   },
   {
    "duration": 34,
    "start_time": "2025-03-05T11:08:38.397Z"
   },
   {
    "duration": 52,
    "start_time": "2025-03-05T11:08:51.650Z"
   },
   {
    "duration": 35,
    "start_time": "2025-03-05T11:08:53.159Z"
   },
   {
    "duration": 32,
    "start_time": "2025-03-05T11:09:11.121Z"
   },
   {
    "duration": 11,
    "start_time": "2025-03-05T11:15:10.088Z"
   },
   {
    "duration": 1214,
    "start_time": "2025-03-05T11:15:16.944Z"
   },
   {
    "duration": 98,
    "start_time": "2025-03-05T11:15:35.195Z"
   },
   {
    "duration": 11,
    "start_time": "2025-03-05T11:15:40.883Z"
   },
   {
    "duration": 107,
    "start_time": "2025-03-05T11:15:51.820Z"
   },
   {
    "duration": 30,
    "start_time": "2025-03-05T11:21:10.110Z"
   },
   {
    "duration": 106,
    "start_time": "2025-03-05T11:55:56.848Z"
   },
   {
    "duration": 42,
    "start_time": "2025-03-05T12:08:01.265Z"
   },
   {
    "duration": 102,
    "start_time": "2025-03-05T12:15:29.161Z"
   },
   {
    "duration": 80,
    "start_time": "2025-03-05T12:29:19.331Z"
   },
   {
    "duration": 75,
    "start_time": "2025-03-05T12:44:06.929Z"
   },
   {
    "duration": 78,
    "start_time": "2025-03-05T12:44:14.357Z"
   },
   {
    "duration": 153,
    "start_time": "2025-03-05T12:44:28.452Z"
   },
   {
    "duration": 151,
    "start_time": "2025-03-05T13:09:59.915Z"
   },
   {
    "duration": 151,
    "start_time": "2025-03-05T13:12:14.556Z"
   },
   {
    "duration": 153,
    "start_time": "2025-03-05T13:12:25.584Z"
   },
   {
    "duration": 172,
    "start_time": "2025-03-05T13:19:11.138Z"
   },
   {
    "duration": 149,
    "start_time": "2025-03-05T13:19:38.584Z"
   },
   {
    "duration": 152,
    "start_time": "2025-03-05T13:19:48.029Z"
   },
   {
    "duration": 77,
    "start_time": "2025-03-05T13:20:14.313Z"
   },
   {
    "duration": 79,
    "start_time": "2025-03-05T13:20:27.428Z"
   },
   {
    "duration": 88,
    "start_time": "2025-03-05T13:20:33.377Z"
   },
   {
    "duration": 78,
    "start_time": "2025-03-05T13:21:17.981Z"
   },
   {
    "duration": 79,
    "start_time": "2025-03-05T13:21:30.460Z"
   },
   {
    "duration": 79,
    "start_time": "2025-03-05T13:29:42.559Z"
   },
   {
    "duration": 41,
    "start_time": "2025-03-05T13:30:17.812Z"
   },
   {
    "duration": 73,
    "start_time": "2025-03-05T13:30:33.415Z"
   },
   {
    "duration": 63,
    "start_time": "2025-03-05T13:30:44.795Z"
   },
   {
    "duration": 68,
    "start_time": "2025-03-05T13:31:10.866Z"
   },
   {
    "duration": 61,
    "start_time": "2025-03-05T13:31:32.644Z"
   },
   {
    "duration": 57,
    "start_time": "2025-03-05T13:31:44.850Z"
   },
   {
    "duration": 57,
    "start_time": "2025-03-05T13:31:54.758Z"
   },
   {
    "duration": 57,
    "start_time": "2025-03-05T13:32:09.589Z"
   },
   {
    "duration": 58,
    "start_time": "2025-03-05T13:33:00.394Z"
   },
   {
    "duration": 163,
    "start_time": "2025-03-05T13:34:10.630Z"
   },
   {
    "duration": 551,
    "start_time": "2025-03-05T13:36:53.939Z"
   },
   {
    "duration": 267,
    "start_time": "2025-03-05T13:37:30.881Z"
   },
   {
    "duration": 602,
    "start_time": "2025-03-05T13:40:53.072Z"
   },
   {
    "duration": 662,
    "start_time": "2025-03-05T13:42:54.172Z"
   },
   {
    "duration": 90,
    "start_time": "2025-03-05T13:44:08.853Z"
   },
   {
    "duration": 649,
    "start_time": "2025-03-05T13:44:13.004Z"
   },
   {
    "duration": 616,
    "start_time": "2025-03-05T13:49:12.200Z"
   },
   {
    "duration": 176,
    "start_time": "2025-03-05T13:51:21.140Z"
   },
   {
    "duration": 16,
    "start_time": "2025-03-05T13:55:20.675Z"
   },
   {
    "duration": 142,
    "start_time": "2025-03-05T13:57:41.517Z"
   },
   {
    "duration": 140,
    "start_time": "2025-03-05T13:58:18.315Z"
   },
   {
    "duration": 180,
    "start_time": "2025-03-05T14:00:49.564Z"
   },
   {
    "duration": 193,
    "start_time": "2025-03-05T14:01:01.168Z"
   },
   {
    "duration": 265,
    "start_time": "2025-03-05T14:02:31.754Z"
   },
   {
    "duration": 68,
    "start_time": "2025-03-05T14:09:46.803Z"
   },
   {
    "duration": 153,
    "start_time": "2025-03-05T14:09:48.488Z"
   },
   {
    "duration": 3,
    "start_time": "2025-03-05T14:09:49.112Z"
   },
   {
    "duration": 26,
    "start_time": "2025-03-05T14:09:49.854Z"
   },
   {
    "duration": 1294,
    "start_time": "2025-03-05T14:09:59.724Z"
   },
   {
    "duration": 2689,
    "start_time": "2025-03-05T14:10:01.021Z"
   },
   {
    "duration": 2700,
    "start_time": "2025-03-05T14:10:03.712Z"
   },
   {
    "duration": 15,
    "start_time": "2025-03-05T14:10:06.414Z"
   },
   {
    "duration": 11,
    "start_time": "2025-03-05T14:10:06.431Z"
   },
   {
    "duration": 8,
    "start_time": "2025-03-05T14:10:06.444Z"
   },
   {
    "duration": 22,
    "start_time": "2025-03-05T14:10:06.454Z"
   },
   {
    "duration": 28,
    "start_time": "2025-03-05T14:10:06.478Z"
   },
   {
    "duration": 20,
    "start_time": "2025-03-05T14:10:06.508Z"
   },
   {
    "duration": 13,
    "start_time": "2025-03-05T14:10:06.530Z"
   },
   {
    "duration": 26,
    "start_time": "2025-03-05T14:10:06.544Z"
   },
   {
    "duration": 29,
    "start_time": "2025-03-05T14:10:06.572Z"
   },
   {
    "duration": 128,
    "start_time": "2025-03-05T14:10:06.602Z"
   },
   {
    "duration": 120,
    "start_time": "2025-03-05T14:10:06.733Z"
   },
   {
    "duration": 110,
    "start_time": "2025-03-05T14:10:06.855Z"
   },
   {
    "duration": 10,
    "start_time": "2025-03-05T14:10:06.966Z"
   },
   {
    "duration": 60,
    "start_time": "2025-03-05T14:10:06.978Z"
   },
   {
    "duration": 42,
    "start_time": "2025-03-05T14:10:07.040Z"
   },
   {
    "duration": 113,
    "start_time": "2025-03-05T14:10:07.084Z"
   },
   {
    "duration": 8,
    "start_time": "2025-03-05T14:10:07.198Z"
   },
   {
    "duration": 43,
    "start_time": "2025-03-05T14:10:07.208Z"
   },
   {
    "duration": 19,
    "start_time": "2025-03-05T14:10:07.253Z"
   },
   {
    "duration": 63,
    "start_time": "2025-03-05T14:10:07.274Z"
   },
   {
    "duration": 68,
    "start_time": "2025-03-05T14:10:07.338Z"
   },
   {
    "duration": 27,
    "start_time": "2025-03-05T14:10:07.407Z"
   },
   {
    "duration": 24,
    "start_time": "2025-03-05T14:10:07.436Z"
   },
   {
    "duration": 55,
    "start_time": "2025-03-05T14:10:07.462Z"
   },
   {
    "duration": 14,
    "start_time": "2025-03-05T14:10:07.519Z"
   },
   {
    "duration": 17,
    "start_time": "2025-03-05T14:10:07.534Z"
   },
   {
    "duration": 51,
    "start_time": "2025-03-05T14:10:07.553Z"
   },
   {
    "duration": 15,
    "start_time": "2025-03-05T14:10:07.606Z"
   },
   {
    "duration": 9,
    "start_time": "2025-03-05T14:10:07.623Z"
   },
   {
    "duration": 99,
    "start_time": "2025-03-05T14:10:07.634Z"
   },
   {
    "duration": 167,
    "start_time": "2025-03-05T14:10:07.735Z"
   },
   {
    "duration": 3,
    "start_time": "2025-03-05T14:10:07.904Z"
   },
   {
    "duration": 22,
    "start_time": "2025-03-05T14:10:07.908Z"
   },
   {
    "duration": 103,
    "start_time": "2025-03-05T14:10:07.932Z"
   },
   {
    "duration": 172,
    "start_time": "2025-03-05T14:10:08.037Z"
   },
   {
    "duration": 22,
    "start_time": "2025-03-05T14:10:08.211Z"
   },
   {
    "duration": 14,
    "start_time": "2025-03-05T14:10:08.234Z"
   },
   {
    "duration": 50,
    "start_time": "2025-03-05T14:10:08.252Z"
   },
   {
    "duration": 39,
    "start_time": "2025-03-05T14:10:08.303Z"
   },
   {
    "duration": 60,
    "start_time": "2025-03-05T14:10:08.343Z"
   },
   {
    "duration": 667,
    "start_time": "2025-03-05T14:10:08.405Z"
   },
   {
    "duration": 203,
    "start_time": "2025-03-05T14:10:09.073Z"
   },
   {
    "duration": 67,
    "start_time": "2025-03-05T14:10:09.278Z"
   },
   {
    "duration": 63,
    "start_time": "2025-03-05T14:10:09.347Z"
   },
   {
    "duration": 4,
    "start_time": "2025-03-05T14:10:09.412Z"
   },
   {
    "duration": 17,
    "start_time": "2025-03-05T14:10:09.417Z"
   },
   {
    "duration": 44,
    "start_time": "2025-03-05T14:10:09.436Z"
   },
   {
    "duration": 57,
    "start_time": "2025-03-05T14:10:09.483Z"
   },
   {
    "duration": 43,
    "start_time": "2025-03-05T14:10:09.541Z"
   },
   {
    "duration": 182,
    "start_time": "2025-03-05T14:10:09.586Z"
   },
   {
    "duration": 30,
    "start_time": "2025-03-05T14:10:09.770Z"
   },
   {
    "duration": 33,
    "start_time": "2025-03-05T14:10:09.801Z"
   },
   {
    "duration": 127,
    "start_time": "2025-03-05T14:10:09.835Z"
   },
   {
    "duration": 80,
    "start_time": "2025-03-05T14:10:09.972Z"
   },
   {
    "duration": 186,
    "start_time": "2025-03-05T14:10:10.053Z"
   },
   {
    "duration": 734,
    "start_time": "2025-03-05T14:10:10.241Z"
   },
   {
    "duration": 201,
    "start_time": "2025-03-05T14:15:29.689Z"
   },
   {
    "duration": 149,
    "start_time": "2025-03-05T14:15:49.185Z"
   },
   {
    "duration": 48,
    "start_time": "2025-03-05T14:16:01.158Z"
   },
   {
    "duration": 1416,
    "start_time": "2025-03-05T14:16:07.961Z"
   },
   {
    "duration": 2680,
    "start_time": "2025-03-05T14:16:09.379Z"
   },
   {
    "duration": 2853,
    "start_time": "2025-03-05T14:16:12.061Z"
   },
   {
    "duration": 16,
    "start_time": "2025-03-05T14:16:14.916Z"
   },
   {
    "duration": 11,
    "start_time": "2025-03-05T14:16:14.934Z"
   },
   {
    "duration": 8,
    "start_time": "2025-03-05T14:16:14.947Z"
   },
   {
    "duration": 17,
    "start_time": "2025-03-05T14:16:14.957Z"
   },
   {
    "duration": 13,
    "start_time": "2025-03-05T14:16:14.976Z"
   },
   {
    "duration": 8,
    "start_time": "2025-03-05T14:16:14.991Z"
   },
   {
    "duration": 12,
    "start_time": "2025-03-05T14:16:15.001Z"
   },
   {
    "duration": 91,
    "start_time": "2025-03-05T14:16:15.015Z"
   },
   {
    "duration": 40,
    "start_time": "2025-03-05T14:16:15.108Z"
   },
   {
    "duration": 111,
    "start_time": "2025-03-05T14:16:15.150Z"
   },
   {
    "duration": 109,
    "start_time": "2025-03-05T14:16:15.264Z"
   },
   {
    "duration": 116,
    "start_time": "2025-03-05T14:16:15.374Z"
   },
   {
    "duration": 10,
    "start_time": "2025-03-05T14:16:15.492Z"
   },
   {
    "duration": 54,
    "start_time": "2025-03-05T14:16:15.504Z"
   },
   {
    "duration": 42,
    "start_time": "2025-03-05T14:16:15.572Z"
   },
   {
    "duration": 69,
    "start_time": "2025-03-05T14:16:15.616Z"
   },
   {
    "duration": 9,
    "start_time": "2025-03-05T14:16:15.687Z"
   },
   {
    "duration": 41,
    "start_time": "2025-03-05T14:16:15.698Z"
   },
   {
    "duration": 21,
    "start_time": "2025-03-05T14:16:15.741Z"
   },
   {
    "duration": 18,
    "start_time": "2025-03-05T14:16:15.771Z"
   },
   {
    "duration": 9,
    "start_time": "2025-03-05T14:16:15.791Z"
   },
   {
    "duration": 26,
    "start_time": "2025-03-05T14:16:15.802Z"
   },
   {
    "duration": 45,
    "start_time": "2025-03-05T14:16:15.830Z"
   },
   {
    "duration": 27,
    "start_time": "2025-03-05T14:16:15.877Z"
   },
   {
    "duration": 11,
    "start_time": "2025-03-05T14:16:15.906Z"
   },
   {
    "duration": 13,
    "start_time": "2025-03-05T14:16:15.919Z"
   },
   {
    "duration": 39,
    "start_time": "2025-03-05T14:16:15.934Z"
   },
   {
    "duration": 11,
    "start_time": "2025-03-05T14:16:15.974Z"
   },
   {
    "duration": 9,
    "start_time": "2025-03-05T14:16:15.987Z"
   },
   {
    "duration": 124,
    "start_time": "2025-03-05T14:16:15.999Z"
   },
   {
    "duration": 162,
    "start_time": "2025-03-05T14:16:16.126Z"
   },
   {
    "duration": 3,
    "start_time": "2025-03-05T14:16:16.289Z"
   },
   {
    "duration": 25,
    "start_time": "2025-03-05T14:16:16.294Z"
   },
   {
    "duration": 106,
    "start_time": "2025-03-05T14:16:16.320Z"
   },
   {
    "duration": 186,
    "start_time": "2025-03-05T14:16:16.428Z"
   },
   {
    "duration": 22,
    "start_time": "2025-03-05T14:16:16.615Z"
   },
   {
    "duration": 27,
    "start_time": "2025-03-05T14:16:16.639Z"
   },
   {
    "duration": 42,
    "start_time": "2025-03-05T14:16:16.671Z"
   },
   {
    "duration": 20,
    "start_time": "2025-03-05T14:16:16.715Z"
   },
   {
    "duration": 64,
    "start_time": "2025-03-05T14:16:16.736Z"
   },
   {
    "duration": 659,
    "start_time": "2025-03-05T14:16:16.801Z"
   },
   {
    "duration": 211,
    "start_time": "2025-03-05T14:16:17.462Z"
   },
   {
    "duration": 98,
    "start_time": "2025-03-05T14:16:17.675Z"
   },
   {
    "duration": 48,
    "start_time": "2025-03-05T14:16:17.775Z"
   },
   {
    "duration": 5,
    "start_time": "2025-03-05T14:16:17.824Z"
   },
   {
    "duration": 21,
    "start_time": "2025-03-05T14:16:17.830Z"
   },
   {
    "duration": 45,
    "start_time": "2025-03-05T14:16:17.853Z"
   },
   {
    "duration": 64,
    "start_time": "2025-03-05T14:16:17.900Z"
   },
   {
    "duration": 21,
    "start_time": "2025-03-05T14:16:17.966Z"
   },
   {
    "duration": 156,
    "start_time": "2025-03-05T14:16:17.988Z"
   },
   {
    "duration": 29,
    "start_time": "2025-03-05T14:16:18.146Z"
   },
   {
    "duration": 31,
    "start_time": "2025-03-05T14:16:18.176Z"
   },
   {
    "duration": 120,
    "start_time": "2025-03-05T14:16:18.209Z"
   },
   {
    "duration": 86,
    "start_time": "2025-03-05T14:16:18.331Z"
   },
   {
    "duration": 183,
    "start_time": "2025-03-05T14:16:18.418Z"
   },
   {
    "duration": 740,
    "start_time": "2025-03-05T14:16:18.603Z"
   },
   {
    "duration": 155,
    "start_time": "2025-03-05T14:16:57.708Z"
   },
   {
    "duration": 637,
    "start_time": "2025-03-05T14:19:39.735Z"
   },
   {
    "duration": 282,
    "start_time": "2025-03-05T14:21:00.833Z"
   },
   {
    "duration": 151,
    "start_time": "2025-03-05T14:21:39.152Z"
   },
   {
    "duration": 1239,
    "start_time": "2025-03-05T14:21:49.795Z"
   },
   {
    "duration": 2703,
    "start_time": "2025-03-05T14:21:51.037Z"
   },
   {
    "duration": 2107,
    "start_time": "2025-03-05T14:21:53.742Z"
   },
   {
    "duration": 17,
    "start_time": "2025-03-05T14:21:55.851Z"
   },
   {
    "duration": 10,
    "start_time": "2025-03-05T14:21:55.870Z"
   },
   {
    "duration": 8,
    "start_time": "2025-03-05T14:21:55.882Z"
   },
   {
    "duration": 35,
    "start_time": "2025-03-05T14:21:55.892Z"
   },
   {
    "duration": 13,
    "start_time": "2025-03-05T14:21:55.929Z"
   },
   {
    "duration": 16,
    "start_time": "2025-03-05T14:21:55.944Z"
   },
   {
    "duration": 13,
    "start_time": "2025-03-05T14:21:55.963Z"
   },
   {
    "duration": 26,
    "start_time": "2025-03-05T14:21:55.978Z"
   },
   {
    "duration": 22,
    "start_time": "2025-03-05T14:21:56.006Z"
   },
   {
    "duration": 143,
    "start_time": "2025-03-05T14:21:56.030Z"
   },
   {
    "duration": 110,
    "start_time": "2025-03-05T14:21:56.174Z"
   },
   {
    "duration": 115,
    "start_time": "2025-03-05T14:21:56.285Z"
   },
   {
    "duration": 10,
    "start_time": "2025-03-05T14:21:56.402Z"
   },
   {
    "duration": 58,
    "start_time": "2025-03-05T14:21:56.414Z"
   },
   {
    "duration": 43,
    "start_time": "2025-03-05T14:21:56.474Z"
   },
   {
    "duration": 58,
    "start_time": "2025-03-05T14:21:56.519Z"
   },
   {
    "duration": 7,
    "start_time": "2025-03-05T14:21:56.579Z"
   },
   {
    "duration": 50,
    "start_time": "2025-03-05T14:21:56.588Z"
   },
   {
    "duration": 17,
    "start_time": "2025-03-05T14:21:56.640Z"
   },
   {
    "duration": 18,
    "start_time": "2025-03-05T14:21:56.658Z"
   },
   {
    "duration": 10,
    "start_time": "2025-03-05T14:21:56.678Z"
   },
   {
    "duration": 24,
    "start_time": "2025-03-05T14:21:56.690Z"
   },
   {
    "duration": 23,
    "start_time": "2025-03-05T14:21:56.716Z"
   },
   {
    "duration": 48,
    "start_time": "2025-03-05T14:21:56.740Z"
   },
   {
    "duration": 11,
    "start_time": "2025-03-05T14:21:56.792Z"
   },
   {
    "duration": 16,
    "start_time": "2025-03-05T14:21:56.805Z"
   },
   {
    "duration": 8,
    "start_time": "2025-03-05T14:21:56.823Z"
   },
   {
    "duration": 48,
    "start_time": "2025-03-05T14:21:56.833Z"
   },
   {
    "duration": 9,
    "start_time": "2025-03-05T14:21:56.884Z"
   },
   {
    "duration": 118,
    "start_time": "2025-03-05T14:21:56.895Z"
   },
   {
    "duration": 147,
    "start_time": "2025-03-05T14:21:57.016Z"
   },
   {
    "duration": 8,
    "start_time": "2025-03-05T14:21:57.165Z"
   },
   {
    "duration": 19,
    "start_time": "2025-03-05T14:21:57.175Z"
   },
   {
    "duration": 107,
    "start_time": "2025-03-05T14:21:57.196Z"
   },
   {
    "duration": 180,
    "start_time": "2025-03-05T14:21:57.305Z"
   },
   {
    "duration": 24,
    "start_time": "2025-03-05T14:21:57.487Z"
   },
   {
    "duration": 10,
    "start_time": "2025-03-05T14:21:57.513Z"
   },
   {
    "duration": 58,
    "start_time": "2025-03-05T14:21:57.525Z"
   },
   {
    "duration": 21,
    "start_time": "2025-03-05T14:21:57.585Z"
   },
   {
    "duration": 52,
    "start_time": "2025-03-05T14:21:57.608Z"
   },
   {
    "duration": 643,
    "start_time": "2025-03-05T14:21:57.672Z"
   },
   {
    "duration": 200,
    "start_time": "2025-03-05T14:21:58.317Z"
   },
   {
    "duration": 88,
    "start_time": "2025-03-05T14:21:58.519Z"
   },
   {
    "duration": 47,
    "start_time": "2025-03-05T14:21:58.609Z"
   },
   {
    "duration": 5,
    "start_time": "2025-03-05T14:21:58.672Z"
   },
   {
    "duration": 18,
    "start_time": "2025-03-05T14:21:58.679Z"
   },
   {
    "duration": 25,
    "start_time": "2025-03-05T14:21:58.698Z"
   },
   {
    "duration": 87,
    "start_time": "2025-03-05T14:21:58.725Z"
   },
   {
    "duration": 24,
    "start_time": "2025-03-05T14:21:58.814Z"
   },
   {
    "duration": 195,
    "start_time": "2025-03-05T14:21:58.840Z"
   },
   {
    "duration": 37,
    "start_time": "2025-03-05T14:21:59.038Z"
   },
   {
    "duration": 31,
    "start_time": "2025-03-05T14:21:59.077Z"
   },
   {
    "duration": 126,
    "start_time": "2025-03-05T14:21:59.110Z"
   },
   {
    "duration": 84,
    "start_time": "2025-03-05T14:21:59.238Z"
   },
   {
    "duration": 165,
    "start_time": "2025-03-05T14:21:59.324Z"
   },
   {
    "duration": 709,
    "start_time": "2025-03-05T14:21:59.491Z"
   },
   {
    "duration": 198,
    "start_time": "2025-03-05T14:24:25.491Z"
   },
   {
    "duration": 576,
    "start_time": "2025-03-05T14:24:26.678Z"
   },
   {
    "duration": 144,
    "start_time": "2025-03-05T14:24:41.712Z"
   },
   {
    "duration": 1273,
    "start_time": "2025-03-05T14:24:51.676Z"
   },
   {
    "duration": 2765,
    "start_time": "2025-03-05T14:24:52.952Z"
   },
   {
    "duration": 2094,
    "start_time": "2025-03-05T14:24:55.720Z"
   },
   {
    "duration": 14,
    "start_time": "2025-03-05T14:24:57.816Z"
   },
   {
    "duration": 10,
    "start_time": "2025-03-05T14:24:57.832Z"
   },
   {
    "duration": 16,
    "start_time": "2025-03-05T14:24:57.843Z"
   },
   {
    "duration": 8,
    "start_time": "2025-03-05T14:24:57.861Z"
   },
   {
    "duration": 13,
    "start_time": "2025-03-05T14:24:57.872Z"
   },
   {
    "duration": 70,
    "start_time": "2025-03-05T14:24:57.887Z"
   },
   {
    "duration": 27,
    "start_time": "2025-03-05T14:24:57.960Z"
   },
   {
    "duration": 27,
    "start_time": "2025-03-05T14:24:57.989Z"
   },
   {
    "duration": 23,
    "start_time": "2025-03-05T14:24:58.017Z"
   },
   {
    "duration": 109,
    "start_time": "2025-03-05T14:24:58.042Z"
   },
   {
    "duration": 105,
    "start_time": "2025-03-05T14:24:58.153Z"
   },
   {
    "duration": 102,
    "start_time": "2025-03-05T14:24:58.260Z"
   },
   {
    "duration": 14,
    "start_time": "2025-03-05T14:24:58.364Z"
   },
   {
    "duration": 42,
    "start_time": "2025-03-05T14:24:58.380Z"
   },
   {
    "duration": 59,
    "start_time": "2025-03-05T14:24:58.423Z"
   },
   {
    "duration": 41,
    "start_time": "2025-03-05T14:24:58.484Z"
   },
   {
    "duration": 9,
    "start_time": "2025-03-05T14:24:58.527Z"
   },
   {
    "duration": 44,
    "start_time": "2025-03-05T14:24:58.537Z"
   },
   {
    "duration": 17,
    "start_time": "2025-03-05T14:24:58.583Z"
   },
   {
    "duration": 18,
    "start_time": "2025-03-05T14:24:58.601Z"
   },
   {
    "duration": 8,
    "start_time": "2025-03-05T14:24:58.621Z"
   },
   {
    "duration": 55,
    "start_time": "2025-03-05T14:24:58.631Z"
   },
   {
    "duration": 24,
    "start_time": "2025-03-05T14:24:58.687Z"
   },
   {
    "duration": 26,
    "start_time": "2025-03-05T14:24:58.713Z"
   },
   {
    "duration": 29,
    "start_time": "2025-03-05T14:24:58.743Z"
   },
   {
    "duration": 13,
    "start_time": "2025-03-05T14:24:58.775Z"
   },
   {
    "duration": 8,
    "start_time": "2025-03-05T14:24:58.790Z"
   },
   {
    "duration": 11,
    "start_time": "2025-03-05T14:24:58.800Z"
   },
   {
    "duration": 9,
    "start_time": "2025-03-05T14:24:58.812Z"
   },
   {
    "duration": 128,
    "start_time": "2025-03-05T14:24:58.822Z"
   },
   {
    "duration": 171,
    "start_time": "2025-03-05T14:24:58.952Z"
   },
   {
    "duration": 2,
    "start_time": "2025-03-05T14:24:59.125Z"
   },
   {
    "duration": 31,
    "start_time": "2025-03-05T14:24:59.129Z"
   },
   {
    "duration": 92,
    "start_time": "2025-03-05T14:24:59.162Z"
   },
   {
    "duration": 190,
    "start_time": "2025-03-05T14:24:59.256Z"
   },
   {
    "duration": 27,
    "start_time": "2025-03-05T14:24:59.448Z"
   },
   {
    "duration": 9,
    "start_time": "2025-03-05T14:24:59.477Z"
   },
   {
    "duration": 37,
    "start_time": "2025-03-05T14:24:59.488Z"
   },
   {
    "duration": 45,
    "start_time": "2025-03-05T14:24:59.527Z"
   },
   {
    "duration": 41,
    "start_time": "2025-03-05T14:24:59.575Z"
   },
   {
    "duration": 674,
    "start_time": "2025-03-05T14:24:59.617Z"
   },
   {
    "duration": 219,
    "start_time": "2025-03-05T14:25:00.293Z"
   },
   {
    "duration": 98,
    "start_time": "2025-03-05T14:25:00.514Z"
   },
   {
    "duration": 44,
    "start_time": "2025-03-05T14:25:00.614Z"
   },
   {
    "duration": 80,
    "start_time": "2025-03-05T14:25:00.660Z"
   },
   {
    "duration": 31,
    "start_time": "2025-03-05T14:25:00.742Z"
   },
   {
    "duration": 33,
    "start_time": "2025-03-05T14:25:00.775Z"
   },
   {
    "duration": 63,
    "start_time": "2025-03-05T14:25:00.810Z"
   },
   {
    "duration": 20,
    "start_time": "2025-03-05T14:25:00.875Z"
   },
   {
    "duration": 158,
    "start_time": "2025-03-05T14:25:00.897Z"
   },
   {
    "duration": 30,
    "start_time": "2025-03-05T14:25:01.057Z"
   },
   {
    "duration": 36,
    "start_time": "2025-03-05T14:25:01.089Z"
   },
   {
    "duration": 145,
    "start_time": "2025-03-05T14:25:01.127Z"
   },
   {
    "duration": 79,
    "start_time": "2025-03-05T14:25:01.273Z"
   },
   {
    "duration": 171,
    "start_time": "2025-03-05T14:25:01.354Z"
   },
   {
    "duration": 701,
    "start_time": "2025-03-05T14:25:01.527Z"
   },
   {
    "duration": 422,
    "start_time": "2025-03-05T14:27:16.475Z"
   },
   {
    "duration": 429,
    "start_time": "2025-03-05T14:27:51.043Z"
   },
   {
    "duration": 443,
    "start_time": "2025-03-05T14:30:15.214Z"
   },
   {
    "duration": 483,
    "start_time": "2025-03-05T14:33:35.421Z"
   },
   {
    "duration": 1217,
    "start_time": "2025-03-05T14:34:33.821Z"
   },
   {
    "duration": 2699,
    "start_time": "2025-03-05T14:34:35.040Z"
   },
   {
    "duration": 2450,
    "start_time": "2025-03-05T14:34:37.741Z"
   },
   {
    "duration": 16,
    "start_time": "2025-03-05T14:34:40.194Z"
   },
   {
    "duration": 13,
    "start_time": "2025-03-05T14:34:40.212Z"
   },
   {
    "duration": 9,
    "start_time": "2025-03-05T14:34:40.227Z"
   },
   {
    "duration": 10,
    "start_time": "2025-03-05T14:34:40.238Z"
   },
   {
    "duration": 14,
    "start_time": "2025-03-05T14:34:40.273Z"
   },
   {
    "duration": 13,
    "start_time": "2025-03-05T14:34:40.289Z"
   },
   {
    "duration": 12,
    "start_time": "2025-03-05T14:34:40.306Z"
   },
   {
    "duration": 26,
    "start_time": "2025-03-05T14:34:40.320Z"
   },
   {
    "duration": 19,
    "start_time": "2025-03-05T14:34:40.371Z"
   },
   {
    "duration": 124,
    "start_time": "2025-03-05T14:34:40.392Z"
   },
   {
    "duration": 107,
    "start_time": "2025-03-05T14:34:40.518Z"
   },
   {
    "duration": 111,
    "start_time": "2025-03-05T14:34:40.627Z"
   },
   {
    "duration": 10,
    "start_time": "2025-03-05T14:34:40.739Z"
   },
   {
    "duration": 61,
    "start_time": "2025-03-05T14:34:40.751Z"
   },
   {
    "duration": 40,
    "start_time": "2025-03-05T14:34:40.813Z"
   },
   {
    "duration": 55,
    "start_time": "2025-03-05T14:34:40.854Z"
   },
   {
    "duration": 8,
    "start_time": "2025-03-05T14:34:40.911Z"
   },
   {
    "duration": 23,
    "start_time": "2025-03-05T14:34:40.921Z"
   },
   {
    "duration": 18,
    "start_time": "2025-03-05T14:34:40.973Z"
   },
   {
    "duration": 19,
    "start_time": "2025-03-05T14:34:40.993Z"
   },
   {
    "duration": 24,
    "start_time": "2025-03-05T14:34:41.014Z"
   },
   {
    "duration": 39,
    "start_time": "2025-03-05T14:34:41.040Z"
   },
   {
    "duration": 24,
    "start_time": "2025-03-05T14:34:41.081Z"
   },
   {
    "duration": 28,
    "start_time": "2025-03-05T14:34:41.107Z"
   },
   {
    "duration": 37,
    "start_time": "2025-03-05T14:34:41.141Z"
   },
   {
    "duration": 15,
    "start_time": "2025-03-05T14:34:41.180Z"
   },
   {
    "duration": 8,
    "start_time": "2025-03-05T14:34:41.197Z"
   },
   {
    "duration": 14,
    "start_time": "2025-03-05T14:34:41.207Z"
   },
   {
    "duration": 48,
    "start_time": "2025-03-05T14:34:41.224Z"
   },
   {
    "duration": 102,
    "start_time": "2025-03-05T14:34:41.274Z"
   },
   {
    "duration": 146,
    "start_time": "2025-03-05T14:34:41.378Z"
   },
   {
    "duration": 3,
    "start_time": "2025-03-05T14:34:41.525Z"
   },
   {
    "duration": 29,
    "start_time": "2025-03-05T14:34:41.529Z"
   },
   {
    "duration": 94,
    "start_time": "2025-03-05T14:34:41.560Z"
   },
   {
    "duration": 178,
    "start_time": "2025-03-05T14:34:41.656Z"
   },
   {
    "duration": 21,
    "start_time": "2025-03-05T14:34:41.836Z"
   },
   {
    "duration": 17,
    "start_time": "2025-03-05T14:34:41.858Z"
   },
   {
    "duration": 33,
    "start_time": "2025-03-05T14:34:41.877Z"
   },
   {
    "duration": 20,
    "start_time": "2025-03-05T14:34:41.912Z"
   },
   {
    "duration": 62,
    "start_time": "2025-03-05T14:34:41.934Z"
   },
   {
    "duration": 643,
    "start_time": "2025-03-05T14:34:41.997Z"
   },
   {
    "duration": 200,
    "start_time": "2025-03-05T14:34:42.641Z"
   },
   {
    "duration": 97,
    "start_time": "2025-03-05T14:34:42.843Z"
   },
   {
    "duration": 48,
    "start_time": "2025-03-05T14:34:42.941Z"
   },
   {
    "duration": 4,
    "start_time": "2025-03-05T14:34:42.991Z"
   },
   {
    "duration": 21,
    "start_time": "2025-03-05T14:34:42.996Z"
   },
   {
    "duration": 22,
    "start_time": "2025-03-05T14:34:43.018Z"
   },
   {
    "duration": 72,
    "start_time": "2025-03-05T14:34:43.042Z"
   },
   {
    "duration": 20,
    "start_time": "2025-03-05T14:34:43.116Z"
   },
   {
    "duration": 169,
    "start_time": "2025-03-05T14:34:43.138Z"
   },
   {
    "duration": 40,
    "start_time": "2025-03-05T14:34:43.309Z"
   },
   {
    "duration": 49,
    "start_time": "2025-03-05T14:34:43.350Z"
   },
   {
    "duration": 118,
    "start_time": "2025-03-05T14:34:43.401Z"
   },
   {
    "duration": 87,
    "start_time": "2025-03-05T14:34:43.521Z"
   },
   {
    "duration": 194,
    "start_time": "2025-03-05T14:34:43.610Z"
   },
   {
    "duration": 485,
    "start_time": "2025-03-05T14:34:43.806Z"
   },
   {
    "duration": 88,
    "start_time": "2025-03-05T14:36:09.146Z"
   },
   {
    "duration": 1324,
    "start_time": "2025-03-05T14:36:29.803Z"
   },
   {
    "duration": 2692,
    "start_time": "2025-03-05T14:36:31.129Z"
   },
   {
    "duration": 2646,
    "start_time": "2025-03-05T14:36:33.824Z"
   },
   {
    "duration": 15,
    "start_time": "2025-03-05T14:36:36.472Z"
   },
   {
    "duration": 11,
    "start_time": "2025-03-05T14:36:36.489Z"
   },
   {
    "duration": 13,
    "start_time": "2025-03-05T14:36:36.502Z"
   },
   {
    "duration": 8,
    "start_time": "2025-03-05T14:36:36.517Z"
   },
   {
    "duration": 45,
    "start_time": "2025-03-05T14:36:36.527Z"
   },
   {
    "duration": 8,
    "start_time": "2025-03-05T14:36:36.574Z"
   },
   {
    "duration": 18,
    "start_time": "2025-03-05T14:36:36.584Z"
   },
   {
    "duration": 46,
    "start_time": "2025-03-05T14:36:36.604Z"
   },
   {
    "duration": 26,
    "start_time": "2025-03-05T14:36:36.652Z"
   },
   {
    "duration": 115,
    "start_time": "2025-03-05T14:36:36.680Z"
   },
   {
    "duration": 118,
    "start_time": "2025-03-05T14:36:36.800Z"
   },
   {
    "duration": 111,
    "start_time": "2025-03-05T14:36:36.920Z"
   },
   {
    "duration": 10,
    "start_time": "2025-03-05T14:36:37.034Z"
   },
   {
    "duration": 66,
    "start_time": "2025-03-05T14:36:37.046Z"
   },
   {
    "duration": 39,
    "start_time": "2025-03-05T14:36:37.114Z"
   },
   {
    "duration": 53,
    "start_time": "2025-03-05T14:36:37.155Z"
   },
   {
    "duration": 9,
    "start_time": "2025-03-05T14:36:37.209Z"
   },
   {
    "duration": 57,
    "start_time": "2025-03-05T14:36:37.220Z"
   },
   {
    "duration": 47,
    "start_time": "2025-03-05T14:36:37.279Z"
   },
   {
    "duration": 21,
    "start_time": "2025-03-05T14:36:37.329Z"
   },
   {
    "duration": 21,
    "start_time": "2025-03-05T14:36:37.352Z"
   },
   {
    "duration": 35,
    "start_time": "2025-03-05T14:36:37.375Z"
   },
   {
    "duration": 23,
    "start_time": "2025-03-05T14:36:37.412Z"
   },
   {
    "duration": 39,
    "start_time": "2025-03-05T14:36:37.437Z"
   },
   {
    "duration": 11,
    "start_time": "2025-03-05T14:36:37.478Z"
   },
   {
    "duration": 24,
    "start_time": "2025-03-05T14:36:37.491Z"
   },
   {
    "duration": 7,
    "start_time": "2025-03-05T14:36:37.517Z"
   },
   {
    "duration": 12,
    "start_time": "2025-03-05T14:36:37.526Z"
   },
   {
    "duration": 32,
    "start_time": "2025-03-05T14:36:37.540Z"
   },
   {
    "duration": 107,
    "start_time": "2025-03-05T14:36:37.574Z"
   },
   {
    "duration": 154,
    "start_time": "2025-03-05T14:36:37.683Z"
   },
   {
    "duration": 3,
    "start_time": "2025-03-05T14:36:37.838Z"
   },
   {
    "duration": 30,
    "start_time": "2025-03-05T14:36:37.843Z"
   },
   {
    "duration": 98,
    "start_time": "2025-03-05T14:36:37.875Z"
   },
   {
    "duration": 183,
    "start_time": "2025-03-05T14:36:37.975Z"
   },
   {
    "duration": 30,
    "start_time": "2025-03-05T14:36:38.160Z"
   },
   {
    "duration": 13,
    "start_time": "2025-03-05T14:36:38.192Z"
   },
   {
    "duration": 37,
    "start_time": "2025-03-05T14:36:38.209Z"
   },
   {
    "duration": 36,
    "start_time": "2025-03-05T14:36:38.248Z"
   },
   {
    "duration": 42,
    "start_time": "2025-03-05T14:36:38.285Z"
   },
   {
    "duration": 738,
    "start_time": "2025-03-05T14:36:38.328Z"
   },
   {
    "duration": 221,
    "start_time": "2025-03-05T14:36:39.071Z"
   },
   {
    "duration": 99,
    "start_time": "2025-03-05T14:36:39.294Z"
   },
   {
    "duration": 49,
    "start_time": "2025-03-05T14:36:39.396Z"
   },
   {
    "duration": 6,
    "start_time": "2025-03-05T14:36:39.447Z"
   },
   {
    "duration": 14,
    "start_time": "2025-03-05T14:36:39.473Z"
   },
   {
    "duration": 48,
    "start_time": "2025-03-05T14:36:39.489Z"
   },
   {
    "duration": 55,
    "start_time": "2025-03-05T14:36:39.539Z"
   },
   {
    "duration": 22,
    "start_time": "2025-03-05T14:36:39.596Z"
   },
   {
    "duration": 179,
    "start_time": "2025-03-05T14:36:39.620Z"
   },
   {
    "duration": 28,
    "start_time": "2025-03-05T14:36:39.800Z"
   },
   {
    "duration": 52,
    "start_time": "2025-03-05T14:36:39.830Z"
   },
   {
    "duration": 122,
    "start_time": "2025-03-05T14:36:39.885Z"
   },
   {
    "duration": 87,
    "start_time": "2025-03-05T14:36:40.009Z"
   },
   {
    "duration": 204,
    "start_time": "2025-03-05T14:36:40.098Z"
   },
   {
    "duration": 468,
    "start_time": "2025-03-05T14:36:40.304Z"
   },
   {
    "duration": 107,
    "start_time": "2025-03-05T14:36:40.774Z"
   },
   {
    "duration": 30,
    "start_time": "2025-03-05T15:04:03.764Z"
   },
   {
    "duration": 15,
    "start_time": "2025-03-05T15:04:15.222Z"
   },
   {
    "duration": 27,
    "start_time": "2025-03-05T15:04:35.522Z"
   },
   {
    "duration": 119,
    "start_time": "2025-03-05T15:09:55.838Z"
   },
   {
    "duration": 42,
    "start_time": "2025-03-05T15:10:16.319Z"
   },
   {
    "duration": 632,
    "start_time": "2025-03-05T15:10:52.388Z"
   },
   {
    "duration": 34,
    "start_time": "2025-03-05T15:13:19.153Z"
   },
   {
    "duration": 32,
    "start_time": "2025-03-05T15:13:22.098Z"
   },
   {
    "duration": 685,
    "start_time": "2025-03-05T15:13:24.801Z"
   },
   {
    "duration": 93,
    "start_time": "2025-03-05T15:18:42.791Z"
   },
   {
    "duration": 175,
    "start_time": "2025-03-05T15:19:11.259Z"
   },
   {
    "duration": 21,
    "start_time": "2025-03-05T15:19:49.763Z"
   },
   {
    "duration": 39,
    "start_time": "2025-03-05T15:20:52.144Z"
   },
   {
    "duration": 43,
    "start_time": "2025-03-05T15:21:51.559Z"
   },
   {
    "duration": 54,
    "start_time": "2025-03-05T15:23:56.940Z"
   },
   {
    "duration": 41,
    "start_time": "2025-03-05T15:24:18.640Z"
   },
   {
    "duration": 42,
    "start_time": "2025-03-05T15:30:40.392Z"
   },
   {
    "duration": 603,
    "start_time": "2025-03-05T15:30:54.943Z"
   },
   {
    "duration": 35,
    "start_time": "2025-03-05T15:32:41.492Z"
   },
   {
    "duration": 122,
    "start_time": "2025-03-05T15:33:05.347Z"
   },
   {
    "duration": 221,
    "start_time": "2025-03-05T15:41:41.399Z"
   },
   {
    "duration": 16,
    "start_time": "2025-03-05T15:52:07.652Z"
   },
   {
    "duration": 29,
    "start_time": "2025-03-05T15:52:19.240Z"
   },
   {
    "duration": 20,
    "start_time": "2025-03-05T15:52:47.487Z"
   },
   {
    "duration": 19,
    "start_time": "2025-03-05T15:53:23.951Z"
   },
   {
    "duration": 45,
    "start_time": "2025-03-05T15:53:53.465Z"
   },
   {
    "duration": 58,
    "start_time": "2025-03-05T15:53:56.396Z"
   },
   {
    "duration": 63,
    "start_time": "2025-03-05T16:04:54.935Z"
   },
   {
    "duration": 61,
    "start_time": "2025-03-05T16:05:01.955Z"
   },
   {
    "duration": 91,
    "start_time": "2025-03-05T16:07:52.135Z"
   },
   {
    "duration": 1358,
    "start_time": "2025-03-05T16:08:39.819Z"
   },
   {
    "duration": 108,
    "start_time": "2025-03-05T16:09:31.427Z"
   },
   {
    "duration": 54,
    "start_time": "2025-03-05T16:10:18.701Z"
   },
   {
    "duration": 1346,
    "start_time": "2025-03-05T16:10:43.807Z"
   },
   {
    "duration": 2643,
    "start_time": "2025-03-05T16:10:45.155Z"
   },
   {
    "duration": 3621,
    "start_time": "2025-03-05T16:10:47.800Z"
   },
   {
    "duration": 16,
    "start_time": "2025-03-05T16:10:51.424Z"
   },
   {
    "duration": 15,
    "start_time": "2025-03-05T16:10:51.442Z"
   },
   {
    "duration": 10,
    "start_time": "2025-03-05T16:10:51.459Z"
   },
   {
    "duration": 9,
    "start_time": "2025-03-05T16:10:51.471Z"
   },
   {
    "duration": 25,
    "start_time": "2025-03-05T16:10:51.482Z"
   },
   {
    "duration": 13,
    "start_time": "2025-03-05T16:10:51.508Z"
   },
   {
    "duration": 18,
    "start_time": "2025-03-05T16:10:51.523Z"
   },
   {
    "duration": 41,
    "start_time": "2025-03-05T16:10:51.542Z"
   },
   {
    "duration": 24,
    "start_time": "2025-03-05T16:10:51.585Z"
   },
   {
    "duration": 114,
    "start_time": "2025-03-05T16:10:51.611Z"
   },
   {
    "duration": 113,
    "start_time": "2025-03-05T16:10:51.727Z"
   },
   {
    "duration": 116,
    "start_time": "2025-03-05T16:10:51.841Z"
   },
   {
    "duration": 14,
    "start_time": "2025-03-05T16:10:51.959Z"
   },
   {
    "duration": 49,
    "start_time": "2025-03-05T16:10:51.975Z"
   },
   {
    "duration": 51,
    "start_time": "2025-03-05T16:10:52.026Z"
   },
   {
    "duration": 41,
    "start_time": "2025-03-05T16:10:52.080Z"
   },
   {
    "duration": 8,
    "start_time": "2025-03-05T16:10:52.124Z"
   },
   {
    "duration": 48,
    "start_time": "2025-03-05T16:10:52.134Z"
   },
   {
    "duration": 18,
    "start_time": "2025-03-05T16:10:52.184Z"
   },
   {
    "duration": 77,
    "start_time": "2025-03-05T16:10:52.204Z"
   },
   {
    "duration": 55,
    "start_time": "2025-03-05T16:10:52.283Z"
   },
   {
    "duration": 26,
    "start_time": "2025-03-05T16:10:52.340Z"
   },
   {
    "duration": 24,
    "start_time": "2025-03-05T16:10:52.368Z"
   },
   {
    "duration": 58,
    "start_time": "2025-03-05T16:10:52.394Z"
   },
   {
    "duration": 17,
    "start_time": "2025-03-05T16:10:52.457Z"
   },
   {
    "duration": 23,
    "start_time": "2025-03-05T16:10:52.475Z"
   },
   {
    "duration": 17,
    "start_time": "2025-03-05T16:10:52.500Z"
   },
   {
    "duration": 11,
    "start_time": "2025-03-05T16:10:52.519Z"
   },
   {
    "duration": 7,
    "start_time": "2025-03-05T16:10:52.532Z"
   },
   {
    "duration": 105,
    "start_time": "2025-03-05T16:10:52.541Z"
   },
   {
    "duration": 146,
    "start_time": "2025-03-05T16:10:52.648Z"
   },
   {
    "duration": 23,
    "start_time": "2025-03-05T16:10:52.796Z"
   },
   {
    "duration": 100,
    "start_time": "2025-03-05T16:10:52.821Z"
   },
   {
    "duration": 163,
    "start_time": "2025-03-05T16:10:52.923Z"
   },
   {
    "duration": 21,
    "start_time": "2025-03-05T16:10:53.088Z"
   },
   {
    "duration": 11,
    "start_time": "2025-03-05T16:10:53.111Z"
   },
   {
    "duration": 48,
    "start_time": "2025-03-05T16:10:53.124Z"
   },
   {
    "duration": 32,
    "start_time": "2025-03-05T16:10:53.173Z"
   },
   {
    "duration": 29,
    "start_time": "2025-03-05T16:10:53.207Z"
   },
   {
    "duration": 638,
    "start_time": "2025-03-05T16:10:53.238Z"
   },
   {
    "duration": 238,
    "start_time": "2025-03-05T16:10:53.877Z"
   },
   {
    "duration": 96,
    "start_time": "2025-03-05T16:10:54.117Z"
   },
   {
    "duration": 45,
    "start_time": "2025-03-05T16:10:54.215Z"
   },
   {
    "duration": 13,
    "start_time": "2025-03-05T16:10:54.261Z"
   },
   {
    "duration": 46,
    "start_time": "2025-03-05T16:10:54.276Z"
   },
   {
    "duration": 24,
    "start_time": "2025-03-05T16:10:54.324Z"
   },
   {
    "duration": 57,
    "start_time": "2025-03-05T16:10:54.350Z"
   },
   {
    "duration": 23,
    "start_time": "2025-03-05T16:10:54.409Z"
   },
   {
    "duration": 164,
    "start_time": "2025-03-05T16:10:54.435Z"
   },
   {
    "duration": 22,
    "start_time": "2025-03-05T16:10:54.601Z"
   },
   {
    "duration": 52,
    "start_time": "2025-03-05T16:10:54.624Z"
   },
   {
    "duration": 60,
    "start_time": "2025-03-05T16:10:54.678Z"
   },
   {
    "duration": 45,
    "start_time": "2025-03-05T16:10:54.740Z"
   },
   {
    "duration": 103,
    "start_time": "2025-03-05T16:10:54.786Z"
   },
   {
    "duration": 118,
    "start_time": "2025-03-05T16:10:54.891Z"
   },
   {
    "duration": 61,
    "start_time": "2025-03-05T16:10:55.011Z"
   },
   {
    "duration": 30,
    "start_time": "2025-03-05T16:14:31.848Z"
   },
   {
    "duration": 1253,
    "start_time": "2025-03-05T16:17:49.611Z"
   },
   {
    "duration": 2585,
    "start_time": "2025-03-05T16:17:50.866Z"
   },
   {
    "duration": 2904,
    "start_time": "2025-03-05T16:17:53.453Z"
   },
   {
    "duration": 16,
    "start_time": "2025-03-05T16:17:56.359Z"
   },
   {
    "duration": 14,
    "start_time": "2025-03-05T16:17:56.376Z"
   },
   {
    "duration": 9,
    "start_time": "2025-03-05T16:17:56.392Z"
   },
   {
    "duration": 10,
    "start_time": "2025-03-05T16:17:56.402Z"
   },
   {
    "duration": 18,
    "start_time": "2025-03-05T16:17:56.414Z"
   },
   {
    "duration": 8,
    "start_time": "2025-03-05T16:17:56.434Z"
   },
   {
    "duration": 10,
    "start_time": "2025-03-05T16:17:56.474Z"
   },
   {
    "duration": 36,
    "start_time": "2025-03-05T16:17:56.486Z"
   },
   {
    "duration": 23,
    "start_time": "2025-03-05T16:17:56.524Z"
   },
   {
    "duration": 116,
    "start_time": "2025-03-05T16:17:56.549Z"
   },
   {
    "duration": 110,
    "start_time": "2025-03-05T16:17:56.672Z"
   },
   {
    "duration": 111,
    "start_time": "2025-03-05T16:17:56.784Z"
   },
   {
    "duration": 9,
    "start_time": "2025-03-05T16:17:56.897Z"
   },
   {
    "duration": 50,
    "start_time": "2025-03-05T16:17:56.908Z"
   },
   {
    "duration": 39,
    "start_time": "2025-03-05T16:17:56.971Z"
   },
   {
    "duration": 39,
    "start_time": "2025-03-05T16:17:57.012Z"
   },
   {
    "duration": 26,
    "start_time": "2025-03-05T16:17:57.053Z"
   },
   {
    "duration": 29,
    "start_time": "2025-03-05T16:17:57.081Z"
   },
   {
    "duration": 17,
    "start_time": "2025-03-05T16:17:57.112Z"
   },
   {
    "duration": 42,
    "start_time": "2025-03-05T16:17:57.130Z"
   },
   {
    "duration": 9,
    "start_time": "2025-03-05T16:17:57.174Z"
   },
   {
    "duration": 51,
    "start_time": "2025-03-05T16:17:57.184Z"
   },
   {
    "duration": 23,
    "start_time": "2025-03-05T16:17:57.237Z"
   },
   {
    "duration": 25,
    "start_time": "2025-03-05T16:17:57.262Z"
   },
   {
    "duration": 15,
    "start_time": "2025-03-05T16:17:57.291Z"
   },
   {
    "duration": 20,
    "start_time": "2025-03-05T16:17:57.307Z"
   },
   {
    "duration": 12,
    "start_time": "2025-03-05T16:17:57.329Z"
   },
   {
    "duration": 10,
    "start_time": "2025-03-05T16:17:57.343Z"
   },
   {
    "duration": 9,
    "start_time": "2025-03-05T16:17:57.372Z"
   },
   {
    "duration": 113,
    "start_time": "2025-03-05T16:17:57.382Z"
   },
   {
    "duration": 152,
    "start_time": "2025-03-05T16:17:57.497Z"
   },
   {
    "duration": 23,
    "start_time": "2025-03-05T16:17:57.651Z"
   },
   {
    "duration": 84,
    "start_time": "2025-03-05T16:17:57.675Z"
   },
   {
    "duration": 187,
    "start_time": "2025-03-05T16:17:57.760Z"
   },
   {
    "duration": 31,
    "start_time": "2025-03-05T16:17:57.949Z"
   },
   {
    "duration": 8,
    "start_time": "2025-03-05T16:17:57.982Z"
   },
   {
    "duration": 33,
    "start_time": "2025-03-05T16:17:57.992Z"
   },
   {
    "duration": 56,
    "start_time": "2025-03-05T16:17:58.027Z"
   },
   {
    "duration": 28,
    "start_time": "2025-03-05T16:17:58.085Z"
   },
   {
    "duration": 614,
    "start_time": "2025-03-05T16:17:58.115Z"
   },
   {
    "duration": 199,
    "start_time": "2025-03-05T16:17:58.731Z"
   },
   {
    "duration": 115,
    "start_time": "2025-03-05T16:17:58.932Z"
   },
   {
    "duration": 56,
    "start_time": "2025-03-05T16:17:59.050Z"
   },
   {
    "duration": 4,
    "start_time": "2025-03-05T16:17:59.108Z"
   },
   {
    "duration": 45,
    "start_time": "2025-03-05T16:17:59.114Z"
   },
   {
    "duration": 34,
    "start_time": "2025-03-05T16:17:59.161Z"
   },
   {
    "duration": 64,
    "start_time": "2025-03-05T16:17:59.197Z"
   },
   {
    "duration": 19,
    "start_time": "2025-03-05T16:17:59.262Z"
   },
   {
    "duration": 146,
    "start_time": "2025-03-05T16:17:59.283Z"
   },
   {
    "duration": 19,
    "start_time": "2025-03-05T16:17:59.430Z"
   },
   {
    "duration": 53,
    "start_time": "2025-03-05T16:17:59.451Z"
   },
   {
    "duration": 66,
    "start_time": "2025-03-05T16:17:59.506Z"
   },
   {
    "duration": 29,
    "start_time": "2025-03-05T16:17:59.574Z"
   },
   {
    "duration": 102,
    "start_time": "2025-03-05T16:17:59.605Z"
   },
   {
    "duration": 119,
    "start_time": "2025-03-05T16:17:59.709Z"
   },
   {
    "duration": 57,
    "start_time": "2025-03-05T16:17:59.829Z"
   },
   {
    "duration": 78,
    "start_time": "2025-03-05T16:18:24.942Z"
   },
   {
    "duration": 1377,
    "start_time": "2025-03-05T16:20:09.770Z"
   },
   {
    "duration": 2694,
    "start_time": "2025-03-05T16:20:11.150Z"
   },
   {
    "duration": 4430,
    "start_time": "2025-03-05T16:20:13.846Z"
   },
   {
    "duration": 15,
    "start_time": "2025-03-05T16:20:18.278Z"
   },
   {
    "duration": 10,
    "start_time": "2025-03-05T16:20:18.296Z"
   },
   {
    "duration": 8,
    "start_time": "2025-03-05T16:20:18.308Z"
   },
   {
    "duration": 9,
    "start_time": "2025-03-05T16:20:18.317Z"
   },
   {
    "duration": 51,
    "start_time": "2025-03-05T16:20:18.327Z"
   },
   {
    "duration": 7,
    "start_time": "2025-03-05T16:20:18.380Z"
   },
   {
    "duration": 14,
    "start_time": "2025-03-05T16:20:18.389Z"
   },
   {
    "duration": 27,
    "start_time": "2025-03-05T16:20:18.405Z"
   },
   {
    "duration": 47,
    "start_time": "2025-03-05T16:20:18.434Z"
   },
   {
    "duration": 116,
    "start_time": "2025-03-05T16:20:18.482Z"
   },
   {
    "duration": 111,
    "start_time": "2025-03-05T16:20:18.601Z"
   },
   {
    "duration": 110,
    "start_time": "2025-03-05T16:20:18.714Z"
   },
   {
    "duration": 10,
    "start_time": "2025-03-05T16:20:18.826Z"
   },
   {
    "duration": 61,
    "start_time": "2025-03-05T16:20:18.839Z"
   },
   {
    "duration": 40,
    "start_time": "2025-03-05T16:20:18.902Z"
   },
   {
    "duration": 68,
    "start_time": "2025-03-05T16:20:18.944Z"
   },
   {
    "duration": 11,
    "start_time": "2025-03-05T16:20:19.015Z"
   },
   {
    "duration": 52,
    "start_time": "2025-03-05T16:20:19.029Z"
   },
   {
    "duration": 19,
    "start_time": "2025-03-05T16:20:19.083Z"
   },
   {
    "duration": 24,
    "start_time": "2025-03-05T16:20:19.103Z"
   },
   {
    "duration": 22,
    "start_time": "2025-03-05T16:20:19.129Z"
   },
   {
    "duration": 35,
    "start_time": "2025-03-05T16:20:19.153Z"
   },
   {
    "duration": 27,
    "start_time": "2025-03-05T16:20:19.190Z"
   },
   {
    "duration": 28,
    "start_time": "2025-03-05T16:20:19.219Z"
   },
   {
    "duration": 27,
    "start_time": "2025-03-05T16:20:19.249Z"
   },
   {
    "duration": 14,
    "start_time": "2025-03-05T16:20:19.278Z"
   },
   {
    "duration": 7,
    "start_time": "2025-03-05T16:20:19.294Z"
   },
   {
    "duration": 17,
    "start_time": "2025-03-05T16:20:19.302Z"
   },
   {
    "duration": 9,
    "start_time": "2025-03-05T16:20:19.321Z"
   },
   {
    "duration": 130,
    "start_time": "2025-03-05T16:20:19.332Z"
   },
   {
    "duration": 151,
    "start_time": "2025-03-05T16:20:19.465Z"
   },
   {
    "duration": 25,
    "start_time": "2025-03-05T16:20:19.618Z"
   },
   {
    "duration": 101,
    "start_time": "2025-03-05T16:20:19.645Z"
   },
   {
    "duration": 176,
    "start_time": "2025-03-05T16:20:19.748Z"
   },
   {
    "duration": 23,
    "start_time": "2025-03-05T16:20:19.927Z"
   },
   {
    "duration": 25,
    "start_time": "2025-03-05T16:20:19.952Z"
   },
   {
    "duration": 38,
    "start_time": "2025-03-05T16:20:19.979Z"
   },
   {
    "duration": 20,
    "start_time": "2025-03-05T16:20:20.022Z"
   },
   {
    "duration": 60,
    "start_time": "2025-03-05T16:20:20.045Z"
   },
   {
    "duration": 677,
    "start_time": "2025-03-05T16:20:20.108Z"
   },
   {
    "duration": 220,
    "start_time": "2025-03-05T16:20:20.787Z"
   },
   {
    "duration": 100,
    "start_time": "2025-03-05T16:20:21.009Z"
   },
   {
    "duration": 46,
    "start_time": "2025-03-05T16:20:21.111Z"
   },
   {
    "duration": 8,
    "start_time": "2025-03-05T16:20:21.171Z"
   },
   {
    "duration": 15,
    "start_time": "2025-03-05T16:20:21.181Z"
   },
   {
    "duration": 40,
    "start_time": "2025-03-05T16:20:21.198Z"
   },
   {
    "duration": 81,
    "start_time": "2025-03-05T16:20:21.244Z"
   },
   {
    "duration": 20,
    "start_time": "2025-03-05T16:20:21.327Z"
   },
   {
    "duration": 164,
    "start_time": "2025-03-05T16:20:21.349Z"
   },
   {
    "duration": 26,
    "start_time": "2025-03-05T16:20:21.515Z"
   },
   {
    "duration": 43,
    "start_time": "2025-03-05T16:20:21.543Z"
   },
   {
    "duration": 112,
    "start_time": "2025-03-05T16:20:21.588Z"
   },
   {
    "duration": 89,
    "start_time": "2025-03-05T16:20:21.702Z"
   },
   {
    "duration": 202,
    "start_time": "2025-03-05T16:20:21.793Z"
   },
   {
    "duration": 447,
    "start_time": "2025-03-05T16:20:21.997Z"
   },
   {
    "duration": 117,
    "start_time": "2025-03-05T16:20:22.447Z"
   },
   {
    "duration": 1286,
    "start_time": "2025-03-05T16:20:38.848Z"
   },
   {
    "duration": 2790,
    "start_time": "2025-03-05T16:20:40.137Z"
   },
   {
    "duration": 2313,
    "start_time": "2025-03-05T16:20:42.930Z"
   },
   {
    "duration": 16,
    "start_time": "2025-03-05T16:20:45.245Z"
   },
   {
    "duration": 31,
    "start_time": "2025-03-05T16:20:45.264Z"
   },
   {
    "duration": 23,
    "start_time": "2025-03-05T16:20:45.298Z"
   },
   {
    "duration": 24,
    "start_time": "2025-03-05T16:20:45.323Z"
   },
   {
    "duration": 35,
    "start_time": "2025-03-05T16:20:45.350Z"
   },
   {
    "duration": 11,
    "start_time": "2025-03-05T16:20:45.388Z"
   },
   {
    "duration": 27,
    "start_time": "2025-03-05T16:20:45.401Z"
   },
   {
    "duration": 49,
    "start_time": "2025-03-05T16:20:45.430Z"
   },
   {
    "duration": 21,
    "start_time": "2025-03-05T16:20:45.480Z"
   },
   {
    "duration": 129,
    "start_time": "2025-03-05T16:20:45.503Z"
   },
   {
    "duration": 110,
    "start_time": "2025-03-05T16:20:45.636Z"
   },
   {
    "duration": 115,
    "start_time": "2025-03-05T16:20:45.748Z"
   },
   {
    "duration": 15,
    "start_time": "2025-03-05T16:20:45.865Z"
   },
   {
    "duration": 55,
    "start_time": "2025-03-05T16:20:45.882Z"
   },
   {
    "duration": 49,
    "start_time": "2025-03-05T16:20:45.939Z"
   },
   {
    "duration": 41,
    "start_time": "2025-03-05T16:20:45.990Z"
   },
   {
    "duration": 9,
    "start_time": "2025-03-05T16:20:46.034Z"
   },
   {
    "duration": 34,
    "start_time": "2025-03-05T16:20:46.071Z"
   },
   {
    "duration": 25,
    "start_time": "2025-03-05T16:20:46.107Z"
   },
   {
    "duration": 20,
    "start_time": "2025-03-05T16:20:46.134Z"
   },
   {
    "duration": 17,
    "start_time": "2025-03-05T16:20:46.155Z"
   },
   {
    "duration": 26,
    "start_time": "2025-03-05T16:20:46.174Z"
   },
   {
    "duration": 25,
    "start_time": "2025-03-05T16:20:46.202Z"
   },
   {
    "duration": 60,
    "start_time": "2025-03-05T16:20:46.228Z"
   },
   {
    "duration": 62,
    "start_time": "2025-03-05T16:20:46.290Z"
   },
   {
    "duration": 20,
    "start_time": "2025-03-05T16:20:46.354Z"
   },
   {
    "duration": 8,
    "start_time": "2025-03-05T16:20:46.376Z"
   },
   {
    "duration": 27,
    "start_time": "2025-03-05T16:20:46.385Z"
   },
   {
    "duration": 9,
    "start_time": "2025-03-05T16:20:46.414Z"
   },
   {
    "duration": 109,
    "start_time": "2025-03-05T16:20:46.425Z"
   },
   {
    "duration": 152,
    "start_time": "2025-03-05T16:20:46.536Z"
   },
   {
    "duration": 25,
    "start_time": "2025-03-05T16:20:46.690Z"
   },
   {
    "duration": 103,
    "start_time": "2025-03-05T16:20:46.717Z"
   },
   {
    "duration": 173,
    "start_time": "2025-03-05T16:20:46.822Z"
   },
   {
    "duration": 23,
    "start_time": "2025-03-05T16:20:46.997Z"
   },
   {
    "duration": 10,
    "start_time": "2025-03-05T16:20:47.022Z"
   },
   {
    "duration": 58,
    "start_time": "2025-03-05T16:20:47.034Z"
   },
   {
    "duration": 19,
    "start_time": "2025-03-05T16:20:47.097Z"
   },
   {
    "duration": 41,
    "start_time": "2025-03-05T16:20:47.117Z"
   },
   {
    "duration": 689,
    "start_time": "2025-03-05T16:20:47.172Z"
   },
   {
    "duration": 223,
    "start_time": "2025-03-05T16:20:47.863Z"
   },
   {
    "duration": 103,
    "start_time": "2025-03-05T16:20:48.088Z"
   },
   {
    "duration": 51,
    "start_time": "2025-03-05T16:20:48.193Z"
   },
   {
    "duration": 25,
    "start_time": "2025-03-05T16:20:48.247Z"
   },
   {
    "duration": 18,
    "start_time": "2025-03-05T16:20:48.274Z"
   },
   {
    "duration": 45,
    "start_time": "2025-03-05T16:20:48.294Z"
   },
   {
    "duration": 82,
    "start_time": "2025-03-05T16:20:48.342Z"
   },
   {
    "duration": 22,
    "start_time": "2025-03-05T16:20:48.426Z"
   },
   {
    "duration": 173,
    "start_time": "2025-03-05T16:20:48.451Z"
   },
   {
    "duration": 27,
    "start_time": "2025-03-05T16:20:48.626Z"
   },
   {
    "duration": 46,
    "start_time": "2025-03-05T16:20:48.655Z"
   },
   {
    "duration": 119,
    "start_time": "2025-03-05T16:20:48.703Z"
   },
   {
    "duration": 89,
    "start_time": "2025-03-05T16:20:48.824Z"
   },
   {
    "duration": 224,
    "start_time": "2025-03-05T16:20:48.915Z"
   },
   {
    "duration": 484,
    "start_time": "2025-03-05T16:20:49.141Z"
   },
   {
    "duration": 107,
    "start_time": "2025-03-05T16:20:49.628Z"
   },
   {
    "duration": 116,
    "start_time": "2025-03-05T16:38:20.011Z"
   },
   {
    "duration": 58,
    "start_time": "2025-03-05T16:38:38.496Z"
   },
   {
    "duration": 1359,
    "start_time": "2025-03-05T17:05:58.248Z"
   },
   {
    "duration": 2734,
    "start_time": "2025-03-05T17:05:59.609Z"
   },
   {
    "duration": 3062,
    "start_time": "2025-03-05T17:06:02.346Z"
   },
   {
    "duration": 16,
    "start_time": "2025-03-05T17:06:05.410Z"
   },
   {
    "duration": 13,
    "start_time": "2025-03-05T17:06:05.428Z"
   },
   {
    "duration": 26,
    "start_time": "2025-03-05T17:06:05.443Z"
   },
   {
    "duration": 13,
    "start_time": "2025-03-05T17:06:05.472Z"
   },
   {
    "duration": 22,
    "start_time": "2025-03-05T17:06:05.487Z"
   },
   {
    "duration": 11,
    "start_time": "2025-03-05T17:06:05.511Z"
   },
   {
    "duration": 18,
    "start_time": "2025-03-05T17:06:05.526Z"
   },
   {
    "duration": 43,
    "start_time": "2025-03-05T17:06:05.571Z"
   },
   {
    "duration": 20,
    "start_time": "2025-03-05T17:06:05.616Z"
   },
   {
    "duration": 125,
    "start_time": "2025-03-05T17:06:05.638Z"
   },
   {
    "duration": 110,
    "start_time": "2025-03-05T17:06:05.765Z"
   },
   {
    "duration": 117,
    "start_time": "2025-03-05T17:06:05.877Z"
   },
   {
    "duration": 10,
    "start_time": "2025-03-05T17:06:05.996Z"
   },
   {
    "duration": 77,
    "start_time": "2025-03-05T17:06:06.008Z"
   },
   {
    "duration": 39,
    "start_time": "2025-03-05T17:06:06.087Z"
   },
   {
    "duration": 60,
    "start_time": "2025-03-05T17:06:06.128Z"
   },
   {
    "duration": 8,
    "start_time": "2025-03-05T17:06:06.190Z"
   },
   {
    "duration": 29,
    "start_time": "2025-03-05T17:06:06.200Z"
   },
   {
    "duration": 41,
    "start_time": "2025-03-05T17:06:06.231Z"
   },
   {
    "duration": 19,
    "start_time": "2025-03-05T17:06:06.274Z"
   },
   {
    "duration": 14,
    "start_time": "2025-03-05T17:06:06.294Z"
   },
   {
    "duration": 23,
    "start_time": "2025-03-05T17:06:06.310Z"
   },
   {
    "duration": 52,
    "start_time": "2025-03-05T17:06:06.335Z"
   },
   {
    "duration": 31,
    "start_time": "2025-03-05T17:06:06.389Z"
   },
   {
    "duration": 44,
    "start_time": "2025-03-05T17:06:06.424Z"
   },
   {
    "duration": 26,
    "start_time": "2025-03-05T17:06:06.470Z"
   },
   {
    "duration": 57,
    "start_time": "2025-03-05T17:06:06.498Z"
   },
   {
    "duration": 26,
    "start_time": "2025-03-05T17:06:06.557Z"
   },
   {
    "duration": 12,
    "start_time": "2025-03-05T17:06:06.585Z"
   },
   {
    "duration": 113,
    "start_time": "2025-03-05T17:06:06.599Z"
   },
   {
    "duration": 159,
    "start_time": "2025-03-05T17:06:06.715Z"
   },
   {
    "duration": 19,
    "start_time": "2025-03-05T17:06:06.876Z"
   },
   {
    "duration": 105,
    "start_time": "2025-03-05T17:06:06.897Z"
   },
   {
    "duration": 191,
    "start_time": "2025-03-05T17:06:07.004Z"
   },
   {
    "duration": 24,
    "start_time": "2025-03-05T17:06:07.197Z"
   },
   {
    "duration": 9,
    "start_time": "2025-03-05T17:06:07.223Z"
   },
   {
    "duration": 60,
    "start_time": "2025-03-05T17:06:07.234Z"
   },
   {
    "duration": 21,
    "start_time": "2025-03-05T17:06:07.296Z"
   },
   {
    "duration": 44,
    "start_time": "2025-03-05T17:06:07.319Z"
   },
   {
    "duration": 683,
    "start_time": "2025-03-05T17:06:07.373Z"
   },
   {
    "duration": 68,
    "start_time": "2025-03-05T17:06:08.057Z"
   },
   {
    "duration": 214,
    "start_time": "2025-03-05T17:06:08.127Z"
   },
   {
    "duration": 91,
    "start_time": "2025-03-05T17:06:08.342Z"
   },
   {
    "duration": 56,
    "start_time": "2025-03-05T17:06:08.435Z"
   },
   {
    "duration": 5,
    "start_time": "2025-03-05T17:06:08.493Z"
   },
   {
    "duration": 27,
    "start_time": "2025-03-05T17:06:08.500Z"
   },
   {
    "duration": 22,
    "start_time": "2025-03-05T17:06:08.529Z"
   },
   {
    "duration": 64,
    "start_time": "2025-03-05T17:06:08.553Z"
   },
   {
    "duration": 20,
    "start_time": "2025-03-05T17:06:08.619Z"
   },
   {
    "duration": 173,
    "start_time": "2025-03-05T17:06:08.640Z"
   },
   {
    "duration": 27,
    "start_time": "2025-03-05T17:06:08.815Z"
   },
   {
    "duration": 53,
    "start_time": "2025-03-05T17:06:08.845Z"
   },
   {
    "duration": 146,
    "start_time": "2025-03-05T17:06:08.899Z"
   },
   {
    "duration": 88,
    "start_time": "2025-03-05T17:06:09.047Z"
   },
   {
    "duration": 201,
    "start_time": "2025-03-05T17:06:09.137Z"
   },
   {
    "duration": 459,
    "start_time": "2025-03-05T17:06:09.340Z"
   },
   {
    "duration": 99,
    "start_time": "2025-03-05T17:06:09.801Z"
   },
   {
    "duration": 1276,
    "start_time": "2025-03-05T19:11:36.245Z"
   },
   {
    "duration": 8589,
    "start_time": "2025-03-05T19:11:37.523Z"
   },
   {
    "duration": 2847,
    "start_time": "2025-03-05T19:11:46.114Z"
   },
   {
    "duration": 15,
    "start_time": "2025-03-05T19:11:48.963Z"
   },
   {
    "duration": 85,
    "start_time": "2025-03-05T19:11:48.981Z"
   },
   {
    "duration": 51,
    "start_time": "2025-03-05T19:11:49.068Z"
   },
   {
    "duration": 8,
    "start_time": "2025-03-05T19:11:49.121Z"
   },
   {
    "duration": 15,
    "start_time": "2025-03-05T19:11:49.131Z"
   },
   {
    "duration": 18,
    "start_time": "2025-03-05T19:11:49.148Z"
   },
   {
    "duration": 23,
    "start_time": "2025-03-05T19:11:49.168Z"
   },
   {
    "duration": 43,
    "start_time": "2025-03-05T19:11:49.192Z"
   },
   {
    "duration": 18,
    "start_time": "2025-03-05T19:11:49.237Z"
   },
   {
    "duration": 105,
    "start_time": "2025-03-05T19:11:49.257Z"
   },
   {
    "duration": 113,
    "start_time": "2025-03-05T19:11:49.365Z"
   },
   {
    "duration": 119,
    "start_time": "2025-03-05T19:11:49.479Z"
   },
   {
    "duration": 10,
    "start_time": "2025-03-05T19:11:49.600Z"
   },
   {
    "duration": 61,
    "start_time": "2025-03-05T19:11:49.611Z"
   },
   {
    "duration": 37,
    "start_time": "2025-03-05T19:11:49.673Z"
   },
   {
    "duration": 46,
    "start_time": "2025-03-05T19:11:49.712Z"
   },
   {
    "duration": 17,
    "start_time": "2025-03-05T19:11:49.759Z"
   },
   {
    "duration": 33,
    "start_time": "2025-03-05T19:11:49.778Z"
   },
   {
    "duration": 23,
    "start_time": "2025-03-05T19:11:49.813Z"
   },
   {
    "duration": 18,
    "start_time": "2025-03-05T19:11:49.838Z"
   },
   {
    "duration": 20,
    "start_time": "2025-03-05T19:11:49.858Z"
   },
   {
    "duration": 29,
    "start_time": "2025-03-05T19:11:49.880Z"
   },
   {
    "duration": 29,
    "start_time": "2025-03-05T19:11:49.911Z"
   },
   {
    "duration": 37,
    "start_time": "2025-03-05T19:11:49.942Z"
   },
   {
    "duration": 11,
    "start_time": "2025-03-05T19:11:49.981Z"
   },
   {
    "duration": 13,
    "start_time": "2025-03-05T19:11:49.993Z"
   },
   {
    "duration": 40,
    "start_time": "2025-03-05T19:11:50.008Z"
   },
   {
    "duration": 43,
    "start_time": "2025-03-05T19:11:50.050Z"
   },
   {
    "duration": 9,
    "start_time": "2025-03-05T19:11:50.095Z"
   },
   {
    "duration": 103,
    "start_time": "2025-03-05T19:11:50.106Z"
   },
   {
    "duration": 153,
    "start_time": "2025-03-05T19:11:50.212Z"
   },
   {
    "duration": 23,
    "start_time": "2025-03-05T19:11:50.372Z"
   },
   {
    "duration": 98,
    "start_time": "2025-03-05T19:11:50.397Z"
   },
   {
    "duration": 176,
    "start_time": "2025-03-05T19:11:50.496Z"
   },
   {
    "duration": 21,
    "start_time": "2025-03-05T19:11:50.673Z"
   },
   {
    "duration": 13,
    "start_time": "2025-03-05T19:11:50.696Z"
   },
   {
    "duration": 39,
    "start_time": "2025-03-05T19:11:50.711Z"
   },
   {
    "duration": 31,
    "start_time": "2025-03-05T19:11:50.754Z"
   },
   {
    "duration": 36,
    "start_time": "2025-03-05T19:11:50.788Z"
   },
   {
    "duration": 675,
    "start_time": "2025-03-05T19:11:50.826Z"
   },
   {
    "duration": 53,
    "start_time": "2025-03-05T19:11:51.503Z"
   },
   {
    "duration": 221,
    "start_time": "2025-03-05T19:11:51.558Z"
   },
   {
    "duration": 94,
    "start_time": "2025-03-05T19:11:51.781Z"
   },
   {
    "duration": 21,
    "start_time": "2025-03-05T19:11:54.601Z"
   },
   {
    "duration": 28,
    "start_time": "2025-03-05T19:12:09.946Z"
   },
   {
    "duration": 198,
    "start_time": "2025-03-05T19:12:22.682Z"
   },
   {
    "duration": 21,
    "start_time": "2025-03-05T19:12:24.514Z"
   },
   {
    "duration": 3,
    "start_time": "2025-03-05T19:19:05.800Z"
   },
   {
    "duration": 3100,
    "start_time": "2025-03-05T19:19:05.805Z"
   },
   {
    "duration": 2097,
    "start_time": "2025-03-05T19:19:08.907Z"
   },
   {
    "duration": 10,
    "start_time": "2025-03-05T19:19:11.006Z"
   },
   {
    "duration": 12,
    "start_time": "2025-03-05T19:19:11.018Z"
   },
   {
    "duration": 8,
    "start_time": "2025-03-05T19:19:11.032Z"
   },
   {
    "duration": 8,
    "start_time": "2025-03-05T19:19:11.042Z"
   },
   {
    "duration": 15,
    "start_time": "2025-03-05T19:19:11.071Z"
   },
   {
    "duration": 8,
    "start_time": "2025-03-05T19:19:11.088Z"
   },
   {
    "duration": 36,
    "start_time": "2025-03-05T19:19:11.099Z"
   },
   {
    "duration": 29,
    "start_time": "2025-03-05T19:19:11.138Z"
   },
   {
    "duration": 21,
    "start_time": "2025-03-05T19:19:11.172Z"
   },
   {
    "duration": 129,
    "start_time": "2025-03-05T19:19:11.195Z"
   },
   {
    "duration": 106,
    "start_time": "2025-03-05T19:19:11.326Z"
   },
   {
    "duration": 108,
    "start_time": "2025-03-05T19:19:11.433Z"
   },
   {
    "duration": 10,
    "start_time": "2025-03-05T19:19:11.543Z"
   },
   {
    "duration": 54,
    "start_time": "2025-03-05T19:19:11.554Z"
   },
   {
    "duration": 39,
    "start_time": "2025-03-05T19:19:11.610Z"
   },
   {
    "duration": 60,
    "start_time": "2025-03-05T19:19:11.650Z"
   },
   {
    "duration": 8,
    "start_time": "2025-03-05T19:19:11.711Z"
   },
   {
    "duration": 25,
    "start_time": "2025-03-05T19:19:11.720Z"
   },
   {
    "duration": 33,
    "start_time": "2025-03-05T19:19:11.747Z"
   },
   {
    "duration": 18,
    "start_time": "2025-03-05T19:19:11.782Z"
   },
   {
    "duration": 8,
    "start_time": "2025-03-05T19:19:11.802Z"
   },
   {
    "duration": 31,
    "start_time": "2025-03-05T19:19:11.811Z"
   },
   {
    "duration": 43,
    "start_time": "2025-03-05T19:19:11.844Z"
   },
   {
    "duration": 27,
    "start_time": "2025-03-05T19:19:11.889Z"
   },
   {
    "duration": 10,
    "start_time": "2025-03-05T19:19:11.920Z"
   },
   {
    "duration": 41,
    "start_time": "2025-03-05T19:19:11.932Z"
   },
   {
    "duration": 8,
    "start_time": "2025-03-05T19:19:11.975Z"
   },
   {
    "duration": 10,
    "start_time": "2025-03-05T19:19:11.985Z"
   },
   {
    "duration": 8,
    "start_time": "2025-03-05T19:19:11.997Z"
   },
   {
    "duration": 105,
    "start_time": "2025-03-05T19:19:12.007Z"
   },
   {
    "duration": 148,
    "start_time": "2025-03-05T19:19:12.114Z"
   },
   {
    "duration": 24,
    "start_time": "2025-03-05T19:19:12.264Z"
   },
   {
    "duration": 100,
    "start_time": "2025-03-05T19:19:12.289Z"
   },
   {
    "duration": 166,
    "start_time": "2025-03-05T19:19:12.391Z"
   },
   {
    "duration": 25,
    "start_time": "2025-03-05T19:19:12.559Z"
   },
   {
    "duration": 8,
    "start_time": "2025-03-05T19:19:12.586Z"
   },
   {
    "duration": 37,
    "start_time": "2025-03-05T19:19:12.596Z"
   },
   {
    "duration": 53,
    "start_time": "2025-03-05T19:19:12.636Z"
   },
   {
    "duration": 33,
    "start_time": "2025-03-05T19:19:12.691Z"
   },
   {
    "duration": 645,
    "start_time": "2025-03-05T19:19:12.726Z"
   },
   {
    "duration": 56,
    "start_time": "2025-03-05T19:19:13.374Z"
   },
   {
    "duration": 200,
    "start_time": "2025-03-05T19:19:13.432Z"
   },
   {
    "duration": 70,
    "start_time": "2025-03-05T19:19:13.634Z"
   },
   {
    "duration": 46,
    "start_time": "2025-03-05T19:19:13.705Z"
   },
   {
    "duration": 19,
    "start_time": "2025-03-05T19:19:13.753Z"
   },
   {
    "duration": 14,
    "start_time": "2025-03-05T19:19:13.774Z"
   },
   {
    "duration": 23,
    "start_time": "2025-03-05T19:19:16.249Z"
   },
   {
    "duration": 50,
    "start_time": "2025-03-05T19:19:58.880Z"
   },
   {
    "duration": 1293,
    "start_time": "2025-03-05T19:28:25.512Z"
   },
   {
    "duration": 3043,
    "start_time": "2025-03-05T19:28:26.807Z"
   },
   {
    "duration": 3391,
    "start_time": "2025-03-05T19:28:29.852Z"
   },
   {
    "duration": 15,
    "start_time": "2025-03-05T19:28:33.246Z"
   },
   {
    "duration": 14,
    "start_time": "2025-03-05T19:28:33.263Z"
   },
   {
    "duration": 9,
    "start_time": "2025-03-05T19:28:33.278Z"
   },
   {
    "duration": 8,
    "start_time": "2025-03-05T19:28:33.288Z"
   },
   {
    "duration": 17,
    "start_time": "2025-03-05T19:28:33.298Z"
   },
   {
    "duration": 8,
    "start_time": "2025-03-05T19:28:33.317Z"
   },
   {
    "duration": 44,
    "start_time": "2025-03-05T19:28:33.328Z"
   },
   {
    "duration": 27,
    "start_time": "2025-03-05T19:28:33.374Z"
   },
   {
    "duration": 19,
    "start_time": "2025-03-05T19:28:33.403Z"
   },
   {
    "duration": 128,
    "start_time": "2025-03-05T19:28:33.424Z"
   },
   {
    "duration": 105,
    "start_time": "2025-03-05T19:28:33.554Z"
   },
   {
    "duration": 112,
    "start_time": "2025-03-05T19:28:33.661Z"
   },
   {
    "duration": 10,
    "start_time": "2025-03-05T19:28:33.774Z"
   },
   {
    "duration": 48,
    "start_time": "2025-03-05T19:28:33.786Z"
   },
   {
    "duration": 52,
    "start_time": "2025-03-05T19:28:33.836Z"
   },
   {
    "duration": 49,
    "start_time": "2025-03-05T19:28:33.890Z"
   },
   {
    "duration": 32,
    "start_time": "2025-03-05T19:28:33.941Z"
   },
   {
    "duration": 23,
    "start_time": "2025-03-05T19:28:33.975Z"
   },
   {
    "duration": 17,
    "start_time": "2025-03-05T19:28:33.999Z"
   },
   {
    "duration": 20,
    "start_time": "2025-03-05T19:28:34.018Z"
   },
   {
    "duration": 33,
    "start_time": "2025-03-05T19:28:34.040Z"
   },
   {
    "duration": 25,
    "start_time": "2025-03-05T19:28:34.075Z"
   },
   {
    "duration": 25,
    "start_time": "2025-03-05T19:28:34.102Z"
   },
   {
    "duration": 48,
    "start_time": "2025-03-05T19:28:34.129Z"
   },
   {
    "duration": 31,
    "start_time": "2025-03-05T19:28:34.181Z"
   },
   {
    "duration": 15,
    "start_time": "2025-03-05T19:28:34.214Z"
   },
   {
    "duration": 32,
    "start_time": "2025-03-05T19:28:34.230Z"
   },
   {
    "duration": 42,
    "start_time": "2025-03-05T19:28:34.264Z"
   },
   {
    "duration": 8,
    "start_time": "2025-03-05T19:28:34.308Z"
   },
   {
    "duration": 97,
    "start_time": "2025-03-05T19:28:34.318Z"
   },
   {
    "duration": 141,
    "start_time": "2025-03-05T19:28:34.417Z"
   },
   {
    "duration": 27,
    "start_time": "2025-03-05T19:28:34.561Z"
   },
   {
    "duration": 95,
    "start_time": "2025-03-05T19:28:34.590Z"
   },
   {
    "duration": 169,
    "start_time": "2025-03-05T19:28:34.687Z"
   },
   {
    "duration": 27,
    "start_time": "2025-03-05T19:28:34.858Z"
   },
   {
    "duration": 30,
    "start_time": "2025-03-05T19:28:34.887Z"
   },
   {
    "duration": 66,
    "start_time": "2025-03-05T19:28:34.919Z"
   },
   {
    "duration": 20,
    "start_time": "2025-03-05T19:28:34.986Z"
   },
   {
    "duration": 33,
    "start_time": "2025-03-05T19:28:35.008Z"
   },
   {
    "duration": 666,
    "start_time": "2025-03-05T19:28:35.043Z"
   },
   {
    "duration": 69,
    "start_time": "2025-03-05T19:28:35.711Z"
   },
   {
    "duration": 206,
    "start_time": "2025-03-05T19:28:35.782Z"
   },
   {
    "duration": 94,
    "start_time": "2025-03-05T19:28:35.990Z"
   },
   {
    "duration": 43,
    "start_time": "2025-03-05T19:28:36.086Z"
   },
   {
    "duration": 4,
    "start_time": "2025-03-05T19:28:36.130Z"
   },
   {
    "duration": 15,
    "start_time": "2025-03-05T19:28:36.136Z"
   },
   {
    "duration": 24,
    "start_time": "2025-03-05T19:28:36.172Z"
   },
   {
    "duration": 48,
    "start_time": "2025-03-05T19:28:36.197Z"
   },
   {
    "duration": 40,
    "start_time": "2025-03-05T19:28:36.246Z"
   },
   {
    "duration": 153,
    "start_time": "2025-03-05T19:28:36.288Z"
   },
   {
    "duration": 34,
    "start_time": "2025-03-05T19:28:36.442Z"
   },
   {
    "duration": 31,
    "start_time": "2025-03-05T19:28:36.478Z"
   },
   {
    "duration": 114,
    "start_time": "2025-03-05T19:28:36.510Z"
   },
   {
    "duration": 83,
    "start_time": "2025-03-05T19:28:36.626Z"
   },
   {
    "duration": 192,
    "start_time": "2025-03-05T19:28:36.711Z"
   },
   {
    "duration": 458,
    "start_time": "2025-03-05T19:28:36.905Z"
   },
   {
    "duration": 101,
    "start_time": "2025-03-05T19:28:37.373Z"
   },
   {
    "duration": 48,
    "start_time": "2025-03-06T05:32:41.284Z"
   },
   {
    "duration": 9073,
    "start_time": "2025-03-06T05:32:53.148Z"
   },
   {
    "duration": 429,
    "start_time": "2025-03-06T05:33:02.223Z"
   },
   {
    "duration": 2349,
    "start_time": "2025-03-06T05:33:02.654Z"
   },
   {
    "duration": 2704,
    "start_time": "2025-03-06T05:33:05.005Z"
   },
   {
    "duration": 14,
    "start_time": "2025-03-06T05:33:07.711Z"
   },
   {
    "duration": 53,
    "start_time": "2025-03-06T05:33:07.727Z"
   },
   {
    "duration": 8,
    "start_time": "2025-03-06T05:33:07.782Z"
   },
   {
    "duration": 7,
    "start_time": "2025-03-06T05:33:07.792Z"
   },
   {
    "duration": 11,
    "start_time": "2025-03-06T05:33:07.801Z"
   },
   {
    "duration": 6,
    "start_time": "2025-03-06T05:33:07.813Z"
   },
   {
    "duration": 8,
    "start_time": "2025-03-06T05:33:07.820Z"
   },
   {
    "duration": 108,
    "start_time": "2025-03-06T05:33:07.830Z"
   },
   {
    "duration": 17,
    "start_time": "2025-03-06T05:33:07.939Z"
   },
   {
    "duration": 95,
    "start_time": "2025-03-06T05:33:07.959Z"
   },
   {
    "duration": 89,
    "start_time": "2025-03-06T05:33:08.056Z"
   },
   {
    "duration": 100,
    "start_time": "2025-03-06T05:33:08.147Z"
   },
   {
    "duration": 15,
    "start_time": "2025-03-06T05:33:08.248Z"
   },
   {
    "duration": 46,
    "start_time": "2025-03-06T05:33:08.264Z"
   },
   {
    "duration": 35,
    "start_time": "2025-03-06T05:33:08.311Z"
   },
   {
    "duration": 36,
    "start_time": "2025-03-06T05:33:08.358Z"
   },
   {
    "duration": 7,
    "start_time": "2025-03-06T05:33:08.396Z"
   },
   {
    "duration": 18,
    "start_time": "2025-03-06T05:33:08.405Z"
   },
   {
    "duration": 37,
    "start_time": "2025-03-06T05:33:08.425Z"
   },
   {
    "duration": 15,
    "start_time": "2025-03-06T05:33:08.464Z"
   },
   {
    "duration": 7,
    "start_time": "2025-03-06T05:33:08.481Z"
   },
   {
    "duration": 20,
    "start_time": "2025-03-06T05:33:08.489Z"
   },
   {
    "duration": 48,
    "start_time": "2025-03-06T05:33:08.510Z"
   },
   {
    "duration": 56,
    "start_time": "2025-03-06T05:33:08.559Z"
   },
   {
    "duration": 9,
    "start_time": "2025-03-06T05:33:08.616Z"
   },
   {
    "duration": 13,
    "start_time": "2025-03-06T05:33:08.626Z"
   },
   {
    "duration": 6,
    "start_time": "2025-03-06T05:33:08.640Z"
   },
   {
    "duration": 10,
    "start_time": "2025-03-06T05:33:08.648Z"
   },
   {
    "duration": 8,
    "start_time": "2025-03-06T05:33:08.660Z"
   },
   {
    "duration": 99,
    "start_time": "2025-03-06T05:33:08.669Z"
   },
   {
    "duration": 135,
    "start_time": "2025-03-06T05:33:08.771Z"
   },
   {
    "duration": 16,
    "start_time": "2025-03-06T05:33:08.908Z"
   },
   {
    "duration": 99,
    "start_time": "2025-03-06T05:33:08.925Z"
   },
   {
    "duration": 138,
    "start_time": "2025-03-06T05:33:09.026Z"
   },
   {
    "duration": 19,
    "start_time": "2025-03-06T05:33:09.166Z"
   },
   {
    "duration": 28,
    "start_time": "2025-03-06T05:33:09.186Z"
   },
   {
    "duration": 33,
    "start_time": "2025-03-06T05:33:09.218Z"
   },
   {
    "duration": 16,
    "start_time": "2025-03-06T05:33:09.252Z"
   },
   {
    "duration": 27,
    "start_time": "2025-03-06T05:33:09.270Z"
   },
   {
    "duration": 565,
    "start_time": "2025-03-06T05:33:09.299Z"
   },
   {
    "duration": 49,
    "start_time": "2025-03-06T05:33:09.865Z"
   },
   {
    "duration": 172,
    "start_time": "2025-03-06T05:33:09.915Z"
   },
   {
    "duration": 76,
    "start_time": "2025-03-06T05:33:10.089Z"
   },
   {
    "duration": 36,
    "start_time": "2025-03-06T05:33:10.167Z"
   },
   {
    "duration": 4,
    "start_time": "2025-03-06T05:33:10.205Z"
   },
   {
    "duration": 13,
    "start_time": "2025-03-06T05:33:10.210Z"
   },
   {
    "duration": 45,
    "start_time": "2025-03-06T05:33:10.224Z"
   },
   {
    "duration": 44,
    "start_time": "2025-03-06T05:33:10.270Z"
   },
   {
    "duration": 125,
    "start_time": "2025-03-06T05:33:10.316Z"
   },
   {
    "duration": 0,
    "start_time": "2025-03-06T05:33:10.443Z"
   },
   {
    "duration": 0,
    "start_time": "2025-03-06T05:33:10.445Z"
   },
   {
    "duration": 0,
    "start_time": "2025-03-06T05:33:10.446Z"
   },
   {
    "duration": 0,
    "start_time": "2025-03-06T05:33:10.447Z"
   },
   {
    "duration": 0,
    "start_time": "2025-03-06T05:33:10.458Z"
   },
   {
    "duration": 0,
    "start_time": "2025-03-06T05:33:10.458Z"
   },
   {
    "duration": 0,
    "start_time": "2025-03-06T05:33:10.459Z"
   },
   {
    "duration": 0,
    "start_time": "2025-03-06T05:33:10.461Z"
   },
   {
    "duration": 0,
    "start_time": "2025-03-06T05:33:10.461Z"
   },
   {
    "duration": 1,
    "start_time": "2025-03-06T05:33:10.462Z"
   },
   {
    "duration": 28,
    "start_time": "2025-03-06T05:36:50.078Z"
   },
   {
    "duration": 3118,
    "start_time": "2025-03-06T05:41:24.689Z"
   },
   {
    "duration": 424,
    "start_time": "2025-03-06T05:41:27.810Z"
   },
   {
    "duration": 2355,
    "start_time": "2025-03-06T05:41:28.236Z"
   },
   {
    "duration": 2311,
    "start_time": "2025-03-06T05:41:30.593Z"
   },
   {
    "duration": 13,
    "start_time": "2025-03-06T05:41:32.906Z"
   },
   {
    "duration": 60,
    "start_time": "2025-03-06T05:41:32.920Z"
   },
   {
    "duration": 6,
    "start_time": "2025-03-06T05:41:32.982Z"
   },
   {
    "duration": 22,
    "start_time": "2025-03-06T05:41:32.990Z"
   },
   {
    "duration": 11,
    "start_time": "2025-03-06T05:41:33.014Z"
   },
   {
    "duration": 15,
    "start_time": "2025-03-06T05:41:33.027Z"
   },
   {
    "duration": 8,
    "start_time": "2025-03-06T05:41:33.044Z"
   },
   {
    "duration": 23,
    "start_time": "2025-03-06T05:41:33.054Z"
   },
   {
    "duration": 24,
    "start_time": "2025-03-06T05:41:33.079Z"
   },
   {
    "duration": 104,
    "start_time": "2025-03-06T05:41:33.106Z"
   },
   {
    "duration": 94,
    "start_time": "2025-03-06T05:41:33.212Z"
   },
   {
    "duration": 104,
    "start_time": "2025-03-06T05:41:33.308Z"
   },
   {
    "duration": 8,
    "start_time": "2025-03-06T05:41:33.414Z"
   },
   {
    "duration": 52,
    "start_time": "2025-03-06T05:41:33.423Z"
   },
   {
    "duration": 34,
    "start_time": "2025-03-06T05:41:33.476Z"
   },
   {
    "duration": 52,
    "start_time": "2025-03-06T05:41:33.511Z"
   },
   {
    "duration": 8,
    "start_time": "2025-03-06T05:41:33.565Z"
   },
   {
    "duration": 21,
    "start_time": "2025-03-06T05:41:33.574Z"
   },
   {
    "duration": 14,
    "start_time": "2025-03-06T05:41:33.597Z"
   },
   {
    "duration": 16,
    "start_time": "2025-03-06T05:41:33.613Z"
   },
   {
    "duration": 8,
    "start_time": "2025-03-06T05:41:33.658Z"
   },
   {
    "duration": 24,
    "start_time": "2025-03-06T05:41:33.668Z"
   },
   {
    "duration": 21,
    "start_time": "2025-03-06T05:41:33.694Z"
   },
   {
    "duration": 45,
    "start_time": "2025-03-06T05:41:33.717Z"
   },
   {
    "duration": 53,
    "start_time": "2025-03-06T05:41:33.763Z"
   },
   {
    "duration": 13,
    "start_time": "2025-03-06T05:41:33.818Z"
   },
   {
    "duration": 7,
    "start_time": "2025-03-06T05:41:33.833Z"
   },
   {
    "duration": 17,
    "start_time": "2025-03-06T05:41:33.841Z"
   },
   {
    "duration": 101,
    "start_time": "2025-03-06T05:41:33.859Z"
   },
   {
    "duration": 96,
    "start_time": "2025-03-06T05:41:33.962Z"
   },
   {
    "duration": 133,
    "start_time": "2025-03-06T05:41:34.060Z"
   },
   {
    "duration": 32,
    "start_time": "2025-03-06T05:41:34.195Z"
   },
   {
    "duration": 80,
    "start_time": "2025-03-06T05:41:34.229Z"
   },
   {
    "duration": 151,
    "start_time": "2025-03-06T05:41:34.310Z"
   },
   {
    "duration": 19,
    "start_time": "2025-03-06T05:41:34.463Z"
   },
   {
    "duration": 6,
    "start_time": "2025-03-06T05:41:34.484Z"
   },
   {
    "duration": 31,
    "start_time": "2025-03-06T05:41:34.494Z"
   },
   {
    "duration": 38,
    "start_time": "2025-03-06T05:41:34.527Z"
   },
   {
    "duration": 72,
    "start_time": "2025-03-06T05:41:34.567Z"
   },
   {
    "duration": 587,
    "start_time": "2025-03-06T05:41:34.641Z"
   },
   {
    "duration": 54,
    "start_time": "2025-03-06T05:41:35.230Z"
   },
   {
    "duration": 175,
    "start_time": "2025-03-06T05:41:35.286Z"
   },
   {
    "duration": 63,
    "start_time": "2025-03-06T05:41:35.463Z"
   },
   {
    "duration": 56,
    "start_time": "2025-03-06T05:41:35.527Z"
   },
   {
    "duration": 4,
    "start_time": "2025-03-06T05:41:35.585Z"
   },
   {
    "duration": 17,
    "start_time": "2025-03-06T05:41:35.590Z"
   },
   {
    "duration": 31,
    "start_time": "2025-03-06T05:41:35.608Z"
   },
   {
    "duration": 57,
    "start_time": "2025-03-06T05:41:35.640Z"
   },
   {
    "duration": 20,
    "start_time": "2025-03-06T05:48:03.462Z"
   },
   {
    "duration": 184,
    "start_time": "2025-03-06T05:48:03.484Z"
   },
   {
    "duration": 23,
    "start_time": "2025-03-06T05:48:03.670Z"
   },
   {
    "duration": 34,
    "start_time": "2025-03-06T05:48:03.694Z"
   },
   {
    "duration": 109,
    "start_time": "2025-03-06T05:48:03.730Z"
   },
   {
    "duration": 2,
    "start_time": "2025-03-06T05:48:03.841Z"
   },
   {
    "duration": 70,
    "start_time": "2025-03-06T05:48:03.858Z"
   },
   {
    "duration": 187,
    "start_time": "2025-03-06T05:48:03.929Z"
   },
   {
    "duration": 390,
    "start_time": "2025-03-06T05:48:04.118Z"
   },
   {
    "duration": 86,
    "start_time": "2025-03-06T05:48:04.509Z"
   },
   {
    "duration": 3187,
    "start_time": "2025-03-06T05:52:24.534Z"
   },
   {
    "duration": 435,
    "start_time": "2025-03-06T05:52:27.723Z"
   },
   {
    "duration": 2401,
    "start_time": "2025-03-06T05:52:28.159Z"
   },
   {
    "duration": 2398,
    "start_time": "2025-03-06T05:52:30.562Z"
   },
   {
    "duration": 13,
    "start_time": "2025-03-06T05:52:32.962Z"
   },
   {
    "duration": 42,
    "start_time": "2025-03-06T05:52:32.977Z"
   },
   {
    "duration": 8,
    "start_time": "2025-03-06T05:52:33.020Z"
   },
   {
    "duration": 8,
    "start_time": "2025-03-06T05:52:33.030Z"
   },
   {
    "duration": 23,
    "start_time": "2025-03-06T05:52:33.040Z"
   },
   {
    "duration": 24,
    "start_time": "2025-03-06T05:52:33.065Z"
   },
   {
    "duration": 8,
    "start_time": "2025-03-06T05:52:33.091Z"
   },
   {
    "duration": 23,
    "start_time": "2025-03-06T05:52:33.101Z"
   },
   {
    "duration": 29,
    "start_time": "2025-03-06T05:52:33.126Z"
   },
   {
    "duration": 102,
    "start_time": "2025-03-06T05:52:33.157Z"
   },
   {
    "duration": 98,
    "start_time": "2025-03-06T05:52:33.261Z"
   },
   {
    "duration": 101,
    "start_time": "2025-03-06T05:52:33.361Z"
   },
   {
    "duration": 8,
    "start_time": "2025-03-06T05:52:33.463Z"
   },
   {
    "duration": 46,
    "start_time": "2025-03-06T05:52:33.473Z"
   },
   {
    "duration": 47,
    "start_time": "2025-03-06T05:52:33.521Z"
   },
   {
    "duration": 43,
    "start_time": "2025-03-06T05:52:33.570Z"
   },
   {
    "duration": 10,
    "start_time": "2025-03-06T05:52:33.615Z"
   },
   {
    "duration": 41,
    "start_time": "2025-03-06T05:52:33.626Z"
   },
   {
    "duration": 17,
    "start_time": "2025-03-06T05:52:33.669Z"
   },
   {
    "duration": 23,
    "start_time": "2025-03-06T05:52:33.687Z"
   },
   {
    "duration": 9,
    "start_time": "2025-03-06T05:52:33.711Z"
   },
   {
    "duration": 41,
    "start_time": "2025-03-06T05:52:33.721Z"
   },
   {
    "duration": 87,
    "start_time": "2025-03-06T05:52:33.764Z"
   },
   {
    "duration": 40,
    "start_time": "2025-03-06T05:52:33.853Z"
   },
   {
    "duration": 103,
    "start_time": "2025-03-06T05:52:33.895Z"
   },
   {
    "duration": 37,
    "start_time": "2025-03-06T05:52:33.999Z"
   },
   {
    "duration": 11,
    "start_time": "2025-03-06T05:52:34.037Z"
   },
   {
    "duration": 121,
    "start_time": "2025-03-06T05:52:34.049Z"
   },
   {
    "duration": 75,
    "start_time": "2025-03-06T05:52:34.172Z"
   },
   {
    "duration": 102,
    "start_time": "2025-03-06T05:52:34.248Z"
   },
   {
    "duration": 134,
    "start_time": "2025-03-06T05:52:34.352Z"
   },
   {
    "duration": 22,
    "start_time": "2025-03-06T05:52:34.488Z"
   },
   {
    "duration": 89,
    "start_time": "2025-03-06T05:52:34.511Z"
   },
   {
    "duration": 157,
    "start_time": "2025-03-06T05:52:34.602Z"
   },
   {
    "duration": 20,
    "start_time": "2025-03-06T05:52:34.761Z"
   },
   {
    "duration": 20,
    "start_time": "2025-03-06T05:52:34.782Z"
   },
   {
    "duration": 29,
    "start_time": "2025-03-06T05:52:34.805Z"
   },
   {
    "duration": 30,
    "start_time": "2025-03-06T05:52:34.835Z"
   },
   {
    "duration": 28,
    "start_time": "2025-03-06T05:52:34.867Z"
   },
   {
    "duration": 615,
    "start_time": "2025-03-06T05:52:34.897Z"
   },
   {
    "duration": 61,
    "start_time": "2025-03-06T05:52:35.513Z"
   },
   {
    "duration": 190,
    "start_time": "2025-03-06T05:52:35.577Z"
   },
   {
    "duration": 78,
    "start_time": "2025-03-06T05:52:35.768Z"
   },
   {
    "duration": 40,
    "start_time": "2025-03-06T05:52:35.858Z"
   },
   {
    "duration": 44,
    "start_time": "2025-03-06T05:52:35.900Z"
   },
   {
    "duration": 76,
    "start_time": "2025-03-06T05:52:35.946Z"
   },
   {
    "duration": 24,
    "start_time": "2025-03-06T05:52:36.024Z"
   },
   {
    "duration": 45,
    "start_time": "2025-03-06T05:52:36.050Z"
   },
   {
    "duration": 533,
    "start_time": "2025-03-06T05:52:36.097Z"
   },
   {
    "duration": 354,
    "start_time": "2025-03-06T05:52:36.632Z"
   },
   {
    "duration": 0,
    "start_time": "2025-03-06T05:52:36.988Z"
   },
   {
    "duration": 0,
    "start_time": "2025-03-06T05:52:36.989Z"
   },
   {
    "duration": 0,
    "start_time": "2025-03-06T05:52:36.990Z"
   },
   {
    "duration": 0,
    "start_time": "2025-03-06T05:52:36.991Z"
   },
   {
    "duration": 0,
    "start_time": "2025-03-06T05:52:36.993Z"
   },
   {
    "duration": 0,
    "start_time": "2025-03-06T05:52:36.994Z"
   },
   {
    "duration": 0,
    "start_time": "2025-03-06T05:52:36.995Z"
   },
   {
    "duration": 0,
    "start_time": "2025-03-06T05:52:36.996Z"
   },
   {
    "duration": 0,
    "start_time": "2025-03-06T05:52:36.997Z"
   },
   {
    "duration": 325,
    "start_time": "2025-03-06T05:53:46.693Z"
   },
   {
    "duration": 237,
    "start_time": "2025-03-06T05:54:12.505Z"
   },
   {
    "duration": 18,
    "start_time": "2025-03-06T05:56:06.925Z"
   },
   {
    "duration": 329,
    "start_time": "2025-03-06T05:56:22.900Z"
   },
   {
    "duration": 587,
    "start_time": "2025-03-06T05:57:43.957Z"
   },
   {
    "duration": 546,
    "start_time": "2025-03-06T06:05:10.534Z"
   },
   {
    "duration": 616,
    "start_time": "2025-03-06T06:05:22.373Z"
   },
   {
    "duration": 515,
    "start_time": "2025-03-06T06:06:01.047Z"
   },
   {
    "duration": 633,
    "start_time": "2025-03-06T06:06:27.048Z"
   },
   {
    "duration": 638,
    "start_time": "2025-03-06T06:06:35.417Z"
   },
   {
    "duration": 559,
    "start_time": "2025-03-06T06:06:49.841Z"
   },
   {
    "duration": 234,
    "start_time": "2025-03-06T06:07:19.083Z"
   },
   {
    "duration": 217,
    "start_time": "2025-03-06T06:10:14.679Z"
   },
   {
    "duration": 3192,
    "start_time": "2025-03-06T06:10:46.227Z"
   },
   {
    "duration": 459,
    "start_time": "2025-03-06T06:10:49.421Z"
   },
   {
    "duration": 2539,
    "start_time": "2025-03-06T06:10:49.882Z"
   },
   {
    "duration": 2629,
    "start_time": "2025-03-06T06:10:52.424Z"
   },
   {
    "duration": 19,
    "start_time": "2025-03-06T06:10:55.055Z"
   },
   {
    "duration": 9,
    "start_time": "2025-03-06T06:10:55.076Z"
   },
   {
    "duration": 7,
    "start_time": "2025-03-06T06:10:55.087Z"
   },
   {
    "duration": 6,
    "start_time": "2025-03-06T06:10:55.096Z"
   },
   {
    "duration": 12,
    "start_time": "2025-03-06T06:10:55.103Z"
   },
   {
    "duration": 46,
    "start_time": "2025-03-06T06:10:55.117Z"
   },
   {
    "duration": 16,
    "start_time": "2025-03-06T06:10:55.165Z"
   },
   {
    "duration": 37,
    "start_time": "2025-03-06T06:10:55.183Z"
   },
   {
    "duration": 64,
    "start_time": "2025-03-06T06:10:55.222Z"
   },
   {
    "duration": 102,
    "start_time": "2025-03-06T06:10:55.288Z"
   },
   {
    "duration": 104,
    "start_time": "2025-03-06T06:10:55.391Z"
   },
   {
    "duration": 109,
    "start_time": "2025-03-06T06:10:55.497Z"
   },
   {
    "duration": 8,
    "start_time": "2025-03-06T06:10:55.607Z"
   },
   {
    "duration": 59,
    "start_time": "2025-03-06T06:10:55.617Z"
   },
   {
    "duration": 34,
    "start_time": "2025-03-06T06:10:55.678Z"
   },
   {
    "duration": 54,
    "start_time": "2025-03-06T06:10:55.714Z"
   },
   {
    "duration": 8,
    "start_time": "2025-03-06T06:10:55.770Z"
   },
   {
    "duration": 22,
    "start_time": "2025-03-06T06:10:55.780Z"
   },
   {
    "duration": 87,
    "start_time": "2025-03-06T06:10:55.804Z"
   },
   {
    "duration": 15,
    "start_time": "2025-03-06T06:10:55.893Z"
   },
   {
    "duration": 7,
    "start_time": "2025-03-06T06:10:55.910Z"
   },
   {
    "duration": 20,
    "start_time": "2025-03-06T06:10:55.918Z"
   },
   {
    "duration": 31,
    "start_time": "2025-03-06T06:10:55.940Z"
   },
   {
    "duration": 107,
    "start_time": "2025-03-06T06:10:55.975Z"
   },
   {
    "duration": 9,
    "start_time": "2025-03-06T06:10:56.084Z"
   },
   {
    "duration": 18,
    "start_time": "2025-03-06T06:10:56.094Z"
   },
   {
    "duration": 67,
    "start_time": "2025-03-06T06:10:56.113Z"
   },
   {
    "duration": 20,
    "start_time": "2025-03-06T06:10:56.182Z"
   },
   {
    "duration": 8,
    "start_time": "2025-03-06T06:10:56.203Z"
   },
   {
    "duration": 166,
    "start_time": "2025-03-06T06:10:56.213Z"
   },
   {
    "duration": 135,
    "start_time": "2025-03-06T06:10:56.381Z"
   },
   {
    "duration": 22,
    "start_time": "2025-03-06T06:10:56.518Z"
   },
   {
    "duration": 96,
    "start_time": "2025-03-06T06:10:56.542Z"
   },
   {
    "duration": 168,
    "start_time": "2025-03-06T06:10:56.639Z"
   },
   {
    "duration": 20,
    "start_time": "2025-03-06T06:10:56.808Z"
   },
   {
    "duration": 7,
    "start_time": "2025-03-06T06:10:56.829Z"
   },
   {
    "duration": 57,
    "start_time": "2025-03-06T06:10:56.838Z"
   },
   {
    "duration": 17,
    "start_time": "2025-03-06T06:10:56.896Z"
   },
   {
    "duration": 30,
    "start_time": "2025-03-06T06:10:56.914Z"
   },
   {
    "duration": 630,
    "start_time": "2025-03-06T06:10:56.959Z"
   },
   {
    "duration": 53,
    "start_time": "2025-03-06T06:10:57.591Z"
   },
   {
    "duration": 224,
    "start_time": "2025-03-06T06:10:57.645Z"
   },
   {
    "duration": 104,
    "start_time": "2025-03-06T06:10:57.871Z"
   },
   {
    "duration": 41,
    "start_time": "2025-03-06T06:10:57.977Z"
   },
   {
    "duration": 37,
    "start_time": "2025-03-06T06:10:58.019Z"
   },
   {
    "duration": 15,
    "start_time": "2025-03-06T06:10:58.058Z"
   },
   {
    "duration": 20,
    "start_time": "2025-03-06T06:10:58.075Z"
   },
   {
    "duration": 71,
    "start_time": "2025-03-06T06:10:58.097Z"
   },
   {
    "duration": 581,
    "start_time": "2025-03-06T06:10:58.170Z"
   },
   {
    "duration": 665,
    "start_time": "2025-03-06T06:10:58.753Z"
   },
   {
    "duration": 314,
    "start_time": "2025-03-06T06:10:59.420Z"
   },
   {
    "duration": 0,
    "start_time": "2025-03-06T06:10:59.736Z"
   },
   {
    "duration": 0,
    "start_time": "2025-03-06T06:10:59.737Z"
   },
   {
    "duration": 0,
    "start_time": "2025-03-06T06:10:59.738Z"
   },
   {
    "duration": 0,
    "start_time": "2025-03-06T06:10:59.740Z"
   },
   {
    "duration": 1,
    "start_time": "2025-03-06T06:10:59.740Z"
   },
   {
    "duration": 0,
    "start_time": "2025-03-06T06:10:59.742Z"
   },
   {
    "duration": 0,
    "start_time": "2025-03-06T06:10:59.742Z"
   },
   {
    "duration": 0,
    "start_time": "2025-03-06T06:10:59.744Z"
   },
   {
    "duration": 0,
    "start_time": "2025-03-06T06:10:59.745Z"
   },
   {
    "duration": 29,
    "start_time": "2025-03-06T06:12:29.674Z"
   },
   {
    "duration": 3116,
    "start_time": "2025-03-06T07:03:23.708Z"
   },
   {
    "duration": 418,
    "start_time": "2025-03-06T07:03:26.826Z"
   },
   {
    "duration": 2347,
    "start_time": "2025-03-06T07:03:27.245Z"
   },
   {
    "duration": 2282,
    "start_time": "2025-03-06T07:03:29.594Z"
   },
   {
    "duration": 13,
    "start_time": "2025-03-06T07:03:31.878Z"
   },
   {
    "duration": 30,
    "start_time": "2025-03-06T07:03:31.892Z"
   },
   {
    "duration": 11,
    "start_time": "2025-03-06T07:03:31.924Z"
   },
   {
    "duration": 11,
    "start_time": "2025-03-06T07:03:31.936Z"
   },
   {
    "duration": 14,
    "start_time": "2025-03-06T07:03:31.949Z"
   },
   {
    "duration": 87,
    "start_time": "2025-03-06T07:03:31.964Z"
   },
   {
    "duration": 15,
    "start_time": "2025-03-06T07:03:32.053Z"
   },
   {
    "duration": 58,
    "start_time": "2025-03-06T07:03:32.069Z"
   },
   {
    "duration": 27,
    "start_time": "2025-03-06T07:03:32.129Z"
   },
   {
    "duration": 100,
    "start_time": "2025-03-06T07:03:32.159Z"
   },
   {
    "duration": 99,
    "start_time": "2025-03-06T07:03:32.260Z"
   },
   {
    "duration": 101,
    "start_time": "2025-03-06T07:03:32.361Z"
   },
   {
    "duration": 8,
    "start_time": "2025-03-06T07:03:32.463Z"
   },
   {
    "duration": 52,
    "start_time": "2025-03-06T07:03:32.473Z"
   },
   {
    "duration": 39,
    "start_time": "2025-03-06T07:03:32.527Z"
   },
   {
    "duration": 35,
    "start_time": "2025-03-06T07:03:32.567Z"
   },
   {
    "duration": 11,
    "start_time": "2025-03-06T07:03:32.604Z"
   },
   {
    "duration": 26,
    "start_time": "2025-03-06T07:03:32.617Z"
   },
   {
    "duration": 25,
    "start_time": "2025-03-06T07:03:32.645Z"
   },
   {
    "duration": 23,
    "start_time": "2025-03-06T07:03:32.672Z"
   },
   {
    "duration": 35,
    "start_time": "2025-03-06T07:03:32.696Z"
   },
   {
    "duration": 20,
    "start_time": "2025-03-06T07:03:32.733Z"
   },
   {
    "duration": 21,
    "start_time": "2025-03-06T07:03:32.754Z"
   },
   {
    "duration": 86,
    "start_time": "2025-03-06T07:03:32.776Z"
   },
   {
    "duration": 42,
    "start_time": "2025-03-06T07:03:32.864Z"
   },
   {
    "duration": 29,
    "start_time": "2025-03-06T07:03:32.907Z"
   },
   {
    "duration": 6,
    "start_time": "2025-03-06T07:03:32.938Z"
   },
   {
    "duration": 9,
    "start_time": "2025-03-06T07:03:32.946Z"
   },
   {
    "duration": 9,
    "start_time": "2025-03-06T07:03:32.957Z"
   },
   {
    "duration": 100,
    "start_time": "2025-03-06T07:03:32.967Z"
   },
   {
    "duration": 140,
    "start_time": "2025-03-06T07:03:33.068Z"
   },
   {
    "duration": 16,
    "start_time": "2025-03-06T07:03:33.210Z"
   },
   {
    "duration": 93,
    "start_time": "2025-03-06T07:03:33.228Z"
   },
   {
    "duration": 149,
    "start_time": "2025-03-06T07:03:33.323Z"
   },
   {
    "duration": 20,
    "start_time": "2025-03-06T07:03:33.473Z"
   },
   {
    "duration": 7,
    "start_time": "2025-03-06T07:03:33.495Z"
   },
   {
    "duration": 48,
    "start_time": "2025-03-06T07:03:33.506Z"
   },
   {
    "duration": 18,
    "start_time": "2025-03-06T07:03:33.555Z"
   },
   {
    "duration": 31,
    "start_time": "2025-03-06T07:03:33.575Z"
   },
   {
    "duration": 600,
    "start_time": "2025-03-06T07:03:33.607Z"
   },
   {
    "duration": 60,
    "start_time": "2025-03-06T07:03:34.209Z"
   },
   {
    "duration": 185,
    "start_time": "2025-03-06T07:03:34.271Z"
   },
   {
    "duration": 69,
    "start_time": "2025-03-06T07:03:34.458Z"
   },
   {
    "duration": 53,
    "start_time": "2025-03-06T07:03:34.528Z"
   },
   {
    "duration": 4,
    "start_time": "2025-03-06T07:03:34.583Z"
   },
   {
    "duration": 14,
    "start_time": "2025-03-06T07:03:34.589Z"
   },
   {
    "duration": 20,
    "start_time": "2025-03-06T07:03:34.605Z"
   },
   {
    "duration": 65,
    "start_time": "2025-03-06T07:03:34.626Z"
   },
   {
    "duration": 535,
    "start_time": "2025-03-06T07:03:34.693Z"
   },
   {
    "duration": 677,
    "start_time": "2025-03-06T07:03:35.229Z"
   },
   {
    "duration": 28,
    "start_time": "2025-03-06T07:03:35.908Z"
   },
   {
    "duration": 131,
    "start_time": "2025-03-06T07:03:35.938Z"
   },
   {
    "duration": 23,
    "start_time": "2025-03-06T07:03:36.071Z"
   },
   {
    "duration": 31,
    "start_time": "2025-03-06T07:03:36.095Z"
   },
   {
    "duration": 103,
    "start_time": "2025-03-06T07:03:36.128Z"
   },
   {
    "duration": 83,
    "start_time": "2025-03-06T07:03:36.233Z"
   },
   {
    "duration": 267,
    "start_time": "2025-03-06T07:03:36.317Z"
   },
   {
    "duration": 392,
    "start_time": "2025-03-06T07:03:36.586Z"
   },
   {
    "duration": 86,
    "start_time": "2025-03-06T07:03:36.979Z"
   },
   {
    "duration": 112,
    "start_time": "2025-03-06T07:03:37.066Z"
   },
   {
    "duration": 10,
    "start_time": "2025-03-06T07:05:23.830Z"
   },
   {
    "duration": 46,
    "start_time": "2025-03-06T07:05:37.775Z"
   },
   {
    "duration": 56,
    "start_time": "2025-03-06T07:06:10.780Z"
   },
   {
    "duration": 12,
    "start_time": "2025-03-06T07:06:44.023Z"
   },
   {
    "duration": 16,
    "start_time": "2025-03-06T07:06:49.158Z"
   },
   {
    "duration": 12,
    "start_time": "2025-03-06T07:07:55.753Z"
   },
   {
    "duration": 12,
    "start_time": "2025-03-06T07:08:19.657Z"
   },
   {
    "duration": 10,
    "start_time": "2025-03-06T07:12:40.870Z"
   },
   {
    "duration": 10,
    "start_time": "2025-03-06T07:12:54.535Z"
   },
   {
    "duration": 979,
    "start_time": "2025-03-06T07:23:03.404Z"
   },
   {
    "duration": 117,
    "start_time": "2025-03-06T07:23:33.023Z"
   },
   {
    "duration": 524,
    "start_time": "2025-03-06T07:24:05.881Z"
   },
   {
    "duration": 455,
    "start_time": "2025-03-06T07:24:34.568Z"
   },
   {
    "duration": 470,
    "start_time": "2025-03-06T07:24:58.735Z"
   },
   {
    "duration": 1487,
    "start_time": "2025-03-06T07:25:45.332Z"
   },
   {
    "duration": 1198,
    "start_time": "2025-03-06T07:26:04.516Z"
   },
   {
    "duration": 4,
    "start_time": "2025-03-06T07:28:26.125Z"
   },
   {
    "duration": 1571,
    "start_time": "2025-03-06T07:28:38.077Z"
   },
   {
    "duration": 1662,
    "start_time": "2025-03-06T07:29:07.481Z"
   },
   {
    "duration": 1820,
    "start_time": "2025-03-06T07:29:25.931Z"
   },
   {
    "duration": 1480,
    "start_time": "2025-03-06T07:30:38.907Z"
   },
   {
    "duration": 1448,
    "start_time": "2025-03-06T07:31:49.670Z"
   },
   {
    "duration": 995,
    "start_time": "2025-03-06T07:33:19.243Z"
   },
   {
    "duration": 940,
    "start_time": "2025-03-06T07:34:42.051Z"
   },
   {
    "duration": 979,
    "start_time": "2025-03-06T07:35:03.363Z"
   },
   {
    "duration": 1328,
    "start_time": "2025-03-06T07:37:58.003Z"
   },
   {
    "duration": 15,
    "start_time": "2025-03-06T07:38:09.824Z"
   },
   {
    "duration": 887,
    "start_time": "2025-03-06T07:38:16.053Z"
   },
   {
    "duration": 9,
    "start_time": "2025-03-06T07:44:53.314Z"
   },
   {
    "duration": 114,
    "start_time": "2025-03-06T07:46:23.953Z"
   },
   {
    "duration": 31,
    "start_time": "2025-03-06T07:46:31.003Z"
   },
   {
    "duration": 8,
    "start_time": "2025-03-06T07:50:11.009Z"
   },
   {
    "duration": 9,
    "start_time": "2025-03-06T07:50:35.587Z"
   },
   {
    "duration": 9,
    "start_time": "2025-03-06T07:50:43.639Z"
   },
   {
    "duration": 1115,
    "start_time": "2025-03-06T07:50:59.307Z"
   },
   {
    "duration": 61,
    "start_time": "2025-03-06T07:51:42.899Z"
   },
   {
    "duration": 59,
    "start_time": "2025-03-06T07:54:14.479Z"
   },
   {
    "duration": 64,
    "start_time": "2025-03-06T07:54:42.229Z"
   },
   {
    "duration": 6,
    "start_time": "2025-03-06T07:59:16.545Z"
   },
   {
    "duration": 8,
    "start_time": "2025-03-06T08:01:55.291Z"
   },
   {
    "duration": 10,
    "start_time": "2025-03-06T08:04:00.771Z"
   },
   {
    "duration": 88,
    "start_time": "2025-03-06T08:05:53.816Z"
   },
   {
    "duration": 124,
    "start_time": "2025-03-06T08:06:05.740Z"
   },
   {
    "duration": 8,
    "start_time": "2025-03-06T08:16:26.978Z"
   },
   {
    "duration": 10,
    "start_time": "2025-03-06T08:22:36.279Z"
   },
   {
    "duration": 11,
    "start_time": "2025-03-06T08:23:09.873Z"
   },
   {
    "duration": 10,
    "start_time": "2025-03-06T08:24:39.783Z"
   },
   {
    "duration": 29,
    "start_time": "2025-03-06T08:25:42.251Z"
   },
   {
    "duration": 15,
    "start_time": "2025-03-06T08:26:57.926Z"
   },
   {
    "duration": 14,
    "start_time": "2025-03-06T08:27:07.340Z"
   },
   {
    "duration": 19,
    "start_time": "2025-03-06T08:27:21.296Z"
   },
   {
    "duration": 19,
    "start_time": "2025-03-06T08:28:48.796Z"
   },
   {
    "duration": 87,
    "start_time": "2025-03-06T08:30:09.071Z"
   },
   {
    "duration": 243,
    "start_time": "2025-03-06T08:30:16.057Z"
   },
   {
    "duration": 87,
    "start_time": "2025-03-06T08:30:28.357Z"
   },
   {
    "duration": 20,
    "start_time": "2025-03-06T08:32:22.837Z"
   },
   {
    "duration": 22,
    "start_time": "2025-03-06T08:33:55.307Z"
   },
   {
    "duration": 22,
    "start_time": "2025-03-06T08:34:47.065Z"
   },
   {
    "duration": 95,
    "start_time": "2025-03-06T11:21:03.897Z"
   },
   {
    "duration": 45,
    "start_time": "2025-03-06T11:21:26.292Z"
   },
   {
    "duration": 9317,
    "start_time": "2025-03-06T11:21:45.200Z"
   },
   {
    "duration": 441,
    "start_time": "2025-03-06T11:21:54.519Z"
   },
   {
    "duration": 2401,
    "start_time": "2025-03-06T11:21:54.962Z"
   },
   {
    "duration": 2113,
    "start_time": "2025-03-06T11:21:57.365Z"
   },
   {
    "duration": 13,
    "start_time": "2025-03-06T11:21:59.481Z"
   },
   {
    "duration": 8,
    "start_time": "2025-03-06T11:21:59.496Z"
   },
   {
    "duration": 8,
    "start_time": "2025-03-06T11:21:59.507Z"
   },
   {
    "duration": 9,
    "start_time": "2025-03-06T11:21:59.517Z"
   },
   {
    "duration": 42,
    "start_time": "2025-03-06T11:21:59.528Z"
   },
   {
    "duration": 9,
    "start_time": "2025-03-06T11:21:59.572Z"
   },
   {
    "duration": 17,
    "start_time": "2025-03-06T11:21:59.583Z"
   },
   {
    "duration": 56,
    "start_time": "2025-03-06T11:21:59.603Z"
   },
   {
    "duration": 17,
    "start_time": "2025-03-06T11:21:59.661Z"
   },
   {
    "duration": 117,
    "start_time": "2025-03-06T11:21:59.681Z"
   },
   {
    "duration": 97,
    "start_time": "2025-03-06T11:21:59.800Z"
   },
   {
    "duration": 101,
    "start_time": "2025-03-06T11:21:59.898Z"
   },
   {
    "duration": 9,
    "start_time": "2025-03-06T11:22:00.000Z"
   },
   {
    "duration": 53,
    "start_time": "2025-03-06T11:22:00.010Z"
   },
   {
    "duration": 36,
    "start_time": "2025-03-06T11:22:00.066Z"
   },
   {
    "duration": 94,
    "start_time": "2025-03-06T11:22:00.104Z"
   },
   {
    "duration": 9,
    "start_time": "2025-03-06T11:22:00.200Z"
   },
   {
    "duration": 41,
    "start_time": "2025-03-06T11:22:00.211Z"
   },
   {
    "duration": 37,
    "start_time": "2025-03-06T11:22:00.254Z"
   },
   {
    "duration": 29,
    "start_time": "2025-03-06T11:22:00.293Z"
   },
   {
    "duration": 26,
    "start_time": "2025-03-06T11:22:00.324Z"
   },
   {
    "duration": 38,
    "start_time": "2025-03-06T11:22:00.351Z"
   },
   {
    "duration": 29,
    "start_time": "2025-03-06T11:22:00.391Z"
   },
   {
    "duration": 25,
    "start_time": "2025-03-06T11:22:00.421Z"
   },
   {
    "duration": 15,
    "start_time": "2025-03-06T11:22:00.447Z"
   },
   {
    "duration": 25,
    "start_time": "2025-03-06T11:22:00.464Z"
   },
   {
    "duration": 8,
    "start_time": "2025-03-06T11:22:00.491Z"
   },
   {
    "duration": 15,
    "start_time": "2025-03-06T11:22:00.500Z"
   },
   {
    "duration": 16,
    "start_time": "2025-03-06T11:22:00.517Z"
   },
   {
    "duration": 94,
    "start_time": "2025-03-06T11:22:00.535Z"
   },
   {
    "duration": 135,
    "start_time": "2025-03-06T11:22:00.630Z"
   },
   {
    "duration": 21,
    "start_time": "2025-03-06T11:22:00.766Z"
   },
   {
    "duration": 153,
    "start_time": "2025-03-06T11:22:00.789Z"
   },
   {
    "duration": 146,
    "start_time": "2025-03-06T11:22:00.944Z"
   },
   {
    "duration": 21,
    "start_time": "2025-03-06T11:22:01.092Z"
   },
   {
    "duration": 212,
    "start_time": "2025-03-06T11:22:01.114Z"
   },
   {
    "duration": 54,
    "start_time": "2025-03-06T11:22:01.330Z"
   },
   {
    "duration": 19,
    "start_time": "2025-03-06T11:22:01.386Z"
   },
   {
    "duration": 31,
    "start_time": "2025-03-06T11:22:01.407Z"
   },
   {
    "duration": 630,
    "start_time": "2025-03-06T11:22:01.458Z"
   },
   {
    "duration": 52,
    "start_time": "2025-03-06T11:22:02.090Z"
   },
   {
    "duration": 193,
    "start_time": "2025-03-06T11:22:02.144Z"
   },
   {
    "duration": 80,
    "start_time": "2025-03-06T11:22:02.339Z"
   },
   {
    "duration": 46,
    "start_time": "2025-03-06T11:22:02.421Z"
   },
   {
    "duration": 4,
    "start_time": "2025-03-06T11:22:02.469Z"
   },
   {
    "duration": 36,
    "start_time": "2025-03-06T11:22:02.474Z"
   },
   {
    "duration": 32,
    "start_time": "2025-03-06T11:22:02.512Z"
   },
   {
    "duration": 47,
    "start_time": "2025-03-06T11:22:02.546Z"
   },
   {
    "duration": 536,
    "start_time": "2025-03-06T11:22:02.595Z"
   },
   {
    "duration": 650,
    "start_time": "2025-03-06T11:22:03.133Z"
   },
   {
    "duration": 32,
    "start_time": "2025-03-06T11:22:03.785Z"
   },
   {
    "duration": 178,
    "start_time": "2025-03-06T11:22:03.820Z"
   },
   {
    "duration": 24,
    "start_time": "2025-03-06T11:22:03.999Z"
   },
   {
    "duration": 41,
    "start_time": "2025-03-06T11:22:04.025Z"
   },
   {
    "duration": 97,
    "start_time": "2025-03-06T11:22:04.068Z"
   },
   {
    "duration": 75,
    "start_time": "2025-03-06T11:22:04.167Z"
   },
   {
    "duration": 181,
    "start_time": "2025-03-06T11:22:04.243Z"
   },
   {
    "duration": 385,
    "start_time": "2025-03-06T11:22:04.426Z"
   },
   {
    "duration": 91,
    "start_time": "2025-03-06T11:22:04.813Z"
   },
   {
    "duration": 54,
    "start_time": "2025-03-06T11:22:04.906Z"
   },
   {
    "duration": 16,
    "start_time": "2025-03-06T11:22:04.962Z"
   },
   {
    "duration": 23,
    "start_time": "2025-03-06T11:22:04.980Z"
   },
   {
    "duration": 1094,
    "start_time": "2025-03-06T11:22:05.005Z"
   },
   {
    "duration": 29,
    "start_time": "2025-03-06T11:22:06.101Z"
   },
   {
    "duration": 33,
    "start_time": "2025-03-06T11:22:06.132Z"
   },
   {
    "duration": 61,
    "start_time": "2025-03-06T11:22:06.167Z"
   },
   {
    "duration": 8,
    "start_time": "2025-03-06T11:22:06.230Z"
   },
   {
    "duration": 39,
    "start_time": "2025-03-06T11:22:06.239Z"
   },
   {
    "duration": 10,
    "start_time": "2025-03-06T11:22:06.280Z"
   },
   {
    "duration": 112,
    "start_time": "2025-03-06T11:22:06.292Z"
   },
   {
    "duration": 22,
    "start_time": "2025-03-06T11:22:49.156Z"
   },
   {
    "duration": 18,
    "start_time": "2025-03-06T11:23:30.476Z"
   },
   {
    "duration": 18,
    "start_time": "2025-03-06T11:26:15.059Z"
   },
   {
    "duration": 18,
    "start_time": "2025-03-06T11:28:05.946Z"
   },
   {
    "duration": 17,
    "start_time": "2025-03-06T11:32:05.956Z"
   },
   {
    "duration": 18,
    "start_time": "2025-03-06T11:32:18.980Z"
   },
   {
    "duration": 56,
    "start_time": "2025-03-06T11:32:30.846Z"
   },
   {
    "duration": 20,
    "start_time": "2025-03-06T11:33:15.882Z"
   },
   {
    "duration": 19,
    "start_time": "2025-03-06T11:33:22.098Z"
   },
   {
    "duration": 18,
    "start_time": "2025-03-06T11:33:31.782Z"
   },
   {
    "duration": 18,
    "start_time": "2025-03-06T11:33:49.016Z"
   },
   {
    "duration": 18,
    "start_time": "2025-03-06T11:33:55.044Z"
   },
   {
    "duration": 22,
    "start_time": "2025-03-06T11:34:29.013Z"
   },
   {
    "duration": 20,
    "start_time": "2025-03-06T11:35:03.031Z"
   },
   {
    "duration": 18,
    "start_time": "2025-03-06T11:35:29.227Z"
   },
   {
    "duration": 19,
    "start_time": "2025-03-06T11:36:25.242Z"
   },
   {
    "duration": 19,
    "start_time": "2025-03-06T11:36:40.038Z"
   },
   {
    "duration": 18,
    "start_time": "2025-03-06T11:38:21.725Z"
   },
   {
    "duration": 20,
    "start_time": "2025-03-06T11:39:11.360Z"
   },
   {
    "duration": 34,
    "start_time": "2025-03-06T11:41:13.394Z"
   },
   {
    "duration": 293,
    "start_time": "2025-03-06T11:41:21.059Z"
   },
   {
    "duration": 20,
    "start_time": "2025-03-06T11:42:18.920Z"
   },
   {
    "duration": 15,
    "start_time": "2025-03-06T11:42:40.145Z"
   },
   {
    "duration": 16,
    "start_time": "2025-03-06T11:42:56.059Z"
   },
   {
    "duration": 15,
    "start_time": "2025-03-06T11:43:04.707Z"
   },
   {
    "duration": 16,
    "start_time": "2025-03-06T11:43:22.391Z"
   },
   {
    "duration": 16,
    "start_time": "2025-03-06T11:43:32.116Z"
   },
   {
    "duration": 350,
    "start_time": "2025-03-06T11:43:54.409Z"
   },
   {
    "duration": 3381,
    "start_time": "2025-03-06T11:44:04.142Z"
   },
   {
    "duration": 440,
    "start_time": "2025-03-06T11:44:07.525Z"
   },
   {
    "duration": 2438,
    "start_time": "2025-03-06T11:44:07.966Z"
   },
   {
    "duration": 2513,
    "start_time": "2025-03-06T11:44:10.407Z"
   },
   {
    "duration": 16,
    "start_time": "2025-03-06T11:44:12.922Z"
   },
   {
    "duration": 9,
    "start_time": "2025-03-06T11:44:12.939Z"
   },
   {
    "duration": 7,
    "start_time": "2025-03-06T11:44:12.950Z"
   },
   {
    "duration": 7,
    "start_time": "2025-03-06T11:44:12.958Z"
   },
   {
    "duration": 12,
    "start_time": "2025-03-06T11:44:12.967Z"
   },
   {
    "duration": 7,
    "start_time": "2025-03-06T11:44:12.981Z"
   },
   {
    "duration": 10,
    "start_time": "2025-03-06T11:44:12.989Z"
   },
   {
    "duration": 58,
    "start_time": "2025-03-06T11:44:13.000Z"
   },
   {
    "duration": 17,
    "start_time": "2025-03-06T11:44:13.059Z"
   },
   {
    "duration": 114,
    "start_time": "2025-03-06T11:44:13.080Z"
   },
   {
    "duration": 103,
    "start_time": "2025-03-06T11:44:13.196Z"
   },
   {
    "duration": 100,
    "start_time": "2025-03-06T11:44:13.301Z"
   },
   {
    "duration": 9,
    "start_time": "2025-03-06T11:44:13.402Z"
   },
   {
    "duration": 63,
    "start_time": "2025-03-06T11:44:13.412Z"
   },
   {
    "duration": 37,
    "start_time": "2025-03-06T11:44:13.476Z"
   },
   {
    "duration": 53,
    "start_time": "2025-03-06T11:44:13.514Z"
   },
   {
    "duration": 8,
    "start_time": "2025-03-06T11:44:13.569Z"
   },
   {
    "duration": 21,
    "start_time": "2025-03-06T11:44:13.579Z"
   },
   {
    "duration": 16,
    "start_time": "2025-03-06T11:44:13.602Z"
   },
   {
    "duration": 51,
    "start_time": "2025-03-06T11:44:13.620Z"
   },
   {
    "duration": 8,
    "start_time": "2025-03-06T11:44:13.673Z"
   },
   {
    "duration": 21,
    "start_time": "2025-03-06T11:44:13.684Z"
   },
   {
    "duration": 54,
    "start_time": "2025-03-06T11:44:13.707Z"
   },
   {
    "duration": 26,
    "start_time": "2025-03-06T11:44:13.764Z"
   },
   {
    "duration": 11,
    "start_time": "2025-03-06T11:44:13.791Z"
   },
   {
    "duration": 15,
    "start_time": "2025-03-06T11:44:13.804Z"
   },
   {
    "duration": 37,
    "start_time": "2025-03-06T11:44:13.821Z"
   },
   {
    "duration": 68,
    "start_time": "2025-03-06T11:44:13.860Z"
   },
   {
    "duration": 7,
    "start_time": "2025-03-06T11:44:13.930Z"
   },
   {
    "duration": 89,
    "start_time": "2025-03-06T11:44:13.939Z"
   },
   {
    "duration": 133,
    "start_time": "2025-03-06T11:44:14.030Z"
   },
   {
    "duration": 20,
    "start_time": "2025-03-06T11:44:14.165Z"
   },
   {
    "duration": 107,
    "start_time": "2025-03-06T11:44:14.186Z"
   },
   {
    "duration": 152,
    "start_time": "2025-03-06T11:44:14.294Z"
   },
   {
    "duration": 23,
    "start_time": "2025-03-06T11:44:14.448Z"
   },
   {
    "duration": 7,
    "start_time": "2025-03-06T11:44:14.472Z"
   },
   {
    "duration": 30,
    "start_time": "2025-03-06T11:44:14.484Z"
   },
   {
    "duration": 41,
    "start_time": "2025-03-06T11:44:14.517Z"
   },
   {
    "duration": 31,
    "start_time": "2025-03-06T11:44:14.560Z"
   },
   {
    "duration": 617,
    "start_time": "2025-03-06T11:44:14.592Z"
   },
   {
    "duration": 67,
    "start_time": "2025-03-06T11:44:15.211Z"
   },
   {
    "duration": 238,
    "start_time": "2025-03-06T11:44:15.280Z"
   },
   {
    "duration": 85,
    "start_time": "2025-03-06T11:44:15.519Z"
   },
   {
    "duration": 39,
    "start_time": "2025-03-06T11:44:15.606Z"
   },
   {
    "duration": 5,
    "start_time": "2025-03-06T11:44:15.657Z"
   },
   {
    "duration": 15,
    "start_time": "2025-03-06T11:44:15.663Z"
   },
   {
    "duration": 20,
    "start_time": "2025-03-06T11:44:15.680Z"
   },
   {
    "duration": 73,
    "start_time": "2025-03-06T11:44:15.701Z"
   },
   {
    "duration": 549,
    "start_time": "2025-03-06T11:44:15.776Z"
   },
   {
    "duration": 635,
    "start_time": "2025-03-06T11:44:16.327Z"
   },
   {
    "duration": 29,
    "start_time": "2025-03-06T11:44:16.964Z"
   },
   {
    "duration": 137,
    "start_time": "2025-03-06T11:44:16.994Z"
   },
   {
    "duration": 28,
    "start_time": "2025-03-06T11:44:17.132Z"
   },
   {
    "duration": 64,
    "start_time": "2025-03-06T11:44:17.162Z"
   },
   {
    "duration": 103,
    "start_time": "2025-03-06T11:44:17.228Z"
   },
   {
    "duration": 74,
    "start_time": "2025-03-06T11:44:17.333Z"
   },
   {
    "duration": 183,
    "start_time": "2025-03-06T11:44:17.409Z"
   },
   {
    "duration": 382,
    "start_time": "2025-03-06T11:44:17.594Z"
   },
   {
    "duration": 85,
    "start_time": "2025-03-06T11:44:17.978Z"
   },
   {
    "duration": 45,
    "start_time": "2025-03-06T11:44:18.065Z"
   },
   {
    "duration": 16,
    "start_time": "2025-03-06T11:44:18.112Z"
   },
   {
    "duration": 91,
    "start_time": "2025-03-06T11:44:18.130Z"
   },
   {
    "duration": 986,
    "start_time": "2025-03-06T11:44:18.223Z"
   },
   {
    "duration": 29,
    "start_time": "2025-03-06T11:44:19.211Z"
   },
   {
    "duration": 81,
    "start_time": "2025-03-06T11:44:19.242Z"
   },
   {
    "duration": 58,
    "start_time": "2025-03-06T11:44:19.324Z"
   },
   {
    "duration": 31,
    "start_time": "2025-03-06T11:44:19.384Z"
   },
   {
    "duration": 33,
    "start_time": "2025-03-06T11:44:19.417Z"
   },
   {
    "duration": 10,
    "start_time": "2025-03-06T11:44:19.452Z"
   },
   {
    "duration": 20,
    "start_time": "2025-03-06T11:44:19.464Z"
   },
   {
    "duration": 19,
    "start_time": "2025-03-06T11:44:19.486Z"
   },
   {
    "duration": 122,
    "start_time": "2025-03-06T11:45:00.257Z"
   },
   {
    "duration": 20,
    "start_time": "2025-03-06T11:45:21.055Z"
   },
   {
    "duration": 20,
    "start_time": "2025-03-06T11:47:52.698Z"
   },
   {
    "duration": 27,
    "start_time": "2025-03-06T11:50:05.487Z"
   },
   {
    "duration": 930,
    "start_time": "2025-03-06T11:51:28.039Z"
   },
   {
    "duration": 941,
    "start_time": "2025-03-06T11:51:36.244Z"
   },
   {
    "duration": 28,
    "start_time": "2025-03-06T11:51:55.802Z"
   },
   {
    "duration": 80,
    "start_time": "2025-03-06T11:56:54.014Z"
   },
   {
    "duration": 102,
    "start_time": "2025-03-06T11:57:23.140Z"
   },
   {
    "duration": 13,
    "start_time": "2025-03-06T11:57:30.507Z"
   },
   {
    "duration": 14,
    "start_time": "2025-03-06T11:57:49.937Z"
   },
   {
    "duration": 81,
    "start_time": "2025-03-06T11:58:58.671Z"
   },
   {
    "duration": 994,
    "start_time": "2025-03-06T11:59:22.204Z"
   },
   {
    "duration": 996,
    "start_time": "2025-03-06T12:00:33.909Z"
   },
   {
    "duration": 1232,
    "start_time": "2025-03-06T12:02:34.419Z"
   },
   {
    "duration": 15,
    "start_time": "2025-03-06T12:03:19.105Z"
   },
   {
    "duration": 65,
    "start_time": "2025-03-06T12:03:25.153Z"
   },
   {
    "duration": 21,
    "start_time": "2025-03-06T12:05:34.717Z"
   },
   {
    "duration": 26,
    "start_time": "2025-03-06T12:05:56.363Z"
   },
   {
    "duration": 19,
    "start_time": "2025-03-06T12:06:07.020Z"
   },
   {
    "duration": 47,
    "start_time": "2025-03-06T12:06:18.660Z"
   },
   {
    "duration": 45,
    "start_time": "2025-03-06T12:07:00.410Z"
   },
   {
    "duration": 49,
    "start_time": "2025-03-06T12:07:48.260Z"
   },
   {
    "duration": 30,
    "start_time": "2025-03-06T12:08:57.616Z"
   },
   {
    "duration": 29,
    "start_time": "2025-03-06T12:09:34.047Z"
   },
   {
    "duration": 31,
    "start_time": "2025-03-06T12:09:46.289Z"
   },
   {
    "duration": 38,
    "start_time": "2025-03-06T12:13:33.896Z"
   },
   {
    "duration": 32,
    "start_time": "2025-03-06T12:15:16.494Z"
   },
   {
    "duration": 26,
    "start_time": "2025-03-06T12:16:16.138Z"
   },
   {
    "duration": 26,
    "start_time": "2025-03-06T12:16:29.307Z"
   },
   {
    "duration": 26,
    "start_time": "2025-03-06T12:17:38.424Z"
   },
   {
    "duration": 42,
    "start_time": "2025-03-06T12:18:24.851Z"
   },
   {
    "duration": 32,
    "start_time": "2025-03-06T12:18:51.108Z"
   },
   {
    "duration": 74,
    "start_time": "2025-03-06T12:19:13.353Z"
   },
   {
    "duration": 28,
    "start_time": "2025-03-06T12:20:36.108Z"
   },
   {
    "duration": 1112,
    "start_time": "2025-03-06T12:30:20.055Z"
   },
   {
    "duration": 937,
    "start_time": "2025-03-06T12:30:40.631Z"
   },
   {
    "duration": 25,
    "start_time": "2025-03-06T12:32:25.577Z"
   },
   {
    "duration": 18,
    "start_time": "2025-03-06T12:36:18.420Z"
   },
   {
    "duration": 24,
    "start_time": "2025-03-06T12:37:30.688Z"
   },
   {
    "duration": 29,
    "start_time": "2025-03-06T12:37:45.422Z"
   },
   {
    "duration": 18,
    "start_time": "2025-03-06T12:38:34.196Z"
   },
   {
    "duration": 8,
    "start_time": "2025-03-06T12:41:43.962Z"
   },
   {
    "duration": 33,
    "start_time": "2025-03-06T12:41:51.052Z"
   },
   {
    "duration": 36,
    "start_time": "2025-03-06T12:43:53.035Z"
   },
   {
    "duration": 19,
    "start_time": "2025-03-06T12:44:44.895Z"
   },
   {
    "duration": 37,
    "start_time": "2025-03-06T12:45:34.724Z"
   },
   {
    "duration": 26,
    "start_time": "2025-03-06T12:46:38.294Z"
   },
   {
    "duration": 18,
    "start_time": "2025-03-06T12:47:46.807Z"
   },
   {
    "duration": 19,
    "start_time": "2025-03-06T12:48:22.981Z"
   },
   {
    "duration": 17,
    "start_time": "2025-03-06T12:49:16.951Z"
   },
   {
    "duration": 33,
    "start_time": "2025-03-06T12:49:33.536Z"
   },
   {
    "duration": 140,
    "start_time": "2025-03-06T12:54:00.778Z"
   },
   {
    "duration": 299,
    "start_time": "2025-03-06T12:54:59.771Z"
   },
   {
    "duration": 563,
    "start_time": "2025-03-06T12:57:09.778Z"
   },
   {
    "duration": 555,
    "start_time": "2025-03-06T12:58:59.306Z"
   },
   {
    "duration": 3095,
    "start_time": "2025-03-06T13:02:44.933Z"
   },
   {
    "duration": 431,
    "start_time": "2025-03-06T13:02:48.029Z"
   },
   {
    "duration": 2373,
    "start_time": "2025-03-06T13:02:48.461Z"
   },
   {
    "duration": 2712,
    "start_time": "2025-03-06T13:02:50.836Z"
   },
   {
    "duration": 13,
    "start_time": "2025-03-06T13:02:53.550Z"
   },
   {
    "duration": 8,
    "start_time": "2025-03-06T13:02:53.565Z"
   },
   {
    "duration": 10,
    "start_time": "2025-03-06T13:02:53.574Z"
   },
   {
    "duration": 28,
    "start_time": "2025-03-06T13:02:53.585Z"
   },
   {
    "duration": 12,
    "start_time": "2025-03-06T13:02:53.614Z"
   },
   {
    "duration": 6,
    "start_time": "2025-03-06T13:02:53.628Z"
   },
   {
    "duration": 22,
    "start_time": "2025-03-06T13:02:53.636Z"
   },
   {
    "duration": 24,
    "start_time": "2025-03-06T13:02:53.660Z"
   },
   {
    "duration": 43,
    "start_time": "2025-03-06T13:02:53.685Z"
   },
   {
    "duration": 100,
    "start_time": "2025-03-06T13:02:53.731Z"
   },
   {
    "duration": 97,
    "start_time": "2025-03-06T13:02:53.833Z"
   },
   {
    "duration": 99,
    "start_time": "2025-03-06T13:02:53.932Z"
   },
   {
    "duration": 10,
    "start_time": "2025-03-06T13:02:54.033Z"
   },
   {
    "duration": 45,
    "start_time": "2025-03-06T13:02:54.044Z"
   },
   {
    "duration": 35,
    "start_time": "2025-03-06T13:02:54.091Z"
   },
   {
    "duration": 57,
    "start_time": "2025-03-06T13:02:54.127Z"
   },
   {
    "duration": 76,
    "start_time": "2025-03-06T13:02:54.186Z"
   },
   {
    "duration": 35,
    "start_time": "2025-03-06T13:02:54.264Z"
   },
   {
    "duration": 23,
    "start_time": "2025-03-06T13:02:54.301Z"
   },
   {
    "duration": 15,
    "start_time": "2025-03-06T13:02:54.326Z"
   },
   {
    "duration": 80,
    "start_time": "2025-03-06T13:02:54.342Z"
   },
   {
    "duration": 40,
    "start_time": "2025-03-06T13:02:54.423Z"
   },
   {
    "duration": 21,
    "start_time": "2025-03-06T13:02:54.466Z"
   },
   {
    "duration": 25,
    "start_time": "2025-03-06T13:02:54.488Z"
   },
   {
    "duration": 12,
    "start_time": "2025-03-06T13:02:54.515Z"
   },
   {
    "duration": 37,
    "start_time": "2025-03-06T13:02:54.528Z"
   },
   {
    "duration": 6,
    "start_time": "2025-03-06T13:02:54.566Z"
   },
   {
    "duration": 9,
    "start_time": "2025-03-06T13:02:54.574Z"
   },
   {
    "duration": 7,
    "start_time": "2025-03-06T13:02:54.584Z"
   },
   {
    "duration": 107,
    "start_time": "2025-03-06T13:02:54.593Z"
   },
   {
    "duration": 136,
    "start_time": "2025-03-06T13:02:54.702Z"
   },
   {
    "duration": 25,
    "start_time": "2025-03-06T13:02:54.839Z"
   },
   {
    "duration": 77,
    "start_time": "2025-03-06T13:02:54.865Z"
   },
   {
    "duration": 149,
    "start_time": "2025-03-06T13:02:54.957Z"
   },
   {
    "duration": 20,
    "start_time": "2025-03-06T13:02:55.108Z"
   },
   {
    "duration": 73,
    "start_time": "2025-03-06T13:02:55.129Z"
   },
   {
    "duration": 37,
    "start_time": "2025-03-06T13:02:55.209Z"
   },
   {
    "duration": 17,
    "start_time": "2025-03-06T13:02:55.248Z"
   },
   {
    "duration": 30,
    "start_time": "2025-03-06T13:02:55.266Z"
   },
   {
    "duration": 584,
    "start_time": "2025-03-06T13:02:55.297Z"
   },
   {
    "duration": 50,
    "start_time": "2025-03-06T13:02:55.883Z"
   },
   {
    "duration": 195,
    "start_time": "2025-03-06T13:02:55.935Z"
   },
   {
    "duration": 92,
    "start_time": "2025-03-06T13:02:56.131Z"
   },
   {
    "duration": 47,
    "start_time": "2025-03-06T13:02:56.224Z"
   },
   {
    "duration": 4,
    "start_time": "2025-03-06T13:02:56.273Z"
   },
   {
    "duration": 14,
    "start_time": "2025-03-06T13:02:56.278Z"
   },
   {
    "duration": 20,
    "start_time": "2025-03-06T13:02:56.293Z"
   },
   {
    "duration": 70,
    "start_time": "2025-03-06T13:02:56.315Z"
   },
   {
    "duration": 513,
    "start_time": "2025-03-06T13:02:56.387Z"
   },
   {
    "duration": 612,
    "start_time": "2025-03-06T13:02:56.902Z"
   },
   {
    "duration": 28,
    "start_time": "2025-03-06T13:02:57.516Z"
   },
   {
    "duration": 124,
    "start_time": "2025-03-06T13:02:57.546Z"
   },
   {
    "duration": 23,
    "start_time": "2025-03-06T13:02:57.672Z"
   },
   {
    "duration": 72,
    "start_time": "2025-03-06T13:02:57.697Z"
   },
   {
    "duration": 102,
    "start_time": "2025-03-06T13:02:57.771Z"
   },
   {
    "duration": 83,
    "start_time": "2025-03-06T13:02:57.875Z"
   },
   {
    "duration": 172,
    "start_time": "2025-03-06T13:02:57.960Z"
   },
   {
    "duration": 380,
    "start_time": "2025-03-06T13:02:58.134Z"
   },
   {
    "duration": 88,
    "start_time": "2025-03-06T13:02:58.516Z"
   },
   {
    "duration": 53,
    "start_time": "2025-03-06T13:02:58.605Z"
   },
   {
    "duration": 16,
    "start_time": "2025-03-06T13:02:58.659Z"
   },
   {
    "duration": 10,
    "start_time": "2025-03-06T13:02:58.677Z"
   },
   {
    "duration": 996,
    "start_time": "2025-03-06T13:02:58.688Z"
   },
   {
    "duration": 29,
    "start_time": "2025-03-06T13:02:59.686Z"
   },
   {
    "duration": 28,
    "start_time": "2025-03-06T13:02:59.716Z"
   },
   {
    "duration": 56,
    "start_time": "2025-03-06T13:02:59.745Z"
   },
   {
    "duration": 7,
    "start_time": "2025-03-06T13:02:59.803Z"
   },
   {
    "duration": 10,
    "start_time": "2025-03-06T13:02:59.811Z"
   },
   {
    "duration": 10,
    "start_time": "2025-03-06T13:02:59.822Z"
   },
   {
    "duration": 40,
    "start_time": "2025-03-06T13:02:59.833Z"
   },
   {
    "duration": 26,
    "start_time": "2025-03-06T13:02:59.874Z"
   },
   {
    "duration": 115,
    "start_time": "2025-03-06T13:42:35.742Z"
   },
   {
    "duration": 24,
    "start_time": "2025-03-06T13:43:07.343Z"
   },
   {
    "duration": 23,
    "start_time": "2025-03-06T13:43:18.861Z"
   },
   {
    "duration": 238,
    "start_time": "2025-03-06T13:43:50.125Z"
   },
   {
    "duration": 20,
    "start_time": "2025-03-06T13:44:51.175Z"
   },
   {
    "duration": 20,
    "start_time": "2025-03-06T13:45:37.855Z"
   },
   {
    "duration": 19,
    "start_time": "2025-03-06T13:45:55.475Z"
   },
   {
    "duration": 20,
    "start_time": "2025-03-06T13:46:31.016Z"
   },
   {
    "duration": 184,
    "start_time": "2025-03-06T13:48:35.136Z"
   },
   {
    "duration": 15,
    "start_time": "2025-03-06T13:49:26.571Z"
   },
   {
    "duration": 14,
    "start_time": "2025-03-06T13:49:31.788Z"
   },
   {
    "duration": 19,
    "start_time": "2025-03-06T13:49:38.388Z"
   },
   {
    "duration": 20,
    "start_time": "2025-03-06T13:49:47.942Z"
   },
   {
    "duration": 13,
    "start_time": "2025-03-06T13:49:55.872Z"
   },
   {
    "duration": 18,
    "start_time": "2025-03-06T13:50:02.734Z"
   },
   {
    "duration": 81,
    "start_time": "2025-03-06T13:50:23.305Z"
   },
   {
    "duration": 82,
    "start_time": "2025-03-06T13:50:28.054Z"
   },
   {
    "duration": 20,
    "start_time": "2025-03-06T13:50:40.012Z"
   },
   {
    "duration": 19,
    "start_time": "2025-03-06T13:51:17.507Z"
   },
   {
    "duration": 18,
    "start_time": "2025-03-06T13:51:24.185Z"
   },
   {
    "duration": 18,
    "start_time": "2025-03-06T13:51:47.306Z"
   },
   {
    "duration": 18,
    "start_time": "2025-03-06T13:52:45.115Z"
   },
   {
    "duration": 19,
    "start_time": "2025-03-06T13:53:23.323Z"
   },
   {
    "duration": 154,
    "start_time": "2025-03-06T13:53:27.079Z"
   },
   {
    "duration": 159,
    "start_time": "2025-03-06T13:55:01.616Z"
   },
   {
    "duration": 157,
    "start_time": "2025-03-06T13:56:02.105Z"
   },
   {
    "duration": 160,
    "start_time": "2025-03-06T13:56:17.707Z"
   },
   {
    "duration": 188,
    "start_time": "2025-03-06T13:56:25.141Z"
   },
   {
    "duration": 164,
    "start_time": "2025-03-06T13:56:31.399Z"
   },
   {
    "duration": 155,
    "start_time": "2025-03-06T13:56:39.280Z"
   },
   {
    "duration": 992,
    "start_time": "2025-03-06T13:57:07.435Z"
   },
   {
    "duration": 523,
    "start_time": "2025-03-06T13:57:27.605Z"
   },
   {
    "duration": 3194,
    "start_time": "2025-03-06T13:57:36.630Z"
   },
   {
    "duration": 432,
    "start_time": "2025-03-06T13:57:39.826Z"
   },
   {
    "duration": 2397,
    "start_time": "2025-03-06T13:57:40.259Z"
   },
   {
    "duration": 1912,
    "start_time": "2025-03-06T13:57:42.659Z"
   },
   {
    "duration": 13,
    "start_time": "2025-03-06T13:57:44.573Z"
   },
   {
    "duration": 8,
    "start_time": "2025-03-06T13:57:44.588Z"
   },
   {
    "duration": 6,
    "start_time": "2025-03-06T13:57:44.598Z"
   },
   {
    "duration": 6,
    "start_time": "2025-03-06T13:57:44.606Z"
   },
   {
    "duration": 45,
    "start_time": "2025-03-06T13:57:44.613Z"
   },
   {
    "duration": 7,
    "start_time": "2025-03-06T13:57:44.661Z"
   },
   {
    "duration": 17,
    "start_time": "2025-03-06T13:57:44.670Z"
   },
   {
    "duration": 38,
    "start_time": "2025-03-06T13:57:44.688Z"
   },
   {
    "duration": 16,
    "start_time": "2025-03-06T13:57:44.727Z"
   },
   {
    "duration": 103,
    "start_time": "2025-03-06T13:57:44.745Z"
   },
   {
    "duration": 89,
    "start_time": "2025-03-06T13:57:44.857Z"
   },
   {
    "duration": 101,
    "start_time": "2025-03-06T13:57:44.948Z"
   },
   {
    "duration": 14,
    "start_time": "2025-03-06T13:57:45.050Z"
   },
   {
    "duration": 85,
    "start_time": "2025-03-06T13:57:45.066Z"
   },
   {
    "duration": 58,
    "start_time": "2025-03-06T13:57:45.153Z"
   },
   {
    "duration": 59,
    "start_time": "2025-03-06T13:57:45.214Z"
   },
   {
    "duration": 101,
    "start_time": "2025-03-06T13:57:45.274Z"
   },
   {
    "duration": 28,
    "start_time": "2025-03-06T13:57:45.376Z"
   },
   {
    "duration": 18,
    "start_time": "2025-03-06T13:57:45.406Z"
   },
   {
    "duration": 15,
    "start_time": "2025-03-06T13:57:45.426Z"
   },
   {
    "duration": 33,
    "start_time": "2025-03-06T13:57:45.443Z"
   },
   {
    "duration": 90,
    "start_time": "2025-03-06T13:57:45.478Z"
   },
   {
    "duration": 100,
    "start_time": "2025-03-06T13:57:45.570Z"
   },
   {
    "duration": 24,
    "start_time": "2025-03-06T13:57:45.674Z"
   },
   {
    "duration": 9,
    "start_time": "2025-03-06T13:57:45.699Z"
   },
   {
    "duration": 12,
    "start_time": "2025-03-06T13:57:45.710Z"
   },
   {
    "duration": 6,
    "start_time": "2025-03-06T13:57:45.724Z"
   },
   {
    "duration": 10,
    "start_time": "2025-03-06T13:57:45.757Z"
   },
   {
    "duration": 6,
    "start_time": "2025-03-06T13:57:45.769Z"
   },
   {
    "duration": 107,
    "start_time": "2025-03-06T13:57:45.778Z"
   },
   {
    "duration": 137,
    "start_time": "2025-03-06T13:57:45.887Z"
   },
   {
    "duration": 18,
    "start_time": "2025-03-06T13:57:46.025Z"
   },
   {
    "duration": 88,
    "start_time": "2025-03-06T13:57:46.045Z"
   },
   {
    "duration": 150,
    "start_time": "2025-03-06T13:57:46.135Z"
   },
   {
    "duration": 19,
    "start_time": "2025-03-06T13:57:46.287Z"
   },
   {
    "duration": 8,
    "start_time": "2025-03-06T13:57:46.308Z"
   },
   {
    "duration": 118,
    "start_time": "2025-03-06T13:57:46.318Z"
   },
   {
    "duration": 17,
    "start_time": "2025-03-06T13:57:46.438Z"
   },
   {
    "duration": 29,
    "start_time": "2025-03-06T13:57:46.457Z"
   },
   {
    "duration": 585,
    "start_time": "2025-03-06T13:57:46.488Z"
   },
   {
    "duration": 51,
    "start_time": "2025-03-06T13:57:47.075Z"
   },
   {
    "duration": 182,
    "start_time": "2025-03-06T13:57:47.127Z"
   },
   {
    "duration": 70,
    "start_time": "2025-03-06T13:57:47.310Z"
   },
   {
    "duration": 38,
    "start_time": "2025-03-06T13:57:47.382Z"
   },
   {
    "duration": 4,
    "start_time": "2025-03-06T13:57:47.422Z"
   },
   {
    "duration": 35,
    "start_time": "2025-03-06T13:57:47.427Z"
   },
   {
    "duration": 23,
    "start_time": "2025-03-06T13:57:47.464Z"
   },
   {
    "duration": 110,
    "start_time": "2025-03-06T13:57:47.489Z"
   },
   {
    "duration": 509,
    "start_time": "2025-03-06T13:57:47.600Z"
   },
   {
    "duration": 619,
    "start_time": "2025-03-06T13:57:48.111Z"
   },
   {
    "duration": 30,
    "start_time": "2025-03-06T13:57:48.732Z"
   },
   {
    "duration": 135,
    "start_time": "2025-03-06T13:57:48.764Z"
   },
   {
    "duration": 23,
    "start_time": "2025-03-06T13:57:48.901Z"
   },
   {
    "duration": 44,
    "start_time": "2025-03-06T13:57:48.926Z"
   },
   {
    "duration": 97,
    "start_time": "2025-03-06T13:57:48.972Z"
   },
   {
    "duration": 71,
    "start_time": "2025-03-06T13:57:49.070Z"
   },
   {
    "duration": 178,
    "start_time": "2025-03-06T13:57:49.142Z"
   },
   {
    "duration": 390,
    "start_time": "2025-03-06T13:57:49.322Z"
   },
   {
    "duration": 86,
    "start_time": "2025-03-06T13:57:49.714Z"
   },
   {
    "duration": 58,
    "start_time": "2025-03-06T13:57:49.801Z"
   },
   {
    "duration": 16,
    "start_time": "2025-03-06T13:57:49.860Z"
   },
   {
    "duration": 12,
    "start_time": "2025-03-06T13:57:49.877Z"
   },
   {
    "duration": 1019,
    "start_time": "2025-03-06T13:57:49.890Z"
   },
   {
    "duration": 30,
    "start_time": "2025-03-06T13:57:50.910Z"
   },
   {
    "duration": 21,
    "start_time": "2025-03-06T13:57:50.942Z"
   },
   {
    "duration": 61,
    "start_time": "2025-03-06T13:57:50.964Z"
   },
   {
    "duration": 35,
    "start_time": "2025-03-06T13:57:51.027Z"
   },
   {
    "duration": 12,
    "start_time": "2025-03-06T13:57:51.064Z"
   },
   {
    "duration": 21,
    "start_time": "2025-03-06T13:57:51.078Z"
   },
   {
    "duration": 23,
    "start_time": "2025-03-06T13:57:51.101Z"
   },
   {
    "duration": 46,
    "start_time": "2025-03-06T13:57:51.126Z"
   },
   {
    "duration": 18,
    "start_time": "2025-03-06T13:57:51.174Z"
   },
   {
    "duration": 175,
    "start_time": "2025-03-06T13:57:51.194Z"
   },
   {
    "duration": 21,
    "start_time": "2025-03-06T13:58:26.247Z"
   },
   {
    "duration": 171,
    "start_time": "2025-03-06T13:58:49.999Z"
   },
   {
    "duration": 21,
    "start_time": "2025-03-06T14:01:52.391Z"
   },
   {
    "duration": 21,
    "start_time": "2025-03-06T14:02:58.313Z"
   },
   {
    "duration": 160,
    "start_time": "2025-03-06T14:02:58.959Z"
   },
   {
    "duration": 9,
    "start_time": "2025-03-06T14:07:28.603Z"
   },
   {
    "duration": 34,
    "start_time": "2025-03-06T14:08:10.321Z"
   },
   {
    "duration": 10,
    "start_time": "2025-03-06T14:08:29.579Z"
   },
   {
    "duration": 6,
    "start_time": "2025-03-06T14:09:49.149Z"
   },
   {
    "duration": 7,
    "start_time": "2025-03-06T14:10:03.622Z"
   },
   {
    "duration": 8,
    "start_time": "2025-03-06T14:10:17.804Z"
   },
   {
    "duration": 10,
    "start_time": "2025-03-06T14:13:38.574Z"
   },
   {
    "duration": 110,
    "start_time": "2025-03-06T14:21:18.863Z"
   },
   {
    "duration": 16,
    "start_time": "2025-03-06T14:22:16.312Z"
   },
   {
    "duration": 3159,
    "start_time": "2025-03-06T14:22:34.658Z"
   },
   {
    "duration": 440,
    "start_time": "2025-03-06T14:22:37.819Z"
   },
   {
    "duration": 2370,
    "start_time": "2025-03-06T14:22:38.261Z"
   },
   {
    "duration": 2186,
    "start_time": "2025-03-06T14:22:40.633Z"
   },
   {
    "duration": 13,
    "start_time": "2025-03-06T14:22:42.821Z"
   },
   {
    "duration": 10,
    "start_time": "2025-03-06T14:22:42.836Z"
   },
   {
    "duration": 7,
    "start_time": "2025-03-06T14:22:42.847Z"
   },
   {
    "duration": 10,
    "start_time": "2025-03-06T14:22:42.856Z"
   },
   {
    "duration": 12,
    "start_time": "2025-03-06T14:22:42.868Z"
   },
   {
    "duration": 14,
    "start_time": "2025-03-06T14:22:42.882Z"
   },
   {
    "duration": 29,
    "start_time": "2025-03-06T14:22:42.898Z"
   },
   {
    "duration": 25,
    "start_time": "2025-03-06T14:22:42.928Z"
   },
   {
    "duration": 19,
    "start_time": "2025-03-06T14:22:42.955Z"
   },
   {
    "duration": 108,
    "start_time": "2025-03-06T14:22:42.977Z"
   },
   {
    "duration": 107,
    "start_time": "2025-03-06T14:22:43.087Z"
   },
   {
    "duration": 105,
    "start_time": "2025-03-06T14:22:43.195Z"
   },
   {
    "duration": 9,
    "start_time": "2025-03-06T14:22:43.301Z"
   },
   {
    "duration": 61,
    "start_time": "2025-03-06T14:22:43.312Z"
   },
   {
    "duration": 36,
    "start_time": "2025-03-06T14:22:43.374Z"
   },
   {
    "duration": 93,
    "start_time": "2025-03-06T14:22:43.412Z"
   },
   {
    "duration": 9,
    "start_time": "2025-03-06T14:22:43.507Z"
   },
   {
    "duration": 23,
    "start_time": "2025-03-06T14:22:43.518Z"
   },
   {
    "duration": 25,
    "start_time": "2025-03-06T14:22:43.543Z"
   },
   {
    "duration": 83,
    "start_time": "2025-03-06T14:22:43.570Z"
   },
   {
    "duration": 87,
    "start_time": "2025-03-06T14:22:43.655Z"
   },
   {
    "duration": 27,
    "start_time": "2025-03-06T14:22:43.744Z"
   },
   {
    "duration": 22,
    "start_time": "2025-03-06T14:22:43.773Z"
   },
   {
    "duration": 28,
    "start_time": "2025-03-06T14:22:43.797Z"
   },
   {
    "duration": 33,
    "start_time": "2025-03-06T14:22:43.827Z"
   },
   {
    "duration": 15,
    "start_time": "2025-03-06T14:22:43.862Z"
   },
   {
    "duration": 8,
    "start_time": "2025-03-06T14:22:43.879Z"
   },
   {
    "duration": 13,
    "start_time": "2025-03-06T14:22:43.889Z"
   },
   {
    "duration": 10,
    "start_time": "2025-03-06T14:22:43.903Z"
   },
   {
    "duration": 128,
    "start_time": "2025-03-06T14:22:43.914Z"
   },
   {
    "duration": 138,
    "start_time": "2025-03-06T14:22:44.044Z"
   },
   {
    "duration": 23,
    "start_time": "2025-03-06T14:22:44.184Z"
   },
   {
    "duration": 99,
    "start_time": "2025-03-06T14:22:44.208Z"
   },
   {
    "duration": 157,
    "start_time": "2025-03-06T14:22:44.308Z"
   },
   {
    "duration": 19,
    "start_time": "2025-03-06T14:22:44.467Z"
   },
   {
    "duration": 22,
    "start_time": "2025-03-06T14:22:44.487Z"
   },
   {
    "duration": 45,
    "start_time": "2025-03-06T14:22:44.513Z"
   },
   {
    "duration": 18,
    "start_time": "2025-03-06T14:22:44.560Z"
   },
   {
    "duration": 93,
    "start_time": "2025-03-06T14:22:44.580Z"
   },
   {
    "duration": 617,
    "start_time": "2025-03-06T14:22:44.675Z"
   },
   {
    "duration": 64,
    "start_time": "2025-03-06T14:22:45.294Z"
   },
   {
    "duration": 188,
    "start_time": "2025-03-06T14:22:45.360Z"
   },
   {
    "duration": 79,
    "start_time": "2025-03-06T14:22:45.558Z"
   },
   {
    "duration": 58,
    "start_time": "2025-03-06T14:22:45.639Z"
   },
   {
    "duration": 42,
    "start_time": "2025-03-06T14:22:45.698Z"
   },
   {
    "duration": 33,
    "start_time": "2025-03-06T14:22:45.742Z"
   },
   {
    "duration": 21,
    "start_time": "2025-03-06T14:22:45.776Z"
   },
   {
    "duration": 59,
    "start_time": "2025-03-06T14:22:45.799Z"
   },
   {
    "duration": 545,
    "start_time": "2025-03-06T14:22:45.860Z"
   },
   {
    "duration": 643,
    "start_time": "2025-03-06T14:22:46.407Z"
   },
   {
    "duration": 29,
    "start_time": "2025-03-06T14:22:47.052Z"
   },
   {
    "duration": 135,
    "start_time": "2025-03-06T14:22:47.083Z"
   },
   {
    "duration": 23,
    "start_time": "2025-03-06T14:22:47.220Z"
   },
   {
    "duration": 29,
    "start_time": "2025-03-06T14:22:47.257Z"
   },
   {
    "duration": 102,
    "start_time": "2025-03-06T14:22:47.287Z"
   },
   {
    "duration": 81,
    "start_time": "2025-03-06T14:22:47.390Z"
   },
   {
    "duration": 188,
    "start_time": "2025-03-06T14:22:47.472Z"
   },
   {
    "duration": 400,
    "start_time": "2025-03-06T14:22:47.662Z"
   },
   {
    "duration": 80,
    "start_time": "2025-03-06T14:22:48.063Z"
   },
   {
    "duration": 47,
    "start_time": "2025-03-06T14:22:48.157Z"
   },
   {
    "duration": 16,
    "start_time": "2025-03-06T14:22:48.206Z"
   },
   {
    "duration": 15,
    "start_time": "2025-03-06T14:22:48.223Z"
   },
   {
    "duration": 1074,
    "start_time": "2025-03-06T14:22:48.257Z"
   },
   {
    "duration": 35,
    "start_time": "2025-03-06T14:22:49.332Z"
   },
   {
    "duration": 91,
    "start_time": "2025-03-06T14:22:49.368Z"
   },
   {
    "duration": 61,
    "start_time": "2025-03-06T14:22:49.461Z"
   },
   {
    "duration": 8,
    "start_time": "2025-03-06T14:22:49.523Z"
   },
   {
    "duration": 35,
    "start_time": "2025-03-06T14:22:49.533Z"
   },
   {
    "duration": 65,
    "start_time": "2025-03-06T14:22:49.570Z"
   },
   {
    "duration": 24,
    "start_time": "2025-03-06T14:22:49.636Z"
   },
   {
    "duration": 27,
    "start_time": "2025-03-06T14:22:49.662Z"
   },
   {
    "duration": 54,
    "start_time": "2025-03-06T14:22:49.691Z"
   },
   {
    "duration": 110,
    "start_time": "2025-03-06T14:22:49.746Z"
   },
   {
    "duration": 0,
    "start_time": "2025-03-06T14:22:49.858Z"
   },
   {
    "duration": 0,
    "start_time": "2025-03-06T14:22:49.859Z"
   },
   {
    "duration": 0,
    "start_time": "2025-03-06T14:22:49.860Z"
   },
   {
    "duration": 14,
    "start_time": "2025-03-06T14:23:54.662Z"
   },
   {
    "duration": 21,
    "start_time": "2025-03-06T14:23:55.966Z"
   },
   {
    "duration": 10,
    "start_time": "2025-03-06T14:23:59.492Z"
   },
   {
    "duration": 167,
    "start_time": "2025-03-06T14:24:00.349Z"
   },
   {
    "duration": 166,
    "start_time": "2025-03-06T14:24:26.362Z"
   },
   {
    "duration": 192,
    "start_time": "2025-03-06T14:25:50.883Z"
   },
   {
    "duration": 180,
    "start_time": "2025-03-06T14:25:55.621Z"
   },
   {
    "duration": 1451,
    "start_time": "2025-03-06T20:23:57.436Z"
   },
   {
    "duration": 112,
    "start_time": "2025-03-06T20:27:35.042Z"
   },
   {
    "duration": 10223,
    "start_time": "2025-03-06T20:27:55.131Z"
   },
   {
    "duration": 483,
    "start_time": "2025-03-06T20:28:05.356Z"
   },
   {
    "duration": 2024,
    "start_time": "2025-03-06T20:28:05.841Z"
   },
   {
    "duration": 14,
    "start_time": "2025-03-06T20:28:07.867Z"
   },
   {
    "duration": 17,
    "start_time": "2025-03-06T20:28:07.882Z"
   },
   {
    "duration": 6,
    "start_time": "2025-03-06T20:28:07.901Z"
   },
   {
    "duration": 9,
    "start_time": "2025-03-06T20:28:07.909Z"
   },
   {
    "duration": 14,
    "start_time": "2025-03-06T20:28:07.920Z"
   },
   {
    "duration": 36,
    "start_time": "2025-03-06T20:28:07.936Z"
   },
   {
    "duration": 9,
    "start_time": "2025-03-06T20:28:07.976Z"
   },
   {
    "duration": 26,
    "start_time": "2025-03-06T20:28:07.987Z"
   },
   {
    "duration": 18,
    "start_time": "2025-03-06T20:28:08.015Z"
   },
   {
    "duration": 140,
    "start_time": "2025-03-06T20:28:08.035Z"
   },
   {
    "duration": 116,
    "start_time": "2025-03-06T20:28:08.177Z"
   },
   {
    "duration": 113,
    "start_time": "2025-03-06T20:28:08.295Z"
   },
   {
    "duration": 9,
    "start_time": "2025-03-06T20:28:08.410Z"
   },
   {
    "duration": 57,
    "start_time": "2025-03-06T20:28:08.421Z"
   },
   {
    "duration": 39,
    "start_time": "2025-03-06T20:28:08.480Z"
   },
   {
    "duration": 52,
    "start_time": "2025-03-06T20:28:08.521Z"
   },
   {
    "duration": 9,
    "start_time": "2025-03-06T20:28:08.574Z"
   },
   {
    "duration": 23,
    "start_time": "2025-03-06T20:28:08.584Z"
   },
   {
    "duration": 16,
    "start_time": "2025-03-06T20:28:08.609Z"
   },
   {
    "duration": 47,
    "start_time": "2025-03-06T20:28:08.627Z"
   },
   {
    "duration": 9,
    "start_time": "2025-03-06T20:28:08.676Z"
   },
   {
    "duration": 23,
    "start_time": "2025-03-06T20:28:08.686Z"
   },
   {
    "duration": 23,
    "start_time": "2025-03-06T20:28:08.710Z"
   },
   {
    "duration": 81,
    "start_time": "2025-03-06T20:28:08.735Z"
   },
   {
    "duration": 11,
    "start_time": "2025-03-06T20:28:08.821Z"
   },
   {
    "duration": 17,
    "start_time": "2025-03-06T20:28:08.834Z"
   },
   {
    "duration": 8,
    "start_time": "2025-03-06T20:28:08.852Z"
   },
   {
    "duration": 15,
    "start_time": "2025-03-06T20:28:08.862Z"
   },
   {
    "duration": 9,
    "start_time": "2025-03-06T20:28:08.879Z"
   },
   {
    "duration": 121,
    "start_time": "2025-03-06T20:28:08.889Z"
   },
   {
    "duration": 168,
    "start_time": "2025-03-06T20:28:09.013Z"
   },
   {
    "duration": 19,
    "start_time": "2025-03-06T20:28:09.182Z"
   },
   {
    "duration": 97,
    "start_time": "2025-03-06T20:28:09.203Z"
   },
   {
    "duration": 166,
    "start_time": "2025-03-06T20:28:09.302Z"
   },
   {
    "duration": 21,
    "start_time": "2025-03-06T20:28:09.472Z"
   },
   {
    "duration": 21,
    "start_time": "2025-03-06T20:28:09.495Z"
   },
   {
    "duration": 37,
    "start_time": "2025-03-06T20:28:09.518Z"
   },
   {
    "duration": 23,
    "start_time": "2025-03-06T20:28:09.557Z"
   },
   {
    "duration": 34,
    "start_time": "2025-03-06T20:28:09.582Z"
   },
   {
    "duration": 637,
    "start_time": "2025-03-06T20:28:09.617Z"
   },
   {
    "duration": 63,
    "start_time": "2025-03-06T20:28:10.256Z"
   },
   {
    "duration": 189,
    "start_time": "2025-03-06T20:28:10.321Z"
   },
   {
    "duration": 81,
    "start_time": "2025-03-06T20:28:10.512Z"
   },
   {
    "duration": 46,
    "start_time": "2025-03-06T20:28:10.595Z"
   },
   {
    "duration": 4,
    "start_time": "2025-03-06T20:28:10.643Z"
   },
   {
    "duration": 32,
    "start_time": "2025-03-06T20:28:10.649Z"
   },
   {
    "duration": 24,
    "start_time": "2025-03-06T20:28:10.683Z"
   },
   {
    "duration": 71,
    "start_time": "2025-03-06T20:28:10.709Z"
   },
   {
    "duration": 604,
    "start_time": "2025-03-06T20:28:10.782Z"
   },
   {
    "duration": 685,
    "start_time": "2025-03-06T20:28:11.388Z"
   },
   {
    "duration": 33,
    "start_time": "2025-03-06T20:28:12.074Z"
   },
   {
    "duration": 164,
    "start_time": "2025-03-06T20:28:12.109Z"
   },
   {
    "duration": 25,
    "start_time": "2025-03-06T20:28:12.274Z"
   },
   {
    "duration": 30,
    "start_time": "2025-03-06T20:28:12.301Z"
   },
   {
    "duration": 117,
    "start_time": "2025-03-06T20:28:12.332Z"
   },
   {
    "duration": 84,
    "start_time": "2025-03-06T20:28:12.451Z"
   },
   {
    "duration": 198,
    "start_time": "2025-03-06T20:28:12.537Z"
   },
   {
    "duration": 452,
    "start_time": "2025-03-06T20:28:12.737Z"
   },
   {
    "duration": 97,
    "start_time": "2025-03-06T20:28:13.191Z"
   },
   {
    "duration": 53,
    "start_time": "2025-03-06T20:28:13.290Z"
   },
   {
    "duration": 39,
    "start_time": "2025-03-06T20:28:13.345Z"
   },
   {
    "duration": 22,
    "start_time": "2025-03-06T20:28:13.386Z"
   },
   {
    "duration": 1067,
    "start_time": "2025-03-06T20:28:13.410Z"
   },
   {
    "duration": 33,
    "start_time": "2025-03-06T20:28:14.479Z"
   },
   {
    "duration": 10,
    "start_time": "2025-03-06T20:28:14.514Z"
   },
   {
    "duration": 96,
    "start_time": "2025-03-06T20:28:14.526Z"
   },
   {
    "duration": 9,
    "start_time": "2025-03-06T20:28:14.624Z"
   },
   {
    "duration": 11,
    "start_time": "2025-03-06T20:28:14.634Z"
   },
   {
    "duration": 33,
    "start_time": "2025-03-06T20:28:14.647Z"
   },
   {
    "duration": 20,
    "start_time": "2025-03-06T20:28:14.682Z"
   },
   {
    "duration": 28,
    "start_time": "2025-03-06T20:28:14.704Z"
   },
   {
    "duration": 39,
    "start_time": "2025-03-06T20:28:14.734Z"
   },
   {
    "duration": 18,
    "start_time": "2025-03-06T20:28:14.775Z"
   },
   {
    "duration": 22,
    "start_time": "2025-03-06T20:28:14.794Z"
   },
   {
    "duration": 11,
    "start_time": "2025-03-06T20:28:14.818Z"
   },
   {
    "duration": 229,
    "start_time": "2025-03-06T20:28:14.830Z"
   },
   {
    "duration": 7,
    "start_time": "2025-03-06T20:28:53.259Z"
   },
   {
    "duration": 109,
    "start_time": "2025-03-06T20:30:46.951Z"
   },
   {
    "duration": 190,
    "start_time": "2025-03-06T20:31:48.855Z"
   },
   {
    "duration": 26,
    "start_time": "2025-03-06T20:36:01.561Z"
   },
   {
    "duration": 51,
    "start_time": "2025-03-06T20:39:02.809Z"
   },
   {
    "duration": 58,
    "start_time": "2025-03-06T20:39:48.205Z"
   },
   {
    "duration": 32,
    "start_time": "2025-03-06T20:46:55.393Z"
   },
   {
    "duration": 614,
    "start_time": "2025-03-06T20:46:58.924Z"
   },
   {
    "duration": 602,
    "start_time": "2025-03-06T20:49:44.420Z"
   },
   {
    "duration": 640,
    "start_time": "2025-03-06T20:52:02.251Z"
   },
   {
    "duration": 758,
    "start_time": "2025-03-06T20:54:40.951Z"
   },
   {
    "duration": 69,
    "start_time": "2025-03-06T21:11:44.986Z"
   },
   {
    "duration": 66,
    "start_time": "2025-03-06T21:12:34.529Z"
   },
   {
    "duration": 246,
    "start_time": "2025-03-06T21:13:12.412Z"
   },
   {
    "duration": 346,
    "start_time": "2025-03-06T21:13:45.589Z"
   },
   {
    "duration": 400,
    "start_time": "2025-03-06T21:14:32.774Z"
   },
   {
    "duration": 367,
    "start_time": "2025-03-06T21:15:58.684Z"
   },
   {
    "duration": 924,
    "start_time": "2025-03-06T21:17:14.502Z"
   },
   {
    "duration": 1075,
    "start_time": "2025-03-06T21:18:11.673Z"
   },
   {
    "duration": 948,
    "start_time": "2025-03-06T21:18:23.100Z"
   },
   {
    "duration": 7,
    "start_time": "2025-03-06T21:18:49.193Z"
   },
   {
    "duration": 3421,
    "start_time": "2025-03-06T21:23:20.526Z"
   },
   {
    "duration": 479,
    "start_time": "2025-03-06T21:23:23.949Z"
   },
   {
    "duration": 2797,
    "start_time": "2025-03-06T21:23:24.429Z"
   },
   {
    "duration": 13,
    "start_time": "2025-03-06T21:23:27.228Z"
   },
   {
    "duration": 9,
    "start_time": "2025-03-06T21:23:27.243Z"
   },
   {
    "duration": 7,
    "start_time": "2025-03-06T21:23:27.254Z"
   },
   {
    "duration": 10,
    "start_time": "2025-03-06T21:23:27.262Z"
   },
   {
    "duration": 12,
    "start_time": "2025-03-06T21:23:27.274Z"
   },
   {
    "duration": 10,
    "start_time": "2025-03-06T21:23:27.288Z"
   },
   {
    "duration": 11,
    "start_time": "2025-03-06T21:23:27.299Z"
   },
   {
    "duration": 25,
    "start_time": "2025-03-06T21:23:27.312Z"
   },
   {
    "duration": 45,
    "start_time": "2025-03-06T21:23:27.339Z"
   },
   {
    "duration": 118,
    "start_time": "2025-03-06T21:23:27.386Z"
   },
   {
    "duration": 110,
    "start_time": "2025-03-06T21:23:27.509Z"
   },
   {
    "duration": 108,
    "start_time": "2025-03-06T21:23:27.621Z"
   },
   {
    "duration": 9,
    "start_time": "2025-03-06T21:23:27.732Z"
   },
   {
    "duration": 60,
    "start_time": "2025-03-06T21:23:27.744Z"
   },
   {
    "duration": 38,
    "start_time": "2025-03-06T21:23:27.806Z"
   },
   {
    "duration": 56,
    "start_time": "2025-03-06T21:23:27.846Z"
   },
   {
    "duration": 8,
    "start_time": "2025-03-06T21:23:27.904Z"
   },
   {
    "duration": 25,
    "start_time": "2025-03-06T21:23:27.914Z"
   },
   {
    "duration": 33,
    "start_time": "2025-03-06T21:23:27.941Z"
   },
   {
    "duration": 19,
    "start_time": "2025-03-06T21:23:27.976Z"
   },
   {
    "duration": 8,
    "start_time": "2025-03-06T21:23:27.997Z"
   },
   {
    "duration": 26,
    "start_time": "2025-03-06T21:23:28.007Z"
   },
   {
    "duration": 47,
    "start_time": "2025-03-06T21:23:28.035Z"
   },
   {
    "duration": 29,
    "start_time": "2025-03-06T21:23:28.084Z"
   },
   {
    "duration": 11,
    "start_time": "2025-03-06T21:23:28.115Z"
   },
   {
    "duration": 44,
    "start_time": "2025-03-06T21:23:28.129Z"
   },
   {
    "duration": 8,
    "start_time": "2025-03-06T21:23:28.175Z"
   },
   {
    "duration": 11,
    "start_time": "2025-03-06T21:23:28.185Z"
   },
   {
    "duration": 189,
    "start_time": "2025-03-06T21:23:28.197Z"
   },
   {
    "duration": 9,
    "start_time": "2025-03-06T21:23:28.388Z"
   },
   {
    "duration": 108,
    "start_time": "2025-03-06T21:23:28.399Z"
   },
   {
    "duration": 149,
    "start_time": "2025-03-06T21:23:28.508Z"
   },
   {
    "duration": 63,
    "start_time": "2025-03-06T21:23:28.659Z"
   },
   {
    "duration": 17,
    "start_time": "2025-03-06T21:23:28.724Z"
   },
   {
    "duration": 110,
    "start_time": "2025-03-06T21:23:28.743Z"
   },
   {
    "duration": 195,
    "start_time": "2025-03-06T21:23:28.854Z"
   },
   {
    "duration": 4,
    "start_time": "2025-03-06T21:23:29.051Z"
   },
   {
    "duration": 3,
    "start_time": "2025-03-06T21:23:29.072Z"
   },
   {
    "duration": 38,
    "start_time": "2025-03-06T21:23:29.076Z"
   },
   {
    "duration": 18,
    "start_time": "2025-03-06T21:23:29.115Z"
   },
   {
    "duration": 53,
    "start_time": "2025-03-06T21:23:29.135Z"
   },
   {
    "duration": 625,
    "start_time": "2025-03-06T21:23:29.190Z"
   },
   {
    "duration": 68,
    "start_time": "2025-03-06T21:23:29.817Z"
   },
   {
    "duration": 197,
    "start_time": "2025-03-06T21:23:29.887Z"
   },
   {
    "duration": 87,
    "start_time": "2025-03-06T21:23:30.085Z"
   },
   {
    "duration": 46,
    "start_time": "2025-03-06T21:23:30.174Z"
   },
   {
    "duration": 5,
    "start_time": "2025-03-06T21:23:30.222Z"
   },
   {
    "duration": 18,
    "start_time": "2025-03-06T21:23:30.229Z"
   },
   {
    "duration": 43,
    "start_time": "2025-03-06T21:23:30.249Z"
   },
   {
    "duration": 51,
    "start_time": "2025-03-06T21:23:30.294Z"
   },
   {
    "duration": 583,
    "start_time": "2025-03-06T21:23:30.347Z"
   },
   {
    "duration": 757,
    "start_time": "2025-03-06T21:23:30.932Z"
   },
   {
    "duration": 32,
    "start_time": "2025-03-06T21:23:31.690Z"
   },
   {
    "duration": 164,
    "start_time": "2025-03-06T21:23:31.724Z"
   },
   {
    "duration": 26,
    "start_time": "2025-03-06T21:23:31.890Z"
   },
   {
    "duration": 32,
    "start_time": "2025-03-06T21:23:31.917Z"
   },
   {
    "duration": 124,
    "start_time": "2025-03-06T21:23:31.951Z"
   },
   {
    "duration": 354,
    "start_time": "2025-03-06T21:23:32.076Z"
   },
   {
    "duration": 90,
    "start_time": "2025-03-06T21:23:32.432Z"
   },
   {
    "duration": 196,
    "start_time": "2025-03-06T21:23:32.524Z"
   },
   {
    "duration": 442,
    "start_time": "2025-03-06T21:23:32.722Z"
   },
   {
    "duration": 101,
    "start_time": "2025-03-06T21:23:33.172Z"
   },
   {
    "duration": 50,
    "start_time": "2025-03-06T21:23:33.275Z"
   },
   {
    "duration": 17,
    "start_time": "2025-03-06T21:23:33.328Z"
   },
   {
    "duration": 43,
    "start_time": "2025-03-06T21:23:33.346Z"
   },
   {
    "duration": 1105,
    "start_time": "2025-03-06T21:23:33.390Z"
   },
   {
    "duration": 6,
    "start_time": "2025-03-06T21:23:34.497Z"
   },
   {
    "duration": 11,
    "start_time": "2025-03-06T21:23:34.505Z"
   },
   {
    "duration": 96,
    "start_time": "2025-03-06T21:23:34.518Z"
   },
   {
    "duration": 9,
    "start_time": "2025-03-06T21:23:34.616Z"
   },
   {
    "duration": 10,
    "start_time": "2025-03-06T21:23:34.627Z"
   },
   {
    "duration": 15,
    "start_time": "2025-03-06T21:23:34.638Z"
   },
   {
    "duration": 20,
    "start_time": "2025-03-06T21:23:34.673Z"
   },
   {
    "duration": 26,
    "start_time": "2025-03-06T21:23:34.695Z"
   },
   {
    "duration": 10,
    "start_time": "2025-03-06T21:23:34.723Z"
   },
   {
    "duration": 48,
    "start_time": "2025-03-06T21:23:34.734Z"
   },
   {
    "duration": 21,
    "start_time": "2025-03-06T21:23:34.783Z"
   },
   {
    "duration": 9,
    "start_time": "2025-03-06T21:23:34.806Z"
   },
   {
    "duration": 217,
    "start_time": "2025-03-06T21:23:34.816Z"
   },
   {
    "duration": 10,
    "start_time": "2025-03-06T21:25:46.694Z"
   },
   {
    "duration": 7,
    "start_time": "2025-03-06T21:26:04.125Z"
   },
   {
    "duration": 3416,
    "start_time": "2025-03-06T21:26:43.739Z"
   },
   {
    "duration": 479,
    "start_time": "2025-03-06T21:26:47.157Z"
   },
   {
    "duration": 2245,
    "start_time": "2025-03-06T21:26:47.638Z"
   },
   {
    "duration": 15,
    "start_time": "2025-03-06T21:26:49.885Z"
   },
   {
    "duration": 14,
    "start_time": "2025-03-06T21:26:49.902Z"
   },
   {
    "duration": 8,
    "start_time": "2025-03-06T21:26:49.917Z"
   },
   {
    "duration": 9,
    "start_time": "2025-03-06T21:26:49.927Z"
   },
   {
    "duration": 45,
    "start_time": "2025-03-06T21:26:49.938Z"
   },
   {
    "duration": 12,
    "start_time": "2025-03-06T21:26:49.984Z"
   },
   {
    "duration": 10,
    "start_time": "2025-03-06T21:26:49.999Z"
   },
   {
    "duration": 40,
    "start_time": "2025-03-06T21:26:50.011Z"
   },
   {
    "duration": 34,
    "start_time": "2025-03-06T21:26:50.053Z"
   },
   {
    "duration": 113,
    "start_time": "2025-03-06T21:26:50.089Z"
   },
   {
    "duration": 109,
    "start_time": "2025-03-06T21:26:50.203Z"
   },
   {
    "duration": 108,
    "start_time": "2025-03-06T21:26:50.314Z"
   },
   {
    "duration": 11,
    "start_time": "2025-03-06T21:26:50.424Z"
   },
   {
    "duration": 60,
    "start_time": "2025-03-06T21:26:50.437Z"
   },
   {
    "duration": 39,
    "start_time": "2025-03-06T21:26:50.499Z"
   },
   {
    "duration": 61,
    "start_time": "2025-03-06T21:26:50.540Z"
   },
   {
    "duration": 9,
    "start_time": "2025-03-06T21:26:50.604Z"
   },
   {
    "duration": 27,
    "start_time": "2025-03-06T21:26:50.615Z"
   },
   {
    "duration": 33,
    "start_time": "2025-03-06T21:26:50.645Z"
   },
   {
    "duration": 20,
    "start_time": "2025-03-06T21:26:50.680Z"
   },
   {
    "duration": 8,
    "start_time": "2025-03-06T21:26:50.702Z"
   },
   {
    "duration": 26,
    "start_time": "2025-03-06T21:26:50.711Z"
   },
   {
    "duration": 45,
    "start_time": "2025-03-06T21:26:50.739Z"
   },
   {
    "duration": 26,
    "start_time": "2025-03-06T21:26:50.786Z"
   },
   {
    "duration": 11,
    "start_time": "2025-03-06T21:26:50.817Z"
   },
   {
    "duration": 13,
    "start_time": "2025-03-06T21:26:50.829Z"
   },
   {
    "duration": 8,
    "start_time": "2025-03-06T21:26:50.872Z"
   },
   {
    "duration": 37,
    "start_time": "2025-03-06T21:26:50.882Z"
   },
   {
    "duration": 196,
    "start_time": "2025-03-06T21:26:50.921Z"
   },
   {
    "duration": 8,
    "start_time": "2025-03-06T21:26:51.119Z"
   },
   {
    "duration": 114,
    "start_time": "2025-03-06T21:26:51.129Z"
   },
   {
    "duration": 159,
    "start_time": "2025-03-06T21:26:51.245Z"
   },
   {
    "duration": 75,
    "start_time": "2025-03-06T21:26:51.406Z"
   },
   {
    "duration": 17,
    "start_time": "2025-03-06T21:26:51.483Z"
   },
   {
    "duration": 103,
    "start_time": "2025-03-06T21:26:51.502Z"
   },
   {
    "duration": 172,
    "start_time": "2025-03-06T21:26:51.607Z"
   },
   {
    "duration": 3,
    "start_time": "2025-03-06T21:26:51.781Z"
   },
   {
    "duration": 26,
    "start_time": "2025-03-06T21:26:51.786Z"
   },
   {
    "duration": 57,
    "start_time": "2025-03-06T21:26:51.814Z"
   },
   {
    "duration": 19,
    "start_time": "2025-03-06T21:26:51.872Z"
   },
   {
    "duration": 33,
    "start_time": "2025-03-06T21:26:51.892Z"
   },
   {
    "duration": 627,
    "start_time": "2025-03-06T21:26:51.926Z"
   },
   {
    "duration": 64,
    "start_time": "2025-03-06T21:26:52.555Z"
   },
   {
    "duration": 197,
    "start_time": "2025-03-06T21:26:52.621Z"
   },
   {
    "duration": 92,
    "start_time": "2025-03-06T21:26:52.820Z"
   },
   {
    "duration": 46,
    "start_time": "2025-03-06T21:26:52.914Z"
   },
   {
    "duration": 13,
    "start_time": "2025-03-06T21:26:52.962Z"
   },
   {
    "duration": 15,
    "start_time": "2025-03-06T21:26:52.978Z"
   },
   {
    "duration": 27,
    "start_time": "2025-03-06T21:26:52.995Z"
   },
   {
    "duration": 81,
    "start_time": "2025-03-06T21:26:53.024Z"
   },
   {
    "duration": 568,
    "start_time": "2025-03-06T21:26:53.107Z"
   },
   {
    "duration": 707,
    "start_time": "2025-03-06T21:26:53.677Z"
   },
   {
    "duration": 32,
    "start_time": "2025-03-06T21:26:54.386Z"
   },
   {
    "duration": 149,
    "start_time": "2025-03-06T21:26:54.420Z"
   },
   {
    "duration": 26,
    "start_time": "2025-03-06T21:26:54.572Z"
   },
   {
    "duration": 58,
    "start_time": "2025-03-06T21:26:54.599Z"
   },
   {
    "duration": 101,
    "start_time": "2025-03-06T21:26:54.659Z"
   },
   {
    "duration": 389,
    "start_time": "2025-03-06T21:26:54.761Z"
   },
   {
    "duration": 87,
    "start_time": "2025-03-06T21:26:55.152Z"
   },
   {
    "duration": 191,
    "start_time": "2025-03-06T21:26:55.240Z"
   },
   {
    "duration": 454,
    "start_time": "2025-03-06T21:26:55.433Z"
   },
   {
    "duration": 100,
    "start_time": "2025-03-06T21:26:55.889Z"
   },
   {
    "duration": 51,
    "start_time": "2025-03-06T21:26:55.990Z"
   },
   {
    "duration": 33,
    "start_time": "2025-03-06T21:26:56.043Z"
   },
   {
    "duration": 14,
    "start_time": "2025-03-06T21:26:56.078Z"
   },
   {
    "duration": 1101,
    "start_time": "2025-03-06T21:26:56.093Z"
   },
   {
    "duration": 6,
    "start_time": "2025-03-06T21:26:57.195Z"
   },
   {
    "duration": 9,
    "start_time": "2025-03-06T21:26:57.203Z"
   },
   {
    "duration": 88,
    "start_time": "2025-03-06T21:26:57.213Z"
   },
   {
    "duration": 8,
    "start_time": "2025-03-06T21:26:57.302Z"
   },
   {
    "duration": 10,
    "start_time": "2025-03-06T21:26:57.312Z"
   },
   {
    "duration": 10,
    "start_time": "2025-03-06T21:26:57.323Z"
   },
   {
    "duration": 52,
    "start_time": "2025-03-06T21:26:57.335Z"
   },
   {
    "duration": 27,
    "start_time": "2025-03-06T21:26:57.388Z"
   },
   {
    "duration": 10,
    "start_time": "2025-03-06T21:26:57.417Z"
   },
   {
    "duration": 21,
    "start_time": "2025-03-06T21:26:57.428Z"
   },
   {
    "duration": 23,
    "start_time": "2025-03-06T21:26:57.472Z"
   },
   {
    "duration": 10,
    "start_time": "2025-03-06T21:26:57.496Z"
   },
   {
    "duration": 223,
    "start_time": "2025-03-06T21:26:57.511Z"
   },
   {
    "duration": 9062,
    "start_time": "2025-03-07T04:12:06.478Z"
   },
   {
    "duration": 436,
    "start_time": "2025-03-07T04:12:15.542Z"
   },
   {
    "duration": 2476,
    "start_time": "2025-03-07T04:12:15.979Z"
   },
   {
    "duration": 11,
    "start_time": "2025-03-07T04:12:18.457Z"
   },
   {
    "duration": 24,
    "start_time": "2025-03-07T04:12:18.469Z"
   },
   {
    "duration": 21,
    "start_time": "2025-03-07T04:12:18.495Z"
   },
   {
    "duration": 12,
    "start_time": "2025-03-07T04:12:18.517Z"
   },
   {
    "duration": 24,
    "start_time": "2025-03-07T04:12:18.530Z"
   },
   {
    "duration": 37,
    "start_time": "2025-03-07T04:12:18.556Z"
   },
   {
    "duration": 32,
    "start_time": "2025-03-07T04:12:18.597Z"
   },
   {
    "duration": 47,
    "start_time": "2025-03-07T04:12:18.631Z"
   },
   {
    "duration": 69,
    "start_time": "2025-03-07T04:12:18.680Z"
   },
   {
    "duration": 103,
    "start_time": "2025-03-07T04:12:18.751Z"
   },
   {
    "duration": 98,
    "start_time": "2025-03-07T04:12:18.856Z"
   },
   {
    "duration": 94,
    "start_time": "2025-03-07T04:12:18.956Z"
   },
   {
    "duration": 8,
    "start_time": "2025-03-07T04:12:19.066Z"
   },
   {
    "duration": 41,
    "start_time": "2025-03-07T04:12:19.076Z"
   },
   {
    "duration": 53,
    "start_time": "2025-03-07T04:12:19.119Z"
   },
   {
    "duration": 46,
    "start_time": "2025-03-07T04:12:19.174Z"
   },
   {
    "duration": 7,
    "start_time": "2025-03-07T04:12:19.222Z"
   },
   {
    "duration": 20,
    "start_time": "2025-03-07T04:12:19.231Z"
   },
   {
    "duration": 17,
    "start_time": "2025-03-07T04:12:19.267Z"
   },
   {
    "duration": 16,
    "start_time": "2025-03-07T04:12:19.286Z"
   },
   {
    "duration": 9,
    "start_time": "2025-03-07T04:12:19.304Z"
   },
   {
    "duration": 27,
    "start_time": "2025-03-07T04:12:19.315Z"
   },
   {
    "duration": 22,
    "start_time": "2025-03-07T04:12:19.368Z"
   },
   {
    "duration": 25,
    "start_time": "2025-03-07T04:12:19.392Z"
   },
   {
    "duration": 10,
    "start_time": "2025-03-07T04:12:19.422Z"
   },
   {
    "duration": 43,
    "start_time": "2025-03-07T04:12:19.434Z"
   },
   {
    "duration": 7,
    "start_time": "2025-03-07T04:12:19.479Z"
   },
   {
    "duration": 10,
    "start_time": "2025-03-07T04:12:19.487Z"
   },
   {
    "duration": 162,
    "start_time": "2025-03-07T04:12:19.498Z"
   },
   {
    "duration": 8,
    "start_time": "2025-03-07T04:12:19.662Z"
   },
   {
    "duration": 104,
    "start_time": "2025-03-07T04:12:19.672Z"
   },
   {
    "duration": 132,
    "start_time": "2025-03-07T04:12:19.777Z"
   },
   {
    "duration": 69,
    "start_time": "2025-03-07T04:12:19.911Z"
   },
   {
    "duration": 16,
    "start_time": "2025-03-07T04:12:19.982Z"
   },
   {
    "duration": 98,
    "start_time": "2025-03-07T04:12:20.000Z"
   },
   {
    "duration": 160,
    "start_time": "2025-03-07T04:12:20.099Z"
   },
   {
    "duration": 3,
    "start_time": "2025-03-07T04:12:20.266Z"
   },
   {
    "duration": 5,
    "start_time": "2025-03-07T04:12:20.271Z"
   },
   {
    "duration": 34,
    "start_time": "2025-03-07T04:12:20.278Z"
   },
   {
    "duration": 17,
    "start_time": "2025-03-07T04:12:20.314Z"
   },
   {
    "duration": 50,
    "start_time": "2025-03-07T04:12:20.333Z"
   },
   {
    "duration": 572,
    "start_time": "2025-03-07T04:12:20.385Z"
   },
   {
    "duration": 55,
    "start_time": "2025-03-07T04:12:20.958Z"
   },
   {
    "duration": 186,
    "start_time": "2025-03-07T04:12:21.015Z"
   },
   {
    "duration": 79,
    "start_time": "2025-03-07T04:12:21.203Z"
   },
   {
    "duration": 39,
    "start_time": "2025-03-07T04:12:21.283Z"
   },
   {
    "duration": 5,
    "start_time": "2025-03-07T04:12:21.323Z"
   },
   {
    "duration": 18,
    "start_time": "2025-03-07T04:12:21.329Z"
   },
   {
    "duration": 20,
    "start_time": "2025-03-07T04:12:21.367Z"
   },
   {
    "duration": 47,
    "start_time": "2025-03-07T04:12:21.389Z"
   },
   {
    "duration": 520,
    "start_time": "2025-03-07T04:12:21.438Z"
   },
   {
    "duration": 651,
    "start_time": "2025-03-07T04:12:21.960Z"
   },
   {
    "duration": 26,
    "start_time": "2025-03-07T04:12:22.613Z"
   },
   {
    "duration": 35,
    "start_time": "2025-03-07T04:12:50.281Z"
   },
   {
    "duration": 20,
    "start_time": "2025-03-07T04:13:08.320Z"
   },
   {
    "duration": 20,
    "start_time": "2025-03-07T04:13:45.577Z"
   },
   {
    "duration": 14,
    "start_time": "2025-03-07T04:14:12.177Z"
   },
   {
    "duration": 39,
    "start_time": "2025-03-07T04:14:32.081Z"
   },
   {
    "duration": 5,
    "start_time": "2025-03-07T04:15:47.185Z"
   },
   {
    "duration": 6,
    "start_time": "2025-03-07T04:15:52.234Z"
   },
   {
    "duration": 43,
    "start_time": "2025-03-07T04:16:31.051Z"
   },
   {
    "duration": 8868,
    "start_time": "2025-03-07T05:47:23.248Z"
   },
   {
    "duration": 418,
    "start_time": "2025-03-07T05:47:32.118Z"
   },
   {
    "duration": 2339,
    "start_time": "2025-03-07T05:47:32.537Z"
   },
   {
    "duration": 11,
    "start_time": "2025-03-07T05:47:34.878Z"
   },
   {
    "duration": 29,
    "start_time": "2025-03-07T05:47:34.891Z"
   },
   {
    "duration": 12,
    "start_time": "2025-03-07T05:47:34.922Z"
   },
   {
    "duration": 33,
    "start_time": "2025-03-07T05:47:34.936Z"
   },
   {
    "duration": 23,
    "start_time": "2025-03-07T05:47:34.971Z"
   },
   {
    "duration": 151,
    "start_time": "2025-03-07T05:47:34.996Z"
   },
   {
    "duration": 36,
    "start_time": "2025-03-07T05:47:35.149Z"
   },
   {
    "duration": 21,
    "start_time": "2025-03-07T05:47:35.187Z"
   },
   {
    "duration": 154,
    "start_time": "2025-03-07T05:47:35.210Z"
   },
   {
    "duration": 271,
    "start_time": "2025-03-07T05:47:35.366Z"
   },
   {
    "duration": 91,
    "start_time": "2025-03-07T05:47:35.641Z"
   },
   {
    "duration": 123,
    "start_time": "2025-03-07T05:47:35.734Z"
   },
   {
    "duration": 8,
    "start_time": "2025-03-07T05:47:35.858Z"
   },
   {
    "duration": 54,
    "start_time": "2025-03-07T05:47:35.868Z"
   },
   {
    "duration": 35,
    "start_time": "2025-03-07T05:47:35.923Z"
   },
   {
    "duration": 54,
    "start_time": "2025-03-07T05:47:35.960Z"
   },
   {
    "duration": 46,
    "start_time": "2025-03-07T05:47:36.016Z"
   },
   {
    "duration": 103,
    "start_time": "2025-03-07T05:47:36.064Z"
   },
   {
    "duration": 32,
    "start_time": "2025-03-07T05:47:36.169Z"
   },
   {
    "duration": 27,
    "start_time": "2025-03-07T05:47:36.203Z"
   },
   {
    "duration": 75,
    "start_time": "2025-03-07T05:47:36.232Z"
   },
   {
    "duration": 37,
    "start_time": "2025-03-07T05:47:36.309Z"
   },
   {
    "duration": 173,
    "start_time": "2025-03-07T05:47:36.348Z"
   },
   {
    "duration": 40,
    "start_time": "2025-03-07T05:47:36.523Z"
   },
   {
    "duration": 21,
    "start_time": "2025-03-07T05:47:36.565Z"
   },
   {
    "duration": 110,
    "start_time": "2025-03-07T05:47:36.588Z"
   },
   {
    "duration": 19,
    "start_time": "2025-03-07T05:47:36.699Z"
   },
   {
    "duration": 66,
    "start_time": "2025-03-07T05:47:36.719Z"
   },
   {
    "duration": 166,
    "start_time": "2025-03-07T05:47:36.786Z"
   },
   {
    "duration": 7,
    "start_time": "2025-03-07T05:47:36.953Z"
   },
   {
    "duration": 126,
    "start_time": "2025-03-07T05:47:36.962Z"
   },
   {
    "duration": 135,
    "start_time": "2025-03-07T05:47:37.090Z"
   },
   {
    "duration": 60,
    "start_time": "2025-03-07T05:47:37.226Z"
   },
   {
    "duration": 162,
    "start_time": "2025-03-07T05:47:37.288Z"
   },
   {
    "duration": 148,
    "start_time": "2025-03-07T05:47:37.452Z"
   },
   {
    "duration": 146,
    "start_time": "2025-03-07T05:47:37.602Z"
   },
   {
    "duration": 3,
    "start_time": "2025-03-07T05:47:37.750Z"
   },
   {
    "duration": 15,
    "start_time": "2025-03-07T05:47:37.757Z"
   },
   {
    "duration": 31,
    "start_time": "2025-03-07T05:47:37.773Z"
   },
   {
    "duration": 15,
    "start_time": "2025-03-07T05:47:37.806Z"
   },
   {
    "duration": 41,
    "start_time": "2025-03-07T05:47:37.822Z"
   },
   {
    "duration": 588,
    "start_time": "2025-03-07T05:47:37.864Z"
   },
   {
    "duration": 50,
    "start_time": "2025-03-07T05:47:38.454Z"
   },
   {
    "duration": 179,
    "start_time": "2025-03-07T05:47:38.505Z"
   },
   {
    "duration": 76,
    "start_time": "2025-03-07T05:47:38.685Z"
   },
   {
    "duration": 38,
    "start_time": "2025-03-07T05:47:38.762Z"
   },
   {
    "duration": 4,
    "start_time": "2025-03-07T05:47:38.802Z"
   },
   {
    "duration": 16,
    "start_time": "2025-03-07T05:47:38.807Z"
   },
   {
    "duration": 40,
    "start_time": "2025-03-07T05:47:38.824Z"
   },
   {
    "duration": 47,
    "start_time": "2025-03-07T05:47:38.866Z"
   },
   {
    "duration": 521,
    "start_time": "2025-03-07T05:47:38.915Z"
   },
   {
    "duration": 615,
    "start_time": "2025-03-07T05:47:39.437Z"
   },
   {
    "duration": 30,
    "start_time": "2025-03-07T05:47:40.054Z"
   },
   {
    "duration": 141,
    "start_time": "2025-03-07T05:47:40.085Z"
   },
   {
    "duration": 30,
    "start_time": "2025-03-07T05:47:40.228Z"
   },
   {
    "duration": 50,
    "start_time": "2025-03-07T05:47:40.260Z"
   },
   {
    "duration": 97,
    "start_time": "2025-03-07T05:47:40.311Z"
   },
   {
    "duration": 421,
    "start_time": "2025-03-07T05:47:40.410Z"
   },
   {
    "duration": 109,
    "start_time": "2025-03-07T05:47:40.833Z"
   },
   {
    "duration": 185,
    "start_time": "2025-03-07T05:47:40.947Z"
   },
   {
    "duration": 414,
    "start_time": "2025-03-07T05:47:41.134Z"
   },
   {
    "duration": 74,
    "start_time": "2025-03-07T05:47:41.550Z"
   },
   {
    "duration": 54,
    "start_time": "2025-03-07T05:47:41.625Z"
   },
   {
    "duration": 15,
    "start_time": "2025-03-07T05:47:41.680Z"
   },
   {
    "duration": 20,
    "start_time": "2025-03-07T05:47:41.696Z"
   },
   {
    "duration": 974,
    "start_time": "2025-03-07T05:47:41.718Z"
   },
   {
    "duration": 6,
    "start_time": "2025-03-07T05:47:42.694Z"
   },
   {
    "duration": 26,
    "start_time": "2025-03-07T05:47:42.701Z"
   },
   {
    "duration": 71,
    "start_time": "2025-03-07T05:47:42.729Z"
   },
   {
    "duration": 7,
    "start_time": "2025-03-07T05:47:42.802Z"
   },
   {
    "duration": 9,
    "start_time": "2025-03-07T05:47:42.810Z"
   },
   {
    "duration": 28,
    "start_time": "2025-03-07T05:47:42.821Z"
   },
   {
    "duration": 18,
    "start_time": "2025-03-07T05:47:42.850Z"
   },
   {
    "duration": 26,
    "start_time": "2025-03-07T05:47:42.869Z"
   },
   {
    "duration": 9,
    "start_time": "2025-03-07T05:47:42.897Z"
   },
   {
    "duration": 51,
    "start_time": "2025-03-07T05:47:42.908Z"
   },
   {
    "duration": 18,
    "start_time": "2025-03-07T05:47:42.961Z"
   },
   {
    "duration": 7,
    "start_time": "2025-03-07T05:47:42.981Z"
   },
   {
    "duration": 196,
    "start_time": "2025-03-07T05:47:42.989Z"
   },
   {
    "duration": 95,
    "start_time": "2025-03-07T05:50:26.428Z"
   },
   {
    "duration": 12,
    "start_time": "2025-03-07T05:50:34.687Z"
   },
   {
    "duration": 623,
    "start_time": "2025-03-07T05:51:15.413Z"
   },
   {
    "duration": 42,
    "start_time": "2025-03-07T05:56:07.342Z"
   },
   {
    "duration": 605,
    "start_time": "2025-03-07T06:01:29.988Z"
   },
   {
    "duration": 42,
    "start_time": "2025-03-07T06:01:34.860Z"
   },
   {
    "duration": 3203,
    "start_time": "2025-03-07T06:02:39.406Z"
   },
   {
    "duration": 425,
    "start_time": "2025-03-07T06:02:42.611Z"
   },
   {
    "duration": 2328,
    "start_time": "2025-03-07T06:02:43.037Z"
   },
   {
    "duration": 11,
    "start_time": "2025-03-07T06:02:45.366Z"
   },
   {
    "duration": 153,
    "start_time": "2025-03-07T06:02:45.379Z"
   },
   {
    "duration": 75,
    "start_time": "2025-03-07T06:02:45.534Z"
   },
   {
    "duration": 6,
    "start_time": "2025-03-07T06:02:45.611Z"
   },
   {
    "duration": 12,
    "start_time": "2025-03-07T06:02:45.619Z"
   },
   {
    "duration": 14,
    "start_time": "2025-03-07T06:02:45.632Z"
   },
   {
    "duration": 14,
    "start_time": "2025-03-07T06:02:45.647Z"
   },
   {
    "duration": 44,
    "start_time": "2025-03-07T06:02:45.662Z"
   },
   {
    "duration": 29,
    "start_time": "2025-03-07T06:02:45.708Z"
   },
   {
    "duration": 112,
    "start_time": "2025-03-07T06:02:45.738Z"
   },
   {
    "duration": 96,
    "start_time": "2025-03-07T06:02:45.853Z"
   },
   {
    "duration": 98,
    "start_time": "2025-03-07T06:02:45.950Z"
   },
   {
    "duration": 8,
    "start_time": "2025-03-07T06:02:46.050Z"
   },
   {
    "duration": 49,
    "start_time": "2025-03-07T06:02:46.059Z"
   },
   {
    "duration": 40,
    "start_time": "2025-03-07T06:02:46.109Z"
   },
   {
    "duration": 34,
    "start_time": "2025-03-07T06:02:46.150Z"
   },
   {
    "duration": 8,
    "start_time": "2025-03-07T06:02:46.186Z"
   },
   {
    "duration": 30,
    "start_time": "2025-03-07T06:02:46.196Z"
   },
   {
    "duration": 23,
    "start_time": "2025-03-07T06:02:46.228Z"
   },
   {
    "duration": 27,
    "start_time": "2025-03-07T06:02:46.253Z"
   },
   {
    "duration": 7,
    "start_time": "2025-03-07T06:02:46.282Z"
   },
   {
    "duration": 38,
    "start_time": "2025-03-07T06:02:46.290Z"
   },
   {
    "duration": 23,
    "start_time": "2025-03-07T06:02:46.329Z"
   },
   {
    "duration": 26,
    "start_time": "2025-03-07T06:02:46.354Z"
   },
   {
    "duration": 9,
    "start_time": "2025-03-07T06:02:46.381Z"
   },
   {
    "duration": 14,
    "start_time": "2025-03-07T06:02:46.392Z"
   },
   {
    "duration": 7,
    "start_time": "2025-03-07T06:02:46.407Z"
   },
   {
    "duration": 33,
    "start_time": "2025-03-07T06:02:46.415Z"
   },
   {
    "duration": 219,
    "start_time": "2025-03-07T06:02:46.449Z"
   },
   {
    "duration": 8,
    "start_time": "2025-03-07T06:02:46.669Z"
   },
   {
    "duration": 132,
    "start_time": "2025-03-07T06:02:46.678Z"
   },
   {
    "duration": 124,
    "start_time": "2025-03-07T06:02:46.812Z"
   },
   {
    "duration": 59,
    "start_time": "2025-03-07T06:02:46.938Z"
   },
   {
    "duration": 17,
    "start_time": "2025-03-07T06:02:46.998Z"
   },
   {
    "duration": 97,
    "start_time": "2025-03-07T06:02:47.017Z"
   },
   {
    "duration": 146,
    "start_time": "2025-03-07T06:02:47.116Z"
   },
   {
    "duration": 4,
    "start_time": "2025-03-07T06:02:47.264Z"
   },
   {
    "duration": 162,
    "start_time": "2025-03-07T06:02:47.272Z"
   },
   {
    "duration": 38,
    "start_time": "2025-03-07T06:02:47.436Z"
   },
   {
    "duration": 113,
    "start_time": "2025-03-07T06:02:47.475Z"
   },
   {
    "duration": 31,
    "start_time": "2025-03-07T06:02:47.589Z"
   },
   {
    "duration": 546,
    "start_time": "2025-03-07T06:02:47.621Z"
   },
   {
    "duration": 80,
    "start_time": "2025-03-07T06:02:48.168Z"
   },
   {
    "duration": 192,
    "start_time": "2025-03-07T06:02:48.251Z"
   },
   {
    "duration": 65,
    "start_time": "2025-03-07T06:02:48.445Z"
   },
   {
    "duration": 84,
    "start_time": "2025-03-07T06:02:48.512Z"
   },
   {
    "duration": 4,
    "start_time": "2025-03-07T06:02:48.597Z"
   },
   {
    "duration": 20,
    "start_time": "2025-03-07T06:02:48.602Z"
   },
   {
    "duration": 19,
    "start_time": "2025-03-07T06:02:48.623Z"
   },
   {
    "duration": 42,
    "start_time": "2025-03-07T06:02:48.644Z"
   },
   {
    "duration": 548,
    "start_time": "2025-03-07T06:02:48.687Z"
   },
   {
    "duration": 595,
    "start_time": "2025-03-07T06:02:49.237Z"
   },
   {
    "duration": 115,
    "start_time": "2025-03-07T06:02:49.834Z"
   },
   {
    "duration": 0,
    "start_time": "2025-03-07T06:02:49.950Z"
   },
   {
    "duration": 1,
    "start_time": "2025-03-07T06:02:49.951Z"
   },
   {
    "duration": 0,
    "start_time": "2025-03-07T06:02:49.953Z"
   },
   {
    "duration": 0,
    "start_time": "2025-03-07T06:02:49.954Z"
   },
   {
    "duration": 0,
    "start_time": "2025-03-07T06:02:49.954Z"
   },
   {
    "duration": 0,
    "start_time": "2025-03-07T06:02:49.956Z"
   },
   {
    "duration": 0,
    "start_time": "2025-03-07T06:02:49.957Z"
   },
   {
    "duration": 0,
    "start_time": "2025-03-07T06:02:49.957Z"
   },
   {
    "duration": 0,
    "start_time": "2025-03-07T06:02:49.958Z"
   },
   {
    "duration": 0,
    "start_time": "2025-03-07T06:02:49.959Z"
   },
   {
    "duration": 0,
    "start_time": "2025-03-07T06:02:49.960Z"
   },
   {
    "duration": 0,
    "start_time": "2025-03-07T06:02:49.961Z"
   },
   {
    "duration": 0,
    "start_time": "2025-03-07T06:02:49.961Z"
   },
   {
    "duration": 0,
    "start_time": "2025-03-07T06:02:49.962Z"
   },
   {
    "duration": 0,
    "start_time": "2025-03-07T06:02:49.963Z"
   },
   {
    "duration": 0,
    "start_time": "2025-03-07T06:02:49.964Z"
   },
   {
    "duration": 0,
    "start_time": "2025-03-07T06:02:49.965Z"
   },
   {
    "duration": 0,
    "start_time": "2025-03-07T06:02:49.966Z"
   },
   {
    "duration": 0,
    "start_time": "2025-03-07T06:02:49.967Z"
   },
   {
    "duration": 0,
    "start_time": "2025-03-07T06:02:49.968Z"
   },
   {
    "duration": 0,
    "start_time": "2025-03-07T06:02:49.968Z"
   },
   {
    "duration": 0,
    "start_time": "2025-03-07T06:02:49.969Z"
   },
   {
    "duration": 0,
    "start_time": "2025-03-07T06:02:49.970Z"
   },
   {
    "duration": 0,
    "start_time": "2025-03-07T06:02:49.971Z"
   },
   {
    "duration": 0,
    "start_time": "2025-03-07T06:02:49.972Z"
   },
   {
    "duration": 0,
    "start_time": "2025-03-07T06:02:49.973Z"
   },
   {
    "duration": 0,
    "start_time": "2025-03-07T06:02:49.975Z"
   },
   {
    "duration": 3137,
    "start_time": "2025-03-07T06:06:32.875Z"
   },
   {
    "duration": 417,
    "start_time": "2025-03-07T06:06:36.014Z"
   },
   {
    "duration": 2048,
    "start_time": "2025-03-07T06:06:36.432Z"
   },
   {
    "duration": 12,
    "start_time": "2025-03-07T06:06:38.481Z"
   },
   {
    "duration": 15,
    "start_time": "2025-03-07T06:06:38.495Z"
   },
   {
    "duration": 6,
    "start_time": "2025-03-07T06:06:38.512Z"
   },
   {
    "duration": 7,
    "start_time": "2025-03-07T06:06:38.520Z"
   },
   {
    "duration": 25,
    "start_time": "2025-03-07T06:06:38.529Z"
   },
   {
    "duration": 7,
    "start_time": "2025-03-07T06:06:38.556Z"
   },
   {
    "duration": 8,
    "start_time": "2025-03-07T06:06:38.564Z"
   },
   {
    "duration": 20,
    "start_time": "2025-03-07T06:06:38.574Z"
   },
   {
    "duration": 21,
    "start_time": "2025-03-07T06:06:38.596Z"
   },
   {
    "duration": 115,
    "start_time": "2025-03-07T06:06:38.619Z"
   },
   {
    "duration": 97,
    "start_time": "2025-03-07T06:06:38.737Z"
   },
   {
    "duration": 98,
    "start_time": "2025-03-07T06:06:38.836Z"
   },
   {
    "duration": 16,
    "start_time": "2025-03-07T06:06:38.936Z"
   },
   {
    "duration": 39,
    "start_time": "2025-03-07T06:06:38.954Z"
   },
   {
    "duration": 54,
    "start_time": "2025-03-07T06:06:38.995Z"
   },
   {
    "duration": 77,
    "start_time": "2025-03-07T06:06:39.051Z"
   },
   {
    "duration": 8,
    "start_time": "2025-03-07T06:06:39.130Z"
   },
   {
    "duration": 40,
    "start_time": "2025-03-07T06:06:39.139Z"
   },
   {
    "duration": 15,
    "start_time": "2025-03-07T06:06:39.181Z"
   },
   {
    "duration": 15,
    "start_time": "2025-03-07T06:06:39.198Z"
   },
   {
    "duration": 11,
    "start_time": "2025-03-07T06:06:39.214Z"
   },
   {
    "duration": 51,
    "start_time": "2025-03-07T06:06:39.227Z"
   },
   {
    "duration": 157,
    "start_time": "2025-03-07T06:06:39.279Z"
   },
   {
    "duration": 120,
    "start_time": "2025-03-07T06:06:39.437Z"
   },
   {
    "duration": 49,
    "start_time": "2025-03-07T06:06:39.559Z"
   },
   {
    "duration": 36,
    "start_time": "2025-03-07T06:06:39.610Z"
   },
   {
    "duration": 10,
    "start_time": "2025-03-07T06:06:39.647Z"
   },
   {
    "duration": 17,
    "start_time": "2025-03-07T06:06:39.659Z"
   },
   {
    "duration": 154,
    "start_time": "2025-03-07T06:06:39.677Z"
   },
   {
    "duration": 7,
    "start_time": "2025-03-07T06:06:39.832Z"
   },
   {
    "duration": 88,
    "start_time": "2025-03-07T06:06:39.848Z"
   },
   {
    "duration": 140,
    "start_time": "2025-03-07T06:06:39.938Z"
   },
   {
    "duration": 68,
    "start_time": "2025-03-07T06:06:40.080Z"
   },
   {
    "duration": 23,
    "start_time": "2025-03-07T06:06:40.150Z"
   },
   {
    "duration": 95,
    "start_time": "2025-03-07T06:06:40.175Z"
   },
   {
    "duration": 160,
    "start_time": "2025-03-07T06:06:40.272Z"
   },
   {
    "duration": 13,
    "start_time": "2025-03-07T06:06:40.434Z"
   },
   {
    "duration": 125,
    "start_time": "2025-03-07T06:06:40.453Z"
   },
   {
    "duration": 58,
    "start_time": "2025-03-07T06:06:40.580Z"
   },
   {
    "duration": 18,
    "start_time": "2025-03-07T06:06:40.640Z"
   },
   {
    "duration": 30,
    "start_time": "2025-03-07T06:06:40.660Z"
   },
   {
    "duration": 600,
    "start_time": "2025-03-07T06:06:40.692Z"
   },
   {
    "duration": 55,
    "start_time": "2025-03-07T06:06:41.293Z"
   },
   {
    "duration": 271,
    "start_time": "2025-03-07T06:06:41.350Z"
   },
   {
    "duration": 75,
    "start_time": "2025-03-07T06:06:41.623Z"
   },
   {
    "duration": 48,
    "start_time": "2025-03-07T06:06:41.700Z"
   },
   {
    "duration": 4,
    "start_time": "2025-03-07T06:06:41.749Z"
   },
   {
    "duration": 13,
    "start_time": "2025-03-07T06:06:41.755Z"
   },
   {
    "duration": 28,
    "start_time": "2025-03-07T06:06:41.769Z"
   },
   {
    "duration": 50,
    "start_time": "2025-03-07T06:06:41.799Z"
   },
   {
    "duration": 483,
    "start_time": "2025-03-07T06:06:41.850Z"
   },
   {
    "duration": 595,
    "start_time": "2025-03-07T06:06:42.334Z"
   },
   {
    "duration": 30,
    "start_time": "2025-03-07T06:06:42.930Z"
   },
   {
    "duration": 144,
    "start_time": "2025-03-07T06:06:42.962Z"
   },
   {
    "duration": 23,
    "start_time": "2025-03-07T06:06:43.108Z"
   },
   {
    "duration": 111,
    "start_time": "2025-03-07T06:06:43.133Z"
   },
   {
    "duration": 83,
    "start_time": "2025-03-07T06:06:43.245Z"
   },
   {
    "duration": 461,
    "start_time": "2025-03-07T06:06:43.329Z"
   },
   {
    "duration": 83,
    "start_time": "2025-03-07T06:06:43.792Z"
   },
   {
    "duration": 176,
    "start_time": "2025-03-07T06:06:43.876Z"
   },
   {
    "duration": 403,
    "start_time": "2025-03-07T06:06:44.054Z"
   },
   {
    "duration": 97,
    "start_time": "2025-03-07T06:06:44.459Z"
   },
   {
    "duration": 72,
    "start_time": "2025-03-07T06:06:44.558Z"
   },
   {
    "duration": 15,
    "start_time": "2025-03-07T06:06:44.631Z"
   },
   {
    "duration": 113,
    "start_time": "2025-03-07T06:06:44.648Z"
   },
   {
    "duration": 939,
    "start_time": "2025-03-07T06:06:44.763Z"
   },
   {
    "duration": 647,
    "start_time": "2025-03-07T06:06:45.704Z"
   },
   {
    "duration": 5,
    "start_time": "2025-03-07T06:06:46.353Z"
   },
   {
    "duration": 9,
    "start_time": "2025-03-07T06:06:46.360Z"
   },
   {
    "duration": 79,
    "start_time": "2025-03-07T06:06:46.370Z"
   },
   {
    "duration": 7,
    "start_time": "2025-03-07T06:06:46.451Z"
   },
   {
    "duration": 120,
    "start_time": "2025-03-07T06:06:46.460Z"
   },
   {
    "duration": 10,
    "start_time": "2025-03-07T06:06:46.581Z"
   },
   {
    "duration": 69,
    "start_time": "2025-03-07T06:06:46.592Z"
   },
   {
    "duration": 27,
    "start_time": "2025-03-07T06:06:46.663Z"
   },
   {
    "duration": 69,
    "start_time": "2025-03-07T06:06:46.692Z"
   },
   {
    "duration": 21,
    "start_time": "2025-03-07T06:06:46.763Z"
   },
   {
    "duration": 20,
    "start_time": "2025-03-07T06:06:46.787Z"
   },
   {
    "duration": 10,
    "start_time": "2025-03-07T06:06:46.808Z"
   },
   {
    "duration": 197,
    "start_time": "2025-03-07T06:06:46.820Z"
   },
   {
    "duration": 355,
    "start_time": "2025-03-07T06:26:30.037Z"
   },
   {
    "duration": 223,
    "start_time": "2025-03-07T06:26:44.544Z"
   },
   {
    "duration": 74,
    "start_time": "2025-03-07T06:28:54.571Z"
   },
   {
    "duration": 116,
    "start_time": "2025-03-07T06:29:46.050Z"
   },
   {
    "duration": 185,
    "start_time": "2025-03-07T06:32:20.741Z"
   },
   {
    "duration": 106,
    "start_time": "2025-03-07T06:33:05.511Z"
   },
   {
    "duration": 80,
    "start_time": "2025-03-07T06:35:04.134Z"
   },
   {
    "duration": 82,
    "start_time": "2025-03-07T06:37:05.455Z"
   },
   {
    "duration": 83,
    "start_time": "2025-03-07T06:37:22.580Z"
   },
   {
    "duration": 78,
    "start_time": "2025-03-07T06:37:32.091Z"
   },
   {
    "duration": 82,
    "start_time": "2025-03-07T06:38:41.018Z"
   },
   {
    "duration": 91,
    "start_time": "2025-03-07T06:39:24.939Z"
   },
   {
    "duration": 94,
    "start_time": "2025-03-07T06:41:32.985Z"
   },
   {
    "duration": 95,
    "start_time": "2025-03-07T06:41:54.097Z"
   },
   {
    "duration": 97,
    "start_time": "2025-03-07T06:42:25.154Z"
   },
   {
    "duration": 100,
    "start_time": "2025-03-07T06:43:32.861Z"
   },
   {
    "duration": 91,
    "start_time": "2025-03-07T06:44:34.008Z"
   },
   {
    "duration": 953,
    "start_time": "2025-03-07T06:44:44.310Z"
   },
   {
    "duration": 1016,
    "start_time": "2025-03-07T06:45:01.660Z"
   },
   {
    "duration": 1273,
    "start_time": "2025-03-07T06:45:09.871Z"
   },
   {
    "duration": 1013,
    "start_time": "2025-03-07T06:45:26.752Z"
   },
   {
    "duration": 1181,
    "start_time": "2025-03-07T06:45:48.760Z"
   },
   {
    "duration": 1027,
    "start_time": "2025-03-07T06:46:19.836Z"
   },
   {
    "duration": 962,
    "start_time": "2025-03-07T06:46:40.478Z"
   },
   {
    "duration": 103,
    "start_time": "2025-03-07T06:48:16.275Z"
   },
   {
    "duration": 92,
    "start_time": "2025-03-07T06:57:00.894Z"
   },
   {
    "duration": 84,
    "start_time": "2025-03-07T06:58:41.843Z"
   },
   {
    "duration": 77,
    "start_time": "2025-03-07T07:00:03.212Z"
   },
   {
    "duration": 101,
    "start_time": "2025-03-07T07:00:50.485Z"
   },
   {
    "duration": 86,
    "start_time": "2025-03-07T07:02:03.314Z"
   },
   {
    "duration": 131,
    "start_time": "2025-03-07T07:03:42.853Z"
   },
   {
    "duration": 88,
    "start_time": "2025-03-07T07:03:54.483Z"
   },
   {
    "duration": 84,
    "start_time": "2025-03-07T07:05:36.717Z"
   },
   {
    "duration": 88,
    "start_time": "2025-03-07T07:06:21.793Z"
   },
   {
    "duration": 110,
    "start_time": "2025-03-07T07:06:48.545Z"
   },
   {
    "duration": 80,
    "start_time": "2025-03-07T07:07:45.984Z"
   },
   {
    "duration": 96,
    "start_time": "2025-03-07T07:08:02.684Z"
   },
   {
    "duration": 106,
    "start_time": "2025-03-07T07:09:42.278Z"
   },
   {
    "duration": 100,
    "start_time": "2025-03-07T07:10:00.716Z"
   },
   {
    "duration": 95,
    "start_time": "2025-03-07T07:10:40.617Z"
   },
   {
    "duration": 96,
    "start_time": "2025-03-07T07:10:55.198Z"
   },
   {
    "duration": 96,
    "start_time": "2025-03-07T07:11:39.185Z"
   },
   {
    "duration": 23,
    "start_time": "2025-03-07T07:14:02.798Z"
   },
   {
    "duration": 80,
    "start_time": "2025-03-07T07:16:18.886Z"
   },
   {
    "duration": 76,
    "start_time": "2025-03-07T07:16:34.542Z"
   },
   {
    "duration": 79,
    "start_time": "2025-03-07T07:17:10.759Z"
   },
   {
    "duration": 77,
    "start_time": "2025-03-07T07:17:32.102Z"
   },
   {
    "duration": 22,
    "start_time": "2025-03-07T07:17:34.228Z"
   },
   {
    "duration": 73,
    "start_time": "2025-03-07T07:23:23.575Z"
   },
   {
    "duration": 72,
    "start_time": "2025-03-07T07:25:22.844Z"
   },
   {
    "duration": 80,
    "start_time": "2025-03-07T07:26:59.863Z"
   },
   {
    "duration": 74,
    "start_time": "2025-03-07T07:29:39.420Z"
   },
   {
    "duration": 90,
    "start_time": "2025-03-07T07:31:05.299Z"
   },
   {
    "duration": 91,
    "start_time": "2025-03-07T07:31:29.959Z"
   },
   {
    "duration": 81,
    "start_time": "2025-03-07T07:32:38.269Z"
   },
   {
    "duration": 76,
    "start_time": "2025-03-07T07:32:56.210Z"
   },
   {
    "duration": 80,
    "start_time": "2025-03-07T07:34:54.148Z"
   },
   {
    "duration": 82,
    "start_time": "2025-03-07T07:35:12.256Z"
   },
   {
    "duration": 85,
    "start_time": "2025-03-07T07:35:35.621Z"
   },
   {
    "duration": 79,
    "start_time": "2025-03-07T07:38:35.030Z"
   },
   {
    "duration": 90,
    "start_time": "2025-03-07T07:39:32.872Z"
   },
   {
    "duration": 83,
    "start_time": "2025-03-07T07:41:56.282Z"
   },
   {
    "duration": 82,
    "start_time": "2025-03-07T07:44:39.276Z"
   },
   {
    "duration": 63,
    "start_time": "2025-03-07T07:45:17.876Z"
   },
   {
    "duration": 61,
    "start_time": "2025-03-07T07:45:41.220Z"
   },
   {
    "duration": 67,
    "start_time": "2025-03-07T07:46:10.233Z"
   },
   {
    "duration": 67,
    "start_time": "2025-03-07T07:47:09.195Z"
   },
   {
    "duration": 73,
    "start_time": "2025-03-07T07:48:42.206Z"
   },
   {
    "duration": 86,
    "start_time": "2025-03-07T07:50:00.454Z"
   },
   {
    "duration": 71,
    "start_time": "2025-03-07T07:52:25.950Z"
   },
   {
    "duration": 75,
    "start_time": "2025-03-07T07:53:25.226Z"
   },
   {
    "duration": 68,
    "start_time": "2025-03-07T07:56:04.950Z"
   },
   {
    "duration": 3156,
    "start_time": "2025-03-07T07:57:04.163Z"
   },
   {
    "duration": 447,
    "start_time": "2025-03-07T07:57:07.321Z"
   },
   {
    "duration": 2004,
    "start_time": "2025-03-07T07:57:07.769Z"
   },
   {
    "duration": 13,
    "start_time": "2025-03-07T07:57:09.774Z"
   },
   {
    "duration": 61,
    "start_time": "2025-03-07T07:57:09.789Z"
   },
   {
    "duration": 93,
    "start_time": "2025-03-07T07:57:09.852Z"
   },
   {
    "duration": 114,
    "start_time": "2025-03-07T07:57:09.947Z"
   },
   {
    "duration": 173,
    "start_time": "2025-03-07T07:57:10.063Z"
   },
   {
    "duration": 148,
    "start_time": "2025-03-07T07:57:10.237Z"
   },
   {
    "duration": 29,
    "start_time": "2025-03-07T07:57:10.386Z"
   },
   {
    "duration": 47,
    "start_time": "2025-03-07T07:57:10.417Z"
   },
   {
    "duration": 18,
    "start_time": "2025-03-07T07:57:10.466Z"
   },
   {
    "duration": 176,
    "start_time": "2025-03-07T07:57:10.486Z"
   },
   {
    "duration": 142,
    "start_time": "2025-03-07T07:57:10.664Z"
   },
   {
    "duration": 124,
    "start_time": "2025-03-07T07:57:10.807Z"
   },
   {
    "duration": 8,
    "start_time": "2025-03-07T07:57:10.932Z"
   },
   {
    "duration": 41,
    "start_time": "2025-03-07T07:57:10.947Z"
   },
   {
    "duration": 35,
    "start_time": "2025-03-07T07:57:10.990Z"
   },
   {
    "duration": 106,
    "start_time": "2025-03-07T07:57:11.026Z"
   },
   {
    "duration": 82,
    "start_time": "2025-03-07T07:57:11.134Z"
   },
   {
    "duration": 44,
    "start_time": "2025-03-07T07:57:11.217Z"
   },
   {
    "duration": 46,
    "start_time": "2025-03-07T07:57:11.263Z"
   },
   {
    "duration": 19,
    "start_time": "2025-03-07T07:57:11.310Z"
   },
   {
    "duration": 18,
    "start_time": "2025-03-07T07:57:11.331Z"
   },
   {
    "duration": 34,
    "start_time": "2025-03-07T07:57:11.351Z"
   },
   {
    "duration": 22,
    "start_time": "2025-03-07T07:57:11.387Z"
   },
   {
    "duration": 24,
    "start_time": "2025-03-07T07:57:11.411Z"
   },
   {
    "duration": 19,
    "start_time": "2025-03-07T07:57:11.437Z"
   },
   {
    "duration": 40,
    "start_time": "2025-03-07T07:57:11.458Z"
   },
   {
    "duration": 15,
    "start_time": "2025-03-07T07:57:11.500Z"
   },
   {
    "duration": 25,
    "start_time": "2025-03-07T07:57:11.517Z"
   },
   {
    "duration": 160,
    "start_time": "2025-03-07T07:57:11.543Z"
   },
   {
    "duration": 8,
    "start_time": "2025-03-07T07:57:11.705Z"
   },
   {
    "duration": 98,
    "start_time": "2025-03-07T07:57:11.715Z"
   },
   {
    "duration": 134,
    "start_time": "2025-03-07T07:57:11.814Z"
   },
   {
    "duration": 54,
    "start_time": "2025-03-07T07:57:11.950Z"
   },
   {
    "duration": 42,
    "start_time": "2025-03-07T07:57:12.006Z"
   },
   {
    "duration": 79,
    "start_time": "2025-03-07T07:57:12.050Z"
   },
   {
    "duration": 146,
    "start_time": "2025-03-07T07:57:12.130Z"
   },
   {
    "duration": 4,
    "start_time": "2025-03-07T07:57:12.278Z"
   },
   {
    "duration": 10,
    "start_time": "2025-03-07T07:57:12.286Z"
   },
   {
    "duration": 35,
    "start_time": "2025-03-07T07:57:12.298Z"
   },
   {
    "duration": 23,
    "start_time": "2025-03-07T07:57:12.334Z"
   },
   {
    "duration": 46,
    "start_time": "2025-03-07T07:57:12.359Z"
   },
   {
    "duration": 545,
    "start_time": "2025-03-07T07:57:12.407Z"
   },
   {
    "duration": 50,
    "start_time": "2025-03-07T07:57:12.954Z"
   },
   {
    "duration": 209,
    "start_time": "2025-03-07T07:57:13.006Z"
   },
   {
    "duration": 73,
    "start_time": "2025-03-07T07:57:13.216Z"
   },
   {
    "duration": 38,
    "start_time": "2025-03-07T07:57:13.291Z"
   },
   {
    "duration": 19,
    "start_time": "2025-03-07T07:57:13.330Z"
   },
   {
    "duration": 14,
    "start_time": "2025-03-07T07:57:13.351Z"
   },
   {
    "duration": 19,
    "start_time": "2025-03-07T07:57:13.367Z"
   },
   {
    "duration": 63,
    "start_time": "2025-03-07T07:57:13.388Z"
   },
   {
    "duration": 509,
    "start_time": "2025-03-07T07:57:13.453Z"
   },
   {
    "duration": 600,
    "start_time": "2025-03-07T07:57:13.964Z"
   },
   {
    "duration": 29,
    "start_time": "2025-03-07T07:57:14.566Z"
   },
   {
    "duration": 123,
    "start_time": "2025-03-07T07:57:14.596Z"
   },
   {
    "duration": 32,
    "start_time": "2025-03-07T07:57:14.721Z"
   },
   {
    "duration": 30,
    "start_time": "2025-03-07T07:57:14.754Z"
   },
   {
    "duration": 104,
    "start_time": "2025-03-07T07:57:14.786Z"
   },
   {
    "duration": 314,
    "start_time": "2025-03-07T07:57:14.891Z"
   },
   {
    "duration": 84,
    "start_time": "2025-03-07T07:57:15.207Z"
   },
   {
    "duration": 173,
    "start_time": "2025-03-07T07:57:15.293Z"
   },
   {
    "duration": 398,
    "start_time": "2025-03-07T07:57:15.468Z"
   },
   {
    "duration": 87,
    "start_time": "2025-03-07T07:57:15.868Z"
   },
   {
    "duration": 72,
    "start_time": "2025-03-07T07:57:15.957Z"
   },
   {
    "duration": 16,
    "start_time": "2025-03-07T07:57:16.030Z"
   },
   {
    "duration": 29,
    "start_time": "2025-03-07T07:57:16.047Z"
   },
   {
    "duration": 987,
    "start_time": "2025-03-07T07:57:16.077Z"
   },
   {
    "duration": 606,
    "start_time": "2025-03-07T07:57:17.065Z"
   },
   {
    "duration": 6,
    "start_time": "2025-03-07T07:57:17.673Z"
   },
   {
    "duration": 67,
    "start_time": "2025-03-07T07:57:17.680Z"
   },
   {
    "duration": 72,
    "start_time": "2025-03-07T07:57:17.748Z"
   },
   {
    "duration": 80,
    "start_time": "2025-03-07T07:57:17.822Z"
   },
   {
    "duration": 45,
    "start_time": "2025-03-07T07:57:17.904Z"
   },
   {
    "duration": 8,
    "start_time": "2025-03-07T07:57:17.950Z"
   },
   {
    "duration": 9,
    "start_time": "2025-03-07T07:57:17.959Z"
   },
   {
    "duration": 10,
    "start_time": "2025-03-07T07:57:17.969Z"
   },
   {
    "duration": 18,
    "start_time": "2025-03-07T07:57:17.980Z"
   },
   {
    "duration": 57,
    "start_time": "2025-03-07T07:57:18.000Z"
   },
   {
    "duration": 10,
    "start_time": "2025-03-07T07:57:18.059Z"
   },
   {
    "duration": 15,
    "start_time": "2025-03-07T07:57:18.070Z"
   },
   {
    "duration": 31,
    "start_time": "2025-03-07T07:57:18.086Z"
   },
   {
    "duration": 8,
    "start_time": "2025-03-07T07:57:18.118Z"
   },
   {
    "duration": 211,
    "start_time": "2025-03-07T07:57:18.127Z"
   },
   {
    "duration": 3049,
    "start_time": "2025-03-07T07:58:37.559Z"
   },
   {
    "duration": 422,
    "start_time": "2025-03-07T07:58:40.610Z"
   },
   {
    "duration": 2108,
    "start_time": "2025-03-07T07:58:41.033Z"
   },
   {
    "duration": 11,
    "start_time": "2025-03-07T07:58:43.142Z"
   },
   {
    "duration": 77,
    "start_time": "2025-03-07T07:58:43.155Z"
   },
   {
    "duration": 20,
    "start_time": "2025-03-07T07:58:43.233Z"
   },
   {
    "duration": 6,
    "start_time": "2025-03-07T07:58:43.255Z"
   },
   {
    "duration": 11,
    "start_time": "2025-03-07T07:58:43.262Z"
   },
   {
    "duration": 9,
    "start_time": "2025-03-07T07:58:43.274Z"
   },
   {
    "duration": 28,
    "start_time": "2025-03-07T07:58:43.284Z"
   },
   {
    "duration": 77,
    "start_time": "2025-03-07T07:58:43.313Z"
   },
   {
    "duration": 61,
    "start_time": "2025-03-07T07:58:43.391Z"
   },
   {
    "duration": 106,
    "start_time": "2025-03-07T07:58:43.453Z"
   },
   {
    "duration": 90,
    "start_time": "2025-03-07T07:58:43.562Z"
   },
   {
    "duration": 143,
    "start_time": "2025-03-07T07:58:43.653Z"
   },
   {
    "duration": 8,
    "start_time": "2025-03-07T07:58:43.797Z"
   },
   {
    "duration": 195,
    "start_time": "2025-03-07T07:58:43.806Z"
   },
   {
    "duration": 32,
    "start_time": "2025-03-07T07:58:44.002Z"
   },
   {
    "duration": 32,
    "start_time": "2025-03-07T07:58:44.036Z"
   },
   {
    "duration": 6,
    "start_time": "2025-03-07T07:58:44.070Z"
   },
   {
    "duration": 40,
    "start_time": "2025-03-07T07:58:44.077Z"
   },
   {
    "duration": 13,
    "start_time": "2025-03-07T07:58:44.118Z"
   },
   {
    "duration": 35,
    "start_time": "2025-03-07T07:58:44.132Z"
   },
   {
    "duration": 112,
    "start_time": "2025-03-07T07:58:44.168Z"
   },
   {
    "duration": 30,
    "start_time": "2025-03-07T07:58:44.281Z"
   },
   {
    "duration": 29,
    "start_time": "2025-03-07T07:58:44.312Z"
   },
   {
    "duration": 24,
    "start_time": "2025-03-07T07:58:44.342Z"
   },
   {
    "duration": 14,
    "start_time": "2025-03-07T07:58:44.368Z"
   },
   {
    "duration": 42,
    "start_time": "2025-03-07T07:58:44.384Z"
   },
   {
    "duration": 11,
    "start_time": "2025-03-07T07:58:44.428Z"
   },
   {
    "duration": 13,
    "start_time": "2025-03-07T07:58:44.440Z"
   },
   {
    "duration": 133,
    "start_time": "2025-03-07T07:58:44.455Z"
   },
   {
    "duration": 7,
    "start_time": "2025-03-07T07:58:44.589Z"
   },
   {
    "duration": 96,
    "start_time": "2025-03-07T07:58:44.597Z"
   },
   {
    "duration": 122,
    "start_time": "2025-03-07T07:58:44.694Z"
   },
   {
    "duration": 59,
    "start_time": "2025-03-07T07:58:44.818Z"
   },
   {
    "duration": 15,
    "start_time": "2025-03-07T07:58:44.879Z"
   },
   {
    "duration": 94,
    "start_time": "2025-03-07T07:58:44.896Z"
   },
   {
    "duration": 150,
    "start_time": "2025-03-07T07:58:44.992Z"
   },
   {
    "duration": 100,
    "start_time": "2025-03-07T07:58:45.144Z"
   },
   {
    "duration": 44,
    "start_time": "2025-03-07T07:58:45.249Z"
   },
   {
    "duration": 78,
    "start_time": "2025-03-07T07:58:45.295Z"
   },
   {
    "duration": 17,
    "start_time": "2025-03-07T07:58:45.374Z"
   },
   {
    "duration": 36,
    "start_time": "2025-03-07T07:58:45.392Z"
   },
   {
    "duration": 553,
    "start_time": "2025-03-07T07:58:45.430Z"
   },
   {
    "duration": 63,
    "start_time": "2025-03-07T07:58:45.985Z"
   },
   {
    "duration": 157,
    "start_time": "2025-03-07T07:58:46.049Z"
   },
   {
    "duration": 72,
    "start_time": "2025-03-07T07:58:46.208Z"
   },
   {
    "duration": 37,
    "start_time": "2025-03-07T07:58:46.282Z"
   },
   {
    "duration": 3,
    "start_time": "2025-03-07T07:58:46.321Z"
   },
   {
    "duration": 31,
    "start_time": "2025-03-07T07:58:46.326Z"
   },
   {
    "duration": 24,
    "start_time": "2025-03-07T07:58:46.359Z"
   },
   {
    "duration": 41,
    "start_time": "2025-03-07T07:58:46.385Z"
   },
   {
    "duration": 484,
    "start_time": "2025-03-07T07:58:46.427Z"
   },
   {
    "duration": 583,
    "start_time": "2025-03-07T07:58:46.913Z"
   },
   {
    "duration": 25,
    "start_time": "2025-03-07T07:58:47.498Z"
   },
   {
    "duration": 112,
    "start_time": "2025-03-07T07:58:47.525Z"
   },
   {
    "duration": 26,
    "start_time": "2025-03-07T07:58:47.639Z"
   },
   {
    "duration": 93,
    "start_time": "2025-03-07T07:58:47.666Z"
   },
   {
    "duration": 90,
    "start_time": "2025-03-07T07:58:47.760Z"
   },
   {
    "duration": 374,
    "start_time": "2025-03-07T07:58:47.851Z"
   },
   {
    "duration": 91,
    "start_time": "2025-03-07T07:58:48.227Z"
   },
   {
    "duration": 177,
    "start_time": "2025-03-07T07:58:48.320Z"
   },
   {
    "duration": 373,
    "start_time": "2025-03-07T07:58:48.499Z"
   },
   {
    "duration": 85,
    "start_time": "2025-03-07T07:58:48.873Z"
   },
   {
    "duration": 40,
    "start_time": "2025-03-07T07:58:48.960Z"
   },
   {
    "duration": 13,
    "start_time": "2025-03-07T07:58:49.002Z"
   },
   {
    "duration": 197,
    "start_time": "2025-03-07T07:58:49.016Z"
   },
   {
    "duration": 947,
    "start_time": "2025-03-07T07:58:49.215Z"
   },
   {
    "duration": 622,
    "start_time": "2025-03-07T07:58:50.164Z"
   },
   {
    "duration": 5,
    "start_time": "2025-03-07T07:58:50.788Z"
   },
   {
    "duration": 27,
    "start_time": "2025-03-07T07:58:50.794Z"
   },
   {
    "duration": 155,
    "start_time": "2025-03-07T07:58:50.823Z"
   },
   {
    "duration": 0,
    "start_time": "2025-03-07T07:58:50.980Z"
   },
   {
    "duration": 0,
    "start_time": "2025-03-07T07:58:50.981Z"
   },
   {
    "duration": 0,
    "start_time": "2025-03-07T07:58:50.982Z"
   },
   {
    "duration": 0,
    "start_time": "2025-03-07T07:58:50.983Z"
   },
   {
    "duration": 0,
    "start_time": "2025-03-07T07:58:50.984Z"
   },
   {
    "duration": 0,
    "start_time": "2025-03-07T07:58:50.985Z"
   },
   {
    "duration": 0,
    "start_time": "2025-03-07T07:58:50.985Z"
   },
   {
    "duration": 0,
    "start_time": "2025-03-07T07:58:50.986Z"
   },
   {
    "duration": 0,
    "start_time": "2025-03-07T07:58:50.988Z"
   },
   {
    "duration": 0,
    "start_time": "2025-03-07T07:58:50.989Z"
   },
   {
    "duration": 0,
    "start_time": "2025-03-07T07:58:50.990Z"
   },
   {
    "duration": 0,
    "start_time": "2025-03-07T07:58:50.991Z"
   },
   {
    "duration": 126,
    "start_time": "2025-03-07T07:59:45.263Z"
   },
   {
    "duration": 146,
    "start_time": "2025-03-07T08:00:13.554Z"
   },
   {
    "duration": 188,
    "start_time": "2025-03-07T08:02:05.721Z"
   },
   {
    "duration": 196,
    "start_time": "2025-03-07T08:04:34.117Z"
   },
   {
    "duration": 169,
    "start_time": "2025-03-07T08:06:16.219Z"
   },
   {
    "duration": 185,
    "start_time": "2025-03-07T08:08:47.537Z"
   },
   {
    "duration": 170,
    "start_time": "2025-03-07T08:09:04.694Z"
   },
   {
    "duration": 285,
    "start_time": "2025-03-07T08:09:44.435Z"
   },
   {
    "duration": 313,
    "start_time": "2025-03-07T08:16:51.569Z"
   },
   {
    "duration": 472,
    "start_time": "2025-03-07T08:17:17.892Z"
   },
   {
    "duration": 531,
    "start_time": "2025-03-07T08:17:39.156Z"
   },
   {
    "duration": 675,
    "start_time": "2025-03-07T08:18:28.804Z"
   },
   {
    "duration": 819,
    "start_time": "2025-03-07T08:18:40.755Z"
   },
   {
    "duration": 3110,
    "start_time": "2025-03-07T08:19:22.804Z"
   },
   {
    "duration": 423,
    "start_time": "2025-03-07T08:19:25.916Z"
   },
   {
    "duration": 2105,
    "start_time": "2025-03-07T08:19:26.340Z"
   },
   {
    "duration": 11,
    "start_time": "2025-03-07T08:19:28.448Z"
   },
   {
    "duration": 35,
    "start_time": "2025-03-07T08:19:28.460Z"
   },
   {
    "duration": 17,
    "start_time": "2025-03-07T08:19:28.496Z"
   },
   {
    "duration": 12,
    "start_time": "2025-03-07T08:19:28.514Z"
   },
   {
    "duration": 11,
    "start_time": "2025-03-07T08:19:28.528Z"
   },
   {
    "duration": 14,
    "start_time": "2025-03-07T08:19:28.541Z"
   },
   {
    "duration": 8,
    "start_time": "2025-03-07T08:19:28.558Z"
   },
   {
    "duration": 21,
    "start_time": "2025-03-07T08:19:28.568Z"
   },
   {
    "duration": 22,
    "start_time": "2025-03-07T08:19:28.590Z"
   },
   {
    "duration": 109,
    "start_time": "2025-03-07T08:19:28.613Z"
   },
   {
    "duration": 93,
    "start_time": "2025-03-07T08:19:28.723Z"
   },
   {
    "duration": 96,
    "start_time": "2025-03-07T08:19:28.817Z"
   },
   {
    "duration": 8,
    "start_time": "2025-03-07T08:19:28.915Z"
   },
   {
    "duration": 56,
    "start_time": "2025-03-07T08:19:28.924Z"
   },
   {
    "duration": 35,
    "start_time": "2025-03-07T08:19:28.982Z"
   },
   {
    "duration": 53,
    "start_time": "2025-03-07T08:19:29.018Z"
   },
   {
    "duration": 6,
    "start_time": "2025-03-07T08:19:29.073Z"
   },
   {
    "duration": 30,
    "start_time": "2025-03-07T08:19:29.080Z"
   },
   {
    "duration": 88,
    "start_time": "2025-03-07T08:19:29.111Z"
   },
   {
    "duration": 100,
    "start_time": "2025-03-07T08:19:29.200Z"
   },
   {
    "duration": 7,
    "start_time": "2025-03-07T08:19:29.302Z"
   },
   {
    "duration": 35,
    "start_time": "2025-03-07T08:19:29.310Z"
   },
   {
    "duration": 27,
    "start_time": "2025-03-07T08:19:29.347Z"
   },
   {
    "duration": 26,
    "start_time": "2025-03-07T08:19:29.375Z"
   },
   {
    "duration": 10,
    "start_time": "2025-03-07T08:19:29.405Z"
   },
   {
    "duration": 15,
    "start_time": "2025-03-07T08:19:29.416Z"
   },
   {
    "duration": 20,
    "start_time": "2025-03-07T08:19:29.433Z"
   },
   {
    "duration": 18,
    "start_time": "2025-03-07T08:19:29.454Z"
   },
   {
    "duration": 157,
    "start_time": "2025-03-07T08:19:29.473Z"
   },
   {
    "duration": 7,
    "start_time": "2025-03-07T08:19:29.631Z"
   },
   {
    "duration": 224,
    "start_time": "2025-03-07T08:19:29.647Z"
   },
   {
    "duration": 131,
    "start_time": "2025-03-07T08:19:29.873Z"
   },
   {
    "duration": 64,
    "start_time": "2025-03-07T08:19:30.005Z"
   },
   {
    "duration": 70,
    "start_time": "2025-03-07T08:19:30.071Z"
   },
   {
    "duration": 144,
    "start_time": "2025-03-07T08:19:30.142Z"
   },
   {
    "duration": 149,
    "start_time": "2025-03-07T08:19:30.288Z"
   },
   {
    "duration": 9,
    "start_time": "2025-03-07T08:19:30.439Z"
   },
   {
    "duration": 103,
    "start_time": "2025-03-07T08:19:30.449Z"
   },
   {
    "duration": 93,
    "start_time": "2025-03-07T08:19:30.554Z"
   },
   {
    "duration": 33,
    "start_time": "2025-03-07T08:19:30.648Z"
   },
   {
    "duration": 29,
    "start_time": "2025-03-07T08:19:30.683Z"
   },
   {
    "duration": 560,
    "start_time": "2025-03-07T08:19:30.713Z"
   },
   {
    "duration": 47,
    "start_time": "2025-03-07T08:19:31.275Z"
   },
   {
    "duration": 199,
    "start_time": "2025-03-07T08:19:31.323Z"
   },
   {
    "duration": 83,
    "start_time": "2025-03-07T08:19:31.524Z"
   },
   {
    "duration": 41,
    "start_time": "2025-03-07T08:19:31.609Z"
   },
   {
    "duration": 131,
    "start_time": "2025-03-07T08:19:31.652Z"
   },
   {
    "duration": 34,
    "start_time": "2025-03-07T08:19:31.784Z"
   },
   {
    "duration": 18,
    "start_time": "2025-03-07T08:19:31.820Z"
   },
   {
    "duration": 60,
    "start_time": "2025-03-07T08:19:31.840Z"
   },
   {
    "duration": 473,
    "start_time": "2025-03-07T08:19:31.902Z"
   },
   {
    "duration": 559,
    "start_time": "2025-03-07T08:19:32.377Z"
   },
   {
    "duration": 27,
    "start_time": "2025-03-07T08:19:32.938Z"
   },
   {
    "duration": 130,
    "start_time": "2025-03-07T08:19:32.967Z"
   },
   {
    "duration": 22,
    "start_time": "2025-03-07T08:19:33.098Z"
   },
   {
    "duration": 109,
    "start_time": "2025-03-07T08:19:33.122Z"
   },
   {
    "duration": 159,
    "start_time": "2025-03-07T08:19:33.233Z"
   },
   {
    "duration": 307,
    "start_time": "2025-03-07T08:19:33.393Z"
   },
   {
    "duration": 82,
    "start_time": "2025-03-07T08:19:33.702Z"
   },
   {
    "duration": 176,
    "start_time": "2025-03-07T08:19:33.786Z"
   },
   {
    "duration": 395,
    "start_time": "2025-03-07T08:19:33.964Z"
   },
   {
    "duration": 95,
    "start_time": "2025-03-07T08:19:34.361Z"
   },
   {
    "duration": 91,
    "start_time": "2025-03-07T08:19:34.459Z"
   },
   {
    "duration": 15,
    "start_time": "2025-03-07T08:19:34.552Z"
   },
   {
    "duration": 13,
    "start_time": "2025-03-07T08:19:34.569Z"
   },
   {
    "duration": 980,
    "start_time": "2025-03-07T08:19:34.584Z"
   },
   {
    "duration": 642,
    "start_time": "2025-03-07T08:19:35.566Z"
   },
   {
    "duration": 7,
    "start_time": "2025-03-07T08:19:36.210Z"
   },
   {
    "duration": 60,
    "start_time": "2025-03-07T08:19:36.218Z"
   },
   {
    "duration": 150,
    "start_time": "2025-03-07T08:19:36.280Z"
   },
   {
    "duration": 185,
    "start_time": "2025-03-07T08:19:36.432Z"
   },
   {
    "duration": 0,
    "start_time": "2025-03-07T08:19:36.619Z"
   },
   {
    "duration": 0,
    "start_time": "2025-03-07T08:19:36.621Z"
   },
   {
    "duration": 0,
    "start_time": "2025-03-07T08:19:36.622Z"
   },
   {
    "duration": 0,
    "start_time": "2025-03-07T08:19:36.624Z"
   },
   {
    "duration": 0,
    "start_time": "2025-03-07T08:19:36.626Z"
   },
   {
    "duration": 0,
    "start_time": "2025-03-07T08:19:36.627Z"
   },
   {
    "duration": 0,
    "start_time": "2025-03-07T08:19:36.628Z"
   },
   {
    "duration": 0,
    "start_time": "2025-03-07T08:19:36.630Z"
   },
   {
    "duration": 0,
    "start_time": "2025-03-07T08:19:36.631Z"
   },
   {
    "duration": 1,
    "start_time": "2025-03-07T08:19:36.648Z"
   },
   {
    "duration": 0,
    "start_time": "2025-03-07T08:19:36.650Z"
   },
   {
    "duration": 9086,
    "start_time": "2025-03-07T10:10:10.727Z"
   },
   {
    "duration": 431,
    "start_time": "2025-03-07T10:10:19.816Z"
   },
   {
    "duration": 2503,
    "start_time": "2025-03-07T10:10:20.248Z"
   },
   {
    "duration": 11,
    "start_time": "2025-03-07T10:10:22.753Z"
   },
   {
    "duration": 34,
    "start_time": "2025-03-07T10:10:22.765Z"
   },
   {
    "duration": 29,
    "start_time": "2025-03-07T10:10:22.801Z"
   },
   {
    "duration": 28,
    "start_time": "2025-03-07T10:10:22.831Z"
   },
   {
    "duration": 39,
    "start_time": "2025-03-07T10:10:22.861Z"
   },
   {
    "duration": 41,
    "start_time": "2025-03-07T10:10:22.902Z"
   },
   {
    "duration": 72,
    "start_time": "2025-03-07T10:10:22.946Z"
   },
   {
    "duration": 45,
    "start_time": "2025-03-07T10:10:23.020Z"
   },
   {
    "duration": 96,
    "start_time": "2025-03-07T10:10:23.066Z"
   },
   {
    "duration": 118,
    "start_time": "2025-03-07T10:10:23.164Z"
   },
   {
    "duration": 98,
    "start_time": "2025-03-07T10:10:23.284Z"
   },
   {
    "duration": 98,
    "start_time": "2025-03-07T10:10:23.383Z"
   },
   {
    "duration": 9,
    "start_time": "2025-03-07T10:10:23.482Z"
   },
   {
    "duration": 74,
    "start_time": "2025-03-07T10:10:23.493Z"
   },
   {
    "duration": 32,
    "start_time": "2025-03-07T10:10:23.569Z"
   },
   {
    "duration": 113,
    "start_time": "2025-03-07T10:10:23.603Z"
   },
   {
    "duration": 38,
    "start_time": "2025-03-07T10:10:23.718Z"
   },
   {
    "duration": 56,
    "start_time": "2025-03-07T10:10:23.758Z"
   },
   {
    "duration": 35,
    "start_time": "2025-03-07T10:10:23.815Z"
   },
   {
    "duration": 34,
    "start_time": "2025-03-07T10:10:23.852Z"
   },
   {
    "duration": 27,
    "start_time": "2025-03-07T10:10:23.888Z"
   },
   {
    "duration": 26,
    "start_time": "2025-03-07T10:10:23.917Z"
   },
   {
    "duration": 70,
    "start_time": "2025-03-07T10:10:23.945Z"
   },
   {
    "duration": 54,
    "start_time": "2025-03-07T10:10:24.016Z"
   },
   {
    "duration": 49,
    "start_time": "2025-03-07T10:10:24.074Z"
   },
   {
    "duration": 38,
    "start_time": "2025-03-07T10:10:24.125Z"
   },
   {
    "duration": 41,
    "start_time": "2025-03-07T10:10:24.165Z"
   },
   {
    "duration": 28,
    "start_time": "2025-03-07T10:10:24.208Z"
   },
   {
    "duration": 169,
    "start_time": "2025-03-07T10:10:24.238Z"
   },
   {
    "duration": 8,
    "start_time": "2025-03-07T10:10:24.409Z"
   },
   {
    "duration": 106,
    "start_time": "2025-03-07T10:10:24.419Z"
   },
   {
    "duration": 137,
    "start_time": "2025-03-07T10:10:24.527Z"
   },
   {
    "duration": 68,
    "start_time": "2025-03-07T10:10:24.666Z"
   },
   {
    "duration": 19,
    "start_time": "2025-03-07T10:10:24.735Z"
   },
   {
    "duration": 106,
    "start_time": "2025-03-07T10:10:24.755Z"
   },
   {
    "duration": 155,
    "start_time": "2025-03-07T10:10:24.863Z"
   },
   {
    "duration": 4,
    "start_time": "2025-03-07T10:10:25.020Z"
   },
   {
    "duration": 25,
    "start_time": "2025-03-07T10:10:25.026Z"
   },
   {
    "duration": 150,
    "start_time": "2025-03-07T10:10:25.052Z"
   },
   {
    "duration": 21,
    "start_time": "2025-03-07T10:10:25.204Z"
   },
   {
    "duration": 42,
    "start_time": "2025-03-07T10:10:25.226Z"
   },
   {
    "duration": 558,
    "start_time": "2025-03-07T10:10:25.270Z"
   },
   {
    "duration": 52,
    "start_time": "2025-03-07T10:10:25.830Z"
   },
   {
    "duration": 186,
    "start_time": "2025-03-07T10:10:25.883Z"
   },
   {
    "duration": 90,
    "start_time": "2025-03-07T10:10:26.071Z"
   },
   {
    "duration": 52,
    "start_time": "2025-03-07T10:10:26.163Z"
   },
   {
    "duration": 5,
    "start_time": "2025-03-07T10:10:26.216Z"
   },
   {
    "duration": 22,
    "start_time": "2025-03-07T10:10:26.223Z"
   },
   {
    "duration": 26,
    "start_time": "2025-03-07T10:10:26.247Z"
   },
   {
    "duration": 58,
    "start_time": "2025-03-07T10:10:26.275Z"
   },
   {
    "duration": 498,
    "start_time": "2025-03-07T10:10:26.335Z"
   },
   {
    "duration": 605,
    "start_time": "2025-03-07T10:10:26.834Z"
   },
   {
    "duration": 30,
    "start_time": "2025-03-07T10:10:27.441Z"
   },
   {
    "duration": 150,
    "start_time": "2025-03-07T10:10:27.473Z"
   },
   {
    "duration": 22,
    "start_time": "2025-03-07T10:10:27.625Z"
   },
   {
    "duration": 50,
    "start_time": "2025-03-07T10:10:27.649Z"
   },
   {
    "duration": 89,
    "start_time": "2025-03-07T10:10:27.701Z"
   },
   {
    "duration": 389,
    "start_time": "2025-03-07T10:10:27.792Z"
   },
   {
    "duration": 83,
    "start_time": "2025-03-07T10:10:28.184Z"
   },
   {
    "duration": 172,
    "start_time": "2025-03-07T10:10:28.268Z"
   },
   {
    "duration": 388,
    "start_time": "2025-03-07T10:10:28.441Z"
   },
   {
    "duration": 85,
    "start_time": "2025-03-07T10:10:28.830Z"
   },
   {
    "duration": 43,
    "start_time": "2025-03-07T10:10:28.917Z"
   },
   {
    "duration": 15,
    "start_time": "2025-03-07T10:10:28.962Z"
   },
   {
    "duration": 36,
    "start_time": "2025-03-07T10:10:29.006Z"
   },
   {
    "duration": 953,
    "start_time": "2025-03-07T10:10:29.044Z"
   },
   {
    "duration": 628,
    "start_time": "2025-03-07T10:10:30.007Z"
   },
   {
    "duration": 5,
    "start_time": "2025-03-07T10:10:30.637Z"
   },
   {
    "duration": 27,
    "start_time": "2025-03-07T10:10:30.644Z"
   },
   {
    "duration": 148,
    "start_time": "2025-03-07T10:10:30.673Z"
   },
   {
    "duration": 190,
    "start_time": "2025-03-07T10:10:30.823Z"
   },
   {
    "duration": 0,
    "start_time": "2025-03-07T10:10:31.015Z"
   },
   {
    "duration": 0,
    "start_time": "2025-03-07T10:10:31.016Z"
   },
   {
    "duration": 0,
    "start_time": "2025-03-07T10:10:31.017Z"
   },
   {
    "duration": 0,
    "start_time": "2025-03-07T10:10:31.018Z"
   },
   {
    "duration": 0,
    "start_time": "2025-03-07T10:10:31.019Z"
   },
   {
    "duration": 0,
    "start_time": "2025-03-07T10:10:31.020Z"
   },
   {
    "duration": 0,
    "start_time": "2025-03-07T10:10:31.021Z"
   },
   {
    "duration": 0,
    "start_time": "2025-03-07T10:10:31.022Z"
   },
   {
    "duration": 0,
    "start_time": "2025-03-07T10:10:31.022Z"
   },
   {
    "duration": 0,
    "start_time": "2025-03-07T10:10:31.023Z"
   },
   {
    "duration": 0,
    "start_time": "2025-03-07T10:10:31.024Z"
   },
   {
    "duration": 672,
    "start_time": "2025-03-07T10:11:15.847Z"
   },
   {
    "duration": 169,
    "start_time": "2025-03-07T10:14:03.645Z"
   },
   {
    "duration": 262,
    "start_time": "2025-03-07T10:14:23.321Z"
   },
   {
    "duration": 321,
    "start_time": "2025-03-07T10:16:27.142Z"
   },
   {
    "duration": 434,
    "start_time": "2025-03-07T10:18:38.303Z"
   },
   {
    "duration": 560,
    "start_time": "2025-03-07T10:18:59.277Z"
   },
   {
    "duration": 720,
    "start_time": "2025-03-07T10:20:24.451Z"
   },
   {
    "duration": 778,
    "start_time": "2025-03-07T10:21:13.531Z"
   },
   {
    "duration": 665,
    "start_time": "2025-03-07T10:21:15.391Z"
   },
   {
    "duration": 654,
    "start_time": "2025-03-07T10:22:10.123Z"
   },
   {
    "duration": 686,
    "start_time": "2025-03-07T10:22:37.122Z"
   },
   {
    "duration": 678,
    "start_time": "2025-03-07T10:23:24.919Z"
   },
   {
    "duration": 675,
    "start_time": "2025-03-07T10:24:57.145Z"
   },
   {
    "duration": 997,
    "start_time": "2025-03-07T10:28:08.115Z"
   },
   {
    "duration": 707,
    "start_time": "2025-03-07T10:28:09.790Z"
   },
   {
    "duration": 1115,
    "start_time": "2025-03-07T10:28:17.861Z"
   },
   {
    "duration": 1264,
    "start_time": "2025-03-07T10:28:24.243Z"
   },
   {
    "duration": 1487,
    "start_time": "2025-03-07T10:30:00.172Z"
   },
   {
    "duration": 1720,
    "start_time": "2025-03-07T10:30:04.396Z"
   },
   {
    "duration": 41,
    "start_time": "2025-03-07T10:30:53.833Z"
   },
   {
    "duration": 45,
    "start_time": "2025-03-07T10:31:48.951Z"
   },
   {
    "duration": 3084,
    "start_time": "2025-03-07T10:39:13.078Z"
   },
   {
    "duration": 408,
    "start_time": "2025-03-07T10:39:16.164Z"
   },
   {
    "duration": 2575,
    "start_time": "2025-03-07T10:39:16.573Z"
   },
   {
    "duration": 13,
    "start_time": "2025-03-07T10:39:19.150Z"
   },
   {
    "duration": 35,
    "start_time": "2025-03-07T10:39:19.164Z"
   },
   {
    "duration": 45,
    "start_time": "2025-03-07T10:39:19.201Z"
   },
   {
    "duration": 20,
    "start_time": "2025-03-07T10:39:19.248Z"
   },
   {
    "duration": 42,
    "start_time": "2025-03-07T10:39:19.269Z"
   },
   {
    "duration": 6,
    "start_time": "2025-03-07T10:39:19.313Z"
   },
   {
    "duration": 8,
    "start_time": "2025-03-07T10:39:19.322Z"
   },
   {
    "duration": 28,
    "start_time": "2025-03-07T10:39:19.332Z"
   },
   {
    "duration": 23,
    "start_time": "2025-03-07T10:39:19.362Z"
   },
   {
    "duration": 109,
    "start_time": "2025-03-07T10:39:19.387Z"
   },
   {
    "duration": 112,
    "start_time": "2025-03-07T10:39:19.498Z"
   },
   {
    "duration": 104,
    "start_time": "2025-03-07T10:39:19.612Z"
   },
   {
    "duration": 9,
    "start_time": "2025-03-07T10:39:19.717Z"
   },
   {
    "duration": 99,
    "start_time": "2025-03-07T10:39:19.727Z"
   },
   {
    "duration": 34,
    "start_time": "2025-03-07T10:39:19.827Z"
   },
   {
    "duration": 49,
    "start_time": "2025-03-07T10:39:19.863Z"
   },
   {
    "duration": 6,
    "start_time": "2025-03-07T10:39:19.914Z"
   },
   {
    "duration": 21,
    "start_time": "2025-03-07T10:39:19.922Z"
   },
   {
    "duration": 28,
    "start_time": "2025-03-07T10:39:19.945Z"
   },
   {
    "duration": 26,
    "start_time": "2025-03-07T10:39:19.975Z"
   },
   {
    "duration": 29,
    "start_time": "2025-03-07T10:39:20.003Z"
   },
   {
    "duration": 25,
    "start_time": "2025-03-07T10:39:20.034Z"
   },
   {
    "duration": 20,
    "start_time": "2025-03-07T10:39:20.060Z"
   },
   {
    "duration": 34,
    "start_time": "2025-03-07T10:39:20.082Z"
   },
   {
    "duration": 9,
    "start_time": "2025-03-07T10:39:20.119Z"
   },
   {
    "duration": 12,
    "start_time": "2025-03-07T10:39:20.130Z"
   },
   {
    "duration": 6,
    "start_time": "2025-03-07T10:39:20.144Z"
   },
   {
    "duration": 9,
    "start_time": "2025-03-07T10:39:20.152Z"
   },
   {
    "duration": 159,
    "start_time": "2025-03-07T10:39:20.162Z"
   },
   {
    "duration": 7,
    "start_time": "2025-03-07T10:39:20.323Z"
   },
   {
    "duration": 102,
    "start_time": "2025-03-07T10:39:20.331Z"
   },
   {
    "duration": 132,
    "start_time": "2025-03-07T10:39:20.434Z"
   },
   {
    "duration": 59,
    "start_time": "2025-03-07T10:39:20.567Z"
   },
   {
    "duration": 15,
    "start_time": "2025-03-07T10:39:20.628Z"
   },
   {
    "duration": 88,
    "start_time": "2025-03-07T10:39:20.645Z"
   },
   {
    "duration": 157,
    "start_time": "2025-03-07T10:39:20.734Z"
   },
   {
    "duration": 5,
    "start_time": "2025-03-07T10:39:20.893Z"
   },
   {
    "duration": 6,
    "start_time": "2025-03-07T10:39:20.908Z"
   },
   {
    "duration": 36,
    "start_time": "2025-03-07T10:39:20.916Z"
   },
   {
    "duration": 16,
    "start_time": "2025-03-07T10:39:20.954Z"
   },
   {
    "duration": 65,
    "start_time": "2025-03-07T10:39:20.972Z"
   },
   {
    "duration": 522,
    "start_time": "2025-03-07T10:39:21.039Z"
   },
   {
    "duration": 57,
    "start_time": "2025-03-07T10:39:21.563Z"
   },
   {
    "duration": 172,
    "start_time": "2025-03-07T10:39:21.622Z"
   },
   {
    "duration": 73,
    "start_time": "2025-03-07T10:39:21.796Z"
   },
   {
    "duration": 45,
    "start_time": "2025-03-07T10:39:21.870Z"
   },
   {
    "duration": 4,
    "start_time": "2025-03-07T10:39:21.917Z"
   },
   {
    "duration": 17,
    "start_time": "2025-03-07T10:39:21.923Z"
   },
   {
    "duration": 22,
    "start_time": "2025-03-07T10:39:21.941Z"
   },
   {
    "duration": 53,
    "start_time": "2025-03-07T10:39:21.965Z"
   },
   {
    "duration": 491,
    "start_time": "2025-03-07T10:39:22.020Z"
   },
   {
    "duration": 594,
    "start_time": "2025-03-07T10:39:22.513Z"
   },
   {
    "duration": 27,
    "start_time": "2025-03-07T10:39:23.109Z"
   },
   {
    "duration": 330,
    "start_time": "2025-03-07T10:39:23.138Z"
   },
   {
    "duration": 22,
    "start_time": "2025-03-07T10:39:23.469Z"
   },
   {
    "duration": 37,
    "start_time": "2025-03-07T10:39:23.493Z"
   },
   {
    "duration": 91,
    "start_time": "2025-03-07T10:39:23.531Z"
   },
   {
    "duration": 320,
    "start_time": "2025-03-07T10:39:23.624Z"
   },
   {
    "duration": 78,
    "start_time": "2025-03-07T10:39:23.946Z"
   },
   {
    "duration": 161,
    "start_time": "2025-03-07T10:39:24.026Z"
   },
   {
    "duration": 375,
    "start_time": "2025-03-07T10:39:24.188Z"
   },
   {
    "duration": 87,
    "start_time": "2025-03-07T10:39:24.564Z"
   },
   {
    "duration": 55,
    "start_time": "2025-03-07T10:39:24.653Z"
   },
   {
    "duration": 14,
    "start_time": "2025-03-07T10:39:24.709Z"
   },
   {
    "duration": 22,
    "start_time": "2025-03-07T10:39:24.724Z"
   },
   {
    "duration": 961,
    "start_time": "2025-03-07T10:39:24.747Z"
   },
   {
    "duration": 632,
    "start_time": "2025-03-07T10:39:25.710Z"
   },
   {
    "duration": 5,
    "start_time": "2025-03-07T10:39:26.344Z"
   },
   {
    "duration": 17,
    "start_time": "2025-03-07T10:39:26.350Z"
   },
   {
    "duration": 130,
    "start_time": "2025-03-07T10:39:26.368Z"
   },
   {
    "duration": 22,
    "start_time": "2025-03-07T10:39:26.507Z"
   },
   {
    "duration": 20,
    "start_time": "2025-03-07T10:39:26.530Z"
   },
   {
    "duration": 9,
    "start_time": "2025-03-07T10:39:26.552Z"
   },
   {
    "duration": 9,
    "start_time": "2025-03-07T10:39:26.562Z"
   },
   {
    "duration": 35,
    "start_time": "2025-03-07T10:39:26.573Z"
   },
   {
    "duration": 26,
    "start_time": "2025-03-07T10:39:26.609Z"
   },
   {
    "duration": 9,
    "start_time": "2025-03-07T10:39:26.636Z"
   },
   {
    "duration": 13,
    "start_time": "2025-03-07T10:39:26.646Z"
   },
   {
    "duration": 48,
    "start_time": "2025-03-07T10:39:26.664Z"
   },
   {
    "duration": 9,
    "start_time": "2025-03-07T10:39:26.714Z"
   },
   {
    "duration": 192,
    "start_time": "2025-03-07T10:39:26.724Z"
   },
   {
    "duration": 44,
    "start_time": "2025-03-07T10:54:58.754Z"
   },
   {
    "duration": 24,
    "start_time": "2025-03-07T10:55:26.305Z"
   },
   {
    "duration": 25,
    "start_time": "2025-03-07T10:55:35.855Z"
   },
   {
    "duration": 465,
    "start_time": "2025-03-07T10:56:18.232Z"
   },
   {
    "duration": 331,
    "start_time": "2025-03-07T10:56:23.027Z"
   },
   {
    "duration": 3084,
    "start_time": "2025-03-07T10:56:32.686Z"
   },
   {
    "duration": 416,
    "start_time": "2025-03-07T10:56:35.772Z"
   },
   {
    "duration": 2504,
    "start_time": "2025-03-07T10:56:36.189Z"
   },
   {
    "duration": 11,
    "start_time": "2025-03-07T10:56:38.695Z"
   },
   {
    "duration": 14,
    "start_time": "2025-03-07T10:56:38.708Z"
   },
   {
    "duration": 12,
    "start_time": "2025-03-07T10:56:38.723Z"
   },
   {
    "duration": 8,
    "start_time": "2025-03-07T10:56:38.736Z"
   },
   {
    "duration": 32,
    "start_time": "2025-03-07T10:56:38.745Z"
   },
   {
    "duration": 6,
    "start_time": "2025-03-07T10:56:38.779Z"
   },
   {
    "duration": 10,
    "start_time": "2025-03-07T10:56:38.787Z"
   },
   {
    "duration": 23,
    "start_time": "2025-03-07T10:56:38.798Z"
   },
   {
    "duration": 16,
    "start_time": "2025-03-07T10:56:38.822Z"
   },
   {
    "duration": 108,
    "start_time": "2025-03-07T10:56:38.839Z"
   },
   {
    "duration": 96,
    "start_time": "2025-03-07T10:56:38.948Z"
   },
   {
    "duration": 93,
    "start_time": "2025-03-07T10:56:39.045Z"
   },
   {
    "duration": 8,
    "start_time": "2025-03-07T10:56:39.139Z"
   },
   {
    "duration": 46,
    "start_time": "2025-03-07T10:56:39.148Z"
   },
   {
    "duration": 41,
    "start_time": "2025-03-07T10:56:39.195Z"
   },
   {
    "duration": 68,
    "start_time": "2025-03-07T10:56:39.238Z"
   },
   {
    "duration": 7,
    "start_time": "2025-03-07T10:56:39.307Z"
   },
   {
    "duration": 110,
    "start_time": "2025-03-07T10:56:39.315Z"
   },
   {
    "duration": 42,
    "start_time": "2025-03-07T10:56:39.427Z"
   },
   {
    "duration": 21,
    "start_time": "2025-03-07T10:56:39.471Z"
   },
   {
    "duration": 8,
    "start_time": "2025-03-07T10:56:39.494Z"
   },
   {
    "duration": 23,
    "start_time": "2025-03-07T10:56:39.503Z"
   },
   {
    "duration": 35,
    "start_time": "2025-03-07T10:56:39.528Z"
   },
   {
    "duration": 61,
    "start_time": "2025-03-07T10:56:39.564Z"
   },
   {
    "duration": 12,
    "start_time": "2025-03-07T10:56:39.631Z"
   },
   {
    "duration": 13,
    "start_time": "2025-03-07T10:56:39.645Z"
   },
   {
    "duration": 6,
    "start_time": "2025-03-07T10:56:39.660Z"
   },
   {
    "duration": 10,
    "start_time": "2025-03-07T10:56:39.668Z"
   },
   {
    "duration": 164,
    "start_time": "2025-03-07T10:56:39.680Z"
   },
   {
    "duration": 8,
    "start_time": "2025-03-07T10:56:39.846Z"
   },
   {
    "duration": 102,
    "start_time": "2025-03-07T10:56:39.856Z"
   },
   {
    "duration": 125,
    "start_time": "2025-03-07T10:56:39.960Z"
   },
   {
    "duration": 59,
    "start_time": "2025-03-07T10:56:40.087Z"
   },
   {
    "duration": 24,
    "start_time": "2025-03-07T10:56:40.148Z"
   },
   {
    "duration": 98,
    "start_time": "2025-03-07T10:56:40.173Z"
   },
   {
    "duration": 155,
    "start_time": "2025-03-07T10:56:40.273Z"
   },
   {
    "duration": 3,
    "start_time": "2025-03-07T10:56:40.430Z"
   },
   {
    "duration": 19,
    "start_time": "2025-03-07T10:56:40.435Z"
   },
   {
    "duration": 36,
    "start_time": "2025-03-07T10:56:40.455Z"
   },
   {
    "duration": 20,
    "start_time": "2025-03-07T10:56:40.493Z"
   },
   {
    "duration": 27,
    "start_time": "2025-03-07T10:56:40.515Z"
   },
   {
    "duration": 565,
    "start_time": "2025-03-07T10:56:40.544Z"
   },
   {
    "duration": 48,
    "start_time": "2025-03-07T10:56:41.110Z"
   },
   {
    "duration": 183,
    "start_time": "2025-03-07T10:56:41.160Z"
   },
   {
    "duration": 77,
    "start_time": "2025-03-07T10:56:41.344Z"
   },
   {
    "duration": 48,
    "start_time": "2025-03-07T10:56:41.422Z"
   },
   {
    "duration": 4,
    "start_time": "2025-03-07T10:56:41.471Z"
   },
   {
    "duration": 17,
    "start_time": "2025-03-07T10:56:41.476Z"
   },
   {
    "duration": 21,
    "start_time": "2025-03-07T10:56:41.495Z"
   },
   {
    "duration": 40,
    "start_time": "2025-03-07T10:56:41.517Z"
   },
   {
    "duration": 499,
    "start_time": "2025-03-07T10:56:41.558Z"
   },
   {
    "duration": 621,
    "start_time": "2025-03-07T10:56:42.058Z"
   },
   {
    "duration": 26,
    "start_time": "2025-03-07T10:56:42.681Z"
   },
   {
    "duration": 118,
    "start_time": "2025-03-07T10:56:42.709Z"
   },
   {
    "duration": 23,
    "start_time": "2025-03-07T10:56:42.828Z"
   },
   {
    "duration": 37,
    "start_time": "2025-03-07T10:56:42.852Z"
   },
   {
    "duration": 93,
    "start_time": "2025-03-07T10:56:42.891Z"
   },
   {
    "duration": 352,
    "start_time": "2025-03-07T10:56:42.985Z"
   },
   {
    "duration": 79,
    "start_time": "2025-03-07T10:56:43.339Z"
   },
   {
    "duration": 165,
    "start_time": "2025-03-07T10:56:43.419Z"
   },
   {
    "duration": 372,
    "start_time": "2025-03-07T10:56:43.585Z"
   },
   {
    "duration": 88,
    "start_time": "2025-03-07T10:56:43.958Z"
   },
   {
    "duration": 41,
    "start_time": "2025-03-07T10:56:44.047Z"
   },
   {
    "duration": 31,
    "start_time": "2025-03-07T10:56:44.089Z"
   },
   {
    "duration": 9,
    "start_time": "2025-03-07T10:56:44.122Z"
   },
   {
    "duration": 993,
    "start_time": "2025-03-07T10:56:44.133Z"
   },
   {
    "duration": 656,
    "start_time": "2025-03-07T10:56:45.127Z"
   },
   {
    "duration": 6,
    "start_time": "2025-03-07T10:56:45.785Z"
   },
   {
    "duration": 40,
    "start_time": "2025-03-07T10:56:45.792Z"
   },
   {
    "duration": 126,
    "start_time": "2025-03-07T10:56:45.833Z"
   },
   {
    "duration": 21,
    "start_time": "2025-03-07T10:56:45.960Z"
   },
   {
    "duration": 24,
    "start_time": "2025-03-07T10:56:45.983Z"
   },
   {
    "duration": 9,
    "start_time": "2025-03-07T10:56:46.009Z"
   },
   {
    "duration": 10,
    "start_time": "2025-03-07T10:56:46.019Z"
   },
   {
    "duration": 17,
    "start_time": "2025-03-07T10:56:46.030Z"
   },
   {
    "duration": 57,
    "start_time": "2025-03-07T10:56:46.049Z"
   },
   {
    "duration": 10,
    "start_time": "2025-03-07T10:56:46.109Z"
   },
   {
    "duration": 15,
    "start_time": "2025-03-07T10:56:46.121Z"
   },
   {
    "duration": 21,
    "start_time": "2025-03-07T10:56:46.142Z"
   },
   {
    "duration": 10,
    "start_time": "2025-03-07T10:56:46.165Z"
   },
   {
    "duration": 188,
    "start_time": "2025-03-07T10:56:46.208Z"
   },
   {
    "duration": 3029,
    "start_time": "2025-03-07T11:02:26.044Z"
   },
   {
    "duration": 407,
    "start_time": "2025-03-07T11:02:29.075Z"
   },
   {
    "duration": 2726,
    "start_time": "2025-03-07T11:02:29.484Z"
   },
   {
    "duration": 11,
    "start_time": "2025-03-07T11:02:32.212Z"
   },
   {
    "duration": 7,
    "start_time": "2025-03-07T11:02:32.225Z"
   },
   {
    "duration": 16,
    "start_time": "2025-03-07T11:02:32.233Z"
   },
   {
    "duration": 24,
    "start_time": "2025-03-07T11:02:32.250Z"
   },
   {
    "duration": 40,
    "start_time": "2025-03-07T11:02:32.275Z"
   },
   {
    "duration": 6,
    "start_time": "2025-03-07T11:02:32.316Z"
   },
   {
    "duration": 11,
    "start_time": "2025-03-07T11:02:32.325Z"
   },
   {
    "duration": 23,
    "start_time": "2025-03-07T11:02:32.337Z"
   },
   {
    "duration": 18,
    "start_time": "2025-03-07T11:02:32.362Z"
   },
   {
    "duration": 114,
    "start_time": "2025-03-07T11:02:32.381Z"
   },
   {
    "duration": 96,
    "start_time": "2025-03-07T11:02:32.496Z"
   },
   {
    "duration": 98,
    "start_time": "2025-03-07T11:02:32.594Z"
   },
   {
    "duration": 24,
    "start_time": "2025-03-07T11:02:32.694Z"
   },
   {
    "duration": 39,
    "start_time": "2025-03-07T11:02:32.720Z"
   },
   {
    "duration": 50,
    "start_time": "2025-03-07T11:02:32.761Z"
   },
   {
    "duration": 36,
    "start_time": "2025-03-07T11:02:32.813Z"
   },
   {
    "duration": 14,
    "start_time": "2025-03-07T11:02:32.851Z"
   },
   {
    "duration": 45,
    "start_time": "2025-03-07T11:02:32.867Z"
   },
   {
    "duration": 22,
    "start_time": "2025-03-07T11:02:32.914Z"
   },
   {
    "duration": 20,
    "start_time": "2025-03-07T11:02:32.938Z"
   },
   {
    "duration": 7,
    "start_time": "2025-03-07T11:02:32.960Z"
   },
   {
    "duration": 45,
    "start_time": "2025-03-07T11:02:32.969Z"
   },
   {
    "duration": 24,
    "start_time": "2025-03-07T11:02:33.016Z"
   },
   {
    "duration": 35,
    "start_time": "2025-03-07T11:02:33.042Z"
   },
   {
    "duration": 12,
    "start_time": "2025-03-07T11:02:33.082Z"
   },
   {
    "duration": 20,
    "start_time": "2025-03-07T11:02:33.095Z"
   },
   {
    "duration": 7,
    "start_time": "2025-03-07T11:02:33.117Z"
   },
   {
    "duration": 87,
    "start_time": "2025-03-07T11:02:33.125Z"
   },
   {
    "duration": 144,
    "start_time": "2025-03-07T11:02:33.214Z"
   },
   {
    "duration": 8,
    "start_time": "2025-03-07T11:02:33.360Z"
   },
   {
    "duration": 162,
    "start_time": "2025-03-07T11:02:33.369Z"
   },
   {
    "duration": 128,
    "start_time": "2025-03-07T11:02:33.532Z"
   },
   {
    "duration": 59,
    "start_time": "2025-03-07T11:02:33.662Z"
   },
   {
    "duration": 18,
    "start_time": "2025-03-07T11:02:33.722Z"
   },
   {
    "duration": 89,
    "start_time": "2025-03-07T11:02:33.742Z"
   },
   {
    "duration": 146,
    "start_time": "2025-03-07T11:02:33.833Z"
   },
   {
    "duration": 4,
    "start_time": "2025-03-07T11:02:33.980Z"
   },
   {
    "duration": 10,
    "start_time": "2025-03-07T11:02:33.985Z"
   },
   {
    "duration": 37,
    "start_time": "2025-03-07T11:02:33.996Z"
   },
   {
    "duration": 16,
    "start_time": "2025-03-07T11:02:34.035Z"
   },
   {
    "duration": 32,
    "start_time": "2025-03-07T11:02:34.052Z"
   },
   {
    "duration": 555,
    "start_time": "2025-03-07T11:02:34.086Z"
   },
   {
    "duration": 50,
    "start_time": "2025-03-07T11:02:34.643Z"
   },
   {
    "duration": 164,
    "start_time": "2025-03-07T11:02:34.707Z"
   },
   {
    "duration": 86,
    "start_time": "2025-03-07T11:02:34.873Z"
   },
   {
    "duration": 46,
    "start_time": "2025-03-07T11:02:34.961Z"
   },
   {
    "duration": 5,
    "start_time": "2025-03-07T11:02:35.008Z"
   },
   {
    "duration": 19,
    "start_time": "2025-03-07T11:02:35.014Z"
   },
   {
    "duration": 37,
    "start_time": "2025-03-07T11:02:35.035Z"
   },
   {
    "duration": 45,
    "start_time": "2025-03-07T11:02:35.073Z"
   },
   {
    "duration": 500,
    "start_time": "2025-03-07T11:02:35.119Z"
   },
   {
    "duration": 622,
    "start_time": "2025-03-07T11:02:35.621Z"
   },
   {
    "duration": 25,
    "start_time": "2025-03-07T11:02:36.246Z"
   },
   {
    "duration": 135,
    "start_time": "2025-03-07T11:02:36.273Z"
   },
   {
    "duration": 23,
    "start_time": "2025-03-07T11:02:36.410Z"
   },
   {
    "duration": 37,
    "start_time": "2025-03-07T11:02:36.435Z"
   },
   {
    "duration": 107,
    "start_time": "2025-03-07T11:02:36.474Z"
   },
   {
    "duration": 380,
    "start_time": "2025-03-07T11:02:36.582Z"
   },
   {
    "duration": 84,
    "start_time": "2025-03-07T11:02:36.964Z"
   },
   {
    "duration": 183,
    "start_time": "2025-03-07T11:02:37.050Z"
   },
   {
    "duration": 401,
    "start_time": "2025-03-07T11:02:37.235Z"
   },
   {
    "duration": 87,
    "start_time": "2025-03-07T11:02:37.639Z"
   },
   {
    "duration": 43,
    "start_time": "2025-03-07T11:02:37.728Z"
   },
   {
    "duration": 36,
    "start_time": "2025-03-07T11:02:37.773Z"
   },
   {
    "duration": 79,
    "start_time": "2025-03-07T11:02:37.811Z"
   },
   {
    "duration": 959,
    "start_time": "2025-03-07T11:02:37.892Z"
   },
   {
    "duration": 679,
    "start_time": "2025-03-07T11:02:38.852Z"
   },
   {
    "duration": 6,
    "start_time": "2025-03-07T11:02:39.532Z"
   },
   {
    "duration": 13,
    "start_time": "2025-03-07T11:02:39.539Z"
   },
   {
    "duration": 156,
    "start_time": "2025-03-07T11:02:39.553Z"
   },
   {
    "duration": 23,
    "start_time": "2025-03-07T11:02:39.710Z"
   },
   {
    "duration": 8,
    "start_time": "2025-03-07T11:02:39.734Z"
   },
   {
    "duration": 9,
    "start_time": "2025-03-07T11:02:39.744Z"
   },
   {
    "duration": 14,
    "start_time": "2025-03-07T11:02:39.755Z"
   },
   {
    "duration": 46,
    "start_time": "2025-03-07T11:02:39.770Z"
   },
   {
    "duration": 62,
    "start_time": "2025-03-07T11:02:39.817Z"
   },
   {
    "duration": 8,
    "start_time": "2025-03-07T11:02:39.881Z"
   },
   {
    "duration": 29,
    "start_time": "2025-03-07T11:02:39.890Z"
   },
   {
    "duration": 23,
    "start_time": "2025-03-07T11:02:39.924Z"
   },
   {
    "duration": 8,
    "start_time": "2025-03-07T11:02:39.949Z"
   },
   {
    "duration": 190,
    "start_time": "2025-03-07T11:02:39.958Z"
   }
  ],
  "colab": {
   "provenance": []
  },
  "kernelspec": {
   "display_name": "Python 3 (ipykernel)",
   "language": "python",
   "name": "python3"
  },
  "language_info": {
   "codemirror_mode": {
    "name": "ipython",
    "version": 3
   },
   "file_extension": ".py",
   "mimetype": "text/x-python",
   "name": "python",
   "nbconvert_exporter": "python",
   "pygments_lexer": "ipython3",
   "version": "3.9.5"
  },
  "toc": {
   "base_numbering": 1,
   "nav_menu": {
    "height": "324.983px",
    "width": "327.986px"
   },
   "number_sections": true,
   "sideBar": true,
   "skip_h1_title": true,
   "title_cell": "Table of Contents",
   "title_sidebar": "Contents",
   "toc_cell": false,
   "toc_position": {
    "height": "calc(100% - 180px)",
    "left": "10px",
    "top": "150px",
    "width": "193.837px"
   },
   "toc_section_display": true,
   "toc_window_display": true
  }
 },
 "nbformat": 4,
 "nbformat_minor": 1
}
